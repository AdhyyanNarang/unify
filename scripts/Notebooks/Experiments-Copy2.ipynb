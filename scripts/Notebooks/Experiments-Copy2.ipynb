{
 "cells": [
  {
   "cell_type": "markdown",
   "metadata": {},
   "source": [
    "In this experiment, we hope to find a relation between data poisoning and data evasion examples. Even though these two classes of adversarial attacks are completed by different optimization formulations,\n",
    "\n",
    "Hypothesis: Both add meaningful perturbations in the \"unexplored\" parts of the data to trick the model into misclassifying examples.\n",
    "\n",
    "It is well known that adversarial training i.e the inclusion of adversarial examples into the training set acts as a kind of regularizer and improves robustness in defense against data evasion attacks.\n",
    "\n",
    "To explicitize the relationship between data poisoning and data evasion attacks, we are going to try to examine the effects of crossing these two attacks on the same learning process by testing the following sub-hypotheses:\n",
    "\n",
    "1. Inclusion of correctly labeled adversarial examples in the training set prior to data poisoning increases the model's performance against poisoning attacks. (Methods that defend against advesarial examples also defend against poisoning)\n",
    "2. (??) (Methods that defend against poisoning examples also defend against adversarial examples)\n",
    "3. Inclusion of wrongly labeled adversarial examples in the training set acts as a data poisoning attack. (Adversarial examples function as poisoning examples as well).\n",
    "4. (??) Poisoning examples function as adversarial examples as well.\n",
    "\n",
    "The aim is not to create a defense mechanism for one or the other. Instead, we hope to further exploration to gain some more insight into the nature of these two attacks. Because currently in the arms race, the attackers of models are easily winning.. which means that it is probably a good idea to take a break from the battle and gain some more knowledge before we go back out into the bloodshed. "
   ]
  },
  {
   "cell_type": "code",
   "execution_count": 3,
   "metadata": {},
   "outputs": [
    {
     "name": "stdout",
     "output_type": "stream",
     "text": [
      "1.11.0\n"
     ]
    }
   ],
   "source": [
    "# TensorFlow and tf.keras\n",
    "import tensorflow as tf\n",
    "from tensorflow import keras\n",
    "\n",
    "# Helper libraries\n",
    "import numpy as np\n",
    "import matplotlib.pyplot as plt\n",
    "\n",
    "print(tf.__version__)"
   ]
  },
  {
   "cell_type": "code",
   "execution_count": 4,
   "metadata": {},
   "outputs": [],
   "source": [
    "from cleverhans.utils_tf import model_eval"
   ]
  },
  {
   "cell_type": "code",
   "execution_count": 5,
   "metadata": {},
   "outputs": [],
   "source": [
    "from cleverhans.attacks import FastGradientMethod\n",
    "from cleverhans.utils import AccuracyReport"
   ]
  },
  {
   "cell_type": "code",
   "execution_count": 15,
   "metadata": {},
   "outputs": [],
   "source": [
    "from keras import backend as K\n",
    "from keras.layers import Conv2D, MaxPooling2D, Dropout, Flatten, Dense, Dropout, Activation\n",
    "from keras import regularizers"
   ]
  },
  {
   "cell_type": "markdown",
   "metadata": {},
   "source": [
    "# Sub-hypothesis 1"
   ]
  },
  {
   "cell_type": "markdown",
   "metadata": {},
   "source": [
    "### Import the MNIST dataset/ Preprocess the data"
   ]
  },
  {
   "cell_type": "code",
   "execution_count": 7,
   "metadata": {},
   "outputs": [],
   "source": [
    "mnist = keras.datasets.mnist\n",
    "\n",
    "(train_images, train_labels), (test_images, test_labels) = mnist.load_data()"
   ]
  },
  {
   "cell_type": "code",
   "execution_count": 8,
   "metadata": {},
   "outputs": [
    {
     "data": {
      "text/plain": [
       "(60000, 28, 28)"
      ]
     },
     "execution_count": 8,
     "metadata": {},
     "output_type": "execute_result"
    }
   ],
   "source": [
    "train_images.shape"
   ]
  },
  {
   "cell_type": "code",
   "execution_count": 9,
   "metadata": {},
   "outputs": [],
   "source": [
    "n, img_rows, img_cols = train_images.shape"
   ]
  },
  {
   "cell_type": "code",
   "execution_count": 10,
   "metadata": {},
   "outputs": [
    {
     "name": "stdout",
     "output_type": "stream",
     "text": [
      "Reshape done\n"
     ]
    }
   ],
   "source": [
    "train_flat = train_images.flatten().reshape(60000, 28*28)\n",
    "print('Reshape done')\n",
    "indices = np.random.choice(len(train_flat), 8000)\n",
    "train_flat_mod = train_flat[indices]\n",
    "_, sig, _ = np.linalg.svd(train_flat_mod)"
   ]
  },
  {
   "cell_type": "code",
   "execution_count": 11,
   "metadata": {},
   "outputs": [],
   "source": [
    "train_images = train_images/255.0\n",
    "\n",
    "test_images = test_images/255.0"
   ]
  },
  {
   "cell_type": "code",
   "execution_count": 12,
   "metadata": {},
   "outputs": [],
   "source": [
    "train_images = train_images.reshape(n, img_rows, img_cols, 1)\n",
    "test_images = test_images.reshape(test_images.shape[0], img_rows, img_cols, 1)\n",
    "input_shape = (img_rows, img_cols, 1)"
   ]
  },
  {
   "cell_type": "code",
   "execution_count": null,
   "metadata": {},
   "outputs": [],
   "source": []
  },
  {
   "cell_type": "markdown",
   "metadata": {},
   "source": [
    "### Phase 1: Create the computation graph"
   ]
  },
  {
   "cell_type": "code",
   "execution_count": 12,
   "metadata": {},
   "outputs": [
    {
     "name": "stderr",
     "output_type": "stream",
     "text": [
      "Using TensorFlow backend.\n"
     ]
    },
    {
     "data": {
      "text/plain": [
       "'channels_last'"
      ]
     },
     "execution_count": 12,
     "metadata": {},
     "output_type": "execute_result"
    }
   ],
   "source": [
    "K.image_data_format()"
   ]
  },
  {
   "cell_type": "code",
   "execution_count": 21,
   "metadata": {},
   "outputs": [],
   "source": [
    "num_classes = 10\n",
    "\n",
    "def create_model():\n",
    "    model = keras.Sequential()\n",
    "    model.add(keras.layers.Conv2D(32, (5, 5),\n",
    "                     activation = 'relu',\n",
    "                     input_shape = input_shape,\n",
    "                     #kernel_regularizer=regularizers.l1(0.01)\n",
    "                    ))\n",
    "    model.add(keras.layers.Conv2D(32, kernel_size = (3, 3),\n",
    "                     activation = 'relu', \n",
    "                     #kernel_regularizer=regularizers.l1(0.01)\n",
    "                    ))\n",
    "    model.add(keras.layers.MaxPooling2D(pool_size = (2, 2)))\n",
    "    model.add(keras.layers.Dropout(0.25))\n",
    "\n",
    "    model.add(keras.layers.Conv2D(64, (3, 3), activation = 'relu', #kernel_regularizer=regularizers.l1(0.01)\n",
    "                                 ))\n",
    "    model.add(keras.layers.Conv2D(64, (3, 3), activation = 'relu', #kernel_regularizer=regularizers.l1(0.01)\n",
    "                                 ))\n",
    "    model.add(keras.layers.MaxPooling2D(pool_size = (2, 2)))\n",
    "    model.add(keras.layers.Dropout(0.25))\n",
    "\n",
    "    model.add(keras.layers.Flatten())\n",
    "    model.add(keras.layers.Dense(1024, activation = 'relu', #kernel_regularizer=regularizers.l1(0.01)\n",
    "                                ))\n",
    "    model.add(keras.layers.Dropout(0.5))\n",
    "    model.add(keras.layers.Dense(1024, activation = 'relu', #kernel_regularizer=regularizers.l1(0.005)\n",
    "                                ))\n",
    "    model.add(keras.layers.Dropout(0.5))\n",
    "\n",
    "    model.add(keras.layers.Dense(num_classes, activation = 'softmax'))\n",
    "    return model"
   ]
  },
  {
   "cell_type": "code",
   "execution_count": 24,
   "metadata": {},
   "outputs": [],
   "source": [
    "from keras.layers import Activation\n",
    "num_classes = 10\n",
    "def create_model():\n",
    "    model = keras.Sequential()\n",
    "    layers = [keras.layers.Conv2D(32, (5,5), input_shape = input_shape),\n",
    "            keras.layers.Activation('relu'),\n",
    "            keras.layers.Conv2D(32, kernel_size = (3,3)),\n",
    "            keras.layers.Activation('relu'),\n",
    "            keras.layers.MaxPooling2D(pool_size = (2,2)),\n",
    "            keras.layers.Dropout(0.25),\n",
    "            keras.layers.Conv2D(64, (3,3)),\n",
    "            keras.layers.Activation('relu'),\n",
    "            keras.layers.Conv2D(64, (3,3)),\n",
    "            keras.layers.Activation('relu'),\n",
    "            keras.layers.MaxPooling2D(pool_size = (2,2)),\n",
    "            keras.layers.Dropout(0.25),\n",
    "            keras.layers.Flatten(),\n",
    "            keras.layers.Dense(1024),\n",
    "            keras.layers.Activation('relu'),\n",
    "            keras.layers.Dense(1024),\n",
    "            keras.layers.Activation('relu'),\n",
    "            keras.layers.Dense(num_classes)]\n",
    "    for layer in layers:\n",
    "        model.add(layer)\n",
    "    return model"
   ]
  },
  {
   "cell_type": "code",
   "execution_count": 25,
   "metadata": {},
   "outputs": [],
   "source": [
    "model = create_model()\n",
    "model.compile(optimizer = tf.train.AdamOptimizer(),\n",
    "             loss = 'sparse_categorical_crossentropy',\n",
    "             metrics =['accuracy'])"
   ]
  },
  {
   "cell_type": "code",
   "execution_count": 36,
   "metadata": {},
   "outputs": [],
   "source": [
    "x = tf.placeholder(tf.float32, shape = (1,28,28,1))\n",
    "preds = model(x)"
   ]
  },
  {
   "cell_type": "code",
   "execution_count": 15,
   "metadata": {},
   "outputs": [],
   "source": [
    "def adv_evaluate(model_input, epsilon_input):\n",
    "    fgsm = FastGradientMethod(model_input)\n",
    "    adv_x = fgsm.generate_np(test_images, eps = epsilon_input, clip_min = -2, clip_max = 2)\n",
    "    preds_adv = model_input.predict(adv_x)\n",
    "    eval_par = {'batch_size': 60000}\n",
    "    test_loss, acc = model_input.evaluate(adv_x, test_labels)\n",
    "    return acc, adv_x, preds_adv"
   ]
  },
  {
   "cell_type": "code",
   "execution_count": 16,
   "metadata": {},
   "outputs": [],
   "source": [
    "def train_and_test(model_input, X_input, y_input, epochs = 2, eps_test = 0.2):\n",
    "    model_input.fit(X_input, y_input, epochs = epochs)\n",
    "    print('finished training')\n",
    "    test_loss, test_acc = model_input.evaluate(test_images, test_labels)\n",
    "    print('Test accuracy:', test_acc)\n",
    "    acc, adv_x_np, preds = adv_evaluate(model_input, 0.2)\n",
    "    print('Test accuracy on adversarial examples:', acc)"
   ]
  },
  {
   "cell_type": "markdown",
   "metadata": {},
   "source": [
    "### L1 regularization (0.01) on the last layer"
   ]
  },
  {
   "cell_type": "code",
   "execution_count": 21,
   "metadata": {},
   "outputs": [
    {
     "name": "stdout",
     "output_type": "stream",
     "text": [
      "Epoch 1/2\n",
      "   32/60000 [..............................] - ETA: 12:35 - loss: 2.3075 - acc: 0.1250"
     ]
    },
    {
     "name": "stderr",
     "output_type": "stream",
     "text": [
      "Exception ignored in: <bound method BaseSession._Callable.__del__ of <tensorflow.python.client.session.BaseSession._Callable object at 0x110184f28>>\n",
      "Traceback (most recent call last):\n",
      "  File \"/Users/adhyyan/miniconda3/lib/python3.6/site-packages/tensorflow/python/client/session.py\", line 1415, in __del__\n",
      "    self._session._session, self._handle, status)\n",
      "  File \"/Users/adhyyan/miniconda3/lib/python3.6/site-packages/tensorflow/python/framework/errors_impl.py\", line 526, in __exit__\n",
      "    c_api.TF_GetCode(self.status.status))\n",
      "tensorflow.python.framework.errors_impl.CancelledError: Session has been closed.\n"
     ]
    },
    {
     "name": "stdout",
     "output_type": "stream",
     "text": [
      " 1728/60000 [..............................] - ETA: 3:33 - loss: 1.6643 - acc: 0.4103"
     ]
    },
    {
     "ename": "KeyboardInterrupt",
     "evalue": "",
     "output_type": "error",
     "traceback": [
      "\u001b[0;31m---------------------------------------------------------------------------\u001b[0m",
      "\u001b[0;31mKeyboardInterrupt\u001b[0m                         Traceback (most recent call last)",
      "\u001b[0;32m<ipython-input-21-65ec291e248b>\u001b[0m in \u001b[0;36m<module>\u001b[0;34m()\u001b[0m\n\u001b[1;32m      1\u001b[0m \u001b[0;32mwith\u001b[0m \u001b[0mtf\u001b[0m\u001b[0;34m.\u001b[0m\u001b[0mSession\u001b[0m\u001b[0;34m(\u001b[0m\u001b[0;34m)\u001b[0m \u001b[0;32mas\u001b[0m \u001b[0msess\u001b[0m\u001b[0;34m:\u001b[0m\u001b[0;34m\u001b[0m\u001b[0m\n\u001b[1;32m      2\u001b[0m     \u001b[0msess\u001b[0m\u001b[0;34m.\u001b[0m\u001b[0mrun\u001b[0m\u001b[0;34m(\u001b[0m\u001b[0mtf\u001b[0m\u001b[0;34m.\u001b[0m\u001b[0mglobal_variables_initializer\u001b[0m\u001b[0;34m(\u001b[0m\u001b[0;34m)\u001b[0m\u001b[0;34m)\u001b[0m\u001b[0;34m\u001b[0m\u001b[0m\n\u001b[0;32m----> 3\u001b[0;31m     \u001b[0mmodel\u001b[0m\u001b[0;34m.\u001b[0m\u001b[0mfit\u001b[0m\u001b[0;34m(\u001b[0m\u001b[0mtrain_images\u001b[0m\u001b[0;34m,\u001b[0m \u001b[0mtrain_labels\u001b[0m\u001b[0;34m,\u001b[0m \u001b[0mepochs\u001b[0m \u001b[0;34m=\u001b[0m \u001b[0;36m2\u001b[0m\u001b[0;34m)\u001b[0m\u001b[0;34m\u001b[0m\u001b[0m\n\u001b[0m\u001b[1;32m      4\u001b[0m     \u001b[0mx\u001b[0m \u001b[0;34m=\u001b[0m \u001b[0mtrain_images\u001b[0m\u001b[0;34m[\u001b[0m\u001b[0;36m0\u001b[0m\u001b[0;34m]\u001b[0m\u001b[0;34m\u001b[0m\u001b[0m\n\u001b[1;32m      5\u001b[0m     \u001b[0mprint\u001b[0m\u001b[0;34m(\u001b[0m\u001b[0mmodel\u001b[0m\u001b[0;34m(\u001b[0m\u001b[0mx\u001b[0m\u001b[0;34m)\u001b[0m\u001b[0;34m)\u001b[0m\u001b[0;34m\u001b[0m\u001b[0m\n",
      "\u001b[0;32m~/miniconda3/lib/python3.6/site-packages/tensorflow/python/keras/engine/training.py\u001b[0m in \u001b[0;36mfit\u001b[0;34m(self, x, y, batch_size, epochs, verbose, callbacks, validation_split, validation_data, shuffle, class_weight, sample_weight, initial_epoch, steps_per_epoch, validation_steps, **kwargs)\u001b[0m\n\u001b[1;32m   1603\u001b[0m           \u001b[0minitial_epoch\u001b[0m\u001b[0;34m=\u001b[0m\u001b[0minitial_epoch\u001b[0m\u001b[0;34m,\u001b[0m\u001b[0;34m\u001b[0m\u001b[0m\n\u001b[1;32m   1604\u001b[0m           \u001b[0msteps_per_epoch\u001b[0m\u001b[0;34m=\u001b[0m\u001b[0msteps_per_epoch\u001b[0m\u001b[0;34m,\u001b[0m\u001b[0;34m\u001b[0m\u001b[0m\n\u001b[0;32m-> 1605\u001b[0;31m           validation_steps=validation_steps)\n\u001b[0m\u001b[1;32m   1606\u001b[0m \u001b[0;34m\u001b[0m\u001b[0m\n\u001b[1;32m   1607\u001b[0m   def evaluate(self,\n",
      "\u001b[0;32m~/miniconda3/lib/python3.6/site-packages/tensorflow/python/keras/engine/training_arrays.py\u001b[0m in \u001b[0;36mfit_loop\u001b[0;34m(model, inputs, targets, sample_weights, batch_size, epochs, verbose, callbacks, val_inputs, val_targets, val_sample_weights, shuffle, initial_epoch, steps_per_epoch, validation_steps)\u001b[0m\n\u001b[1;32m    212\u001b[0m           \u001b[0mins_batch\u001b[0m\u001b[0;34m[\u001b[0m\u001b[0mi\u001b[0m\u001b[0;34m]\u001b[0m \u001b[0;34m=\u001b[0m \u001b[0mins_batch\u001b[0m\u001b[0;34m[\u001b[0m\u001b[0mi\u001b[0m\u001b[0;34m]\u001b[0m\u001b[0;34m.\u001b[0m\u001b[0mtoarray\u001b[0m\u001b[0;34m(\u001b[0m\u001b[0;34m)\u001b[0m\u001b[0;34m\u001b[0m\u001b[0m\n\u001b[1;32m    213\u001b[0m \u001b[0;34m\u001b[0m\u001b[0m\n\u001b[0;32m--> 214\u001b[0;31m         \u001b[0mouts\u001b[0m \u001b[0;34m=\u001b[0m \u001b[0mf\u001b[0m\u001b[0;34m(\u001b[0m\u001b[0mins_batch\u001b[0m\u001b[0;34m)\u001b[0m\u001b[0;34m\u001b[0m\u001b[0m\n\u001b[0m\u001b[1;32m    215\u001b[0m         \u001b[0;32mif\u001b[0m \u001b[0;32mnot\u001b[0m \u001b[0misinstance\u001b[0m\u001b[0;34m(\u001b[0m\u001b[0mouts\u001b[0m\u001b[0;34m,\u001b[0m \u001b[0mlist\u001b[0m\u001b[0;34m)\u001b[0m\u001b[0;34m:\u001b[0m\u001b[0;34m\u001b[0m\u001b[0m\n\u001b[1;32m    216\u001b[0m           \u001b[0mouts\u001b[0m \u001b[0;34m=\u001b[0m \u001b[0;34m[\u001b[0m\u001b[0mouts\u001b[0m\u001b[0;34m]\u001b[0m\u001b[0;34m\u001b[0m\u001b[0m\n",
      "\u001b[0;32m~/miniconda3/lib/python3.6/site-packages/tensorflow/python/keras/backend.py\u001b[0m in \u001b[0;36m__call__\u001b[0;34m(self, inputs)\u001b[0m\n\u001b[1;32m   2976\u001b[0m \u001b[0;34m\u001b[0m\u001b[0m\n\u001b[1;32m   2977\u001b[0m     fetched = self._callable_fn(*array_vals,\n\u001b[0;32m-> 2978\u001b[0;31m                                 run_metadata=self.run_metadata)\n\u001b[0m\u001b[1;32m   2979\u001b[0m     \u001b[0mself\u001b[0m\u001b[0;34m.\u001b[0m\u001b[0m_call_fetch_callbacks\u001b[0m\u001b[0;34m(\u001b[0m\u001b[0mfetched\u001b[0m\u001b[0;34m[\u001b[0m\u001b[0;34m-\u001b[0m\u001b[0mlen\u001b[0m\u001b[0;34m(\u001b[0m\u001b[0mself\u001b[0m\u001b[0;34m.\u001b[0m\u001b[0m_fetches\u001b[0m\u001b[0;34m)\u001b[0m\u001b[0;34m:\u001b[0m\u001b[0;34m]\u001b[0m\u001b[0;34m)\u001b[0m\u001b[0;34m\u001b[0m\u001b[0m\n\u001b[1;32m   2980\u001b[0m     \u001b[0;32mreturn\u001b[0m \u001b[0mfetched\u001b[0m\u001b[0;34m[\u001b[0m\u001b[0;34m:\u001b[0m\u001b[0mlen\u001b[0m\u001b[0;34m(\u001b[0m\u001b[0mself\u001b[0m\u001b[0;34m.\u001b[0m\u001b[0moutputs\u001b[0m\u001b[0;34m)\u001b[0m\u001b[0;34m]\u001b[0m\u001b[0;34m\u001b[0m\u001b[0m\n",
      "\u001b[0;32m~/miniconda3/lib/python3.6/site-packages/tensorflow/python/client/session.py\u001b[0m in \u001b[0;36m__call__\u001b[0;34m(self, *args, **kwargs)\u001b[0m\n\u001b[1;32m   1397\u001b[0m           ret = tf_session.TF_SessionRunCallable(\n\u001b[1;32m   1398\u001b[0m               \u001b[0mself\u001b[0m\u001b[0;34m.\u001b[0m\u001b[0m_session\u001b[0m\u001b[0;34m.\u001b[0m\u001b[0m_session\u001b[0m\u001b[0;34m,\u001b[0m \u001b[0mself\u001b[0m\u001b[0;34m.\u001b[0m\u001b[0m_handle\u001b[0m\u001b[0;34m,\u001b[0m \u001b[0margs\u001b[0m\u001b[0;34m,\u001b[0m \u001b[0mstatus\u001b[0m\u001b[0;34m,\u001b[0m\u001b[0;34m\u001b[0m\u001b[0m\n\u001b[0;32m-> 1399\u001b[0;31m               run_metadata_ptr)\n\u001b[0m\u001b[1;32m   1400\u001b[0m         \u001b[0;32mif\u001b[0m \u001b[0mrun_metadata\u001b[0m\u001b[0;34m:\u001b[0m\u001b[0;34m\u001b[0m\u001b[0m\n\u001b[1;32m   1401\u001b[0m           \u001b[0mproto_data\u001b[0m \u001b[0;34m=\u001b[0m \u001b[0mtf_session\u001b[0m\u001b[0;34m.\u001b[0m\u001b[0mTF_GetBuffer\u001b[0m\u001b[0;34m(\u001b[0m\u001b[0mrun_metadata_ptr\u001b[0m\u001b[0;34m)\u001b[0m\u001b[0;34m\u001b[0m\u001b[0m\n",
      "\u001b[0;31mKeyboardInterrupt\u001b[0m: "
     ]
    }
   ],
   "source": [
    "with tf.Session() as sess:\n",
    "    sess.run(tf.global_variables_initializer()) \n",
    "    model.fit(train_images, train_labels, epochs = 2)\n",
    "    x = train_images[0]\n",
    "    print(model(x))\n",
    "    test_loss, test_acc = model.evaluate(test_images, test_labels)\n",
    "    print('Test accuracy:', test_acc)\n",
    "    acc, adv_x_np, preds = adv_evaluate(model, 0.2)\n",
    "    print('Test accuracy on adversarial examples:', acc)"
   ]
  },
  {
   "cell_type": "code",
   "execution_count": 23,
   "metadata": {},
   "outputs": [],
   "source": [
    "sess = tf.Session()"
   ]
  },
  {
   "cell_type": "code",
   "execution_count": 24,
   "metadata": {},
   "outputs": [
    {
     "name": "stdout",
     "output_type": "stream",
     "text": [
      "Epoch 1/2\n",
      "60000/60000 [==============================] - 167s 3ms/step - loss: 0.1988 - acc: 0.9366\n",
      "Epoch 2/2\n",
      "60000/60000 [==============================] - 170s 3ms/step - loss: 0.0811 - acc: 0.9771\n",
      "(28, 28, 1)\n"
     ]
    }
   ],
   "source": [
    "sess.run(tf.global_variables_initializer()) \n",
    "model.fit(train_images, train_labels, epochs = 2)\n",
    "x = train_images[0]\n",
    "print(x.shape) "
   ]
  },
  {
   "cell_type": "code",
   "execution_count": 31,
   "metadata": {},
   "outputs": [
    {
     "data": {
      "text/plain": [
       "(1, 10)"
      ]
     },
     "execution_count": 31,
     "metadata": {},
     "output_type": "execute_result"
    }
   ],
   "source": [
    "#x = x.reshape(1, 28, 28, 1)\n",
    "model.predict(x).shape"
   ]
  },
  {
   "cell_type": "code",
   "execution_count": 28,
   "metadata": {},
   "outputs": [
    {
     "data": {
      "image/png": "[encoded data removed]",
      "text/plain": [
       "<Figure size 432x288 with 25 Axes>"
      ]
     },
     "metadata": {},
     "output_type": "display_data"
    }
   ],
   "source": [
    "for i in range(25):\n",
    "    plt.subplot(5,5,i+1)\n",
    "    plt.xticks([])\n",
    "    plt.yticks([])\n",
    "    plt.grid(False)\n",
    "    plt.imshow(adv_x_np[i][:,:,0], cmap = plt.cm.binary)\n",
    "    plt.xlabel(np.argmax(preds[i]))"
   ]
  },
  {
   "cell_type": "code",
   "execution_count": 30,
   "metadata": {},
   "outputs": [
    {
     "data": {
      "image/png": "[encoded data removed]",
      "text/plain": [
       "<Figure size 432x288 with 1 Axes>"
      ]
     },
     "metadata": {},
     "output_type": "display_data"
    },
    {
     "data": {
      "text/plain": [
       "<matplotlib.image.AxesImage at 0x1849bfa1d0>"
      ]
     },
     "execution_count": 30,
     "metadata": {},
     "output_type": "execute_result"
    },
    {
     "data": {
      "image/png": "[encoded data removed]",
      "text/plain": [
       "<Figure size 432x288 with 1 Axes>"
      ]
     },
     "metadata": {},
     "output_type": "display_data"
    }
   ],
   "source": [
    "plt.imshow(test_images[1][:,:,0])\n",
    "plt.xlabel(test_labels[1])\n",
    "plt.show()\n",
    "plt.imshow(adv_x_np[1][:,:,0])"
   ]
  },
  {
   "cell_type": "markdown",
   "metadata": {},
   "source": [
    "### Create train set with 50% added adversarial examples"
   ]
  },
  {
   "cell_type": "code",
   "execution_count": 1,
   "metadata": {},
   "outputs": [
    {
     "ename": "NameError",
     "evalue": "name 'tf' is not defined",
     "output_type": "error",
     "traceback": [
      "\u001b[0;31m---------------------------------------------------------------------------\u001b[0m",
      "\u001b[0;31mNameError\u001b[0m                                 Traceback (most recent call last)",
      "\u001b[0;32m<ipython-input-1-32d0f11e39c0>\u001b[0m in \u001b[0;36m<module>\u001b[0;34m()\u001b[0m\n\u001b[0;32m----> 1\u001b[0;31m \u001b[0;32mwith\u001b[0m \u001b[0mtf\u001b[0m\u001b[0;34m.\u001b[0m\u001b[0mSession\u001b[0m\u001b[0;34m(\u001b[0m\u001b[0;34m)\u001b[0m \u001b[0;32mas\u001b[0m \u001b[0msess\u001b[0m\u001b[0;34m:\u001b[0m\u001b[0;34m\u001b[0m\u001b[0m\n\u001b[0m\u001b[1;32m      2\u001b[0m     \u001b[0;31m#Train the model\u001b[0m\u001b[0;34m\u001b[0m\u001b[0;34m\u001b[0m\u001b[0m\n\u001b[1;32m      3\u001b[0m     \u001b[0msess\u001b[0m\u001b[0;34m.\u001b[0m\u001b[0mrun\u001b[0m\u001b[0;34m(\u001b[0m\u001b[0mtf\u001b[0m\u001b[0;34m.\u001b[0m\u001b[0mglobal_variables_initializer\u001b[0m\u001b[0;34m(\u001b[0m\u001b[0;34m)\u001b[0m\u001b[0;34m)\u001b[0m\u001b[0;34m\u001b[0m\u001b[0m\n\u001b[1;32m      4\u001b[0m     \u001b[0mmodel\u001b[0m\u001b[0;34m.\u001b[0m\u001b[0mfit\u001b[0m\u001b[0;34m(\u001b[0m\u001b[0mtrain_images\u001b[0m\u001b[0;34m,\u001b[0m \u001b[0mtrain_labels\u001b[0m\u001b[0;34m,\u001b[0m \u001b[0mepochs\u001b[0m \u001b[0;34m=\u001b[0m \u001b[0;36m2\u001b[0m\u001b[0;34m)\u001b[0m\u001b[0;34m\u001b[0m\u001b[0m\n\u001b[1;32m      5\u001b[0m     \u001b[0mx\u001b[0m \u001b[0;34m=\u001b[0m \u001b[0mtrain_images\u001b[0m\u001b[0;34m[\u001b[0m\u001b[0;36m0\u001b[0m\u001b[0;34m]\u001b[0m\u001b[0;34m\u001b[0m\u001b[0m\n",
      "\u001b[0;31mNameError\u001b[0m: name 'tf' is not defined"
     ]
    }
   ],
   "source": [
    "with tf.Session() as sess:\n",
    "    #Train the model\n",
    "    sess.run(tf.global_variables_initializer()) \n",
    "    model.fit(train_images, train_labels, epochs = 2)\n",
    "    x = train_images[0]\n",
    "    model(x)\n",
    "    \"\"\"\n",
    "    #Choose indices for normal and adversarial examples\n",
    "    threshold = int(np.round(0.4*n))\n",
    "    example_indices = range(threshold,n)\n",
    "    train_indices = range(0, threshold)\n",
    "    \n",
    "    #Create the adversarial examples \n",
    "    chosen_adv_images = train_images[example_indices]\n",
    "    fgsm = FastGradientMethod(model, sess = sess)\n",
    "    adv_x = fgsm.generate_np(chosen_adv_images, eps = 0.5, clip_min = -1, clip_max = 1)\n",
    "\n",
    "    #Create our new train set\n",
    "    new_train = np.vstack((train_images[train_indices], adv_x))\n",
    "    \"\"\""
   ]
  },
  {
   "cell_type": "code",
   "execution_count": 25,
   "metadata": {},
   "outputs": [
    {
     "name": "stdout",
     "output_type": "stream",
     "text": [
      "initialized variables\n",
      "Epoch 1/2\n",
      "   64/60000 [..............................] - ETA: 9:20 - loss: 2.3049 - acc: 0.1094 "
     ]
    },
    {
     "name": "stderr",
     "output_type": "stream",
     "text": [
      "Exception ignored in: <bound method BaseSession._Callable.__del__ of <tensorflow.python.client.session.BaseSession._Callable object at 0x18246aca58>>\n",
      "Traceback (most recent call last):\n",
      "  File \"/Users/adhyyan/miniconda3/lib/python3.6/site-packages/tensorflow/python/client/session.py\", line 1415, in __del__\n",
      "    self._session._session, self._handle, status)\n",
      "  File \"/Users/adhyyan/miniconda3/lib/python3.6/site-packages/tensorflow/python/framework/errors_impl.py\", line 526, in __exit__\n",
      "    c_api.TF_GetCode(self.status.status))\n",
      "tensorflow.python.framework.errors_impl.CancelledError: Session has been closed.\n"
     ]
    },
    {
     "name": "stdout",
     "output_type": "stream",
     "text": [
      "60000/60000 [==============================] - 168s 3ms/step - loss: 0.1977 - acc: 0.9377\n",
      "Epoch 2/2\n",
      "60000/60000 [==============================] - 167s 3ms/step - loss: 0.0811 - acc: 0.9766\n",
      "finished training\n",
      "  160/10000 [..............................] - ETA: 19s"
     ]
    },
    {
     "name": "stderr",
     "output_type": "stream",
     "text": [
      "Exception ignored in: <bound method BaseSession._Callable.__del__ of <tensorflow.python.client.session.BaseSession._Callable object at 0x18247d3400>>\n",
      "Traceback (most recent call last):\n",
      "  File \"/Users/adhyyan/miniconda3/lib/python3.6/site-packages/tensorflow/python/client/session.py\", line 1415, in __del__\n",
      "    self._session._session, self._handle, status)\n",
      "  File \"/Users/adhyyan/miniconda3/lib/python3.6/site-packages/tensorflow/python/framework/errors_impl.py\", line 526, in __exit__\n",
      "    c_api.TF_GetCode(self.status.status))\n",
      "tensorflow.python.framework.errors_impl.CancelledError: Session has been closed.\n"
     ]
    },
    {
     "name": "stdout",
     "output_type": "stream",
     "text": [
      "10000/10000 [==============================] - 8s 803us/step\n",
      "Test accuracy: 0.987\n"
     ]
    },
    {
     "name": "stderr",
     "output_type": "stream",
     "text": [
      "Exception ignored in: <bound method BaseSession._Callable.__del__ of <tensorflow.python.client.session.BaseSession._Callable object at 0x1824e07ef0>>\n",
      "Traceback (most recent call last):\n",
      "  File \"/Users/adhyyan/miniconda3/lib/python3.6/site-packages/tensorflow/python/client/session.py\", line 1415, in __del__\n",
      "    self._session._session, self._handle, status)\n",
      "  File \"/Users/adhyyan/miniconda3/lib/python3.6/site-packages/tensorflow/python/framework/errors_impl.py\", line 526, in __exit__\n",
      "    c_api.TF_GetCode(self.status.status))\n",
      "tensorflow.python.framework.errors_impl.CancelledError: Session has been closed.\n"
     ]
    },
    {
     "name": "stdout",
     "output_type": "stream",
     "text": [
      "10000/10000 [==============================] - 7s 684us/step\n",
      "Test accuracy on adversarial examples: 0.374\n",
      "Epoch 1/5\n",
      "60000/60000 [==============================] - 152s 3ms/step - loss: 0.4905 - acc: 0.8446\n",
      "Epoch 2/5\n",
      "60000/60000 [==============================] - 154s 3ms/step - loss: 0.1845 - acc: 0.9487\n",
      "Epoch 3/5\n",
      "60000/60000 [==============================] - 158s 3ms/step - loss: 0.1538 - acc: 0.9578\n",
      "Epoch 4/5\n",
      "60000/60000 [==============================] - 156s 3ms/step - loss: 0.1357 - acc: 0.9638\n",
      "Epoch 5/5\n",
      "60000/60000 [==============================] - 1938s 32ms/step - loss: 0.1298 - acc: 0.9645\n",
      "finished training\n",
      "10000/10000 [==============================] - 9s 855us/step\n",
      "Test accuracy: 0.9841\n",
      "10000/10000 [==============================] - 9s 950us/step\n",
      "Test accuracy on adversarial examples: 0.3902\n"
     ]
    }
   ],
   "source": [
    "with tf.Session() as sess:\n",
    "    #Train the model\n",
    "    print('initialized variables')\n",
    "    sess.run(tf.global_variables_initializer())\n",
    "    train_and_test(model, train_images, train_labels)\n",
    "    sess.run(tf.global_variables_initializer())\n",
    "    layer = model.get_layer(index = 4)\n",
    "    weights = layer.get_weights()\n",
    "    train_and_test(model, new_train, train_labels, epochs = 5)"
   ]
  },
  {
   "cell_type": "markdown",
   "metadata": {},
   "source": [
    "### Aside: Singular value analysis"
   ]
  },
  {
   "cell_type": "code",
   "execution_count": 29,
   "metadata": {},
   "outputs": [
    {
     "name": "stdout",
     "output_type": "stream",
     "text": [
      "Reshape done\n",
      "(784,)\n"
     ]
    },
    {
     "data": {
      "text/plain": [
       "[<matplotlib.lines.Line2D at 0x181a223978>]"
      ]
     },
     "execution_count": 29,
     "metadata": {},
     "output_type": "execute_result"
    },
    {
     "data": {
      "image/png": "[encoded data removed]",
      "text/plain": [
       "<Figure size 432x288 with 1 Axes>"
      ]
     },
     "metadata": {},
     "output_type": "display_data"
    }
   ],
   "source": [
    "train_flat = train_images.flatten().reshape(train_images.shape[0], 28*28)\n",
    "print('Reshape done')\n",
    "indices = np.random.choice(len(train_flat), 2000)\n",
    "train_flat_mod = train_flat[indices]\n",
    "_, sig_one, _ = np.linalg.svd(train_flat_mod)\n",
    "\n",
    "sig_truncated = sig_one[:100]\n",
    "print(sig.shape)\n",
    "plt.plot(range(len(sig_truncated)), sig_truncated)"
   ]
  },
  {
   "cell_type": "code",
   "execution_count": 30,
   "metadata": {},
   "outputs": [
    {
     "name": "stdout",
     "output_type": "stream",
     "text": [
      "Reshape done\n",
      "(784,)\n"
     ]
    },
    {
     "data": {
      "text/plain": [
       "[<matplotlib.lines.Line2D at 0x181a44b908>]"
      ]
     },
     "execution_count": 30,
     "metadata": {},
     "output_type": "execute_result"
    },
    {
     "data": {
      "image/png": "[encoded data removed]",
      "text/plain": [
       "<Figure size 432x288 with 1 Axes>"
      ]
     },
     "metadata": {},
     "output_type": "display_data"
    }
   ],
   "source": [
    "train_flat = new_train.flatten().reshape(new_train.shape[0], 28*28)\n",
    "print('Reshape done')\n",
    "indices = np.random.choice(len(train_flat), 2000)\n",
    "train_flat_mod = train_flat[indices]\n",
    "_, sig_two, _ = np.linalg.svd(train_flat_mod)\n",
    "\n",
    "sig_truncated = sig_two[:100]\n",
    "print(sig.shape)\n",
    "plt.plot(range(len(sig_truncated)), sig_truncated)"
   ]
  },
  {
   "cell_type": "code",
   "execution_count": 46,
   "metadata": {},
   "outputs": [
    {
     "name": "stdout",
     "output_type": "stream",
     "text": [
      "0th singular value of original data/new data:   274.59045480410407  /   277.8738605506648\n",
      "1th singular value of original data/new data:   94.67006879966499  /   92.14404550305478\n",
      "2th singular value of original data/new data:   85.4641208045191  /   81.21806579785905\n",
      "3th singular value of original data/new data:   79.29982400544233  /   73.45462232069677\n",
      "4th singular value of original data/new data:   77.62987149567907  /   71.2663810081689\n",
      "5th singular value of original data/new data:   67.50687801613289  /   68.38723644490969\n",
      "6th singular value of original data/new data:   61.69460202436783  /   65.64707335869996\n",
      "7th singular value of original data/new data:   55.30243872227092  /   63.05702737233417\n",
      "8th singular value of original data/new data:   54.70964880683631  /   61.645976539010576\n",
      "9th singular value of original data/new data:   50.97952544581967  /   57.303746832846535\n",
      "10th singular value of original data/new data:   48.049515544808926  /   56.47299795598209\n",
      "11th singular value of original data/new data:   47.4900777571802  /   53.56297022333179\n",
      "12th singular value of original data/new data:   42.83932925953875  /   51.961250270285085\n",
      "13th singular value of original data/new data:   41.96993685952904  /   51.155525790439405\n",
      "14th singular value of original data/new data:   41.03616267288611  /   50.181119075963586\n",
      "15th singular value of original data/new data:   39.72437657635259  /   49.61050933204102\n",
      "16th singular value of original data/new data:   38.180965426580705  /   47.79185504011221\n",
      "17th singular value of original data/new data:   36.75413406033315  /   46.27047237889991\n",
      "18th singular value of original data/new data:   36.077758439001165  /   46.09343546252724\n",
      "19th singular value of original data/new data:   34.06583472704792  /   45.79591900402148\n",
      "20th singular value of original data/new data:   33.63394386582076  /   44.97091741577714\n",
      "21th singular value of original data/new data:   32.057039037094526  /   44.595623820320235\n",
      "22th singular value of original data/new data:   31.73242021872436  /   43.315103111044515\n",
      "23th singular value of original data/new data:   30.918034980808567  /   42.50483681959928\n",
      "24th singular value of original data/new data:   30.453676792791082  /   42.1238570687369\n",
      "25th singular value of original data/new data:   29.378192440566572  /   41.320188425872836\n",
      "26th singular value of original data/new data:   29.274082334818086  /   40.62016451538698\n",
      "27th singular value of original data/new data:   28.165707016603726  /   40.45461492964104\n",
      "28th singular value of original data/new data:   27.97316602946642  /   39.87929927582427\n",
      "29th singular value of original data/new data:   26.84629160045186  /   39.64119885354103\n",
      "30th singular value of original data/new data:   26.51131874146828  /   38.956216107814036\n",
      "31th singular value of original data/new data:   25.87226200662372  /   38.71257412208078\n",
      "32th singular value of original data/new data:   25.5798353044572  /   38.101737262131095\n",
      "33th singular value of original data/new data:   24.901294214317918  /   37.788770631896874\n",
      "34th singular value of original data/new data:   24.136812001156844  /   37.59071766999757\n",
      "35th singular value of original data/new data:   23.827097316220502  /   36.98812826614859\n",
      "36th singular value of original data/new data:   23.44283132929638  /   36.800633628784404\n",
      "37th singular value of original data/new data:   22.805352439181945  /   36.24542476963566\n",
      "38th singular value of original data/new data:   22.447926880298134  /   35.775173942260444\n",
      "39th singular value of original data/new data:   22.160394481764765  /   35.50232886415455\n"
     ]
    }
   ],
   "source": [
    "for i in range(0, 40):\n",
    "    print(str(i) + 'th singular value of original data/new data:   ' + str(sig_one[i]) + '  /   ' + str(sig_two[i]))"
   ]
  },
  {
   "cell_type": "markdown",
   "metadata": {},
   "source": [
    "If singular values are more concentrated - That means there are lots of \"parts\" of the data that have low variance and are thus unexplored. Assigning high weights to these parts of the data would be premature because we do not know how the response variable would respond when these \"parts\" of the data would deviate more from their mean..\n",
    "\n",
    "According to hypothesis, in the case of adversarial training, the examples would specifically target the unexplored parts of the data that have been assigned high weights to exploit this. Since the \"parts\" of the data with high singular values have not been changed, the images are still easily classifiable by humans.\n",
    "\n",
    "The singular value analysis above reveals that:\n",
    "\n",
    "1. The first few singular values are higher for the original data, but the decay rate is much faster... they are more concentrated.\n",
    "\n",
    "2. For the adversarially trained data, the decay rate is much slower. If we look at the 100th singular value, the value for the new data is more than twice as much the value for the original data. "
   ]
  },
  {
   "cell_type": "markdown",
   "metadata": {},
   "source": [
    "With 0% adversarial examples - 0.21\n",
    "\n",
    "With 40% adversarial examples - 0.38\n",
    "\n",
    "With 60% adversarial examples - 0.4273"
   ]
  }
 ],
 "metadata": {
  "kernelspec": {
   "display_name": "Python 3",
   "language": "python",
   "name": "python3"
  },
  "language_info": {
   "codemirror_mode": {
    "name": "ipython",
    "version": 3
   },
   "file_extension": ".py",
   "mimetype": "text/x-python",
   "name": "python",
   "nbconvert_exporter": "python",
   "pygments_lexer": "ipython3",
   "version": "3.6.4"
  }
 },
 "nbformat": 4,
 "nbformat_minor": 2
}
