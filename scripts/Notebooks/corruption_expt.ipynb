{
 "cells": [
  {
   "cell_type": "code",
   "execution_count": null,
   "metadata": {},
   "outputs": [],
   "source": [
    "# TensorFlow and tf.keras\n",
    "import tensorflow as tf\n",
    "import keras\n",
    "import sys\n",
    "sys.path.insert(0, '../')\n",
    "\n",
    "# Helper libraries\n",
    "import numpy as np\n",
    "import matplotlib.pyplot as plt\n",
    "\n",
    "%load_ext autoreload\n",
    "%autoreload 2\n",
    "\n",
    "print(tf.__version__)"
   ]
  },
  {
   "cell_type": "markdown",
   "metadata": {},
   "source": [
    "### Import the MNIST dataset/ Preprocess the data"
   ]
  },
  {
   "cell_type": "code",
   "execution_count": null,
   "metadata": {},
   "outputs": [],
   "source": [
    "mnist = keras.datasets.mnist\n",
    "\n",
    "(x_train, y_train), (x_test, y_test) = mnist.load_data()"
   ]
  },
  {
   "cell_type": "code",
   "execution_count": null,
   "metadata": {},
   "outputs": [],
   "source": [
    "num_classes = 10"
   ]
  },
  {
   "cell_type": "code",
   "execution_count": null,
   "metadata": {},
   "outputs": [],
   "source": [
    "y_train = keras.utils.to_categorical(y_train, num_classes)\n",
    "y_test = keras.utils.to_categorical(y_test, num_classes)"
   ]
  },
  {
   "cell_type": "markdown",
   "metadata": {},
   "source": [
    "### Train and test the network on MNIST"
   ]
  },
  {
   "cell_type": "code",
   "execution_count": null,
   "metadata": {},
   "outputs": [],
   "source": [
    "from keras.models import Sequential\n",
    "from keras.layers import Dense, Activation, Conv2D, MaxPooling2D, Dropout, Flatten"
   ]
  },
  {
   "cell_type": "code",
   "execution_count": null,
   "metadata": {},
   "outputs": [],
   "source": [
    "from adv_util import create_fully_connected"
   ]
  },
  {
   "cell_type": "code",
   "execution_count": null,
   "metadata": {},
   "outputs": [],
   "source": [
    "def compile_train_test(x_train, y_train, x_test, y_test, reg, corrupt_func = None):\n",
    "    n, img_rows, img_cols = x_train.shape\n",
    "    num_classes = 10\n",
    "    D = img_rows * img_cols\n",
    "    x_train_flattened = x_train.reshape(n, D)\n",
    "    x_test_flattened = x_test.reshape(x_test.shape[0], D)\n",
    "    input_shape = (D,)\n",
    "    \n",
    "    model = create_fully_connected(input_shape = input_shape, num_classes = num_classes, reg = reg)\n",
    "    model.compile(optimizer=\"sgd\", loss='categorical_crossentropy', metrics=['accuracy'])\n",
    "    \n",
    "    print(\"Reg value:\" + str(reg))\n",
    "    \n",
    "    \"\"\"\n",
    "    #Fit regular data\n",
    "    model.fit(x_train_flattened, y_train, batch_size=128, epochs=15, verbose=True, validation_split=.1)\n",
    "    loss_regular, accuracy_regular  = model.evaluate(x_test_flattened, y_test, verbose=False)\n",
    "    print('Test accuracy on regular' + str(accuracy_regular))\n",
    "    \"\"\"\n",
    "    \n",
    "    #Fit corrupted data\n",
    "    x_train_corrupt = corrupt_data(x_train, int(np.round(0.2*x_train.shape[0])), corrupt_func)\n",
    "    x_train_corrupt_flat = x_train_corrupt.reshape(n, D)\n",
    "    model.fit(x_train_corrupt_flat, y_train, batch_size=128, epochs=15, verbose=True, validation_split=.1)\n",
    "    loss_corrupt, accuracy_corrupt  = model.evaluate(x_test_flattened, y_test, verbose=False)\n",
    "    \n",
    "    print('Test accuracy on corrupt' + str(accuracy_corrupt))\n",
    "    \n",
    "    return loss_regular, accuracy_regular, loss_corrupt, accuracy_corrupt"
   ]
  },
  {
   "cell_type": "markdown",
   "metadata": {},
   "source": [
    "# Blurring"
   ]
  },
  {
   "cell_type": "code",
   "execution_count": null,
   "metadata": {},
   "outputs": [],
   "source": [
    "from mnist_corruption import gaussian_blurring, corrupt_data"
   ]
  },
  {
   "cell_type": "code",
   "execution_count": null,
   "metadata": {},
   "outputs": [],
   "source": [
    "x_small = x_train[0:3]\n",
    "\n",
    "x_corrupted_small = gaussian_blurring(x_small, 2)\n",
    "x_corrupted_reshaped = x_corrupted_small.reshape((x_corrupted_small.shape[0], 784))"
   ]
  },
  {
   "cell_type": "code",
   "execution_count": null,
   "metadata": {},
   "outputs": [],
   "source": [
    "plt.imshow(x_corrupted_small[2])"
   ]
  },
  {
   "cell_type": "markdown",
   "metadata": {},
   "source": [
    "## Stability and Generalization"
   ]
  },
  {
   "cell_type": "code",
   "execution_count": null,
   "metadata": {},
   "outputs": [],
   "source": [
    "from adv_util import create_fully_connected"
   ]
  },
  {
   "cell_type": "code",
   "execution_count": null,
   "metadata": {},
   "outputs": [],
   "source": [
    "reg = 0.01\n",
    "compile_train_test(x_train, y_train, x_test, y_test, reg, gaussian_blurring)"
   ]
  },
  {
   "cell_type": "code",
   "execution_count": null,
   "metadata": {},
   "outputs": [],
   "source": []
  }
 ],
 "metadata": {
  "kernelspec": {
   "display_name": "Python 3",
   "language": "python",
   "name": "python3"
  },
  "language_info": {
   "codemirror_mode": {
    "name": "ipython",
    "version": 3
   },
   "file_extension": ".py",
   "mimetype": "text/x-python",
   "name": "python",
   "nbconvert_exporter": "python",
   "pygments_lexer": "ipython3",
   "version": "3.6.8"
  }
 },
 "nbformat": 4,
 "nbformat_minor": 2
}
