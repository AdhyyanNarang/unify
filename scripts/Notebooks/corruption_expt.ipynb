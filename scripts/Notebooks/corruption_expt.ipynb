{
 "cells": [
  {
   "cell_type": "code",
   "execution_count": 2,
   "metadata": {},
   "outputs": [
    {
     "name": "stderr",
     "output_type": "stream",
     "text": [
      "Using TensorFlow backend.\n"
     ]
    },
    {
     "name": "stdout",
     "output_type": "stream",
     "text": [
      "1.11.0\n"
     ]
    }
   ],
   "source": [
    "# TensorFlow and tf.keras\n",
    "import tensorflow as tf\n",
    "import keras\n",
    "import sys\n",
    "sys.path.insert(0, '../')\n",
    "\n",
    "# Helper libraries\n",
    "import numpy as np\n",
    "import matplotlib.pyplot as plt\n",
    "\n",
    "print(tf.__version__)"
   ]
  },
  {
   "cell_type": "markdown",
   "metadata": {},
   "source": [
    "### Import the MNIST dataset/ Preprocess the data"
   ]
  },
  {
   "cell_type": "code",
   "execution_count": 3,
   "metadata": {},
   "outputs": [],
   "source": [
    "mnist = keras.datasets.mnist\n",
    "\n",
    "(x_train, y_train), (x_test, y_test) = mnist.load_data()"
   ]
  },
  {
   "cell_type": "code",
   "execution_count": 4,
   "metadata": {},
   "outputs": [],
   "source": [
    "n, img_rows, img_cols = x_train.shape"
   ]
  },
  {
   "cell_type": "code",
   "execution_count": 10,
   "metadata": {},
   "outputs": [],
   "source": [
    "num_classes = 10"
   ]
  },
  {
   "cell_type": "code",
   "execution_count": 11,
   "metadata": {},
   "outputs": [],
   "source": [
    "D = img_rows * img_cols"
   ]
  },
  {
   "cell_type": "code",
   "execution_count": 12,
   "metadata": {},
   "outputs": [],
   "source": [
    "x_train = x_train.reshape(n, D)\n",
    "x_test = x_test.reshape(x_test.shape[0], D)"
   ]
  },
  {
   "cell_type": "code",
   "execution_count": 13,
   "metadata": {},
   "outputs": [],
   "source": [
    "y_train = keras.utils.to_categorical(y_train, num_classes)\n",
    "y_test = keras.utils.to_categorical(y_test, num_classes)"
   ]
  },
  {
   "cell_type": "code",
   "execution_count": 14,
   "metadata": {},
   "outputs": [
    {
     "data": {
      "text/plain": [
       "array([[0., 0., 0., 0., 0., 1., 0., 0., 0., 0.],\n",
       "       [1., 0., 0., 0., 0., 0., 0., 0., 0., 0.],\n",
       "       [0., 0., 0., 0., 1., 0., 0., 0., 0., 0.],\n",
       "       [0., 1., 0., 0., 0., 0., 0., 0., 0., 0.],\n",
       "       [0., 0., 0., 0., 0., 0., 0., 0., 0., 1.]], dtype=float32)"
      ]
     },
     "execution_count": 14,
     "metadata": {},
     "output_type": "execute_result"
    }
   ],
   "source": [
    "y_train[0:5, :]"
   ]
  },
  {
   "cell_type": "markdown",
   "metadata": {},
   "source": [
    "### Train and test the network on MNIST"
   ]
  },
  {
   "cell_type": "code",
   "execution_count": 15,
   "metadata": {},
   "outputs": [],
   "source": [
    "from keras.models import Sequential\n",
    "from keras.layers import Dense, Activation, Conv2D, MaxPooling2D, Dropout, Flatten"
   ]
  },
  {
   "cell_type": "code",
   "execution_count": 16,
   "metadata": {},
   "outputs": [],
   "source": [
    "from adv_util import create_fully_connected"
   ]
  },
  {
   "cell_type": "code",
   "execution_count": 17,
   "metadata": {},
   "outputs": [],
   "source": [
    "input_shape = (D, )\n",
    "num_classes = 10"
   ]
  },
  {
   "cell_type": "code",
   "execution_count": 24,
   "metadata": {},
   "outputs": [],
   "source": [
    "def compile_train_test(x_train, y_train, x_test, y_test):\n",
    "    model = create_fully_connected(input_shape = input_shape, num_classes = num_classes)\n",
    "    model.compile(optimizer=\"sgd\", loss='categorical_crossentropy', metrics=['accuracy'])\n",
    "    model.fit(x_train, y_train, batch_size=128, epochs=15, verbose=True, validation_split=.1)\n",
    "    loss, accuracy  = model.evaluate(x_test, y_test, verbose=False)\n",
    "    print('Test accuracy' + str(accuracy))"
   ]
  },
  {
   "cell_type": "code",
   "execution_count": 25,
   "metadata": {},
   "outputs": [
    {
     "name": "stdout",
     "output_type": "stream",
     "text": [
      "Train on 54000 samples, validate on 6000 samples\n",
      "Epoch 1/15\n",
      "54000/54000 [==============================] - 1s 20us/step - loss: 2.1669 - acc: 0.3438 - val_loss: 2.0175 - val_acc: 0.5650\n",
      "Epoch 2/15\n",
      "54000/54000 [==============================] - 1s 16us/step - loss: 1.9184 - acc: 0.5900 - val_loss: 1.7901 - val_acc: 0.6665\n",
      "Epoch 3/15\n",
      "54000/54000 [==============================] - 1s 17us/step - loss: 1.6983 - acc: 0.6708 - val_loss: 1.5596 - val_acc: 0.7360\n",
      "Epoch 4/15\n",
      "54000/54000 [==============================] - 1s 19us/step - loss: 1.4787 - acc: 0.7286 - val_loss: 1.3428 - val_acc: 0.7857\n",
      "Epoch 5/15\n",
      "54000/54000 [==============================] - 1s 17us/step - loss: 1.2809 - acc: 0.7781 - val_loss: 1.1580 - val_acc: 0.8220\n",
      "Epoch 6/15\n",
      "54000/54000 [==============================] - 1s 17us/step - loss: 1.1152 - acc: 0.8110 - val_loss: 1.0016 - val_acc: 0.8480\n",
      "Epoch 7/15\n",
      "54000/54000 [==============================] - 1s 18us/step - loss: 0.9797 - acc: 0.8317 - val_loss: 0.8807 - val_acc: 0.8655\n",
      "Epoch 8/15\n",
      "54000/54000 [==============================] - 1s 17us/step - loss: 0.8698 - acc: 0.8522 - val_loss: 0.7799 - val_acc: 0.8843\n",
      "Epoch 9/15\n",
      "54000/54000 [==============================] - 1s 17us/step - loss: 0.7826 - acc: 0.8625 - val_loss: 0.6963 - val_acc: 0.8918\n",
      "Epoch 10/15\n",
      "54000/54000 [==============================] - 1s 17us/step - loss: 0.7118 - acc: 0.8695 - val_loss: 0.6332 - val_acc: 0.8915\n",
      "Epoch 11/15\n",
      "54000/54000 [==============================] - 1s 18us/step - loss: 0.6551 - acc: 0.8743 - val_loss: 0.5830 - val_acc: 0.8997\n",
      "Epoch 12/15\n",
      "54000/54000 [==============================] - 1s 19us/step - loss: 0.6078 - acc: 0.8810 - val_loss: 0.5498 - val_acc: 0.8962\n",
      "Epoch 13/15\n",
      "54000/54000 [==============================] - 1s 18us/step - loss: 0.5698 - acc: 0.8824 - val_loss: 0.5109 - val_acc: 0.9005\n",
      "Epoch 14/15\n",
      "54000/54000 [==============================] - 1s 18us/step - loss: 0.5368 - acc: 0.8885 - val_loss: 0.4884 - val_acc: 0.9050\n",
      "Epoch 15/15\n",
      "54000/54000 [==============================] - 1s 19us/step - loss: 0.5076 - acc: 0.8915 - val_loss: 0.4534 - val_acc: 0.9077\n",
      "Test accuracy0.8965\n"
     ]
    }
   ],
   "source": [
    "compile_train_test(x_train, y_train, x_test, y_test)"
   ]
  },
  {
   "cell_type": "code",
   "execution_count": null,
   "metadata": {},
   "outputs": [],
   "source": []
  }
 ],
 "metadata": {
  "kernelspec": {
   "display_name": "Python 3",
   "language": "python",
   "name": "python3"
  },
  "language_info": {
   "codemirror_mode": {
    "name": "ipython",
    "version": 3
   },
   "file_extension": ".py",
   "mimetype": "text/x-python",
   "name": "python",
   "nbconvert_exporter": "python",
   "pygments_lexer": "ipython3",
   "version": "3.6.4"
  }
 },
 "nbformat": 4,
 "nbformat_minor": 2
}
