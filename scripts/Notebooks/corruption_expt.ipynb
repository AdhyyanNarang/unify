{
 "cells": [
  {
   "cell_type": "code",
   "execution_count": 7,
   "metadata": {},
   "outputs": [
    {
     "name": "stdout",
     "output_type": "stream",
     "text": [
      "1.11.0\n"
     ]
    }
   ],
   "source": [
    "# TensorFlow and tf.keras\n",
    "import tensorflow as tf\n",
    "import keras\n",
    "import sys\n",
    "sys.path.insert(0, '../')\n",
    "\n",
    "# Helper libraries\n",
    "import numpy as np\n",
    "import matplotlib.pyplot as plt\n",
    "\n",
    "print(tf.__version__)"
   ]
  },
  {
   "cell_type": "markdown",
   "metadata": {},
   "source": [
    "# Sub-hypothesis 1"
   ]
  },
  {
   "cell_type": "markdown",
   "metadata": {},
   "source": [
    "### Import the MNIST dataset/ Preprocess the data"
   ]
  },
  {
   "cell_type": "code",
   "execution_count": 40,
   "metadata": {},
   "outputs": [],
   "source": [
    "mnist = keras.datasets.mnist\n",
    "\n",
    "(x_train, y_train), (x_test, y_test) = mnist.load_data()"
   ]
  },
  {
   "cell_type": "code",
   "execution_count": 41,
   "metadata": {},
   "outputs": [],
   "source": [
    "n, img_rows, img_cols = x_train.shape"
   ]
  },
  {
   "cell_type": "code",
   "execution_count": 42,
   "metadata": {},
   "outputs": [],
   "source": [
    "D = img_rows * img_cols"
   ]
  },
  {
   "cell_type": "code",
   "execution_count": 43,
   "metadata": {},
   "outputs": [],
   "source": [
    "x_train = x_train.reshape(n, D)\n",
    "x_test = x_test.reshape(test_images.shape[0], D)"
   ]
  },
  {
   "cell_type": "code",
   "execution_count": 44,
   "metadata": {},
   "outputs": [],
   "source": [
    "y_train = keras.utils.to_categorical(y_train, num_classes)\n",
    "y_test = keras.utils.to_categorical(y_test, num_classes)"
   ]
  },
  {
   "cell_type": "code",
   "execution_count": 58,
   "metadata": {},
   "outputs": [
    {
     "data": {
      "text/plain": [
       "array([[0., 0., 0., 0., 0., 1., 0., 0., 0., 0.],\n",
       "       [1., 0., 0., 0., 0., 0., 0., 0., 0., 0.],\n",
       "       [0., 0., 0., 0., 1., 0., 0., 0., 0., 0.],\n",
       "       [0., 1., 0., 0., 0., 0., 0., 0., 0., 0.],\n",
       "       [0., 0., 0., 0., 0., 0., 0., 0., 0., 1.]], dtype=float32)"
      ]
     },
     "execution_count": 58,
     "metadata": {},
     "output_type": "execute_result"
    }
   ],
   "source": [
    "y_train[0:5, :]"
   ]
  },
  {
   "cell_type": "markdown",
   "metadata": {},
   "source": [
    "### Train and test the network on MNIST"
   ]
  },
  {
   "cell_type": "code",
   "execution_count": 46,
   "metadata": {},
   "outputs": [],
   "source": [
    "from keras.models import Sequential\n",
    "from keras.layers import Dense, Activation, Conv2D, MaxPooling2D, Dropout, Flatten"
   ]
  },
  {
   "cell_type": "code",
   "execution_count": 47,
   "metadata": {},
   "outputs": [],
   "source": [
    "from adv_util import create_fully_connected"
   ]
  },
  {
   "cell_type": "code",
   "execution_count": 48,
   "metadata": {},
   "outputs": [],
   "source": [
    "input_shape = (D, )\n",
    "num_classes = 10\n",
    "model = create_fully_connected(input_shape = input_shape, num_classes = num_classes)\n",
    "model.compile(optimizer=\"sgd\", loss='categorical_crossentropy', metrics=['accuracy'])"
   ]
  },
  {
   "cell_type": "code",
   "execution_count": 49,
   "metadata": {},
   "outputs": [
    {
     "name": "stdout",
     "output_type": "stream",
     "text": [
      "_________________________________________________________________\n",
      "Layer (type)                 Output Shape              Param #   \n",
      "=================================================================\n",
      "dense_3 (Dense)              (None, 32)                25120     \n",
      "_________________________________________________________________\n",
      "activation_3 (Activation)    (None, 32)                0         \n",
      "_________________________________________________________________\n",
      "dense_4 (Dense)              (None, 10)                330       \n",
      "_________________________________________________________________\n",
      "activation_4 (Activation)    (None, 10)                0         \n",
      "=================================================================\n",
      "Total params: 25,450\n",
      "Trainable params: 25,450\n",
      "Non-trainable params: 0\n",
      "_________________________________________________________________\n"
     ]
    }
   ],
   "source": [
    "model.summary()"
   ]
  },
  {
   "cell_type": "code",
   "execution_count": 54,
   "metadata": {},
   "outputs": [
    {
     "name": "stdout",
     "output_type": "stream",
     "text": [
      "Train on 54000 samples, validate on 6000 samples\n",
      "Epoch 1/15\n",
      "54000/54000 [==============================] - 1s 19us/step - loss: 1.0646 - acc: 0.5875 - val_loss: 1.0017 - val_acc: 0.5997\n",
      "Epoch 2/15\n",
      "54000/54000 [==============================] - 1s 18us/step - loss: 1.0514 - acc: 0.5890 - val_loss: 1.0096 - val_acc: 0.5938\n",
      "Epoch 3/15\n",
      "54000/54000 [==============================] - 1s 17us/step - loss: 1.0510 - acc: 0.5884 - val_loss: 0.9729 - val_acc: 0.5962\n",
      "Epoch 4/15\n",
      "54000/54000 [==============================] - 1s 17us/step - loss: 1.0443 - acc: 0.5855 - val_loss: 1.0278 - val_acc: 0.5863\n",
      "Epoch 5/15\n",
      "54000/54000 [==============================] - 1s 17us/step - loss: 1.0537 - acc: 0.5828 - val_loss: 1.0171 - val_acc: 0.6003\n",
      "Epoch 6/15\n",
      "54000/54000 [==============================] - 1s 18us/step - loss: 1.0279 - acc: 0.5909 - val_loss: 0.9975 - val_acc: 0.5952\n",
      "Epoch 7/15\n",
      "54000/54000 [==============================] - 1s 18us/step - loss: 1.0364 - acc: 0.5856 - val_loss: 1.0157 - val_acc: 0.5855\n",
      "Epoch 8/15\n",
      "54000/54000 [==============================] - 1s 20us/step - loss: 1.0292 - acc: 0.5904 - val_loss: 0.9603 - val_acc: 0.6007\n",
      "Epoch 9/15\n",
      "54000/54000 [==============================] - 1s 19us/step - loss: 1.0102 - acc: 0.5885 - val_loss: 0.9484 - val_acc: 0.5970\n",
      "Epoch 10/15\n",
      "54000/54000 [==============================] - 1s 18us/step - loss: 1.0488 - acc: 0.5774 - val_loss: 1.0377 - val_acc: 0.5898\n",
      "Epoch 11/15\n",
      "54000/54000 [==============================] - 1s 18us/step - loss: 1.0242 - acc: 0.5889 - val_loss: 0.9693 - val_acc: 0.5933\n",
      "Epoch 12/15\n",
      "54000/54000 [==============================] - 1s 19us/step - loss: 1.0290 - acc: 0.5889 - val_loss: 0.9590 - val_acc: 0.5998\n",
      "Epoch 13/15\n",
      "54000/54000 [==============================] - 1s 20us/step - loss: 1.0118 - acc: 0.5891 - val_loss: 0.9389 - val_acc: 0.6090\n",
      "Epoch 14/15\n",
      "54000/54000 [==============================] - 1s 19us/step - loss: 1.0040 - acc: 0.5934 - val_loss: 0.9513 - val_acc: 0.5967\n",
      "Epoch 15/15\n",
      "54000/54000 [==============================] - 1s 18us/step - loss: 1.0289 - acc: 0.5843 - val_loss: 0.9488 - val_acc: 0.6023\n"
     ]
    },
    {
     "data": {
      "text/plain": [
       "<keras.callbacks.History at 0x1822da6630>"
      ]
     },
     "execution_count": 54,
     "metadata": {},
     "output_type": "execute_result"
    }
   ],
   "source": [
    "model.fit(x_train, y_train, batch_size=128, epochs=15, verbose=True, validation_split=.1)"
   ]
  },
  {
   "cell_type": "code",
   "execution_count": 55,
   "metadata": {},
   "outputs": [],
   "source": [
    "loss, accuracy  = model.evaluate(x_test, y_test, verbose=False)"
   ]
  },
  {
   "cell_type": "code",
   "execution_count": 56,
   "metadata": {},
   "outputs": [
    {
     "name": "stdout",
     "output_type": "stream",
     "text": [
      "0.5888\n"
     ]
    }
   ],
   "source": [
    "print(accuracy)"
   ]
  },
  {
   "cell_type": "code",
   "execution_count": null,
   "metadata": {},
   "outputs": [],
   "source": []
  }
 ],
 "metadata": {
  "kernelspec": {
   "display_name": "Python 3",
   "language": "python",
   "name": "python3"
  },
  "language_info": {
   "codemirror_mode": {
    "name": "ipython",
    "version": 3
   },
   "file_extension": ".py",
   "mimetype": "text/x-python",
   "name": "python",
   "nbconvert_exporter": "python",
   "pygments_lexer": "ipython3",
   "version": "3.6.4"
  }
 },
 "nbformat": 4,
 "nbformat_minor": 2
}
