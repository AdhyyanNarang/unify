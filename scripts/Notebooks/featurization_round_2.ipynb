{
 "cells": [
  {
   "cell_type": "code",
   "execution_count": 3,
   "metadata": {},
   "outputs": [
    {
     "name": "stdout",
     "output_type": "stream",
     "text": [
      "1.13.1\n"
     ]
    }
   ],
   "source": [
    "# TensorFlow and tf.keras\n",
    "import tensorflow as tf\n",
    "import keras\n",
    "from keras import models\n",
    "import sys\n",
    "import logging\n",
    "sys.path.insert(0, '../')\n",
    "\n",
    "# Helper libraries\n",
    "import numpy as np\n",
    "import matplotlib.pyplot as plt\n",
    "\n",
    "%load_ext autoreload\n",
    "%autoreload 2\n",
    "\n",
    "print(tf.__version__)"
   ]
  },
  {
   "cell_type": "code",
   "execution_count": 4,
   "metadata": {},
   "outputs": [],
   "source": [
    "from cleverhans.attacks import FastGradientMethod\n",
    "from cleverhans.utils_keras import KerasModelWrapper"
   ]
  },
  {
   "cell_type": "code",
   "execution_count": 5,
   "metadata": {},
   "outputs": [],
   "source": [
    "from mnist_corruption import gaussian_blurring, corrupt_data, random_perturbation, random_blackout_whiteout"
   ]
  },
  {
   "cell_type": "code",
   "execution_count": 24,
   "metadata": {},
   "outputs": [
    {
     "name": "stdout",
     "output_type": "stream",
     "text": [
      "Python 2.7.16\r\n"
     ]
    }
   ],
   "source": [
    "!python --version"
   ]
  },
  {
   "cell_type": "markdown",
   "metadata": {},
   "source": [
    "### Import the MNIST dataset/ Preprocess the data"
   ]
  },
  {
   "cell_type": "code",
   "execution_count": 9,
   "metadata": {},
   "outputs": [],
   "source": [
    "mnist = keras.datasets.mnist\n",
    "\n",
    "(x_train, y_train), (x_test, y_test) = mnist.load_data()"
   ]
  },
  {
   "cell_type": "code",
   "execution_count": 10,
   "metadata": {},
   "outputs": [],
   "source": [
    "x_train = x_train/255\n",
    "x_test = x_test/255"
   ]
  },
  {
   "cell_type": "code",
   "execution_count": 11,
   "metadata": {},
   "outputs": [],
   "source": [
    "num_classes = 10"
   ]
  },
  {
   "cell_type": "code",
   "execution_count": 12,
   "metadata": {},
   "outputs": [],
   "source": [
    "y_train = keras.utils.to_categorical(y_train, num_classes)\n",
    "y_test = keras.utils.to_categorical(y_test, num_classes)"
   ]
  },
  {
   "cell_type": "code",
   "execution_count": 13,
   "metadata": {},
   "outputs": [],
   "source": [
    "from keras.models import Sequential\n",
    "from keras.layers import Dense, Activation, Conv2D, MaxPooling2D, Dropout, Flatten"
   ]
  },
  {
   "cell_type": "code",
   "execution_count": 14,
   "metadata": {},
   "outputs": [],
   "source": [
    "from adv_util import create_fully_connected, create_fully_connected_k_onwards"
   ]
  },
  {
   "cell_type": "code",
   "execution_count": 15,
   "metadata": {},
   "outputs": [],
   "source": [
    "def flatten_mnist(x):\n",
    "    n, img_rows, img_cols = x.shape\n",
    "    D = img_rows * img_cols\n",
    "    x_flattened = x.reshape(n, D)\n",
    "    return x_flattened, (D, )"
   ]
  },
  {
   "cell_type": "code",
   "execution_count": 16,
   "metadata": {},
   "outputs": [],
   "source": [
    "x_train_flat, input_shape = flatten_mnist(x_train)\n",
    "x_test_flat, _ = flatten_mnist(x_test)"
   ]
  },
  {
   "cell_type": "code",
   "execution_count": 18,
   "metadata": {},
   "outputs": [
    {
     "name": "stdout",
     "output_type": "stream",
     "text": [
      "WARNING:tensorflow:From /usr/local/lib/python3.7/site-packages/tensorflow/python/framework/op_def_library.py:263: colocate_with (from tensorflow.python.framework.ops) is deprecated and will be removed in a future version.\n",
      "Instructions for updating:\n",
      "Colocations handled automatically by placer.\n",
      "WARNING:tensorflow:From /usr/local/lib/python3.7/site-packages/tensorflow/python/ops/math_ops.py:3066: to_int32 (from tensorflow.python.ops.math_ops) is deprecated and will be removed in a future version.\n",
      "Instructions for updating:\n",
      "Use tf.cast instead.\n",
      "Epoch 1/10\n",
      "60000/60000 [==============================] - 4s 71us/step - loss: 1.3363 - acc: 0.5475: 0s - loss: 1.4683 \n",
      "Epoch 2/10\n",
      "60000/60000 [==============================] - 4s 64us/step - loss: 0.5085 - acc: 0.8811\n",
      "Epoch 3/10\n",
      "28672/60000 [=============>................] - ETA: 1s - loss: 0.3593 - acc: 0.9124"
     ]
    },
    {
     "ename": "KeyboardInterrupt",
     "evalue": "",
     "output_type": "error",
     "traceback": [
      "\u001b[0;31m---------------------------------------------------------------------------\u001b[0m",
      "\u001b[0;31mKeyboardInterrupt\u001b[0m                         Traceback (most recent call last)",
      "\u001b[0;32m<ipython-input-18-ef77f1076172>\u001b[0m in \u001b[0;36m<module>\u001b[0;34m\u001b[0m\n\u001b[1;32m      1\u001b[0m \u001b[0msmall_model\u001b[0m \u001b[0;34m=\u001b[0m \u001b[0mcreate_fully_connected\u001b[0m\u001b[0;34m(\u001b[0m\u001b[0minput_shape\u001b[0m \u001b[0;34m=\u001b[0m \u001b[0minput_shape\u001b[0m\u001b[0;34m,\u001b[0m \u001b[0mnum_classes\u001b[0m \u001b[0;34m=\u001b[0m \u001b[0mnum_classes\u001b[0m\u001b[0;34m,\u001b[0m \u001b[0mnum_hidden\u001b[0m \u001b[0;34m=\u001b[0m \u001b[0;36m4\u001b[0m\u001b[0;34m,\u001b[0m \u001b[0mreg\u001b[0m \u001b[0;34m=\u001b[0m \u001b[0;36m0\u001b[0m\u001b[0;34m)\u001b[0m\u001b[0;34m\u001b[0m\u001b[0;34m\u001b[0m\u001b[0m\n\u001b[1;32m      2\u001b[0m \u001b[0msmall_model\u001b[0m\u001b[0;34m.\u001b[0m\u001b[0mcompile\u001b[0m\u001b[0;34m(\u001b[0m\u001b[0moptimizer\u001b[0m\u001b[0;34m=\u001b[0m\u001b[0;34m\"adam\"\u001b[0m\u001b[0;34m,\u001b[0m \u001b[0mloss\u001b[0m\u001b[0;34m=\u001b[0m\u001b[0;34m'categorical_crossentropy'\u001b[0m\u001b[0;34m,\u001b[0m \u001b[0mmetrics\u001b[0m\u001b[0;34m=\u001b[0m\u001b[0;34m[\u001b[0m\u001b[0;34m'accuracy'\u001b[0m\u001b[0;34m]\u001b[0m\u001b[0;34m)\u001b[0m\u001b[0;34m\u001b[0m\u001b[0;34m\u001b[0m\u001b[0m\n\u001b[0;32m----> 3\u001b[0;31m \u001b[0msmall_model\u001b[0m\u001b[0;34m.\u001b[0m\u001b[0mfit\u001b[0m\u001b[0;34m(\u001b[0m\u001b[0mx_train_flat\u001b[0m\u001b[0;34m,\u001b[0m \u001b[0my_train\u001b[0m\u001b[0;34m,\u001b[0m \u001b[0mepochs\u001b[0m \u001b[0;34m=\u001b[0m \u001b[0;36m10\u001b[0m\u001b[0;34m)\u001b[0m\u001b[0;34m\u001b[0m\u001b[0;34m\u001b[0m\u001b[0m\n\u001b[0m",
      "\u001b[0;32m/usr/local/lib/python3.7/site-packages/keras/engine/training.py\u001b[0m in \u001b[0;36mfit\u001b[0;34m(self, x, y, batch_size, epochs, verbose, callbacks, validation_split, validation_data, shuffle, class_weight, sample_weight, initial_epoch, steps_per_epoch, validation_steps, **kwargs)\u001b[0m\n\u001b[1;32m   1037\u001b[0m                                         \u001b[0minitial_epoch\u001b[0m\u001b[0;34m=\u001b[0m\u001b[0minitial_epoch\u001b[0m\u001b[0;34m,\u001b[0m\u001b[0;34m\u001b[0m\u001b[0;34m\u001b[0m\u001b[0m\n\u001b[1;32m   1038\u001b[0m                                         \u001b[0msteps_per_epoch\u001b[0m\u001b[0;34m=\u001b[0m\u001b[0msteps_per_epoch\u001b[0m\u001b[0;34m,\u001b[0m\u001b[0;34m\u001b[0m\u001b[0;34m\u001b[0m\u001b[0m\n\u001b[0;32m-> 1039\u001b[0;31m                                         validation_steps=validation_steps)\n\u001b[0m\u001b[1;32m   1040\u001b[0m \u001b[0;34m\u001b[0m\u001b[0m\n\u001b[1;32m   1041\u001b[0m     def evaluate(self, x=None, y=None,\n",
      "\u001b[0;32m/usr/local/lib/python3.7/site-packages/keras/engine/training_arrays.py\u001b[0m in \u001b[0;36mfit_loop\u001b[0;34m(model, f, ins, out_labels, batch_size, epochs, verbose, callbacks, val_f, val_ins, shuffle, callback_metrics, initial_epoch, steps_per_epoch, validation_steps)\u001b[0m\n\u001b[1;32m    197\u001b[0m                     \u001b[0mins_batch\u001b[0m\u001b[0;34m[\u001b[0m\u001b[0mi\u001b[0m\u001b[0;34m]\u001b[0m \u001b[0;34m=\u001b[0m \u001b[0mins_batch\u001b[0m\u001b[0;34m[\u001b[0m\u001b[0mi\u001b[0m\u001b[0;34m]\u001b[0m\u001b[0;34m.\u001b[0m\u001b[0mtoarray\u001b[0m\u001b[0;34m(\u001b[0m\u001b[0;34m)\u001b[0m\u001b[0;34m\u001b[0m\u001b[0;34m\u001b[0m\u001b[0m\n\u001b[1;32m    198\u001b[0m \u001b[0;34m\u001b[0m\u001b[0m\n\u001b[0;32m--> 199\u001b[0;31m                 \u001b[0mouts\u001b[0m \u001b[0;34m=\u001b[0m \u001b[0mf\u001b[0m\u001b[0;34m(\u001b[0m\u001b[0mins_batch\u001b[0m\u001b[0;34m)\u001b[0m\u001b[0;34m\u001b[0m\u001b[0;34m\u001b[0m\u001b[0m\n\u001b[0m\u001b[1;32m    200\u001b[0m                 \u001b[0mouts\u001b[0m \u001b[0;34m=\u001b[0m \u001b[0mto_list\u001b[0m\u001b[0;34m(\u001b[0m\u001b[0mouts\u001b[0m\u001b[0;34m)\u001b[0m\u001b[0;34m\u001b[0m\u001b[0;34m\u001b[0m\u001b[0m\n\u001b[1;32m    201\u001b[0m                 \u001b[0;32mfor\u001b[0m \u001b[0ml\u001b[0m\u001b[0;34m,\u001b[0m \u001b[0mo\u001b[0m \u001b[0;32min\u001b[0m \u001b[0mzip\u001b[0m\u001b[0;34m(\u001b[0m\u001b[0mout_labels\u001b[0m\u001b[0;34m,\u001b[0m \u001b[0mouts\u001b[0m\u001b[0;34m)\u001b[0m\u001b[0;34m:\u001b[0m\u001b[0;34m\u001b[0m\u001b[0;34m\u001b[0m\u001b[0m\n",
      "\u001b[0;32m/usr/local/lib/python3.7/site-packages/keras/backend/tensorflow_backend.py\u001b[0m in \u001b[0;36m__call__\u001b[0;34m(self, inputs)\u001b[0m\n\u001b[1;32m   2713\u001b[0m                 \u001b[0;32mreturn\u001b[0m \u001b[0mself\u001b[0m\u001b[0;34m.\u001b[0m\u001b[0m_legacy_call\u001b[0m\u001b[0;34m(\u001b[0m\u001b[0minputs\u001b[0m\u001b[0;34m)\u001b[0m\u001b[0;34m\u001b[0m\u001b[0;34m\u001b[0m\u001b[0m\n\u001b[1;32m   2714\u001b[0m \u001b[0;34m\u001b[0m\u001b[0m\n\u001b[0;32m-> 2715\u001b[0;31m             \u001b[0;32mreturn\u001b[0m \u001b[0mself\u001b[0m\u001b[0;34m.\u001b[0m\u001b[0m_call\u001b[0m\u001b[0;34m(\u001b[0m\u001b[0minputs\u001b[0m\u001b[0;34m)\u001b[0m\u001b[0;34m\u001b[0m\u001b[0;34m\u001b[0m\u001b[0m\n\u001b[0m\u001b[1;32m   2716\u001b[0m         \u001b[0;32melse\u001b[0m\u001b[0;34m:\u001b[0m\u001b[0;34m\u001b[0m\u001b[0;34m\u001b[0m\u001b[0m\n\u001b[1;32m   2717\u001b[0m             \u001b[0;32mif\u001b[0m \u001b[0mpy_any\u001b[0m\u001b[0;34m(\u001b[0m\u001b[0mis_tensor\u001b[0m\u001b[0;34m(\u001b[0m\u001b[0mx\u001b[0m\u001b[0;34m)\u001b[0m \u001b[0;32mfor\u001b[0m \u001b[0mx\u001b[0m \u001b[0;32min\u001b[0m \u001b[0minputs\u001b[0m\u001b[0;34m)\u001b[0m\u001b[0;34m:\u001b[0m\u001b[0;34m\u001b[0m\u001b[0;34m\u001b[0m\u001b[0m\n",
      "\u001b[0;32m/usr/local/lib/python3.7/site-packages/keras/backend/tensorflow_backend.py\u001b[0m in \u001b[0;36m_call\u001b[0;34m(self, inputs)\u001b[0m\n\u001b[1;32m   2673\u001b[0m             \u001b[0mfetched\u001b[0m \u001b[0;34m=\u001b[0m \u001b[0mself\u001b[0m\u001b[0;34m.\u001b[0m\u001b[0m_callable_fn\u001b[0m\u001b[0;34m(\u001b[0m\u001b[0;34m*\u001b[0m\u001b[0marray_vals\u001b[0m\u001b[0;34m,\u001b[0m \u001b[0mrun_metadata\u001b[0m\u001b[0;34m=\u001b[0m\u001b[0mself\u001b[0m\u001b[0;34m.\u001b[0m\u001b[0mrun_metadata\u001b[0m\u001b[0;34m)\u001b[0m\u001b[0;34m\u001b[0m\u001b[0;34m\u001b[0m\u001b[0m\n\u001b[1;32m   2674\u001b[0m         \u001b[0;32melse\u001b[0m\u001b[0;34m:\u001b[0m\u001b[0;34m\u001b[0m\u001b[0;34m\u001b[0m\u001b[0m\n\u001b[0;32m-> 2675\u001b[0;31m             \u001b[0mfetched\u001b[0m \u001b[0;34m=\u001b[0m \u001b[0mself\u001b[0m\u001b[0;34m.\u001b[0m\u001b[0m_callable_fn\u001b[0m\u001b[0;34m(\u001b[0m\u001b[0;34m*\u001b[0m\u001b[0marray_vals\u001b[0m\u001b[0;34m)\u001b[0m\u001b[0;34m\u001b[0m\u001b[0;34m\u001b[0m\u001b[0m\n\u001b[0m\u001b[1;32m   2676\u001b[0m         \u001b[0;32mreturn\u001b[0m \u001b[0mfetched\u001b[0m\u001b[0;34m[\u001b[0m\u001b[0;34m:\u001b[0m\u001b[0mlen\u001b[0m\u001b[0;34m(\u001b[0m\u001b[0mself\u001b[0m\u001b[0;34m.\u001b[0m\u001b[0moutputs\u001b[0m\u001b[0;34m)\u001b[0m\u001b[0;34m]\u001b[0m\u001b[0;34m\u001b[0m\u001b[0;34m\u001b[0m\u001b[0m\n\u001b[1;32m   2677\u001b[0m \u001b[0;34m\u001b[0m\u001b[0m\n",
      "\u001b[0;32m/usr/local/lib/python3.7/site-packages/tensorflow/python/client/session.py\u001b[0m in \u001b[0;36m__call__\u001b[0;34m(self, *args, **kwargs)\u001b[0m\n\u001b[1;32m   1437\u001b[0m           ret = tf_session.TF_SessionRunCallable(\n\u001b[1;32m   1438\u001b[0m               \u001b[0mself\u001b[0m\u001b[0;34m.\u001b[0m\u001b[0m_session\u001b[0m\u001b[0;34m.\u001b[0m\u001b[0m_session\u001b[0m\u001b[0;34m,\u001b[0m \u001b[0mself\u001b[0m\u001b[0;34m.\u001b[0m\u001b[0m_handle\u001b[0m\u001b[0;34m,\u001b[0m \u001b[0margs\u001b[0m\u001b[0;34m,\u001b[0m \u001b[0mstatus\u001b[0m\u001b[0;34m,\u001b[0m\u001b[0;34m\u001b[0m\u001b[0;34m\u001b[0m\u001b[0m\n\u001b[0;32m-> 1439\u001b[0;31m               run_metadata_ptr)\n\u001b[0m\u001b[1;32m   1440\u001b[0m         \u001b[0;32mif\u001b[0m \u001b[0mrun_metadata\u001b[0m\u001b[0;34m:\u001b[0m\u001b[0;34m\u001b[0m\u001b[0;34m\u001b[0m\u001b[0m\n\u001b[1;32m   1441\u001b[0m           \u001b[0mproto_data\u001b[0m \u001b[0;34m=\u001b[0m \u001b[0mtf_session\u001b[0m\u001b[0;34m.\u001b[0m\u001b[0mTF_GetBuffer\u001b[0m\u001b[0;34m(\u001b[0m\u001b[0mrun_metadata_ptr\u001b[0m\u001b[0;34m)\u001b[0m\u001b[0;34m\u001b[0m\u001b[0;34m\u001b[0m\u001b[0m\n",
      "\u001b[0;31mKeyboardInterrupt\u001b[0m: "
     ]
    }
   ],
   "source": [
    "small_model = create_fully_connected(input_shape = input_shape, num_classes = num_classes, num_hidden = 4, reg = 0)\n",
    "small_model.compile(optimizer=\"adam\", loss='categorical_crossentropy', metrics=['accuracy'])\n",
    "small_model.fit(x_train_flat, y_train, epochs = 10)"
   ]
  },
  {
   "cell_type": "markdown",
   "metadata": {},
   "source": [
    "# Experiment A"
   ]
  },
  {
   "cell_type": "markdown",
   "metadata": {},
   "source": [
    "## Helper functions"
   ]
  },
  {
   "cell_type": "code",
   "execution_count": 21,
   "metadata": {},
   "outputs": [],
   "source": [
    "def dist_calculator(reg_image, adv_image, activation_model):\n",
    "    reg_image = reg_image.reshape(1, 784)\n",
    "    adv_image = adv_image.reshape(1, 784)\n",
    "    activation_reg = np.array(activation_model.predict(reg_image)).squeeze()\n",
    "    activation_adv = np.array(activation_model.predict(adv_image)).squeeze()\n",
    "    difference = activation_reg - activation_adv\n",
    "    L = len(difference)\n",
    "    if L == 1:\n",
    "        return np.linalg.norm(activation_reg - activation_adv)\n",
    "    else:\n",
    "        distances = []\n",
    "        for i in range(L):\n",
    "            distances.append(np.linalg.norm(difference[i]))\n",
    "        return distances\n",
    "\n",
    "def dist_average(reg_set, adv_set, activation_model):\n",
    "    set_card = len(reg_set)\n",
    "    distances = []\n",
    "    for i in range(set_card):\n",
    "        dist = dist_calculator(reg_set[i], adv_set[i], activation_model)\n",
    "        distances.append(dist)\n",
    "    #print(np.array(distances).shape)\n",
    "    return np.average(distances, axis = 0)\n",
    "\n",
    "def dist_split(x_test_flat, x_test_adv_flat, model, activation_model):\n",
    "    pred = model.predict(x_test_adv_flat)\n",
    "    incorrect_indices = [i for i,v in enumerate(pred) if np.argmax(pred[i]) != np.argmax(y_test[i])]\n",
    "    correct_indices = [i for i,v in enumerate(pred) if np.argmax(pred[i]) == np.argmax(y_test[i])]\n",
    "    \n",
    "    overall = dist_average(x_test_flat, x_test_adv_flat, activation_model)\n",
    "    correct_dist = dist_average(x_test_flat[correct_indices], x_test_adv_flat[correct_indices], activation_model)\n",
    "    incorrect_dist = dist_average(x_test_flat[incorrect_indices], x_test_adv_flat[incorrect_indices], activation_model)\n",
    "    \n",
    "    return overall, correct_dist, incorrect_dist\n",
    "\n",
    "def adv_generate(session, model_input, epsilon_input, image_set):\n",
    "    fgsm = FastGradientMethod(model_input, sess=session)\n",
    "    adv_x = fgsm.generate_np(image_set, eps = epsilon_input, clip_min = -2, clip_max = 2)\n",
    "    return adv_x"
   ]
  },
  {
   "cell_type": "code",
   "execution_count": 22,
   "metadata": {},
   "outputs": [],
   "source": [
    "def sum_entries_norm(X):\n",
    "    return sum(sum(abs(X)))\n",
    "    \n",
    "def check_L1(sess):\n",
    "    small_model = create_fully_connected(input_shape = input_shape, num_classes = num_classes, num_hidden = 2, reg = 0)\n",
    "    big_model = create_fully_connected(input_shape = input_shape, num_classes = num_classes, num_hidden = 5, reg = 0)\n",
    "    \n",
    "    sess.run(tf.global_variables_initializer()) \n",
    "\n",
    "    small_model.compile(optimizer=\"adam\", loss='categorical_crossentropy', metrics=['accuracy'])\n",
    "    small_model.fit(x_train_flat, y_train, epochs = 15)\n",
    "    \n",
    "    x_test_adv_flat = adv_generate(sess, KerasModelWrapper(small_model), 0.1, x_test_flat)\n",
    "    print(small_model.evaluate(x_test_adv_flat, y_test))\n",
    "    \n",
    "    big_model.compile(optimizer=\"adam\", loss='categorical_crossentropy', metrics=['accuracy'])\n",
    "    big_model.fit(x_train_flat, y_train, epochs = 20)\n",
    "    x_test_adv_flat = adv_generate(sess, KerasModelWrapper(big_model), 0.1, x_test_flat)\n",
    "    print(big_model.evaluate(x_test_adv_flat, y_test))\n",
    "    \n",
    "    small_model_norms = []\n",
    "    for layer in small_model.layers: \n",
    "        weights = layer.get_weights()\n",
    "        #norm = np.linalg.norm(weights[0], ord = 1)\n",
    "        norm = sum_entries_norm(weights[0])\n",
    "        small_model_norms.append(norm)\n",
    "    \n",
    "    large_model_norms = []\n",
    "    for layer in big_model.layers: \n",
    "        weights = layer.get_weights()\n",
    "        #norm = np.linalg.norm(weights[0], ord = 1)\n",
    "        norm = sum_entries_norm(weights[0])\n",
    "        large_model_norms.append(norm)\n",
    "        \n",
    "    return small_model_norms, large_model_norms\n",
    "    "
   ]
  },
  {
   "cell_type": "code",
   "execution_count": 57,
   "metadata": {},
   "outputs": [],
   "source": [
    "num_hidden_list = range(1,8)\n",
    "epochs_list = [10,10, 15, 15, 20, 20, 20]\n",
    "\n",
    "def check_L1_many(sess):\n",
    "    \n",
    "    norms_list = []\n",
    "    accuracies = []\n",
    "    \n",
    "    for (idx, num_hidden) in enumerate(num_hidden_list):\n",
    "        model = create_fully_connected(input_shape = input_shape, num_classes = num_classes, num_hidden = num_hidden, reg = 0) \n",
    "        model.compile(optimizer=\"adam\", loss='categorical_crossentropy', metrics=['accuracy'])\n",
    "        sess.run(tf.global_variables_initializer()) \n",
    "        model.fit(x_train_flat, y_train, epochs = epochs_list[idx])\n",
    "        x_test_adv_flat = adv_generate(sess, KerasModelWrapper(model), 0.05, x_test_flat)\n",
    "        print(model.evaluate())\n",
    "        accuracies.append(model.evaluate(x_test_adv_flat, y_test))\n",
    "\n",
    "        model_norms = []\n",
    "        for layer in model.layers:\n",
    "            weights = layer.get_weights()\n",
    "            norm = sum_entries_norm(weights[0])\n",
    "            model_norms.append(norm)\n",
    "        \n",
    "        norms_list.append(model_norms)\n",
    "    \n",
    "    return norms_list, accuracies"
   ]
  },
  {
   "cell_type": "code",
   "execution_count": 58,
   "metadata": {},
   "outputs": [
    {
     "name": "stdout",
     "output_type": "stream",
     "text": [
      "Epoch 1/10\n",
      "60000/60000 [==============================] - 6s 95us/step - loss: 0.7433 - acc: 0.8277\n",
      "Epoch 2/10\n",
      "60000/60000 [==============================] - 4s 68us/step - loss: 0.2588 - acc: 0.9280\n",
      "Epoch 3/10\n",
      "60000/60000 [==============================] - 4s 69us/step - loss: 0.1939 - acc: 0.9447\n",
      "Epoch 4/10\n",
      "60000/60000 [==============================] - 5s 88us/step - loss: 0.1600 - acc: 0.9546\n",
      "Epoch 5/10\n",
      "60000/60000 [==============================] - 7s 112us/step - loss: 0.1385 - acc: 0.9608 0s - loss: 0.1384 - acc: 0.960\n",
      "Epoch 6/10\n",
      "60000/60000 [==============================] - 4s 63us/step - loss: 0.1235 - acc: 0.9649\n",
      "Epoch 7/10\n",
      "60000/60000 [==============================] - 5s 76us/step - loss: 0.1113 - acc: 0.9680: 1s\n",
      "Epoch 8/10\n",
      "60000/60000 [==============================] - 5s 86us/step - loss: 0.1019 - acc: 0.9700\n",
      "Epoch 9/10\n",
      "60000/60000 [==============================] - 5s 81us/step - loss: 0.0934 - acc: 0.9731\n",
      "Epoch 10/10\n",
      "60000/60000 [==============================] - 4s 68us/step - loss: 0.0863 - acc: 0.9747\n"
     ]
    },
    {
     "name": "stderr",
     "output_type": "stream",
     "text": [
      "[INFO 2019-07-12 18:23:37,935 cleverhans] Constructing new graph for attack FastGradientMethod\n"
     ]
    },
    {
     "name": "stdout",
     "output_type": "stream",
     "text": [
      "10000/10000 [==============================] - 1s 98us/step\n",
      "Epoch 1/10\n",
      "60000/60000 [==============================] - 6s 96us/step - loss: 0.9338 - acc: 0.7661\n",
      "Epoch 2/10\n",
      "60000/60000 [==============================] - 4s 68us/step - loss: 0.3088 - acc: 0.9187\n",
      "Epoch 3/10\n",
      "60000/60000 [==============================] - 4s 70us/step - loss: 0.2174 - acc: 0.9397\n",
      "Epoch 4/10\n",
      "60000/60000 [==============================] - 4s 69us/step - loss: 0.1729 - acc: 0.9520: 0s - loss: 0.1748 - a\n",
      "Epoch 5/10\n",
      "60000/60000 [==============================] - 4s 68us/step - loss: 0.1459 - acc: 0.9578\n",
      "Epoch 6/10\n",
      "60000/60000 [==============================] - 4s 67us/step - loss: 0.1274 - acc: 0.9634\n",
      "Epoch 7/10\n",
      "60000/60000 [==============================] - 4s 65us/step - loss: 0.1136 - acc: 0.9670\n",
      "Epoch 8/10\n",
      "60000/60000 [==============================] - 4s 67us/step - loss: 0.1027 - acc: 0.9699\n",
      "Epoch 9/10\n",
      "60000/60000 [==============================] - 4s 65us/step - loss: 0.0945 - acc: 0.9726\n",
      "Epoch 10/10\n",
      "60000/60000 [==============================] - 4s 67us/step - loss: 0.0863 - acc: 0.9748\n"
     ]
    },
    {
     "name": "stderr",
     "output_type": "stream",
     "text": [
      "[INFO 2019-07-12 18:24:24,999 cleverhans] Constructing new graph for attack FastGradientMethod\n"
     ]
    },
    {
     "name": "stdout",
     "output_type": "stream",
     "text": [
      "10000/10000 [==============================] - 1s 106us/step\n",
      "Epoch 1/15\n",
      "60000/60000 [==============================] - 6s 104us/step - loss: 1.2058 - acc: 0.6298\n",
      "Epoch 2/15\n",
      "60000/60000 [==============================] - 5s 77us/step - loss: 0.3947 - acc: 0.9032\n",
      "Epoch 3/15\n",
      "60000/60000 [==============================] - 5s 90us/step - loss: 0.2573 - acc: 0.9320: 1s - loss\n",
      "Epoch 4/15\n",
      "60000/60000 [==============================] - 5s 85us/step - loss: 0.2064 - acc: 0.9448\n",
      "Epoch 5/15\n",
      "60000/60000 [==============================] - 5s 85us/step - loss: 0.1774 - acc: 0.9517\n",
      "Epoch 6/15\n",
      "60000/60000 [==============================] - 5s 83us/step - loss: 0.1582 - acc: 0.9564\n",
      "Epoch 7/15\n",
      "60000/60000 [==============================] - 5s 84us/step - loss: 0.1424 - acc: 0.9604\n",
      "Epoch 8/15\n",
      "60000/60000 [==============================] - 5s 81us/step - loss: 0.1309 - acc: 0.9631\n",
      "Epoch 9/15\n",
      "60000/60000 [==============================] - 5s 85us/step - loss: 0.1209 - acc: 0.9660: 0s - loss: 0.1210 - acc: 0.96\n",
      "Epoch 10/15\n",
      "60000/60000 [==============================] - 5s 87us/step - loss: 0.1125 - acc: 0.9691\n",
      "Epoch 11/15\n",
      "60000/60000 [==============================] - 5s 85us/step - loss: 0.1042 - acc: 0.9708: 1s -\n",
      "Epoch 12/15\n",
      "60000/60000 [==============================] - 6s 93us/step - loss: 0.0986 - acc: 0.9725\n",
      "Epoch 13/15\n",
      "60000/60000 [==============================] - 5s 85us/step - loss: 0.0926 - acc: 0.9743\n",
      "Epoch 14/15\n",
      "60000/60000 [==============================] - 5s 78us/step - loss: 0.0872 - acc: 0.9758\n",
      "Epoch 15/15\n",
      "60000/60000 [==============================] - 4s 70us/step - loss: 0.0826 - acc: 0.9775\n"
     ]
    },
    {
     "name": "stderr",
     "output_type": "stream",
     "text": [
      "[INFO 2019-07-12 18:25:46,524 cleverhans] Constructing new graph for attack FastGradientMethod\n"
     ]
    },
    {
     "name": "stdout",
     "output_type": "stream",
     "text": [
      "10000/10000 [==============================] - 1s 98us/step\n",
      "Epoch 1/15\n",
      "60000/60000 [==============================] - 7s 119us/step - loss: 1.3237 - acc: 0.5444\n",
      "Epoch 2/15\n",
      "60000/60000 [==============================] - 6s 106us/step - loss: 0.5628 - acc: 0.8580\n",
      "Epoch 3/15\n",
      "60000/60000 [==============================] - 5s 89us/step - loss: 0.3711 - acc: 0.9047\n",
      "Epoch 4/15\n",
      "60000/60000 [==============================] - 5s 79us/step - loss: 0.2943 - acc: 0.9233\n",
      "Epoch 5/15\n",
      "60000/60000 [==============================] - 5s 77us/step - loss: 0.2513 - acc: 0.9332\n",
      "Epoch 6/15\n",
      "60000/60000 [==============================] - 5s 75us/step - loss: 0.2209 - acc: 0.9411\n",
      "Epoch 7/15\n",
      "60000/60000 [==============================] - 5s 77us/step - loss: 0.1978 - acc: 0.9463\n",
      "Epoch 8/15\n",
      "60000/60000 [==============================] - 5s 75us/step - loss: 0.1830 - acc: 0.9510\n",
      "Epoch 9/15\n",
      "60000/60000 [==============================] - 4s 74us/step - loss: 0.1698 - acc: 0.9544\n",
      "Epoch 10/15\n",
      "60000/60000 [==============================] - 4s 74us/step - loss: 0.1582 - acc: 0.9577\n",
      "Epoch 11/15\n",
      "60000/60000 [==============================] - 5s 76us/step - loss: 0.1498 - acc: 0.9595\n",
      "Epoch 12/15\n",
      "60000/60000 [==============================] - 4s 74us/step - loss: 0.1402 - acc: 0.9619\n",
      "Epoch 13/15\n",
      "60000/60000 [==============================] - 4s 75us/step - loss: 0.1324 - acc: 0.9641\n",
      "Epoch 14/15\n",
      "60000/60000 [==============================] - 5s 77us/step - loss: 0.1255 - acc: 0.9660\n",
      "Epoch 15/15\n",
      "60000/60000 [==============================] - 5s 75us/step - loss: 0.1200 - acc: 0.9675\n"
     ]
    },
    {
     "name": "stderr",
     "output_type": "stream",
     "text": [
      "[INFO 2019-07-12 18:27:05,381 cleverhans] Constructing new graph for attack FastGradientMethod\n"
     ]
    },
    {
     "name": "stdout",
     "output_type": "stream",
     "text": [
      "10000/10000 [==============================] - 1s 106us/step\n",
      "Epoch 1/20\n",
      "60000/60000 [==============================] - 7s 114us/step - loss: 1.6510 - acc: 0.3052\n",
      "Epoch 2/20\n",
      "60000/60000 [==============================] - 5s 79us/step - loss: 1.1556 - acc: 0.4845\n",
      "Epoch 3/20\n",
      "60000/60000 [==============================] - 5s 80us/step - loss: 0.8609 - acc: 0.6518\n",
      "Epoch 4/20\n",
      "60000/60000 [==============================] - 5s 80us/step - loss: 0.4739 - acc: 0.8762\n",
      "Epoch 5/20\n",
      "60000/60000 [==============================] - 5s 80us/step - loss: 0.3277 - acc: 0.9149\n",
      "Epoch 6/20\n",
      "60000/60000 [==============================] - 5s 80us/step - loss: 0.2835 - acc: 0.9256: 1s -\n",
      "Epoch 7/20\n",
      "60000/60000 [==============================] - 5s 79us/step - loss: 0.2577 - acc: 0.9323\n",
      "Epoch 8/20\n",
      "60000/60000 [==============================] - 5s 81us/step - loss: 0.2397 - acc: 0.9371: 1s\n",
      "Epoch 9/20\n",
      "60000/60000 [==============================] - 5s 79us/step - loss: 0.2252 - acc: 0.9409\n",
      "Epoch 10/20\n",
      "60000/60000 [==============================] - 5s 83us/step - loss: 0.2126 - acc: 0.9447\n",
      "Epoch 11/20\n",
      "60000/60000 [==============================] - 5s 80us/step - loss: 0.2018 - acc: 0.9467\n",
      "Epoch 12/20\n",
      "60000/60000 [==============================] - 5s 80us/step - loss: 0.1936 - acc: 0.9491: 1s - \n",
      "Epoch 13/20\n",
      "60000/60000 [==============================] - 5s 80us/step - loss: 0.1865 - acc: 0.9517\n",
      "Epoch 14/20\n",
      "60000/60000 [==============================] - 5s 80us/step - loss: 0.1800 - acc: 0.9537\n",
      "Epoch 15/20\n",
      "60000/60000 [==============================] - 5s 79us/step - loss: 0.1734 - acc: 0.9544\n",
      "Epoch 16/20\n",
      "60000/60000 [==============================] - 5s 80us/step - loss: 0.1682 - acc: 0.9561\n",
      "Epoch 17/20\n",
      "60000/60000 [==============================] - 5s 88us/step - loss: 0.1631 - acc: 0.9581\n",
      "Epoch 18/20\n",
      "60000/60000 [==============================] - 5s 89us/step - loss: 0.1584 - acc: 0.9588\n",
      "Epoch 19/20\n",
      "60000/60000 [==============================] - 8s 142us/step - loss: 0.1516 - acc: 0.9607\n",
      "Epoch 20/20\n",
      "60000/60000 [==============================] - 7s 114us/step - loss: 0.1480 - acc: 0.9619\n"
     ]
    },
    {
     "name": "stderr",
     "output_type": "stream",
     "text": [
      "[INFO 2019-07-12 18:28:56,291 cleverhans] Constructing new graph for attack FastGradientMethod\n"
     ]
    },
    {
     "name": "stdout",
     "output_type": "stream",
     "text": [
      "10000/10000 [==============================] - 1s 108us/step\n",
      "Epoch 1/20\n",
      "60000/60000 [==============================] - 11s 187us/step - loss: 1.8039 - acc: 0.2829\n",
      "Epoch 2/20\n",
      "60000/60000 [==============================] - 8s 134us/step - loss: 1.1630 - acc: 0.5564\n",
      "Epoch 3/20\n",
      "60000/60000 [==============================] - 5s 88us/step - loss: 0.8586 - acc: 0.7232\n",
      "Epoch 4/20\n",
      "60000/60000 [==============================] - 6s 106us/step - loss: 0.6615 - acc: 0.8224\n",
      "Epoch 5/20\n",
      "60000/60000 [==============================] - 6s 100us/step - loss: 0.3899 - acc: 0.9036\n",
      "Epoch 6/20\n",
      "60000/60000 [==============================] - 6s 94us/step - loss: 0.3134 - acc: 0.9207\n",
      "Epoch 7/20\n",
      "60000/60000 [==============================] - 6s 102us/step - loss: 0.2815 - acc: 0.9290\n",
      "Epoch 8/20\n",
      "60000/60000 [==============================] - 6s 100us/step - loss: 0.2570 - acc: 0.9345\n",
      "Epoch 9/20\n",
      "60000/60000 [==============================] - 5s 89us/step - loss: 0.2394 - acc: 0.9389\n",
      "Epoch 10/20\n",
      "60000/60000 [==============================] - 5s 89us/step - loss: 0.2258 - acc: 0.9429\n",
      "Epoch 11/20\n",
      "60000/60000 [==============================] - 6s 95us/step - loss: 0.2128 - acc: 0.9462\n",
      "Epoch 12/20\n",
      "60000/60000 [==============================] - 5s 87us/step - loss: 0.2031 - acc: 0.9487\n",
      "Epoch 13/20\n",
      "60000/60000 [==============================] - 5s 88us/step - loss: 0.1944 - acc: 0.9502\n",
      "Epoch 14/20\n",
      "60000/60000 [==============================] - 6s 108us/step - loss: 0.1883 - acc: 0.9522\n",
      "Epoch 15/20\n",
      "60000/60000 [==============================] - 5s 92us/step - loss: 0.1799 - acc: 0.9545\n",
      "Epoch 16/20\n",
      "60000/60000 [==============================] - 5s 86us/step - loss: 0.1751 - acc: 0.9552\n",
      "Epoch 17/20\n",
      "60000/60000 [==============================] - 5s 86us/step - loss: 0.1684 - acc: 0.9573\n",
      "Epoch 18/20\n",
      "60000/60000 [==============================] - 5s 87us/step - loss: 0.1633 - acc: 0.9584\n",
      "Epoch 19/20\n",
      "60000/60000 [==============================] - 5s 87us/step - loss: 0.1590 - acc: 0.9597\n",
      "Epoch 20/20\n",
      "60000/60000 [==============================] - 5s 89us/step - loss: 0.1556 - acc: 0.9602\n"
     ]
    },
    {
     "name": "stderr",
     "output_type": "stream",
     "text": [
      "[INFO 2019-07-12 18:31:05,480 cleverhans] Constructing new graph for attack FastGradientMethod\n"
     ]
    },
    {
     "name": "stdout",
     "output_type": "stream",
     "text": [
      "10000/10000 [==============================] - 1s 125us/step\n",
      "Epoch 1/20\n",
      "60000/60000 [==============================] - 8s 130us/step - loss: 1.9434 - acc: 0.1853\n",
      "Epoch 2/20\n",
      "60000/60000 [==============================] - 5s 91us/step - loss: 1.3729 - acc: 0.4443\n",
      "Epoch 3/20\n",
      "60000/60000 [==============================] - 6s 92us/step - loss: 1.0646 - acc: 0.5607\n",
      "Epoch 4/20\n",
      "60000/60000 [==============================] - 6s 98us/step - loss: 0.9479 - acc: 0.5963\n",
      "Epoch 5/20\n",
      "60000/60000 [==============================] - 6s 94us/step - loss: 0.8721 - acc: 0.6220: \n",
      "Epoch 6/20\n",
      "60000/60000 [==============================] - 6s 95us/step - loss: 0.6994 - acc: 0.7255\n",
      "Epoch 7/20\n",
      "60000/60000 [==============================] - 6s 94us/step - loss: 0.4484 - acc: 0.8760\n",
      "Epoch 8/20\n",
      "60000/60000 [==============================] - 6s 92us/step - loss: 0.3338 - acc: 0.9139\n",
      "Epoch 9/20\n",
      "60000/60000 [==============================] - 6s 95us/step - loss: 0.2928 - acc: 0.9225: 0s - loss: 0.2912 - acc: 0\n",
      "Epoch 10/20\n",
      "60000/60000 [==============================] - 6s 98us/step - loss: 0.2674 - acc: 0.9301\n",
      "Epoch 11/20\n",
      "60000/60000 [==============================] - 6s 92us/step - loss: 0.2474 - acc: 0.9348: 1s - lo\n",
      "Epoch 12/20\n",
      "60000/60000 [==============================] - 6s 92us/step - loss: 0.2314 - acc: 0.9385\n",
      "Epoch 13/20\n",
      "60000/60000 [==============================] - 6s 92us/step - loss: 0.2171 - acc: 0.9422\n",
      "Epoch 14/20\n",
      "60000/60000 [==============================] - 6s 94us/step - loss: 0.2058 - acc: 0.9454\n",
      "Epoch 15/20\n",
      "60000/60000 [==============================] - 6s 104us/step - loss: 0.1972 - acc: 0.9474\n",
      "Epoch 16/20\n",
      "60000/60000 [==============================] - 6s 95us/step - loss: 0.1868 - acc: 0.9497\n",
      "Epoch 17/20\n",
      "60000/60000 [==============================] - 6s 93us/step - loss: 0.1824 - acc: 0.9512\n",
      "Epoch 18/20\n",
      "60000/60000 [==============================] - 5s 91us/step - loss: 0.1735 - acc: 0.9535\n",
      "Epoch 19/20\n",
      "60000/60000 [==============================] - 5s 92us/step - loss: 0.1678 - acc: 0.9547\n",
      "Epoch 20/20\n",
      "60000/60000 [==============================] - 5s 91us/step - loss: 0.1622 - acc: 0.9564\n"
     ]
    },
    {
     "name": "stderr",
     "output_type": "stream",
     "text": [
      "[INFO 2019-07-12 18:33:08,655 cleverhans] Constructing new graph for attack FastGradientMethod\n"
     ]
    },
    {
     "name": "stdout",
     "output_type": "stream",
     "text": [
      "10000/10000 [==============================] - 1s 131us/step\n"
     ]
    }
   ],
   "source": [
    "norms_list = check_L1_many(sess)"
   ]
  },
  {
   "cell_type": "code",
   "execution_count": 59,
   "metadata": {},
   "outputs": [],
   "source": [
    "norms_list, accuracies = norms_list"
   ]
  },
  {
   "cell_type": "code",
   "execution_count": 60,
   "metadata": {},
   "outputs": [
    {
     "data": {
      "text/plain": [
       "[[7.198563809204102, 0.0883],\n",
       " [8.101508946990966, 0.0623],\n",
       " [8.493333728027343, 0.0493],\n",
       " [7.192939429473877, 0.0636],\n",
       " [5.679024671936035, 0.1424],\n",
       " [5.903058686828613, 0.1254],\n",
       " [6.16216575088501, 0.0934]]"
      ]
     },
     "execution_count": 60,
     "metadata": {},
     "output_type": "execute_result"
    }
   ],
   "source": [
    "accuracies"
   ]
  },
  {
   "cell_type": "code",
   "execution_count": 66,
   "metadata": {},
   "outputs": [
    {
     "data": {
      "text/plain": [
       "[5347.586502075195, 642.4137744903564, 289.29059982299805]"
      ]
     },
     "execution_count": 66,
     "metadata": {},
     "output_type": "execute_result"
    }
   ],
   "source": [
    "zero = [sum(item) for item in norms_list[0]]\n",
    "zero"
   ]
  },
  {
   "cell_type": "code",
   "execution_count": 67,
   "metadata": {},
   "outputs": [
    {
     "data": {
      "text/plain": [
       "[4976.139518737793, 535.55810546875, 606.1693534851074, 259.58698654174805]"
      ]
     },
     "execution_count": 67,
     "metadata": {},
     "output_type": "execute_result"
    }
   ],
   "source": [
    "one = [sum(item) for item in norms_list[1]]\n",
    "one"
   ]
  },
  {
   "cell_type": "code",
   "execution_count": 84,
   "metadata": {},
   "outputs": [
    {
     "data": {
      "text/plain": [
       "[5592.266632080078,\n",
       " 454.44677352905273,\n",
       " 379.2926845550537,\n",
       " 324.5647220611572,\n",
       " 315.55324935913086,\n",
       " 372.345685005188,\n",
       " 566.3977670669556,\n",
       " 814.8068647384644,\n",
       " 223.32340812683105]"
      ]
     },
     "execution_count": 84,
     "metadata": {},
     "output_type": "execute_result"
    }
   ],
   "source": [
    "two = [sum(item) for item in norms_list[6]]\n",
    "two"
   ]
  },
  {
   "cell_type": "code",
   "execution_count": 42,
   "metadata": {},
   "outputs": [
    {
     "data": {
      "text/plain": [
       "[6102.694839477539,\n",
       " 486.737585067749,\n",
       " 374.1345109939575,\n",
       " 415.886549949646,\n",
       " 551.9377899169922,\n",
       " 712.4697360992432,\n",
       " 234.26904678344727]"
      ]
     },
     "execution_count": 42,
     "metadata": {},
     "output_type": "execute_result"
    }
   ],
   "source": [
    "sum_norms_large = [sum(item) for item in norm_large]\n",
    "sum_norms_large"
   ]
  },
  {
   "cell_type": "code",
   "execution_count": 66,
   "metadata": {},
   "outputs": [
    {
     "name": "stdout",
     "output_type": "stream",
     "text": [
      "Epoch 1/30\n",
      "60000/60000 [==============================] - 7s - loss: 2.1305 - acc: 0.1606     \n",
      "Epoch 2/30\n",
      "60000/60000 [==============================] - 5s - loss: 1.9647 - acc: 0.1958     \n",
      "Epoch 3/30\n",
      "60000/60000 [==============================] - 4s - loss: 1.9352 - acc: 0.1991     \n",
      "Epoch 4/30\n",
      "60000/60000 [==============================] - 4s - loss: 1.6949 - acc: 0.2841     \n",
      "Epoch 5/30\n",
      "60000/60000 [==============================] - 4s - loss: 1.1445 - acc: 0.5237     \n",
      "Epoch 6/30\n",
      "60000/60000 [==============================] - 4s - loss: 0.8661 - acc: 0.6869     \n",
      "Epoch 7/30\n",
      "60000/60000 [==============================] - 4s - loss: 0.7151 - acc: 0.7712     \n",
      "Epoch 8/30\n",
      "60000/60000 [==============================] - 4s - loss: 0.6051 - acc: 0.8420     \n",
      "Epoch 9/30\n",
      "60000/60000 [==============================] - 4s - loss: 0.5312 - acc: 0.8658     \n",
      "Epoch 10/30\n",
      "60000/60000 [==============================] - 4s - loss: 0.4910 - acc: 0.8762     \n",
      "Epoch 11/30\n",
      "60000/60000 [==============================] - 4s - loss: 0.4644 - acc: 0.8835     \n",
      "Epoch 12/30\n",
      "60000/60000 [==============================] - 4s - loss: 0.4490 - acc: 0.8887     - ETA: 1s - \n",
      "Epoch 13/30\n",
      "60000/60000 [==============================] - 4s - loss: 0.4289 - acc: 0.8943     \n",
      "Epoch 14/30\n",
      "60000/60000 [==============================] - 4s - loss: 0.4172 - acc: 0.8972     \n",
      "Epoch 15/30\n",
      "60000/60000 [==============================] - 4s - loss: 0.4032 - acc: 0.9024     \n",
      "Epoch 16/30\n",
      "60000/60000 [==============================] - 4s - loss: 0.3930 - acc: 0.9051     \n",
      "Epoch 17/30\n",
      "60000/60000 [==============================] - 4s - loss: 0.3841 - acc: 0.9079     \n",
      "Epoch 18/30\n",
      "60000/60000 [==============================] - 4s - loss: 0.3760 - acc: 0.9108     \n",
      "Epoch 19/30\n",
      "60000/60000 [==============================] - 4s - loss: 0.3668 - acc: 0.9135     \n",
      "Epoch 20/30\n",
      "60000/60000 [==============================] - 4s - loss: 0.3582 - acc: 0.9157     \n",
      "Epoch 21/30\n",
      "60000/60000 [==============================] - 4s - loss: 0.3514 - acc: 0.9179     \n",
      "Epoch 22/30\n",
      "60000/60000 [==============================] - 4s - loss: 0.3395 - acc: 0.9217     \n",
      "Epoch 23/30\n",
      "60000/60000 [==============================] - 4s - loss: 0.3389 - acc: 0.9207     \n",
      "Epoch 24/30\n",
      "60000/60000 [==============================] - 4s - loss: 0.3315 - acc: 0.9236     \n",
      "Epoch 25/30\n",
      "60000/60000 [==============================] - 4s - loss: 0.3269 - acc: 0.9245     \n",
      "Epoch 26/30\n",
      "60000/60000 [==============================] - 4s - loss: 0.3227 - acc: 0.9250     \n",
      "Epoch 27/30\n",
      "60000/60000 [==============================] - 4s - loss: 0.3180 - acc: 0.9271     \n",
      "Epoch 28/30\n",
      "60000/60000 [==============================] - 4s - loss: 0.3087 - acc: 0.9291     \n",
      "Epoch 29/30\n",
      "60000/60000 [==============================] - 5s - loss: 0.3060 - acc: 0.9315     \n",
      "Epoch 30/30\n",
      "60000/60000 [==============================] - 5s - loss: 0.3001 - acc: 0.9329     "
     ]
    },
    {
     "name": "stderr",
     "output_type": "stream",
     "text": [
      "[INFO 2019-06-19 15:05:28,455 cleverhans] Constructing new graph for attack FastGradientMethod\n"
     ]
    },
    {
     "name": "stdout",
     "output_type": "stream",
     "text": [
      "\n",
      " 9920/10000 [============================>.] - ETA: 0s[4.786222448730468, 0.1667]\n"
     ]
    }
   ],
   "source": [
    "norm_ten = check_L1(sess)"
   ]
  },
  {
   "cell_type": "code",
   "execution_count": 64,
   "metadata": {},
   "outputs": [
    {
     "data": {
      "text/plain": [
       "471.636323928833"
      ]
     },
     "execution_count": 64,
     "metadata": {},
     "output_type": "execute_result"
    }
   ],
   "source": [
    "sum(norm_ten)"
   ]
  },
  {
   "cell_type": "code",
   "execution_count": 62,
   "metadata": {},
   "outputs": [
    {
     "data": {
      "text/plain": [
       "[272.09714,\n",
       " 35.598724,\n",
       " 16.690395,\n",
       " 15.194175,\n",
       " 15.568832,\n",
       " 14.96835,\n",
       " 19.503426,\n",
       " 26.790894,\n",
       " 49.987755,\n",
       " 35.301754]"
      ]
     },
     "execution_count": 62,
     "metadata": {},
     "output_type": "execute_result"
    }
   ],
   "source": [
    "norm_large"
   ]
  },
  {
   "cell_type": "code",
   "execution_count": 47,
   "metadata": {},
   "outputs": [
    {
     "name": "stderr",
     "output_type": "stream",
     "text": [
      "[INFO 2019-06-19 14:00:21,355 cleverhans] Constructing new graph for attack FastGradientMethod\n"
     ]
    },
    {
     "name": "stdout",
     "output_type": "stream",
     "text": [
      " 8512/10000 [========================>.....] - ETA: 0s[0.7929370674490929, 0.8114]\n"
     ]
    },
    {
     "data": {
      "text/plain": [
       "<matplotlib.image.AxesImage at 0x1c59744ac8>"
      ]
     },
     "execution_count": 47,
     "metadata": {},
     "output_type": "execute_result"
    },
    {
     "data": {
      "image/png": "[encoded data removed]",
      "text/plain": [
       "<Figure size 432x288 with 1 Axes>"
      ]
     },
     "metadata": {
      "needs_background": "light"
     },
     "output_type": "display_data"
    }
   ],
   "source": [
    "x_test_adv_flat = adv_generate(sess, KerasModelWrapper(big_model), 0.2, x_test_flat)\n",
    "print(big_model.evaluate(x_test_adv_flat, y_test))\n",
    "test_image = x_test_adv_flat[0]\n",
    "two_d = test_image.reshape((28,28))\n",
    "plt.imshow(two_d, cmap = plt.cm.binary)"
   ]
  },
  {
   "cell_type": "code",
   "execution_count": 235,
   "metadata": {},
   "outputs": [
    {
     "name": "stderr",
     "output_type": "stream",
     "text": [
      "[INFO 2019-06-18 14:43:39,597 cleverhans] Constructing new graph for attack FastGradientMethod\n"
     ]
    },
    {
     "name": "stdout",
     "output_type": "stream",
     "text": [
      " 9728/10000 [============================>.] - ETA: 0s[6.337627924346924, 0.1153]\n"
     ]
    }
   ],
   "source": [
    "x_test_adv_flat = adv_generate(sess, KerasModelWrapper(big_model), 0.1, x_test_flat)\n",
    "print(big_model.evaluate(x_test_adv_flat, y_test))\n",
    "L = len(big_model.layers)\n",
    "layer_output = [big_model.layers[i].output for i in range(L-1)]\n",
    "activation_model = models.Model(inputs=big_model.input, outputs=layer_output)\n"
   ]
  },
  {
   "cell_type": "code",
   "execution_count": 236,
   "metadata": {},
   "outputs": [],
   "source": [
    "#Train 1 - 10 layers\n",
    "overall_adv, correct_adv, incorrect_adv = dist_split(x_test_flat, x_test_adv_flat, big_model, activation_model)"
   ]
  },
  {
   "cell_type": "code",
   "execution_count": 228,
   "metadata": {},
   "outputs": [
    {
     "data": {
      "text/plain": [
       "array([2.4210875, 1.5312514, 1.7560292, 2.130251 , 2.2515316, 2.1644576,\n",
       "       2.1015663, 2.1409478, 2.3008494, 2.653368 , 2.7827969],\n",
       "      dtype=float32)"
      ]
     },
     "execution_count": 228,
     "metadata": {},
     "output_type": "execute_result"
    }
   ],
   "source": [
    "# This is the one with 10 hidden layers\n",
    "incorrect_adv"
   ]
  },
  {
   "cell_type": "code",
   "execution_count": 234,
   "metadata": {},
   "outputs": [
    {
     "data": {
      "image/png": "[encoded data removed]",
      "text/plain": [
       "<Figure size 432x288 with 1 Axes>"
      ]
     },
     "metadata": {
      "needs_background": "light"
     },
     "output_type": "display_data"
    }
   ],
   "source": [
    "x = range(len(overall_adv))\n",
    "plt.scatter(x, overall_adv, label = 'overall adv')\n",
    "plt.scatter(x, incorrect_adv, label = 'incorrect adversarial')\n",
    "plt.scatter(x, correct_adv, label = 'correct adversarial')\n",
    "\n",
    "plt.legend(loc='upper right')\n",
    "plt.xlabel('Layer number')\n",
    "plt.ylabel('d(reg, adv)')\n",
    "plt.title('Distance for model w/ 10 hidden layers, eps = 0.35')\n",
    "plt.show()"
   ]
  },
  {
   "cell_type": "code",
   "execution_count": 237,
   "metadata": {},
   "outputs": [
    {
     "data": {
      "image/png": "[encoded data removed]",
      "text/plain": [
       "<Figure size 432x288 with 1 Axes>"
      ]
     },
     "metadata": {
      "needs_background": "light"
     },
     "output_type": "display_data"
    }
   ],
   "source": [
    "x = range(len(overall_adv))\n",
    "plt.scatter(x, overall_adv, label = 'overall adv')\n",
    "plt.scatter(x, incorrect_adv, label = 'incorrect adversarial')\n",
    "plt.scatter(x, correct_adv, label = 'correct adversarial')\n",
    "\n",
    "plt.legend(loc='upper right')\n",
    "plt.xlabel('Layer number')\n",
    "plt.ylabel('d(reg, adv)')\n",
    "plt.title('Distances for model with 4 hidden layers, eps = 0.1')\n",
    "plt.show()"
   ]
  },
  {
   "cell_type": "code",
   "execution_count": 238,
   "metadata": {},
   "outputs": [
    {
     "name": "stdout",
     "output_type": "stream",
     "text": [
      "[0.9879302  0.6285024  0.7057162  0.8606261  0.92166793]\n",
      "[1.7530615 1.5531993 2.1585233 2.919911  3.3160417]\n",
      "[1.6648408 1.4465818 1.9910123 2.6824741 3.0399735]\n"
     ]
    }
   ],
   "source": [
    "print(correct_adv)\n",
    "print(incorrect_adv)\n",
    "print(overall_adv)"
   ]
  },
  {
   "cell_type": "code",
   "execution_count": 110,
   "metadata": {},
   "outputs": [
    {
     "name": "stdout",
     "output_type": "stream",
     "text": [
      "(array([1.8983482e-01, 4.5866568e-02, 1.0599868e-02, 2.4605270e-03,\n",
      "       5.9164281e-04, 1.3207090e-04, 3.1182546e-05, 6.7690939e-06,\n",
      "       1.7821782e-06], dtype=float32), array([1.9430134e-01, 4.6853833e-02, 1.0766449e-02, 2.5322465e-03,\n",
      "       6.1732158e-04, 1.3911516e-04, 3.3157034e-05, 7.2132229e-06,\n",
      "       1.9057740e-06], dtype=float32), array([1.8930571e-01, 4.5749702e-02, 1.0580133e-02, 2.4520296e-03,\n",
      "       5.8860087e-04, 1.3123623e-04, 3.0948686e-05, 6.7164951e-06,\n",
      "       1.7675396e-06], dtype=float32))\n"
     ]
    }
   ],
   "source": [
    "#Train 10 layers on adversarial examples from 4 layers\n",
    "#I ran this cell accidentally but it is interesting to see that the distances are less in this case!\n",
    "#Implying that higher distance definitely has something to do with misclassification.\n",
    "print(dist_split(x_test_flat, x_test_adv_flat, model, activation_model))"
   ]
  },
  {
   "cell_type": "code",
   "execution_count": 112,
   "metadata": {},
   "outputs": [
    {
     "name": "stdout",
     "output_type": "stream",
     "text": [
      "(array([1.7938548, 1.4845043, 1.9475174, 2.5463245, 2.8488634],\n",
      "      dtype=float32), array([1.2457126 , 0.7532576 , 0.8118865 , 0.8921975 , 0.97761166],\n",
      "      dtype=float32), array([1.8587811, 1.5711156, 2.082023 , 2.742242 , 3.0705001],\n",
      "      dtype=float32))\n"
     ]
    }
   ],
   "source": [
    "#Train 4 layers\n",
    "print(dist_split(x_test_flat, x_test_adv_flat, model, activation_model))"
   ]
  },
  {
   "cell_type": "code",
   "execution_count": 154,
   "metadata": {},
   "outputs": [
    {
     "name": "stdout",
     "output_type": "stream",
     "text": [
      "(array([0.55775636, 0.32986605, 0.36812672, 0.4669187 , 0.54217166],\n",
      "      dtype=float32), array([0.5184117 , 0.28447244, 0.2815359 , 0.31469893, 0.33107078],\n",
      "      dtype=float32), array([0.761134  , 0.5645054 , 0.81571805, 1.2537409 , 1.6333604 ],\n",
      "      dtype=float32))\n"
     ]
    }
   ],
   "source": [
    "print(dist_split(x_test_flat, x_test_blur_flat, model, activation_model))"
   ]
  },
  {
   "cell_type": "code",
   "execution_count": 155,
   "metadata": {},
   "outputs": [
    {
     "name": "stdout",
     "output_type": "stream",
     "text": [
      "(array([1.3607831, 0.9676547, 1.2481122, 1.6766232, 1.9285892],\n",
      "      dtype=float32), array([0.97070533, 0.58136886, 0.64997876, 0.7937405 , 0.8543499 ],\n",
      "      dtype=float32), array([1.5935359, 1.1981431, 1.6050072, 2.2034268, 2.5695636],\n",
      "      dtype=float32))\n"
     ]
    }
   ],
   "source": [
    "print(dist_split(x_test_flat, x_test_bw_flat, model, activation_model))"
   ]
  },
  {
   "cell_type": "markdown",
   "metadata": {},
   "source": [
    "### Interpretations"
   ]
  },
  {
   "cell_type": "markdown",
   "metadata": {},
   "source": [
    "- So the reducing from first to second layer seems to consistently hold independent of the number of hidden layers or the random seed used for training.\n",
    "- The distance from transferred adversarial examples is low - making for an interesting control!\n",
    "- In the transferrable adversarial example case - The \"cascading effect\" relationship of increasing distances does not hold!"
   ]
  },
  {
   "cell_type": "markdown",
   "metadata": {},
   "source": [
    "### Questions"
   ]
  },
  {
   "cell_type": "markdown",
   "metadata": {},
   "source": [
    "- The decreasing and increasing phenomenon is very interesting from the point of view of better decision boundary versus cascading effect. I'm not sure why it is happening.\n",
    "- Observe that in the adversarial correct example case, it reduces for multiple layers before it increases. And even at the last layer, it is much less than the first layer."
   ]
  },
  {
   "cell_type": "markdown",
   "metadata": {},
   "source": [
    "# Experiment C"
   ]
  },
  {
   "cell_type": "code",
   "execution_count": 18,
   "metadata": {},
   "outputs": [],
   "source": [
    "sess = tf.keras.backend.get_session()\n",
    "keras.backend.set_session(sess)"
   ]
  },
  {
   "cell_type": "code",
   "execution_count": 20,
   "metadata": {},
   "outputs": [
    {
     "name": "stdout",
     "output_type": "stream",
     "text": [
      "[2, 10]\n",
      "2\n",
      "_________________________________________________________________\n",
      "Layer (type)                 Output Shape              Param #   \n",
      "=================================================================\n",
      "first (Dense)                (None, 32)                25120     \n",
      "_________________________________________________________________\n",
      "hidden_0 (Dense)             (None, 32)                1056      \n",
      "_________________________________________________________________\n",
      "hidden_1 (Dense)             (None, 32)                1056      \n",
      "_________________________________________________________________\n",
      "last (Dense)                 (None, 10)                330       \n",
      "=================================================================\n",
      "Total params: 27,562\n",
      "Trainable params: 27,562\n",
      "Non-trainable params: 0\n",
      "_________________________________________________________________\n",
      "None\n",
      "Epoch 1/100\n",
      "60000/60000 [==============================] - 4s 59us/step - loss: 1.0315 - acc: 0.6898\n",
      "Epoch 2/100\n",
      "60000/60000 [==============================] - 3s 57us/step - loss: 0.3421 - acc: 0.9112\n",
      "Epoch 3/100\n",
      "60000/60000 [==============================] - 3s 42us/step - loss: 0.2283 - acc: 0.9364\n",
      "Epoch 4/100\n",
      "60000/60000 [==============================] - 2s 40us/step - loss: 0.1788 - acc: 0.9490\n",
      "Epoch 5/100\n",
      "60000/60000 [==============================] - 2s 41us/step - loss: 0.1507 - acc: 0.9562\n",
      "Epoch 6/100\n",
      "60000/60000 [==============================] - 2s 41us/step - loss: 0.1310 - acc: 0.9622\n",
      "Epoch 7/100\n",
      "60000/60000 [==============================] - 3s 44us/step - loss: 0.1164 - acc: 0.9655\n",
      "Epoch 8/100\n",
      "60000/60000 [==============================] - 3s 42us/step - loss: 0.1064 - acc: 0.9687\n",
      "Epoch 9/100\n",
      "60000/60000 [==============================] - 2s 42us/step - loss: 0.0968 - acc: 0.9711\n",
      "Epoch 10/100\n",
      "60000/60000 [==============================] - 2s 41us/step - loss: 0.0896 - acc: 0.9735\n",
      "Epoch 11/100\n",
      "60000/60000 [==============================] - 3s 42us/step - loss: 0.0835 - acc: 0.9755\n",
      "Epoch 12/100\n",
      "60000/60000 [==============================] - 2s 41us/step - loss: 0.0774 - acc: 0.9767\n",
      "Epoch 13/100\n",
      "60000/60000 [==============================] - 2s 40us/step - loss: 0.0732 - acc: 0.9780\n",
      "Epoch 14/100\n",
      "60000/60000 [==============================] - 2s 41us/step - loss: 0.0679 - acc: 0.9795\n",
      "Epoch 15/100\n",
      "60000/60000 [==============================] - 2s 41us/step - loss: 0.0648 - acc: 0.9805\n",
      "Epoch 16/100\n",
      "60000/60000 [==============================] - 2s 41us/step - loss: 0.0603 - acc: 0.9822\n",
      "Epoch 17/100\n",
      "60000/60000 [==============================] - 3s 50us/step - loss: 0.0569 - acc: 0.9829\n",
      "Epoch 18/100\n",
      "60000/60000 [==============================] - 3s 45us/step - loss: 0.0544 - acc: 0.9838\n",
      "Epoch 19/100\n",
      "60000/60000 [==============================] - 2s 41us/step - loss: 0.0513 - acc: 0.9848\n",
      "Epoch 20/100\n",
      "60000/60000 [==============================] - 3s 43us/step - loss: 0.0477 - acc: 0.9862\n",
      "Epoch 21/100\n",
      "60000/60000 [==============================] - 2s 41us/step - loss: 0.0458 - acc: 0.9865\n",
      "Epoch 22/100\n",
      "60000/60000 [==============================] - 3s 42us/step - loss: 0.0439 - acc: 0.9867\n",
      "Epoch 23/100\n",
      "60000/60000 [==============================] - 3s 42us/step - loss: 0.0412 - acc: 0.9876\n",
      "Epoch 24/100\n",
      "60000/60000 [==============================] - 3s 57us/step - loss: 0.0380 - acc: 0.9889\n",
      "Epoch 25/100\n",
      "60000/60000 [==============================] - 3s 46us/step - loss: 0.0377 - acc: 0.9886\n",
      "Epoch 26/100\n",
      "60000/60000 [==============================] - 3s 48us/step - loss: 0.0343 - acc: 0.9900\n",
      "Epoch 27/100\n",
      "60000/60000 [==============================] - 3s 45us/step - loss: 0.0337 - acc: 0.9901\n",
      "Epoch 28/100\n",
      "60000/60000 [==============================] - 2s 42us/step - loss: 0.0323 - acc: 0.9904\n",
      "Epoch 29/100\n",
      "60000/60000 [==============================] - 2s 41us/step - loss: 0.0288 - acc: 0.9917\n",
      "Epoch 30/100\n",
      "60000/60000 [==============================] - 3s 42us/step - loss: 0.0281 - acc: 0.9916\n",
      "Epoch 31/100\n",
      "60000/60000 [==============================] - 3s 42us/step - loss: 0.0275 - acc: 0.9919\n",
      "Epoch 32/100\n",
      "60000/60000 [==============================] - 2s 41us/step - loss: 0.0261 - acc: 0.9920\n",
      "Epoch 33/100\n",
      "60000/60000 [==============================] - 3s 42us/step - loss: 0.0241 - acc: 0.9929\n",
      "Epoch 34/100\n",
      "60000/60000 [==============================] - 2s 41us/step - loss: 0.0228 - acc: 0.9933\n",
      "Epoch 35/100\n",
      "60000/60000 [==============================] - 2s 41us/step - loss: 0.0223 - acc: 0.9933\n",
      "Epoch 36/100\n",
      "60000/60000 [==============================] - 3s 43us/step - loss: 0.0206 - acc: 0.9943\n",
      "Epoch 37/100\n",
      "60000/60000 [==============================] - 3s 43us/step - loss: 0.0210 - acc: 0.9935\n",
      "Epoch 38/100\n",
      "60000/60000 [==============================] - 3s 42us/step - loss: 0.0182 - acc: 0.9947\n",
      "Epoch 39/100\n",
      "60000/60000 [==============================] - 2s 41us/step - loss: 0.0185 - acc: 0.9944\n",
      "Epoch 40/100\n",
      "60000/60000 [==============================] - 4s 59us/step - loss: 0.0170 - acc: 0.9951\n",
      "10000/10000 [==============================] - 0s 28us/step\n"
     ]
    },
    {
     "ename": "NameError",
     "evalue": "name 'adv_generate' is not defined",
     "output_type": "error",
     "traceback": [
      "\u001b[0;31m---------------------------------------------------------------------------\u001b[0m",
      "\u001b[0;31mNameError\u001b[0m                                 Traceback (most recent call last)",
      "\u001b[0;32m<ipython-input-20-7a6ce28d9321>\u001b[0m in \u001b[0;36m<module>\u001b[0;34m\u001b[0m\n\u001b[1;32m     22\u001b[0m     \u001b[0mregular_metrics\u001b[0m\u001b[0;34m.\u001b[0m\u001b[0mappend\u001b[0m\u001b[0;34m(\u001b[0m\u001b[0mmodel\u001b[0m\u001b[0;34m.\u001b[0m\u001b[0mevaluate\u001b[0m\u001b[0;34m(\u001b[0m\u001b[0mx_test_flat\u001b[0m\u001b[0;34m,\u001b[0m \u001b[0my_test\u001b[0m\u001b[0;34m)\u001b[0m\u001b[0;34m)\u001b[0m\u001b[0;34m\u001b[0m\u001b[0;34m\u001b[0m\u001b[0m\n\u001b[1;32m     23\u001b[0m     \u001b[0;31m#blur_metrics.append(model.evaluate(x_test_blur_flat, y_test))\u001b[0m\u001b[0;34m\u001b[0m\u001b[0;34m\u001b[0m\u001b[0;34m\u001b[0m\u001b[0m\n\u001b[0;32m---> 24\u001b[0;31m     \u001b[0mx_test_adv_flat\u001b[0m \u001b[0;34m=\u001b[0m \u001b[0madv_generate\u001b[0m\u001b[0;34m(\u001b[0m\u001b[0msess\u001b[0m\u001b[0;34m,\u001b[0m \u001b[0mKerasModelWrapper\u001b[0m\u001b[0;34m(\u001b[0m\u001b[0mmodel\u001b[0m\u001b[0;34m)\u001b[0m\u001b[0;34m,\u001b[0m \u001b[0;36m0.05\u001b[0m\u001b[0;34m,\u001b[0m \u001b[0mx_test_flat\u001b[0m\u001b[0;34m)\u001b[0m\u001b[0;34m\u001b[0m\u001b[0;34m\u001b[0m\u001b[0m\n\u001b[0m\u001b[1;32m     25\u001b[0m     \u001b[0madv_metrics\u001b[0m\u001b[0;34m.\u001b[0m\u001b[0mappend\u001b[0m\u001b[0;34m(\u001b[0m\u001b[0mmodel\u001b[0m\u001b[0;34m.\u001b[0m\u001b[0mevaluate\u001b[0m\u001b[0;34m(\u001b[0m\u001b[0mx_test_adv_flat\u001b[0m\u001b[0;34m,\u001b[0m \u001b[0my_test\u001b[0m\u001b[0;34m)\u001b[0m\u001b[0;34m)\u001b[0m\u001b[0;34m\u001b[0m\u001b[0;34m\u001b[0m\u001b[0m\n\u001b[1;32m     26\u001b[0m \u001b[0;34m\u001b[0m\u001b[0m\n",
      "\u001b[0;31mNameError\u001b[0m: name 'adv_generate' is not defined"
     ]
    }
   ],
   "source": [
    "from keras.callbacks import EarlyStopping\n",
    "\n",
    "#num_hidden_range = range(2, 11, 2)\n",
    "num_hidden_range = [2,10]\n",
    "print(num_hidden_range)\n",
    "regular_metrics = []\n",
    "#blur_metrics = []\n",
    "adv_metrics = []\n",
    "models_saved = []\n",
    "norms_list = []\n",
    "early_stop = keras.callbacks.EarlyStopping(monitor='acc', min_delta=0.001, patience=4)\n",
    "\n",
    "\n",
    "for num_hidden in num_hidden_range:\n",
    "    print(num_hidden)\n",
    "    model = create_fully_connected(input_shape = input_shape, num_classes = num_classes, num_hidden = num_hidden, reg = 0)\n",
    "    print(model.summary())\n",
    "    model.compile(optimizer=\"adam\", loss='categorical_crossentropy', metrics=['accuracy'])    \n",
    "    sess.run(tf.global_variables_initializer()) \n",
    "    model.fit(x_train_flat, y_train, epochs = 100, callbacks = [early_stop])\n",
    "    models_saved.append(model)\n",
    "    regular_metrics.append(model.evaluate(x_test_flat, y_test))\n",
    "    #blur_metrics.append(model.evaluate(x_test_blur_flat, y_test))\n",
    "    x_test_adv_flat = adv_generate(sess, KerasModelWrapper(model), 0.05, x_test_flat)\n",
    "    adv_metrics.append(model.evaluate(x_test_adv_flat, y_test))\n",
    "    \n",
    "    model_norms = []\n",
    "    for layer in model.layers:\n",
    "        weights = layer.get_weights()\n",
    "        norm = sum_entries_norm(weights[0])\n",
    "        model_norms.append(norm)\n",
    "        \n",
    "    norms_list.append(model_norms)\n",
    "        "
   ]
  },
  {
   "cell_type": "code",
   "execution_count": 186,
   "metadata": {},
   "outputs": [
    {
     "data": {
      "text/plain": [
       "[[1.5882078989207744, 0.7636],\n",
       " [1.5769850840568542, 0.7259],\n",
       " [1.2328743010669947, 0.7581],\n",
       " [1.2112499143600464, 0.7725],\n",
       " [0.730020228600502, 0.8253]]"
      ]
     },
     "execution_count": 186,
     "metadata": {},
     "output_type": "execute_result"
    }
   ],
   "source": [
    "blur_metrics"
   ]
  },
  {
   "cell_type": "code",
   "execution_count": 188,
   "metadata": {},
   "outputs": [
    {
     "data": {
      "text/plain": [
       "[[0.207671465171015, 0.9618],\n",
       " [0.23202319830581547, 0.9501],\n",
       " [0.22344508992284537, 0.9502],\n",
       " [0.22737637112140655, 0.9515],\n",
       " [0.3534044238209724, 0.9196]]"
      ]
     },
     "execution_count": 188,
     "metadata": {},
     "output_type": "execute_result"
    }
   ],
   "source": [
    "regular_metrics"
   ]
  },
  {
   "cell_type": "code",
   "execution_count": 189,
   "metadata": {},
   "outputs": [
    {
     "data": {
      "text/plain": [
       "[[8.416653104400634, 0.2148],\n",
       " [5.573493826293945, 0.2914],\n",
       " [4.364940982437134, 0.2706],\n",
       " [4.268519073867798, 0.3421],\n",
       " [2.8397580165863037, 0.3978]]"
      ]
     },
     "execution_count": 189,
     "metadata": {},
     "output_type": "execute_result"
    }
   ],
   "source": [
    "adv_metrics"
   ]
  },
  {
   "cell_type": "code",
   "execution_count": 187,
   "metadata": {},
   "outputs": [
    {
     "data": {
      "text/plain": [
       "[[1.5882078989207744, 0.7636],\n",
       " [1.5769850840568542, 0.7259],\n",
       " [1.2328743010669947, 0.7581],\n",
       " [1.2112499143600464, 0.7725],\n",
       " [0.730020228600502, 0.8253]]"
      ]
     },
     "execution_count": 187,
     "metadata": {},
     "output_type": "execute_result"
    }
   ],
   "source": [
    "blur_metrics"
   ]
  },
  {
   "cell_type": "code",
   "execution_count": 126,
   "metadata": {},
   "outputs": [
    {
     "name": "stdout",
     "output_type": "stream",
     "text": [
      "8\n",
      "_________________________________________________________________\n",
      "Layer (type)                 Output Shape              Param #   \n",
      "=================================================================\n",
      "first (Dense)                (None, 32)                25120     \n",
      "_________________________________________________________________\n",
      "hidden_0 (Dense)             (None, 32)                1056      \n",
      "_________________________________________________________________\n",
      "hidden_1 (Dense)             (None, 32)                1056      \n",
      "_________________________________________________________________\n",
      "hidden_2 (Dense)             (None, 32)                1056      \n",
      "_________________________________________________________________\n",
      "hidden_3 (Dense)             (None, 32)                1056      \n",
      "_________________________________________________________________\n",
      "hidden_4 (Dense)             (None, 32)                1056      \n",
      "_________________________________________________________________\n",
      "hidden_5 (Dense)             (None, 32)                1056      \n",
      "_________________________________________________________________\n",
      "hidden_6 (Dense)             (None, 32)                1056      \n",
      "_________________________________________________________________\n",
      "hidden_7 (Dense)             (None, 32)                1056      \n",
      "_________________________________________________________________\n",
      "last (Dense)                 (None, 10)                330       \n",
      "=================================================================\n",
      "Total params: 33,898\n",
      "Trainable params: 33,898\n",
      "Non-trainable params: 0\n",
      "_________________________________________________________________\n",
      "None\n",
      " 9696/10000 [============================>.] - ETA: 0s"
     ]
    },
    {
     "name": "stderr",
     "output_type": "stream",
     "text": [
      "[INFO 2019-06-17 22:50:49,736 cleverhans] Constructing new graph for attack FastGradientMethod\n"
     ]
    },
    {
     "name": "stdout",
     "output_type": "stream",
     "text": [
      " 8544/10000 [========================>.....] - ETA: 0s10\n",
      "_________________________________________________________________\n",
      "Layer (type)                 Output Shape              Param #   \n",
      "=================================================================\n",
      "first (Dense)                (None, 32)                25120     \n",
      "_________________________________________________________________\n",
      "hidden_0 (Dense)             (None, 32)                1056      \n",
      "_________________________________________________________________\n",
      "hidden_1 (Dense)             (None, 32)                1056      \n",
      "_________________________________________________________________\n",
      "hidden_2 (Dense)             (None, 32)                1056      \n",
      "_________________________________________________________________\n",
      "hidden_3 (Dense)             (None, 32)                1056      \n",
      "_________________________________________________________________\n",
      "hidden_4 (Dense)             (None, 32)                1056      \n",
      "_________________________________________________________________\n",
      "hidden_5 (Dense)             (None, 32)                1056      \n",
      "_________________________________________________________________\n",
      "hidden_6 (Dense)             (None, 32)                1056      \n",
      "_________________________________________________________________\n",
      "hidden_7 (Dense)             (None, 32)                1056      \n",
      "_________________________________________________________________\n",
      "hidden_8 (Dense)             (None, 32)                1056      \n",
      "_________________________________________________________________\n",
      "hidden_9 (Dense)             (None, 32)                1056      \n",
      "_________________________________________________________________\n",
      "last (Dense)                 (None, 10)                330       \n",
      "=================================================================\n",
      "Total params: 36,010\n",
      "Trainable params: 36,010\n",
      "Non-trainable params: 0\n",
      "_________________________________________________________________\n",
      "None\n",
      " 9888/10000 [============================>.] - ETA: 0s"
     ]
    },
    {
     "name": "stderr",
     "output_type": "stream",
     "text": [
      "[INFO 2019-06-17 22:50:54,989 cleverhans] Constructing new graph for attack FastGradientMethod\n"
     ]
    },
    {
     "name": "stdout",
     "output_type": "stream",
     "text": [
      " 9248/10000 [==========================>...] - ETA: 0s"
     ]
    }
   ],
   "source": []
  },
  {
   "cell_type": "markdown",
   "metadata": {},
   "source": [
    "## Retrain new model"
   ]
  },
  {
   "cell_type": "markdown",
   "metadata": {},
   "source": [
    "Hmm... Maybe this is why people have not previously studied the effect of depth on adversarial robustness.. Because the trends are hard to actually establish. \n",
    "\n",
    "But the cascading effect certainly seems to hold true. Understanding the cascading versus the decision boundary better would be really interesting"
   ]
  },
  {
   "cell_type": "markdown",
   "metadata": {},
   "source": [
    "# Experiment B"
   ]
  },
  {
   "cell_type": "markdown",
   "metadata": {},
   "source": [
    "## Load weights from the previous model "
   ]
  },
  {
   "cell_type": "code",
   "execution_count": 96,
   "metadata": {},
   "outputs": [
    {
     "data": {
      "text/plain": [
       "[[5.262954145812988, 0.2056],\n",
       " [6.705777871704101, 0.163],\n",
       " [6.306135898590088, 0.1423],\n",
       " [3.6062851570129393, 0.3136],\n",
       " [3.116396446990967, 0.3049]]"
      ]
     },
     "execution_count": 96,
     "metadata": {},
     "output_type": "execute_result"
    }
   ],
   "source": [
    "adv_metrics"
   ]
  },
  {
   "cell_type": "code",
   "execution_count": 165,
   "metadata": {},
   "outputs": [],
   "source": [
    "def adv_generate_intermed_layer_load_weights(session, big_model, k, x_train, y_train):\n",
    "    print(big_model.summary())\n",
    "    layer_output = big_model.layers[k-1].output\n",
    "    activation_model = models.Model(inputs= big_model.input, outputs=layer_output)\n",
    "    x_train_lifted = activation_model.predict(x_train)\n",
    "    x_test_lifted = activation_model.predict(x_test_flat)\n",
    "    print('Found new features')\n",
    "    \n",
    "    new_input_shape = (32,)\n",
    "    model_k = create_fully_connected_k_onwards(input_shape = input_shape, new_input_shape = new_input_shape, k = k, num_classes = num_classes, num_hidden = 4, reg = 0)\n",
    "    print('Created new model')\n",
    "    \n",
    "    print(model_k.summary())\n",
    "    model_k.compile(optimizer=\"adam\", loss='categorical_crossentropy', metrics=['accuracy'])    \n",
    "    model_k.load_weights('big_model_weights.h5', by_name=True)\n",
    "    print(model_k.evaluate(x_test_lifted, y_test))\n",
    "    \n",
    "    \n",
    "    eps_range = np.arange(0.05, 0.35, 0.05)\n",
    "    accuracies = []\n",
    "    for eps in eps_range:\n",
    "        x_test_lifted_adv = adv_generate(session, KerasModelWrapper(model_k), eps, x_test_lifted)\n",
    "        accuracies.append(model_k.evaluate(x_test_lifted_adv, y_test))\n",
    "    return model_k, accuracies"
   ]
  },
  {
   "cell_type": "code",
   "execution_count": 166,
   "metadata": {},
   "outputs": [
    {
     "name": "stdout",
     "output_type": "stream",
     "text": [
      "_________________________________________________________________\n",
      "Layer (type)                 Output Shape              Param #   \n",
      "=================================================================\n",
      "first (Dense)                (None, 32)                25120     \n",
      "_________________________________________________________________\n",
      "hidden_0 (Dense)             (None, 32)                1056      \n",
      "_________________________________________________________________\n",
      "hidden_1 (Dense)             (None, 32)                1056      \n",
      "_________________________________________________________________\n",
      "hidden_2 (Dense)             (None, 32)                1056      \n",
      "_________________________________________________________________\n",
      "hidden_3 (Dense)             (None, 32)                1056      \n",
      "_________________________________________________________________\n",
      "last (Dense)                 (None, 10)                330       \n",
      "=================================================================\n",
      "Total params: 29,674\n",
      "Trainable params: 29,674\n",
      "Non-trainable params: 0\n",
      "_________________________________________________________________\n",
      "None\n",
      "Found new features\n",
      "Created new model\n",
      "_________________________________________________________________\n",
      "Layer (type)                 Output Shape              Param #   \n",
      "=================================================================\n",
      "hidden_2 (Dense)             (None, 32)                1056      \n",
      "_________________________________________________________________\n",
      "hidden_3 (Dense)             (None, 32)                1056      \n",
      "_________________________________________________________________\n",
      "last (Dense)                 (None, 10)                330       \n",
      "=================================================================\n",
      "Total params: 2,442\n",
      "Trainable params: 2,442\n",
      "Non-trainable params: 0\n",
      "_________________________________________________________________\n",
      "None\n",
      " 9984/10000 [============================>.] - ETA: 0s"
     ]
    },
    {
     "name": "stderr",
     "output_type": "stream",
     "text": [
      "[INFO 2019-06-17 23:17:26,877 cleverhans] Constructing new graph for attack FastGradientMethod\n"
     ]
    },
    {
     "name": "stdout",
     "output_type": "stream",
     "text": [
      "[0.17925939524397255, 0.9564]\n",
      " 8992/10000 [=========================>....] - ETA: 0s"
     ]
    },
    {
     "name": "stderr",
     "output_type": "stream",
     "text": [
      "[INFO 2019-06-17 23:17:27,941 cleverhans] Constructing new graph for attack FastGradientMethod\n"
     ]
    },
    {
     "name": "stdout",
     "output_type": "stream",
     "text": [
      " 8992/10000 [=========================>....] - ETA: 0s"
     ]
    },
    {
     "name": "stderr",
     "output_type": "stream",
     "text": [
      "[INFO 2019-06-17 23:17:28,984 cleverhans] Constructing new graph for attack FastGradientMethod\n"
     ]
    },
    {
     "name": "stdout",
     "output_type": "stream",
     "text": [
      " 9792/10000 [============================>.] - ETA: 0s"
     ]
    },
    {
     "name": "stderr",
     "output_type": "stream",
     "text": [
      "[INFO 2019-06-17 23:17:30,112 cleverhans] Constructing new graph for attack FastGradientMethod\n"
     ]
    },
    {
     "name": "stdout",
     "output_type": "stream",
     "text": [
      " 8416/10000 [========================>.....] - ETA: 0s"
     ]
    },
    {
     "name": "stderr",
     "output_type": "stream",
     "text": [
      "[INFO 2019-06-17 23:17:31,242 cleverhans] Constructing new graph for attack FastGradientMethod\n"
     ]
    },
    {
     "name": "stdout",
     "output_type": "stream",
     "text": [
      " 8544/10000 [========================>.....] - ETA: 0s"
     ]
    },
    {
     "name": "stderr",
     "output_type": "stream",
     "text": [
      "[INFO 2019-06-17 23:17:32,310 cleverhans] Constructing new graph for attack FastGradientMethod\n"
     ]
    },
    {
     "name": "stdout",
     "output_type": "stream",
     "text": [
      " 9824/10000 [============================>.] - ETA: 0s"
     ]
    }
   ],
   "source": [
    "model_3_accuracies = adv_generate_intermed_layer_load_weights(sess, big_model, 3, x_train_flat, y_train)"
   ]
  },
  {
   "cell_type": "code",
   "execution_count": 170,
   "metadata": {},
   "outputs": [
    {
     "name": "stdout",
     "output_type": "stream",
     "text": [
      "_________________________________________________________________\n",
      "Layer (type)                 Output Shape              Param #   \n",
      "=================================================================\n",
      "first (Dense)                (None, 32)                25120     \n",
      "_________________________________________________________________\n",
      "hidden_0 (Dense)             (None, 32)                1056      \n",
      "_________________________________________________________________\n",
      "hidden_1 (Dense)             (None, 32)                1056      \n",
      "_________________________________________________________________\n",
      "hidden_2 (Dense)             (None, 32)                1056      \n",
      "_________________________________________________________________\n",
      "hidden_3 (Dense)             (None, 32)                1056      \n",
      "_________________________________________________________________\n",
      "last (Dense)                 (None, 10)                330       \n",
      "=================================================================\n",
      "Total params: 29,674\n",
      "Trainable params: 29,674\n",
      "Non-trainable params: 0\n",
      "_________________________________________________________________\n",
      "None\n",
      "Found new features\n",
      "Created new model\n",
      "_________________________________________________________________\n",
      "Layer (type)                 Output Shape              Param #   \n",
      "=================================================================\n",
      "hidden_1 (Dense)             (None, 32)                1056      \n",
      "_________________________________________________________________\n",
      "hidden_2 (Dense)             (None, 32)                1056      \n",
      "_________________________________________________________________\n",
      "hidden_3 (Dense)             (None, 32)                1056      \n",
      "_________________________________________________________________\n",
      "last (Dense)                 (None, 10)                330       \n",
      "=================================================================\n",
      "Total params: 3,498\n",
      "Trainable params: 3,498\n",
      "Non-trainable params: 0\n",
      "_________________________________________________________________\n",
      "None\n",
      " 8896/10000 [=========================>....] - ETA: 0s"
     ]
    },
    {
     "name": "stderr",
     "output_type": "stream",
     "text": [
      "[INFO 2019-06-17 23:21:31,405 cleverhans] Constructing new graph for attack FastGradientMethod\n"
     ]
    },
    {
     "name": "stdout",
     "output_type": "stream",
     "text": [
      "[0.17925939524397255, 0.9564]\n",
      " 8288/10000 [=======================>......] - ETA: 0s"
     ]
    },
    {
     "name": "stderr",
     "output_type": "stream",
     "text": [
      "[INFO 2019-06-17 23:21:32,609 cleverhans] Constructing new graph for attack FastGradientMethod\n"
     ]
    },
    {
     "name": "stdout",
     "output_type": "stream",
     "text": [
      " 9920/10000 [============================>.] - ETA: 0s"
     ]
    },
    {
     "name": "stderr",
     "output_type": "stream",
     "text": [
      "[INFO 2019-06-17 23:21:33,800 cleverhans] Constructing new graph for attack FastGradientMethod\n"
     ]
    },
    {
     "name": "stdout",
     "output_type": "stream",
     "text": [
      " 9568/10000 [===========================>..] - ETA: 0s"
     ]
    },
    {
     "name": "stderr",
     "output_type": "stream",
     "text": [
      "[INFO 2019-06-17 23:21:35,117 cleverhans] Constructing new graph for attack FastGradientMethod\n"
     ]
    },
    {
     "name": "stdout",
     "output_type": "stream",
     "text": [
      " 9696/10000 [============================>.] - ETA: 0s"
     ]
    },
    {
     "name": "stderr",
     "output_type": "stream",
     "text": [
      "[INFO 2019-06-17 23:21:36,386 cleverhans] Constructing new graph for attack FastGradientMethod\n"
     ]
    },
    {
     "name": "stdout",
     "output_type": "stream",
     "text": [
      " 9184/10000 [==========================>...] - ETA: 0s"
     ]
    },
    {
     "name": "stderr",
     "output_type": "stream",
     "text": [
      "[INFO 2019-06-17 23:21:37,857 cleverhans] Constructing new graph for attack FastGradientMethod\n"
     ]
    },
    {
     "name": "stdout",
     "output_type": "stream",
     "text": [
      " 8672/10000 [=========================>....] - ETA: 0s_________________________________________________________________\n",
      "Layer (type)                 Output Shape              Param #   \n",
      "=================================================================\n",
      "first (Dense)                (None, 32)                25120     \n",
      "_________________________________________________________________\n",
      "hidden_0 (Dense)             (None, 32)                1056      \n",
      "_________________________________________________________________\n",
      "hidden_1 (Dense)             (None, 32)                1056      \n",
      "_________________________________________________________________\n",
      "hidden_2 (Dense)             (None, 32)                1056      \n",
      "_________________________________________________________________\n",
      "hidden_3 (Dense)             (None, 32)                1056      \n",
      "_________________________________________________________________\n",
      "last (Dense)                 (None, 10)                330       \n",
      "=================================================================\n",
      "Total params: 29,674\n",
      "Trainable params: 29,674\n",
      "Non-trainable params: 0\n",
      "_________________________________________________________________\n",
      "None\n",
      "Found new features\n",
      "Created new model\n",
      "_________________________________________________________________\n",
      "Layer (type)                 Output Shape              Param #   \n",
      "=================================================================\n",
      "hidden_0 (Dense)             (None, 32)                1056      \n",
      "_________________________________________________________________\n",
      "hidden_1 (Dense)             (None, 32)                1056      \n",
      "_________________________________________________________________\n",
      "hidden_2 (Dense)             (None, 32)                1056      \n",
      "_________________________________________________________________\n",
      "hidden_3 (Dense)             (None, 32)                1056      \n",
      "_________________________________________________________________\n",
      "last (Dense)                 (None, 10)                330       \n",
      "=================================================================\n",
      "Total params: 4,554\n",
      "Trainable params: 4,554\n",
      "Non-trainable params: 0\n",
      "_________________________________________________________________\n",
      "None\n",
      " 9664/10000 [===========================>..] - ETA: 0s"
     ]
    },
    {
     "name": "stderr",
     "output_type": "stream",
     "text": [
      "[INFO 2019-06-17 23:21:44,627 cleverhans] Constructing new graph for attack FastGradientMethod\n"
     ]
    },
    {
     "name": "stdout",
     "output_type": "stream",
     "text": [
      "[0.17925939524397255, 0.9564]\n",
      " 9408/10000 [===========================>..] - ETA: 0s"
     ]
    },
    {
     "name": "stderr",
     "output_type": "stream",
     "text": [
      "[INFO 2019-06-17 23:21:46,017 cleverhans] Constructing new graph for attack FastGradientMethod\n"
     ]
    },
    {
     "name": "stdout",
     "output_type": "stream",
     "text": [
      " 8736/10000 [=========================>....] - ETA: 0s"
     ]
    },
    {
     "name": "stderr",
     "output_type": "stream",
     "text": [
      "[INFO 2019-06-17 23:21:47,450 cleverhans] Constructing new graph for attack FastGradientMethod\n"
     ]
    },
    {
     "name": "stdout",
     "output_type": "stream",
     "text": [
      " 9856/10000 [============================>.] - ETA: 0s"
     ]
    },
    {
     "name": "stderr",
     "output_type": "stream",
     "text": [
      "[INFO 2019-06-17 23:21:48,892 cleverhans] Constructing new graph for attack FastGradientMethod\n"
     ]
    },
    {
     "name": "stdout",
     "output_type": "stream",
     "text": [
      " 9728/10000 [============================>.] - ETA: 0s"
     ]
    },
    {
     "name": "stderr",
     "output_type": "stream",
     "text": [
      "[INFO 2019-06-17 23:21:50,472 cleverhans] Constructing new graph for attack FastGradientMethod\n"
     ]
    },
    {
     "name": "stdout",
     "output_type": "stream",
     "text": [
      " 8512/10000 [========================>.....] - ETA: 0s"
     ]
    },
    {
     "name": "stderr",
     "output_type": "stream",
     "text": [
      "[INFO 2019-06-17 23:21:51,749 cleverhans] Constructing new graph for attack FastGradientMethod\n"
     ]
    },
    {
     "name": "stdout",
     "output_type": "stream",
     "text": [
      " 9024/10000 [==========================>...] - ETA: 0s_________________________________________________________________\n",
      "Layer (type)                 Output Shape              Param #   \n",
      "=================================================================\n",
      "first (Dense)                (None, 32)                25120     \n",
      "_________________________________________________________________\n",
      "hidden_0 (Dense)             (None, 32)                1056      \n",
      "_________________________________________________________________\n",
      "hidden_1 (Dense)             (None, 32)                1056      \n",
      "_________________________________________________________________\n",
      "hidden_2 (Dense)             (None, 32)                1056      \n",
      "_________________________________________________________________\n",
      "hidden_3 (Dense)             (None, 32)                1056      \n",
      "_________________________________________________________________\n",
      "last (Dense)                 (None, 10)                330       \n",
      "=================================================================\n",
      "Total params: 29,674\n",
      "Trainable params: 29,674\n",
      "Non-trainable params: 0\n",
      "_________________________________________________________________\n",
      "None\n",
      "Found new features\n",
      "Created new model\n",
      "_________________________________________________________________\n",
      "Layer (type)                 Output Shape              Param #   \n",
      "=================================================================\n",
      "hidden_3 (Dense)             (None, 32)                1056      \n",
      "_________________________________________________________________\n",
      "last (Dense)                 (None, 10)                330       \n",
      "=================================================================\n",
      "Total params: 1,386\n",
      "Trainable params: 1,386\n",
      "Non-trainable params: 0\n",
      "_________________________________________________________________\n",
      "None\n",
      " 9184/10000 [==========================>...] - ETA: 0s"
     ]
    },
    {
     "name": "stderr",
     "output_type": "stream",
     "text": [
      "[INFO 2019-06-17 23:21:59,324 cleverhans] Constructing new graph for attack FastGradientMethod\n"
     ]
    },
    {
     "name": "stdout",
     "output_type": "stream",
     "text": [
      "[0.17925939524397255, 0.9564]\n",
      " 9984/10000 [============================>.] - ETA: 0s"
     ]
    },
    {
     "name": "stderr",
     "output_type": "stream",
     "text": [
      "[INFO 2019-06-17 23:22:00,736 cleverhans] Constructing new graph for attack FastGradientMethod\n"
     ]
    },
    {
     "name": "stdout",
     "output_type": "stream",
     "text": [
      " 8448/10000 [========================>.....] - ETA: 0s"
     ]
    },
    {
     "name": "stderr",
     "output_type": "stream",
     "text": [
      "[INFO 2019-06-17 23:22:02,085 cleverhans] Constructing new graph for attack FastGradientMethod\n"
     ]
    },
    {
     "name": "stdout",
     "output_type": "stream",
     "text": [
      " 9504/10000 [===========================>..] - ETA: 0s"
     ]
    },
    {
     "name": "stderr",
     "output_type": "stream",
     "text": [
      "[INFO 2019-06-17 23:22:03,525 cleverhans] Constructing new graph for attack FastGradientMethod\n"
     ]
    },
    {
     "name": "stdout",
     "output_type": "stream",
     "text": [
      " 8384/10000 [========================>.....] - ETA: 0s"
     ]
    },
    {
     "name": "stderr",
     "output_type": "stream",
     "text": [
      "[INFO 2019-06-17 23:22:04,867 cleverhans] Constructing new graph for attack FastGradientMethod\n"
     ]
    },
    {
     "name": "stdout",
     "output_type": "stream",
     "text": [
      " 9152/10000 [==========================>...] - ETA: 0s"
     ]
    },
    {
     "name": "stderr",
     "output_type": "stream",
     "text": [
      "[INFO 2019-06-17 23:22:06,309 cleverhans] Constructing new graph for attack FastGradientMethod\n"
     ]
    },
    {
     "name": "stdout",
     "output_type": "stream",
     "text": [
      " 8224/10000 [=======================>......] - ETA: 0s"
     ]
    }
   ],
   "source": [
    "model_3_accuracies_load = model_3_accuracies\n",
    "model_2_accuracies_load = adv_generate_intermed_layer_load_weights(sess, big_model, 2, x_train_flat, y_train)\n",
    "model_1_accuracies_load = adv_generate_intermed_layer_load_weights(sess, big_model, 1, x_train_flat, y_train)\n",
    "model_4_accuracies_load = adv_generate_intermed_layer_load_weights(sess, big_model, 4, x_train_flat, y_train)"
   ]
  },
  {
   "cell_type": "code",
   "execution_count": 172,
   "metadata": {},
   "outputs": [
    {
     "data": {
      "image/png": "[encoded data removed]",
      "text/plain": [
       "<Figure size 432x288 with 1 Axes>"
      ]
     },
     "metadata": {
      "needs_background": "light"
     },
     "output_type": "display_data"
    }
   ],
   "source": [
    "x = np.arange(0.05, 0.35, 0.05)\n",
    "y_4 = np.array(model_4_accuracies_load[1])[:, 1]\n",
    "y_3 = np.array(model_3_accuracies_load[1])[:, 1]\n",
    "y_2 = np.array(model_2_accuracies_load[1])[:, 1]\n",
    "y_1 = np.array(model_1_accuracies_load[1])[:, 1]\n",
    "plt.scatter(x, y_1, label = 'k=1')\n",
    "plt.scatter(x, y_2, label = 'k=2')\n",
    "plt.scatter(x, y_3, label = 'k=3')\n",
    "plt.scatter(x, y_4, label = 'k=4')\n",
    "\n",
    "plt.legend(loc='upper right')\n",
    "plt.xlabel('Eps for adversarial perturbation')\n",
    "plt.ylabel('Accuracy of model')\n",
    "plt.show()"
   ]
  },
  {
   "cell_type": "markdown",
   "metadata": {},
   "source": [
    "## Retrain the model "
   ]
  },
  {
   "cell_type": "code",
   "execution_count": 164,
   "metadata": {},
   "outputs": [],
   "source": [
    "def adv_generate_intermed_layer(session, big_model_input, k, x_train, y_train):\n",
    "    #Find the new input\n",
    "    print(model.summary())\n",
    "    layer_output = model.layers[k-1].output\n",
    "    activation_model = models.Model(inputs=model.input, outputs=layer_output)\n",
    "    x_train_lifted = activation_model.predict(x_train)\n",
    "    x_test_lifted = activation_model.predict(x_test_flat)\n",
    "    print('Found new features')\n",
    "    \n",
    "    #Create the new model\n",
    "    new_input_shape = (32,)\n",
    "    model_k = create_fully_connected_k_onwards(input_shape = input_shape, new_input_shape = new_input_shape, k = k, num_classes = num_classes, num_hidden = 4, reg = 0)\n",
    "    print('Created new model')\n",
    "    \n",
    "    #Train on the new input\n",
    "    print(model_k.summary())\n",
    "    model_k.compile(optimizer=\"adam\", loss='categorical_crossentropy', metrics=['accuracy'])    \n",
    "    model_k.fit(x_train_lifted, y_train)\n",
    "    print('trained new model')\n",
    "    \n",
    "    #Create the adversarial examples\n",
    "    eps_range = np.arange(0.05, 0.35, 0.05)\n",
    "    accuracies = []\n",
    "    for eps in eps_range:\n",
    "        x_test_lifted_adv = adv_generate(session, KerasModelWrapper(model_k), eps, x_test_lifted)\n",
    "        accuracies.append(model_k.evaluate(x_test_lifted_adv, y_test))\n",
    "    return accuracies\n",
    "\n",
    "\n"
   ]
  },
  {
   "cell_type": "code",
   "execution_count": 204,
   "metadata": {},
   "outputs": [],
   "source": [
    "expt_output = []"
   ]
  },
  {
   "cell_type": "code",
   "execution_count": 206,
   "metadata": {},
   "outputs": [
    {
     "name": "stdout",
     "output_type": "stream",
     "text": [
      "_________________________________________________________________\n",
      "Layer (type)                 Output Shape              Param #   \n",
      "=================================================================\n",
      "dense_158 (Dense)            (None, 32)                25120     \n",
      "_________________________________________________________________\n",
      "dense_159 (Dense)            (None, 32)                1056      \n",
      "_________________________________________________________________\n",
      "dense_160 (Dense)            (None, 32)                1056      \n",
      "_________________________________________________________________\n",
      "dense_161 (Dense)            (None, 32)                1056      \n",
      "_________________________________________________________________\n",
      "dense_162 (Dense)            (None, 32)                1056      \n",
      "_________________________________________________________________\n",
      "dense_163 (Dense)            (None, 10)                330       \n",
      "=================================================================\n",
      "Total params: 29,674\n",
      "Trainable params: 29,674\n",
      "Non-trainable params: 0\n",
      "_________________________________________________________________\n",
      "None\n",
      "Found new features\n",
      "Created new model\n",
      "_________________________________________________________________\n",
      "Layer (type)                 Output Shape              Param #   \n",
      "=================================================================\n",
      "dense_198 (Dense)            (None, 32)                1056      \n",
      "_________________________________________________________________\n",
      "dense_196 (Dense)            (None, 32)                1056      \n",
      "_________________________________________________________________\n",
      "dense_197 (Dense)            (None, 10)                330       \n",
      "=================================================================\n",
      "Total params: 2,442\n",
      "Trainable params: 2,442\n",
      "Non-trainable params: 0\n",
      "_________________________________________________________________\n",
      "None\n",
      "Epoch 1/10\n",
      "60000/60000 [==============================] - 3s - loss: 0.7852 - acc: 0.8572     \n",
      "Epoch 2/10\n",
      "60000/60000 [==============================] - 3s - loss: 0.1471 - acc: 0.9695     \n",
      "Epoch 3/10\n",
      "60000/60000 [==============================] - 3s - loss: 0.1210 - acc: 0.9719     \n",
      "Epoch 4/10\n",
      "60000/60000 [==============================] - 3s - loss: 0.1123 - acc: 0.9729     - ETA: 1\n",
      "Epoch 5/10\n",
      "60000/60000 [==============================] - 3s - loss: 0.1074 - acc: 0.9736     \n",
      "Epoch 6/10\n",
      "60000/60000 [==============================] - 3s - loss: 0.1043 - acc: 0.9736     \n",
      "Epoch 7/10\n",
      "60000/60000 [==============================] - 3s - loss: 0.1022 - acc: 0.9743     \n",
      "Epoch 8/10\n",
      "60000/60000 [==============================] - 3s - loss: 0.1009 - acc: 0.9740     \n",
      "Epoch 9/10\n",
      "60000/60000 [==============================] - 3s - loss: 0.0993 - acc: 0.9744     \n",
      "Epoch 10/10\n",
      "60000/60000 [==============================] - 3s - loss: 0.0985 - acc: 0.9744     "
     ]
    },
    {
     "name": "stderr",
     "output_type": "stream",
     "text": [
      "[INFO 2019-06-12 14:40:10,115 cleverhans] Constructing new graph for attack FastGradientMethod\n"
     ]
    },
    {
     "name": "stdout",
     "output_type": "stream",
     "text": [
      "\n",
      "trained new model\n",
      " 9312/10000 [==========================>...] - ETA: 0s"
     ]
    },
    {
     "name": "stderr",
     "output_type": "stream",
     "text": [
      "[INFO 2019-06-12 14:40:11,577 cleverhans] Constructing new graph for attack FastGradientMethod\n"
     ]
    },
    {
     "name": "stdout",
     "output_type": "stream",
     "text": [
      " 9248/10000 [==========================>...] - ETA: 0s"
     ]
    },
    {
     "name": "stderr",
     "output_type": "stream",
     "text": [
      "[INFO 2019-06-12 14:40:12,472 cleverhans] Constructing new graph for attack FastGradientMethod\n"
     ]
    },
    {
     "name": "stdout",
     "output_type": "stream",
     "text": [
      " 9600/10000 [===========================>..] - ETA: 0s"
     ]
    },
    {
     "name": "stderr",
     "output_type": "stream",
     "text": [
      "[INFO 2019-06-12 14:40:13,365 cleverhans] Constructing new graph for attack FastGradientMethod\n"
     ]
    },
    {
     "name": "stdout",
     "output_type": "stream",
     "text": [
      " 9440/10000 [===========================>..] - ETA: 0s"
     ]
    },
    {
     "name": "stderr",
     "output_type": "stream",
     "text": [
      "[INFO 2019-06-12 14:40:14,255 cleverhans] Constructing new graph for attack FastGradientMethod\n"
     ]
    },
    {
     "name": "stdout",
     "output_type": "stream",
     "text": [
      " 9376/10000 [===========================>..] - ETA: 0s"
     ]
    },
    {
     "name": "stderr",
     "output_type": "stream",
     "text": [
      "[INFO 2019-06-12 14:40:15,164 cleverhans] Constructing new graph for attack FastGradientMethod\n"
     ]
    },
    {
     "name": "stdout",
     "output_type": "stream",
     "text": [
      " 9696/10000 [============================>.] - ETA: 0s"
     ]
    }
   ],
   "source": [
    "model_3_accuracies = adv_generate_intermed_layer(sess, model, 3, x_train_flat, y_train)"
   ]
  },
  {
   "cell_type": "code",
   "execution_count": 135,
   "metadata": {},
   "outputs": [
    {
     "data": {
      "text/plain": [
       "(<keras.models.Sequential at 0x1c29c99630>,\n",
       " [[3.4218847301483155, 0.0892],\n",
       "  [3.3436603439331054, 0.0892],\n",
       "  [3.2765844337463377, 0.0892],\n",
       "  [3.221594585418701, 0.0892],\n",
       "  [3.1790746452331544, 0.1428],\n",
       "  [3.1488127170562743, 0.1756]])"
      ]
     },
     "execution_count": 135,
     "metadata": {},
     "output_type": "execute_result"
    }
   ],
   "source": [
    "model_3_accuracies"
   ]
  },
  {
   "cell_type": "code",
   "execution_count": 140,
   "metadata": {},
   "outputs": [
    {
     "name": "stdout",
     "output_type": "stream",
     "text": [
      "_________________________________________________________________\n",
      "Layer (type)                 Output Shape              Param #   \n",
      "=================================================================\n",
      "first (Dense)                (None, 32)                25120     \n",
      "_________________________________________________________________\n",
      "hidden_0 (Dense)             (None, 32)                1056      \n",
      "_________________________________________________________________\n",
      "hidden_1 (Dense)             (None, 32)                1056      \n",
      "_________________________________________________________________\n",
      "hidden_2 (Dense)             (None, 32)                1056      \n",
      "_________________________________________________________________\n",
      "hidden_3 (Dense)             (None, 32)                1056      \n",
      "_________________________________________________________________\n",
      "hidden_4 (Dense)             (None, 32)                1056      \n",
      "_________________________________________________________________\n",
      "hidden_5 (Dense)             (None, 32)                1056      \n",
      "_________________________________________________________________\n",
      "hidden_6 (Dense)             (None, 32)                1056      \n",
      "_________________________________________________________________\n",
      "hidden_7 (Dense)             (None, 32)                1056      \n",
      "_________________________________________________________________\n",
      "hidden_8 (Dense)             (None, 32)                1056      \n",
      "_________________________________________________________________\n",
      "hidden_9 (Dense)             (None, 32)                1056      \n",
      "_________________________________________________________________\n",
      "last (Dense)                 (None, 10)                330       \n",
      "=================================================================\n",
      "Total params: 36,010\n",
      "Trainable params: 36,010\n",
      "Non-trainable params: 0\n",
      "_________________________________________________________________\n",
      "None\n",
      "Found new features\n",
      "Created new model\n",
      "_________________________________________________________________\n",
      "Layer (type)                 Output Shape              Param #   \n",
      "=================================================================\n",
      "dense_132 (Dense)            (None, 32)                1056      \n",
      "_________________________________________________________________\n",
      "last (Dense)                 (None, 10)                330       \n",
      "=================================================================\n",
      "Total params: 1,386\n",
      "Trainable params: 1,386\n",
      "Non-trainable params: 0\n",
      "_________________________________________________________________\n",
      "None\n",
      "Epoch 1/10\n",
      "60000/60000 [==============================] - 4s - loss: 0.6103 - acc: 0.9210     \n",
      "Epoch 2/10\n",
      "60000/60000 [==============================] - 3s - loss: 0.1163 - acc: 0.9773     \n",
      "Epoch 3/10\n",
      "60000/60000 [==============================] - 2s - loss: 0.0956 - acc: 0.9782     \n",
      "Epoch 4/10\n",
      "60000/60000 [==============================] - 3s - loss: 0.0897 - acc: 0.9786     \n",
      "Epoch 5/10\n",
      "60000/60000 [==============================] - 3s - loss: 0.0866 - acc: 0.9787     \n",
      "Epoch 6/10\n",
      "60000/60000 [==============================] - 3s - loss: 0.0846 - acc: 0.9790     \n",
      "Epoch 7/10\n",
      "60000/60000 [==============================] - 2s - loss: 0.0828 - acc: 0.9794     \n",
      "Epoch 8/10\n",
      "60000/60000 [==============================] - 3s - loss: 0.0817 - acc: 0.9793     \n",
      "Epoch 9/10\n",
      "60000/60000 [==============================] - 2s - loss: 0.0807 - acc: 0.9790     - ETA: 0s - loss: 0.080\n",
      "Epoch 10/10\n",
      "60000/60000 [==============================] - 2s - loss: 0.0797 - acc: 0.9795     "
     ]
    },
    {
     "name": "stderr",
     "output_type": "stream",
     "text": [
      "[INFO 2019-06-17 22:58:48,158 cleverhans] Constructing new graph for attack FastGradientMethod\n"
     ]
    },
    {
     "name": "stdout",
     "output_type": "stream",
     "text": [
      "\n",
      "trained new model\n",
      " 8000/10000 [=======================>......] - ETA: 0s"
     ]
    },
    {
     "name": "stderr",
     "output_type": "stream",
     "text": [
      "[INFO 2019-06-17 22:58:49,561 cleverhans] Constructing new graph for attack FastGradientMethod\n"
     ]
    },
    {
     "name": "stdout",
     "output_type": "stream",
     "text": [
      " 8320/10000 [=======================>......] - ETA: 0s"
     ]
    },
    {
     "name": "stderr",
     "output_type": "stream",
     "text": [
      "[INFO 2019-06-17 22:58:50,498 cleverhans] Constructing new graph for attack FastGradientMethod\n"
     ]
    },
    {
     "name": "stdout",
     "output_type": "stream",
     "text": [
      " 9696/10000 [============================>.] - ETA: 0s"
     ]
    },
    {
     "name": "stderr",
     "output_type": "stream",
     "text": [
      "[INFO 2019-06-17 22:58:51,394 cleverhans] Constructing new graph for attack FastGradientMethod\n"
     ]
    },
    {
     "name": "stdout",
     "output_type": "stream",
     "text": [
      " 9600/10000 [===========================>..] - ETA: 0s"
     ]
    },
    {
     "name": "stderr",
     "output_type": "stream",
     "text": [
      "[INFO 2019-06-17 22:58:52,280 cleverhans] Constructing new graph for attack FastGradientMethod\n"
     ]
    },
    {
     "name": "stdout",
     "output_type": "stream",
     "text": [
      " 9504/10000 [===========================>..] - ETA: 0s"
     ]
    },
    {
     "name": "stderr",
     "output_type": "stream",
     "text": [
      "[INFO 2019-06-17 22:58:53,219 cleverhans] Constructing new graph for attack FastGradientMethod\n"
     ]
    },
    {
     "name": "stdout",
     "output_type": "stream",
     "text": [
      " 7936/10000 [======================>.......] - ETA: 0s"
     ]
    }
   ],
   "source": [
    "model_4_accuracies = adv_generate_intermed_layer(sess, model, 4, x_train_flat, y_train)"
   ]
  },
  {
   "cell_type": "code",
   "execution_count": 141,
   "metadata": {},
   "outputs": [
    {
     "data": {
      "text/plain": [
       "[[0.1977435935869813, 0.9384],\n",
       " [0.39454339797496796, 0.8766],\n",
       " [0.9090400233268737, 0.6979],\n",
       " [1.875936798286438, 0.3751],\n",
       " [3.1674710525512695, 0.1307],\n",
       " [4.473508271026612, 0.0572]]"
      ]
     },
     "execution_count": 141,
     "metadata": {},
     "output_type": "execute_result"
    }
   ],
   "source": [
    "model_4_accuracies"
   ]
  },
  {
   "cell_type": "code",
   "execution_count": 210,
   "metadata": {},
   "outputs": [
    {
     "name": "stdout",
     "output_type": "stream",
     "text": [
      "_________________________________________________________________\n",
      "Layer (type)                 Output Shape              Param #   \n",
      "=================================================================\n",
      "dense_158 (Dense)            (None, 32)                25120     \n",
      "_________________________________________________________________\n",
      "dense_159 (Dense)            (None, 32)                1056      \n",
      "_________________________________________________________________\n",
      "dense_160 (Dense)            (None, 32)                1056      \n",
      "_________________________________________________________________\n",
      "dense_161 (Dense)            (None, 32)                1056      \n",
      "_________________________________________________________________\n",
      "dense_162 (Dense)            (None, 32)                1056      \n",
      "_________________________________________________________________\n",
      "dense_163 (Dense)            (None, 10)                330       \n",
      "=================================================================\n",
      "Total params: 29,674\n",
      "Trainable params: 29,674\n",
      "Non-trainable params: 0\n",
      "_________________________________________________________________\n",
      "None\n",
      "Found new features\n",
      "Created new model\n",
      "_________________________________________________________________\n",
      "Layer (type)                 Output Shape              Param #   \n",
      "=================================================================\n",
      "dense_219 (Dense)            (None, 32)                1056      \n",
      "_________________________________________________________________\n",
      "dense_215 (Dense)            (None, 32)                1056      \n",
      "_________________________________________________________________\n",
      "dense_216 (Dense)            (None, 32)                1056      \n",
      "_________________________________________________________________\n",
      "dense_217 (Dense)            (None, 32)                1056      \n",
      "_________________________________________________________________\n",
      "dense_218 (Dense)            (None, 10)                330       \n",
      "=================================================================\n",
      "Total params: 4,554\n",
      "Trainable params: 4,554\n",
      "Non-trainable params: 0\n",
      "_________________________________________________________________\n",
      "None\n",
      "Epoch 1/10\n",
      "60000/60000 [==============================] - 4s - loss: 1.1440 - acc: 0.6648     \n",
      "Epoch 2/10\n",
      "60000/60000 [==============================] - 3s - loss: 0.3441 - acc: 0.9092     \n",
      "Epoch 3/10\n",
      "60000/60000 [==============================] - 3s - loss: 0.2524 - acc: 0.9324     \n",
      "Epoch 4/10\n",
      "60000/60000 [==============================] - 3s - loss: 0.2002 - acc: 0.9467     \n",
      "Epoch 5/10\n",
      "60000/60000 [==============================] - 3s - loss: 0.1638 - acc: 0.9567     - E\n",
      "Epoch 6/10\n",
      "60000/60000 [==============================] - 3s - loss: 0.1408 - acc: 0.9624     \n",
      "Epoch 7/10\n",
      "60000/60000 [==============================] - 3s - loss: 0.1267 - acc: 0.9662     \n",
      "Epoch 8/10\n",
      "60000/60000 [==============================] - 3s - loss: 0.1172 - acc: 0.9683     \n",
      "Epoch 9/10\n",
      "60000/60000 [==============================] - 3s - loss: 0.1105 - acc: 0.9701     \n",
      "Epoch 10/10\n",
      "60000/60000 [==============================] - 3s - loss: 0.1064 - acc: 0.9712     "
     ]
    },
    {
     "name": "stderr",
     "output_type": "stream",
     "text": [
      "[INFO 2019-06-12 14:46:37,467 cleverhans] Constructing new graph for attack FastGradientMethod\n"
     ]
    },
    {
     "name": "stdout",
     "output_type": "stream",
     "text": [
      "\n",
      "trained new model\n",
      " 9024/10000 [==========================>...] - ETA: 0s"
     ]
    },
    {
     "name": "stderr",
     "output_type": "stream",
     "text": [
      "[INFO 2019-06-12 14:46:39,129 cleverhans] Constructing new graph for attack FastGradientMethod\n"
     ]
    },
    {
     "name": "stdout",
     "output_type": "stream",
     "text": [
      " 8928/10000 [=========================>....] - ETA: 0s"
     ]
    },
    {
     "name": "stderr",
     "output_type": "stream",
     "text": [
      "[INFO 2019-06-12 14:46:40,137 cleverhans] Constructing new graph for attack FastGradientMethod\n"
     ]
    },
    {
     "name": "stdout",
     "output_type": "stream",
     "text": [
      " 9504/10000 [===========================>..] - ETA: 0s"
     ]
    },
    {
     "name": "stderr",
     "output_type": "stream",
     "text": [
      "[INFO 2019-06-12 14:46:42,736 cleverhans] Constructing new graph for attack FastGradientMethod\n"
     ]
    },
    {
     "name": "stdout",
     "output_type": "stream",
     "text": [
      " 9216/10000 [==========================>...] - ETA: 0s"
     ]
    },
    {
     "name": "stderr",
     "output_type": "stream",
     "text": [
      "[INFO 2019-06-12 14:46:43,834 cleverhans] Constructing new graph for attack FastGradientMethod\n"
     ]
    },
    {
     "name": "stdout",
     "output_type": "stream",
     "text": [
      " 8192/10000 [=======================>......] - ETA: 0s"
     ]
    },
    {
     "name": "stderr",
     "output_type": "stream",
     "text": [
      "[INFO 2019-06-12 14:46:44,927 cleverhans] Constructing new graph for attack FastGradientMethod\n"
     ]
    },
    {
     "name": "stdout",
     "output_type": "stream",
     "text": [
      " 8480/10000 [========================>.....] - ETA: 0s"
     ]
    }
   ],
   "source": [
    "model_1_accuracies = adv_generate_intermed_layer(sess, model, 1, x_train_flat, y_train)"
   ]
  },
  {
   "cell_type": "code",
   "execution_count": 213,
   "metadata": {},
   "outputs": [
    {
     "name": "stdout",
     "output_type": "stream",
     "text": [
      "_________________________________________________________________\n",
      "Layer (type)                 Output Shape              Param #   \n",
      "=================================================================\n",
      "dense_158 (Dense)            (None, 32)                25120     \n",
      "_________________________________________________________________\n",
      "dense_159 (Dense)            (None, 32)                1056      \n",
      "_________________________________________________________________\n",
      "dense_160 (Dense)            (None, 32)                1056      \n",
      "_________________________________________________________________\n",
      "dense_161 (Dense)            (None, 32)                1056      \n",
      "_________________________________________________________________\n",
      "dense_162 (Dense)            (None, 32)                1056      \n",
      "_________________________________________________________________\n",
      "dense_163 (Dense)            (None, 10)                330       \n",
      "=================================================================\n",
      "Total params: 29,674\n",
      "Trainable params: 29,674\n",
      "Non-trainable params: 0\n",
      "_________________________________________________________________\n",
      "None\n",
      "Found new features\n",
      "Created new model\n",
      "_________________________________________________________________\n",
      "Layer (type)                 Output Shape              Param #   \n",
      "=================================================================\n",
      "dense_226 (Dense)            (None, 32)                1056      \n",
      "_________________________________________________________________\n",
      "dense_223 (Dense)            (None, 32)                1056      \n",
      "_________________________________________________________________\n",
      "dense_224 (Dense)            (None, 32)                1056      \n",
      "_________________________________________________________________\n",
      "dense_225 (Dense)            (None, 10)                330       \n",
      "=================================================================\n",
      "Total params: 3,498\n",
      "Trainable params: 3,498\n",
      "Non-trainable params: 0\n",
      "_________________________________________________________________\n",
      "None\n",
      "Epoch 1/10\n",
      "60000/60000 [==============================] - 4s - loss: 1.0906 - acc: 0.6955     \n",
      "Epoch 2/10\n",
      "60000/60000 [==============================] - 3s - loss: 0.1761 - acc: 0.9627     \n",
      "Epoch 3/10\n",
      "60000/60000 [==============================] - 3s - loss: 0.1294 - acc: 0.9687     \n",
      "Epoch 4/10\n",
      "60000/60000 [==============================] - 3s - loss: 0.1174 - acc: 0.9707     \n",
      "Epoch 5/10\n",
      "60000/60000 [==============================] - 3s - loss: 0.1112 - acc: 0.9717     \n",
      "Epoch 6/10\n",
      "60000/60000 [==============================] - 3s - loss: 0.1073 - acc: 0.9730     \n",
      "Epoch 7/10\n",
      "60000/60000 [==============================] - 3s - loss: 0.1047 - acc: 0.9733     \n",
      "Epoch 8/10\n",
      "60000/60000 [==============================] - 3s - loss: 0.1022 - acc: 0.9733     \n",
      "Epoch 9/10\n",
      "60000/60000 [==============================] - 3s - loss: 0.1009 - acc: 0.9738     \n",
      "Epoch 10/10\n",
      "60000/60000 [==============================] - 3s - loss: 0.0994 - acc: 0.9733     "
     ]
    },
    {
     "name": "stderr",
     "output_type": "stream",
     "text": [
      "[INFO 2019-06-12 14:50:04,002 cleverhans] Constructing new graph for attack FastGradientMethod\n"
     ]
    },
    {
     "name": "stdout",
     "output_type": "stream",
     "text": [
      "\n",
      "trained new model\n",
      " 8704/10000 [=========================>....] - ETA: 0s"
     ]
    },
    {
     "name": "stderr",
     "output_type": "stream",
     "text": [
      "[INFO 2019-06-12 14:50:05,711 cleverhans] Constructing new graph for attack FastGradientMethod\n"
     ]
    },
    {
     "name": "stdout",
     "output_type": "stream",
     "text": [
      " 9152/10000 [==========================>...] - ETA: 0s"
     ]
    },
    {
     "name": "stderr",
     "output_type": "stream",
     "text": [
      "[INFO 2019-06-12 14:50:06,736 cleverhans] Constructing new graph for attack FastGradientMethod\n"
     ]
    },
    {
     "name": "stdout",
     "output_type": "stream",
     "text": [
      " 9888/10000 [============================>.] - ETA: 0s"
     ]
    },
    {
     "name": "stderr",
     "output_type": "stream",
     "text": [
      "[INFO 2019-06-12 14:50:07,866 cleverhans] Constructing new graph for attack FastGradientMethod\n"
     ]
    },
    {
     "name": "stdout",
     "output_type": "stream",
     "text": [
      " 8864/10000 [=========================>....] - ETA: 0s"
     ]
    },
    {
     "name": "stderr",
     "output_type": "stream",
     "text": [
      "[INFO 2019-06-12 14:50:09,005 cleverhans] Constructing new graph for attack FastGradientMethod\n"
     ]
    },
    {
     "name": "stdout",
     "output_type": "stream",
     "text": [
      " 8800/10000 [=========================>....] - ETA: 0s"
     ]
    },
    {
     "name": "stderr",
     "output_type": "stream",
     "text": [
      "[INFO 2019-06-12 14:50:10,052 cleverhans] Constructing new graph for attack FastGradientMethod\n"
     ]
    },
    {
     "name": "stdout",
     "output_type": "stream",
     "text": [
      " 9088/10000 [==========================>...] - ETA: 0s"
     ]
    }
   ],
   "source": [
    "model_2_accuracies = adv_generate_intermed_layer(sess, model, 2, x_train_flat, y_train)"
   ]
  },
  {
   "cell_type": "code",
   "execution_count": 217,
   "metadata": {},
   "outputs": [
    {
     "data": {
      "image/png": "[encoded data removed]",
      "text/plain": [
       "<Figure size 432x288 with 1 Axes>"
      ]
     },
     "metadata": {
      "needs_background": "light"
     },
     "output_type": "display_data"
    }
   ],
   "source": [
    "x = np.arange(0.05, 0.35, 0.05)\n",
    "y_4 = np.array(model_4_accuracies)[:, 1]\n",
    "y_3 = np.array(model_3_accuracies)[:, 1]\n",
    "y_2 = np.array(model_2_accuracies)[:, 1]\n",
    "y_1 = np.array(model_1_accuracies)[:, 1]\n",
    "plt.scatter(x, y_1, label = 'k=1')\n",
    "plt.scatter(x, y_2, label = 'k=2')\n",
    "plt.scatter(x, y_3, label = 'k=3')\n",
    "plt.scatter(x, y_4, label = 'k=4')\n",
    "\n",
    "plt.legend(loc='upper right')\n",
    "plt.xlabel('Eps for adversarial perturbation')\n",
    "plt.ylabel('Accuracy of model')\n",
    "plt.show()"
   ]
  },
  {
   "cell_type": "markdown",
   "metadata": {},
   "source": [
    "### Interpretation"
   ]
  },
  {
   "cell_type": "markdown",
   "metadata": {},
   "source": [
    "In the above plot, the higher that k is, the shallower the neural net is. As we can see from the plot, the shallower neural nets require higher eps to successfully attack the examples using the FGSM attack. This is in alignment with our hypothesis about the \"cascading effect\" making it easier to make adversarial examples for deeper networks. "
   ]
  }
 ],
 "metadata": {
  "kernelspec": {
   "display_name": "Python 3",
   "language": "python",
   "name": "python3"
  },
  "language_info": {
   "codemirror_mode": {
    "name": "ipython",
    "version": 3
   },
   "file_extension": ".py",
   "mimetype": "text/x-python",
   "name": "python",
   "nbconvert_exporter": "python",
   "pygments_lexer": "ipython3",
   "version": "3.7.3"
  }
 },
 "nbformat": 4,
 "nbformat_minor": 2
}
