{
 "cells": [
  {
   "cell_type": "code",
   "execution_count": 2,
   "metadata": {},
   "outputs": [
    {
     "name": "stderr",
     "output_type": "stream",
     "text": [
      "Using TensorFlow backend.\n"
     ]
    },
    {
     "name": "stdout",
     "output_type": "stream",
     "text": [
      "1.13.1\n"
     ]
    }
   ],
   "source": [
    "# TensorFlow and tf.keras\n",
    "import tensorflow as tf\n",
    "import keras\n",
    "from keras import models\n",
    "import sys\n",
    "import logging\n",
    "sys.path.insert(0, '../')\n",
    "\n",
    "# Helper libraries\n",
    "import numpy as np\n",
    "import matplotlib.pyplot as plt\n",
    "\n",
    "%load_ext autoreload\n",
    "%autoreload 2\n",
    "\n",
    "print(tf.__version__)"
   ]
  },
  {
   "cell_type": "code",
   "execution_count": 3,
   "metadata": {},
   "outputs": [
    {
     "ename": "NameError",
     "evalue": "name 'sess' is not defined",
     "output_type": "error",
     "traceback": [
      "\u001b[0;31m---------------------------------------------------------------------------\u001b[0m",
      "\u001b[0;31mNameError\u001b[0m                                 Traceback (most recent call last)",
      "\u001b[0;32m<ipython-input-3-24d57f831552>\u001b[0m in \u001b[0;36m<module>\u001b[0;34m\u001b[0m\n\u001b[0;32m----> 1\u001b[0;31m \u001b[0msess\u001b[0m\u001b[0;34m\u001b[0m\u001b[0;34m\u001b[0m\u001b[0m\n\u001b[0m",
      "\u001b[0;31mNameError\u001b[0m: name 'sess' is not defined"
     ]
    }
   ],
   "source": [
    "sess"
   ]
  },
  {
   "cell_type": "code",
   "execution_count": 4,
   "metadata": {},
   "outputs": [],
   "source": [
    "from cleverhans.attacks import FastGradientMethod\n",
    "from cleverhans.utils_keras import KerasModelWrapper"
   ]
  },
  {
   "cell_type": "code",
   "execution_count": 5,
   "metadata": {},
   "outputs": [],
   "source": [
    "from mnist_corruption import gaussian_blurring, corrupt_data, random_perturbation, random_blackout_whiteout"
   ]
  },
  {
   "cell_type": "code",
   "execution_count": 6,
   "metadata": {},
   "outputs": [
    {
     "name": "stdout",
     "output_type": "stream",
     "text": [
      "Python 3.7.1\r\n"
     ]
    }
   ],
   "source": [
    "!python --version"
   ]
  },
  {
   "cell_type": "code",
   "execution_count": 7,
   "metadata": {},
   "outputs": [],
   "source": [
    "logging.basicConfig(filename='results.log')\n",
    "\n",
    "logger = logging.getLogger('stab.gen.expt')\n",
    "handler = logging.FileHandler('results.log')\n",
    "handler.setLevel(logging.DEBUG)\n",
    "logger.addHandler(handler)"
   ]
  },
  {
   "cell_type": "code",
   "execution_count": 8,
   "metadata": {},
   "outputs": [],
   "source": [
    "logger.warning('Hey, it is good!')"
   ]
  },
  {
   "cell_type": "markdown",
   "metadata": {},
   "source": [
    "### Import the MNIST dataset/ Preprocess the data"
   ]
  },
  {
   "cell_type": "code",
   "execution_count": 9,
   "metadata": {},
   "outputs": [],
   "source": [
    "mnist = keras.datasets.mnist\n",
    "\n",
    "(x_train, y_train), (x_test, y_test) = mnist.load_data()"
   ]
  },
  {
   "cell_type": "code",
   "execution_count": 10,
   "metadata": {},
   "outputs": [],
   "source": [
    "x_train = x_train/255\n",
    "x_test = x_test/255"
   ]
  },
  {
   "cell_type": "code",
   "execution_count": 11,
   "metadata": {},
   "outputs": [],
   "source": [
    "num_classes = 10"
   ]
  },
  {
   "cell_type": "code",
   "execution_count": 12,
   "metadata": {},
   "outputs": [],
   "source": [
    "y_train = keras.utils.to_categorical(y_train, num_classes)\n",
    "y_test = keras.utils.to_categorical(y_test, num_classes)"
   ]
  },
  {
   "cell_type": "code",
   "execution_count": 13,
   "metadata": {},
   "outputs": [],
   "source": [
    "from keras.models import Sequential\n",
    "from keras.layers import Dense, Activation, Conv2D, MaxPooling2D, Dropout, Flatten"
   ]
  },
  {
   "cell_type": "code",
   "execution_count": 14,
   "metadata": {},
   "outputs": [],
   "source": [
    "from adv_util import create_fully_connected, create_fully_connected_k_onwards"
   ]
  },
  {
   "cell_type": "code",
   "execution_count": 15,
   "metadata": {},
   "outputs": [],
   "source": [
    "def flatten_mnist(x):\n",
    "    n, img_rows, img_cols = x.shape\n",
    "    D = img_rows * img_cols\n",
    "    x_flattened = x.reshape(n, D)\n",
    "    return x_flattened, (D, )"
   ]
  },
  {
   "cell_type": "code",
   "execution_count": 16,
   "metadata": {},
   "outputs": [],
   "source": [
    "x_train_flat, input_shape = flatten_mnist(x_train)\n",
    "x_test_flat, _ = flatten_mnist(x_test)"
   ]
  },
  {
   "cell_type": "markdown",
   "metadata": {},
   "source": [
    "# Experiment A"
   ]
  },
  {
   "cell_type": "markdown",
   "metadata": {},
   "source": [
    "## Helper functions"
   ]
  },
  {
   "cell_type": "code",
   "execution_count": 17,
   "metadata": {},
   "outputs": [],
   "source": [
    "def dist_calculator(reg_image, adv_image, activation_model):\n",
    "    reg_image = reg_image.reshape(1, 784)\n",
    "    adv_image = adv_image.reshape(1, 784)\n",
    "    activation_reg = np.array(activation_model.predict(reg_image)).squeeze()\n",
    "    activation_adv = np.array(activation_model.predict(adv_image)).squeeze()\n",
    "    difference = activation_reg - activation_adv\n",
    "    L = len(difference)\n",
    "    if L == 1:\n",
    "        return np.linalg.norm(activation_reg - activation_adv)\n",
    "    else:\n",
    "        distances = []\n",
    "        for i in range(L):\n",
    "            distances.append(np.linalg.norm(difference[i]))\n",
    "        return distances\n",
    "\n",
    "def dist_average(reg_set, adv_set, activation_model):\n",
    "    set_card = len(reg_set)\n",
    "    distances = []\n",
    "    for i in range(set_card):\n",
    "        dist = dist_calculator(reg_set[i], adv_set[i], activation_model)\n",
    "        distances.append(dist)\n",
    "    #print(np.array(distances).shape)\n",
    "    return np.average(distances, axis = 0)\n",
    "\n",
    "def dist_split(x_test_flat, x_test_adv_flat, model, activation_model):\n",
    "    pred = model.predict(x_test_adv_flat)\n",
    "    incorrect_indices = [i for i,v in enumerate(pred) if np.argmax(pred[i]) != np.argmax(y_test[i])]\n",
    "    correct_indices = [i for i,v in enumerate(pred) if np.argmax(pred[i]) == np.argmax(y_test[i])]\n",
    "    \n",
    "    overall = dist_average(x_test_flat, x_test_adv_flat, activation_model)\n",
    "    correct_dist = dist_average(x_test_flat[correct_indices], x_test_adv_flat[correct_indices], activation_model)\n",
    "    incorrect_dist = dist_average(x_test_flat[incorrect_indices], x_test_adv_flat[incorrect_indices], activation_model)\n",
    "    \n",
    "    return overall, correct_dist, incorrect_dist\n",
    "\n",
    "def adv_generate(session, model_input, epsilon_input, image_set):\n",
    "    fgsm = FastGradientMethod(model_input, sess=session)\n",
    "    adv_x = fgsm.generate_np(image_set, eps = epsilon_input, clip_min = -2, clip_max = 2)\n",
    "    return adv_x"
   ]
  },
  {
   "cell_type": "markdown",
   "metadata": {},
   "source": [
    "## Featurization distance for random perturbation"
   ]
  },
  {
   "cell_type": "code",
   "execution_count": 84,
   "metadata": {},
   "outputs": [],
   "source": [
    "x_test_blur_flat = random_perturbation(x_test_flat, eps = 0.3)"
   ]
  },
  {
   "cell_type": "code",
   "execution_count": 153,
   "metadata": {},
   "outputs": [
    {
     "data": {
      "text/plain": [
       "<matplotlib.image.AxesImage at 0x1c2da114e0>"
      ]
     },
     "execution_count": 153,
     "metadata": {},
     "output_type": "execute_result"
    },
    {
     "data": {
      "image/png": "[encoded data removed]",
      "text/plain": [
       "<Figure size 432x288 with 1 Axes>"
      ]
     },
     "metadata": {
      "needs_background": "light"
     },
     "output_type": "display_data"
    }
   ],
   "source": [
    "test_image = x_test_blur_flat[0]\n",
    "two_d = test_image.reshape((28,28))\n",
    "plt.imshow(two_d, cmap = plt.cm.binary)"
   ]
  },
  {
   "cell_type": "code",
   "execution_count": 129,
   "metadata": {},
   "outputs": [
    {
     "name": "stdout",
     "output_type": "stream",
     "text": [
      "(0.17712823, 0.17169413, 0.22389472)\n"
     ]
    }
   ],
   "source": [
    "print(dist_split(x_test_flat, x_test_blur_flat))"
   ]
  },
  {
   "cell_type": "markdown",
   "metadata": {},
   "source": [
    "## Featurization distance for random blackout whiteout"
   ]
  },
  {
   "cell_type": "code",
   "execution_count": 70,
   "metadata": {},
   "outputs": [],
   "source": [
    "x_test_bw_flat = random_blackout_whiteout(x_test_flat)"
   ]
  },
  {
   "cell_type": "code",
   "execution_count": 113,
   "metadata": {},
   "outputs": [
    {
     "data": {
      "text/plain": [
       "<matplotlib.image.AxesImage at 0x1c2d77b828>"
      ]
     },
     "execution_count": 113,
     "metadata": {},
     "output_type": "execute_result"
    },
    {
     "data": {
      "image/png": "[encoded data removed]",
      "text/plain": [
       "<Figure size 432x288 with 1 Axes>"
      ]
     },
     "metadata": {
      "needs_background": "light"
     },
     "output_type": "display_data"
    }
   ],
   "source": [
    "original_image = x_test_flat[0]\n",
    "test_image = x_test_bw_flat[0]\n",
    "two_d = test_image.reshape((28,28))\n",
    "plt.imshow(two_d, cmap = plt.cm.binary)"
   ]
  },
  {
   "cell_type": "code",
   "execution_count": 132,
   "metadata": {},
   "outputs": [
    {
     "name": "stdout",
     "output_type": "stream",
     "text": [
      "(0.51129884, 0.4713683, 0.68616384)\n"
     ]
    }
   ],
   "source": [
    "print(dist_split(x_test_flat, x_test_bw_flat))"
   ]
  },
  {
   "cell_type": "code",
   "execution_count": 190,
   "metadata": {},
   "outputs": [],
   "source": [
    "model = big_model"
   ]
  },
  {
   "cell_type": "code",
   "execution_count": 191,
   "metadata": {},
   "outputs": [
    {
     "name": "stdout",
     "output_type": "stream",
     "text": [
      "6\n"
     ]
    }
   ],
   "source": [
    "L = len(model.layers)\n",
    "print(L)\n",
    "layer_output = [model.layers[i].output for i in range(L-1)]\n",
    "activation_model = models.Model(inputs=model.input, outputs=layer_output)"
   ]
  },
  {
   "cell_type": "code",
   "execution_count": 192,
   "metadata": {},
   "outputs": [],
   "source": [
    "image = x_train_flat[0].reshape(1, 784)\n",
    "activation = activation_model.predict(image)"
   ]
  },
  {
   "cell_type": "code",
   "execution_count": 193,
   "metadata": {},
   "outputs": [
    {
     "data": {
      "text/plain": [
       "(32,)"
      ]
     },
     "execution_count": 193,
     "metadata": {},
     "output_type": "execute_result"
    }
   ],
   "source": [
    "np.array(activation).squeeze()[0].shape"
   ]
  },
  {
   "cell_type": "markdown",
   "metadata": {},
   "source": [
    "## All layers "
   ]
  },
  {
   "cell_type": "code",
   "execution_count": 21,
   "metadata": {},
   "outputs": [],
   "source": [
    "sess = tf.Session()\n",
    "keras.backend.set_session(sess)"
   ]
  },
  {
   "cell_type": "code",
   "execution_count": 22,
   "metadata": {},
   "outputs": [
    {
     "name": "stdout",
     "output_type": "stream",
     "text": [
      "Epoch 1/15\n",
      "60000/60000 [==============================] - 3s - loss: 1.3027 - acc: 0.5905     \n",
      "Epoch 2/15\n",
      "60000/60000 [==============================] - 3s - loss: 0.4450 - acc: 0.8948     \n",
      "Epoch 3/15\n",
      "60000/60000 [==============================] - 3s - loss: 0.3100 - acc: 0.9213     \n",
      "Epoch 4/15\n",
      "60000/60000 [==============================] - 3s - loss: 0.2604 - acc: 0.9323     \n",
      "Epoch 5/15\n",
      "60000/60000 [==============================] - 3s - loss: 0.2289 - acc: 0.9405     \n",
      "Epoch 6/15\n",
      "60000/60000 [==============================] - 3s - loss: 0.2052 - acc: 0.9467     \n",
      "Epoch 7/15\n",
      "60000/60000 [==============================] - 3s - loss: 0.1877 - acc: 0.9498     \n",
      "Epoch 8/15\n",
      "60000/60000 [==============================] - 3s - loss: 0.1723 - acc: 0.9540     \n",
      "Epoch 9/15\n",
      "60000/60000 [==============================] - 3s - loss: 0.1593 - acc: 0.9580     \n",
      "Epoch 10/15\n",
      "60000/60000 [==============================] - 3s - loss: 0.1486 - acc: 0.9608     \n",
      "Epoch 11/15\n",
      "60000/60000 [==============================] - 3s - loss: 0.1371 - acc: 0.9644     \n",
      "Epoch 12/15\n",
      "60000/60000 [==============================] - 3s - loss: 0.1295 - acc: 0.9657     \n",
      "Epoch 13/15\n",
      "60000/60000 [==============================] - 3s - loss: 0.1212 - acc: 0.9681     \n",
      "Epoch 14/15\n",
      "60000/60000 [==============================] - 3s - loss: 0.1135 - acc: 0.9693     \n",
      "Epoch 15/15\n",
      "60000/60000 [==============================] - 3s - loss: 0.1065 - acc: 0.9715     "
     ]
    },
    {
     "name": "stderr",
     "output_type": "stream",
     "text": [
      "[INFO 2019-06-19 14:09:21,697 cleverhans] Constructing new graph for attack FastGradientMethod\n"
     ]
    },
    {
     "name": "stdout",
     "output_type": "stream",
     "text": [
      "\n",
      " 8960/10000 [=========================>....] - ETA: 0s[6.904962860870361, 0.0881]\n"
     ]
    }
   ],
   "source": [
    "big_model = create_fully_connected(input_shape = input_shape, num_classes = num_classes, num_hidden = 4, reg = 0)\n",
    "big_model.compile(optimizer=\"adam\", loss='categorical_crossentropy', metrics=['accuracy'])\n",
    "sess.run(tf.global_variables_initializer()) \n",
    "big_model.fit(x_train_flat, y_train, epochs = 15)\n",
    "x_test_adv_flat = adv_generate(sess, KerasModelWrapper(big_model), 0.1, x_test_flat)\n",
    "print(big_model.evaluate(x_test_adv_flat, y_test))"
   ]
  },
  {
   "cell_type": "code",
   "execution_count": 241,
   "metadata": {},
   "outputs": [
    {
     "data": {
      "text/plain": [
       "<tensorflow.python.client.session.Session at 0x1c6aab4978>"
      ]
     },
     "execution_count": 241,
     "metadata": {},
     "output_type": "execute_result"
    }
   ],
   "source": [
    "sess"
   ]
  },
  {
   "cell_type": "code",
   "execution_count": 235,
   "metadata": {},
   "outputs": [
    {
     "name": "stderr",
     "output_type": "stream",
     "text": [
      "[INFO 2019-06-18 14:43:39,597 cleverhans] Constructing new graph for attack FastGradientMethod\n"
     ]
    },
    {
     "name": "stdout",
     "output_type": "stream",
     "text": [
      " 9728/10000 [============================>.] - ETA: 0s[6.337627924346924, 0.1153]\n"
     ]
    }
   ],
   "source": [
    "x_test_adv_flat = adv_generate(sess, KerasModelWrapper(big_model), 0.1, x_test_flat)\n",
    "print(big_model.evaluate(x_test_adv_flat, y_test))\n",
    "L = len(big_model.layers)\n",
    "layer_output = [big_model.layers[i].output for i in range(L-1)]\n",
    "activation_model = models.Model(inputs=big_model.input, outputs=layer_output)"
   ]
  },
  {
   "cell_type": "code",
   "execution_count": 236,
   "metadata": {},
   "outputs": [],
   "source": [
    "#Train 1 - 10 layers\n",
    "overall_adv, correct_adv, incorrect_adv = dist_split(x_test_flat, x_test_adv_flat, big_model, activation_model)"
   ]
  },
  {
   "cell_type": "code",
   "execution_count": 228,
   "metadata": {},
   "outputs": [
    {
     "data": {
      "text/plain": [
       "array([2.4210875, 1.5312514, 1.7560292, 2.130251 , 2.2515316, 2.1644576,\n",
       "       2.1015663, 2.1409478, 2.3008494, 2.653368 , 2.7827969],\n",
       "      dtype=float32)"
      ]
     },
     "execution_count": 228,
     "metadata": {},
     "output_type": "execute_result"
    }
   ],
   "source": [
    "# This is the one with 10 hidden layers\n",
    "incorrect_adv"
   ]
  },
  {
   "cell_type": "code",
   "execution_count": 234,
   "metadata": {},
   "outputs": [
    {
     "data": {
      "image/png": "[encoded data removed]",
      "text/plain": [
       "<Figure size 432x288 with 1 Axes>"
      ]
     },
     "metadata": {
      "needs_background": "light"
     },
     "output_type": "display_data"
    }
   ],
   "source": [
    "x = range(len(overall_adv))\n",
    "plt.scatter(x, overall_adv, label = 'overall adv')\n",
    "plt.scatter(x, incorrect_adv, label = 'incorrect adversarial')\n",
    "plt.scatter(x, correct_adv, label = 'correct adversarial')\n",
    "\n",
    "plt.legend(loc='upper right')\n",
    "plt.xlabel('Layer number')\n",
    "plt.ylabel('d(reg, adv)')\n",
    "plt.title('Distance for model w/ 10 hidden layers, eps = 0.35')\n",
    "plt.show()"
   ]
  },
  {
   "cell_type": "code",
   "execution_count": 237,
   "metadata": {},
   "outputs": [
    {
     "data": {
      "image/png": "[encoded data removed]",
      "text/plain": [
       "<Figure size 432x288 with 1 Axes>"
      ]
     },
     "metadata": {
      "needs_background": "light"
     },
     "output_type": "display_data"
    }
   ],
   "source": [
    "x = range(len(overall_adv))\n",
    "plt.scatter(x, overall_adv, label = 'overall adv')\n",
    "plt.scatter(x, incorrect_adv, label = 'incorrect adversarial')\n",
    "plt.scatter(x, correct_adv, label = 'correct adversarial')\n",
    "\n",
    "plt.legend(loc='upper right')\n",
    "plt.xlabel('Layer number')\n",
    "plt.ylabel('d(reg, adv)')\n",
    "plt.title('Distances for model with 4 hidden layers, eps = 0.1')\n",
    "plt.show()"
   ]
  },
  {
   "cell_type": "code",
   "execution_count": 238,
   "metadata": {},
   "outputs": [
    {
     "name": "stdout",
     "output_type": "stream",
     "text": [
      "[0.9879302  0.6285024  0.7057162  0.8606261  0.92166793]\n",
      "[1.7530615 1.5531993 2.1585233 2.919911  3.3160417]\n",
      "[1.6648408 1.4465818 1.9910123 2.6824741 3.0399735]\n"
     ]
    }
   ],
   "source": [
    "print(correct_adv)\n",
    "print(incorrect_adv)\n",
    "print(overall_adv)"
   ]
  },
  {
   "cell_type": "code",
   "execution_count": 110,
   "metadata": {},
   "outputs": [
    {
     "name": "stdout",
     "output_type": "stream",
     "text": [
      "(array([1.8983482e-01, 4.5866568e-02, 1.0599868e-02, 2.4605270e-03,\n",
      "       5.9164281e-04, 1.3207090e-04, 3.1182546e-05, 6.7690939e-06,\n",
      "       1.7821782e-06], dtype=float32), array([1.9430134e-01, 4.6853833e-02, 1.0766449e-02, 2.5322465e-03,\n",
      "       6.1732158e-04, 1.3911516e-04, 3.3157034e-05, 7.2132229e-06,\n",
      "       1.9057740e-06], dtype=float32), array([1.8930571e-01, 4.5749702e-02, 1.0580133e-02, 2.4520296e-03,\n",
      "       5.8860087e-04, 1.3123623e-04, 3.0948686e-05, 6.7164951e-06,\n",
      "       1.7675396e-06], dtype=float32))\n"
     ]
    }
   ],
   "source": [
    "#Train 10 layers on adversarial examples from 4 layers\n",
    "#I ran this cell accidentally but it is interesting to see that the distances are less in this case!\n",
    "#Implying that higher distance definitely has something to do with misclassification.\n",
    "print(dist_split(x_test_flat, x_test_adv_flat, model, activation_model))"
   ]
  },
  {
   "cell_type": "code",
   "execution_count": 112,
   "metadata": {},
   "outputs": [
    {
     "name": "stdout",
     "output_type": "stream",
     "text": [
      "(array([1.7938548, 1.4845043, 1.9475174, 2.5463245, 2.8488634],\n",
      "      dtype=float32), array([1.2457126 , 0.7532576 , 0.8118865 , 0.8921975 , 0.97761166],\n",
      "      dtype=float32), array([1.8587811, 1.5711156, 2.082023 , 2.742242 , 3.0705001],\n",
      "      dtype=float32))\n"
     ]
    }
   ],
   "source": [
    "#Train 4 layers\n",
    "print(dist_split(x_test_flat, x_test_adv_flat, model, activation_model))"
   ]
  },
  {
   "cell_type": "code",
   "execution_count": 154,
   "metadata": {},
   "outputs": [
    {
     "name": "stdout",
     "output_type": "stream",
     "text": [
      "(array([0.55775636, 0.32986605, 0.36812672, 0.4669187 , 0.54217166],\n",
      "      dtype=float32), array([0.5184117 , 0.28447244, 0.2815359 , 0.31469893, 0.33107078],\n",
      "      dtype=float32), array([0.761134  , 0.5645054 , 0.81571805, 1.2537409 , 1.6333604 ],\n",
      "      dtype=float32))\n"
     ]
    }
   ],
   "source": [
    "print(dist_split(x_test_flat, x_test_blur_flat, model, activation_model))"
   ]
  },
  {
   "cell_type": "code",
   "execution_count": 155,
   "metadata": {},
   "outputs": [
    {
     "name": "stdout",
     "output_type": "stream",
     "text": [
      "(array([1.3607831, 0.9676547, 1.2481122, 1.6766232, 1.9285892],\n",
      "      dtype=float32), array([0.97070533, 0.58136886, 0.64997876, 0.7937405 , 0.8543499 ],\n",
      "      dtype=float32), array([1.5935359, 1.1981431, 1.6050072, 2.2034268, 2.5695636],\n",
      "      dtype=float32))\n"
     ]
    }
   ],
   "source": [
    "print(dist_split(x_test_flat, x_test_bw_flat, model, activation_model))"
   ]
  },
  {
   "cell_type": "markdown",
   "metadata": {},
   "source": [
    "### Interpretations"
   ]
  },
  {
   "cell_type": "markdown",
   "metadata": {},
   "source": [
    "- So the reducing from first to second layer seems to consistently hold independent of the number of hidden layers or the random seed used for training.\n",
    "- The distance from transferred adversarial examples is low - making for an interesting control!\n",
    "- In the transferrable adversarial example case - The \"cascading effect\" relationship of increasing distances does not hold!"
   ]
  },
  {
   "cell_type": "markdown",
   "metadata": {},
   "source": [
    "### Questions"
   ]
  },
  {
   "cell_type": "markdown",
   "metadata": {},
   "source": [
    "- The decreasing and increasing phenomenon is very interesting from the point of view of better decision boundary versus cascading effect. I'm not sure why it is happening.\n",
    "- Observe that in the adversarial correct example case, it reduces for multiple layers before it increases. And even at the last layer, it is much less than the first layer."
   ]
  },
  {
   "cell_type": "markdown",
   "metadata": {},
   "source": [
    "# Experiment C"
   ]
  },
  {
   "cell_type": "code",
   "execution_count": 181,
   "metadata": {},
   "outputs": [
    {
     "name": "stdout",
     "output_type": "stream",
     "text": [
      "range(2, 11, 2)\n",
      "2\n",
      "_________________________________________________________________\n",
      "Layer (type)                 Output Shape              Param #   \n",
      "=================================================================\n",
      "first (Dense)                (None, 32)                25120     \n",
      "_________________________________________________________________\n",
      "hidden_0 (Dense)             (None, 32)                1056      \n",
      "_________________________________________________________________\n",
      "hidden_1 (Dense)             (None, 32)                1056      \n",
      "_________________________________________________________________\n",
      "last (Dense)                 (None, 10)                330       \n",
      "=================================================================\n",
      "Total params: 27,562\n",
      "Trainable params: 27,562\n",
      "Non-trainable params: 0\n",
      "_________________________________________________________________\n",
      "None\n",
      "Epoch 1/100\n",
      "60000/60000 [==============================] - 6s - loss: 0.9609 - acc: 0.7217     \n",
      "Epoch 2/100\n",
      "60000/60000 [==============================] - 4s - loss: 0.2994 - acc: 0.9188     \n",
      "Epoch 3/100\n",
      "60000/60000 [==============================] - 4s - loss: 0.1974 - acc: 0.9456     \n",
      "Epoch 4/100\n",
      "60000/60000 [==============================] - 5s - loss: 0.1587 - acc: 0.9556     \n",
      "Epoch 5/100\n",
      "60000/60000 [==============================] - 5s - loss: 0.1357 - acc: 0.9607     \n",
      "Epoch 6/100\n",
      "60000/60000 [==============================] - 4s - loss: 0.1191 - acc: 0.9655     \n",
      "Epoch 7/100\n",
      "60000/60000 [==============================] - 4s - loss: 0.1070 - acc: 0.9690     \n",
      "Epoch 8/100\n",
      "60000/60000 [==============================] - 4s - loss: 0.0979 - acc: 0.9718     \n",
      "Epoch 9/100\n",
      "60000/60000 [==============================] - 4s - loss: 0.0892 - acc: 0.9740     \n",
      "Epoch 10/100\n",
      "60000/60000 [==============================] - 4s - loss: 0.0829 - acc: 0.9759     \n",
      "Epoch 11/100\n",
      "60000/60000 [==============================] - 4s - loss: 0.0764 - acc: 0.9776     \n",
      "Epoch 12/100\n",
      "60000/60000 [==============================] - 4s - loss: 0.0718 - acc: 0.9790     \n",
      "Epoch 13/100\n",
      "60000/60000 [==============================] - 4s - loss: 0.0672 - acc: 0.9804     \n",
      "Epoch 14/100\n",
      "60000/60000 [==============================] - 4s - loss: 0.0636 - acc: 0.9813     - ETA: 0s - loss: 0\n",
      "Epoch 15/100\n",
      "60000/60000 [==============================] - 4s - loss: 0.0594 - acc: 0.9823     \n",
      "Epoch 16/100\n",
      "60000/60000 [==============================] - 4s - loss: 0.0550 - acc: 0.9832     \n",
      "Epoch 17/100\n",
      "60000/60000 [==============================] - 4s - loss: 0.0527 - acc: 0.9840     \n",
      "Epoch 18/100\n",
      "60000/60000 [==============================] - 4s - loss: 0.0486 - acc: 0.9854     \n",
      "Epoch 19/100\n",
      "60000/60000 [==============================] - 4s - loss: 0.0466 - acc: 0.9863     \n",
      "Epoch 20/100\n",
      "60000/60000 [==============================] - 4s - loss: 0.0439 - acc: 0.9868     \n",
      "Epoch 21/100\n",
      "60000/60000 [==============================] - 4s - loss: 0.0413 - acc: 0.9875     \n",
      "Epoch 22/100\n",
      "60000/60000 [==============================] - 4s - loss: 0.0396 - acc: 0.9883     \n",
      "Epoch 23/100\n",
      "60000/60000 [==============================] - 4s - loss: 0.0367 - acc: 0.9887     \n",
      "Epoch 24/100\n",
      "60000/60000 [==============================] - 4s - loss: 0.0352 - acc: 0.9895     \n",
      "Epoch 25/100\n",
      "60000/60000 [==============================] - 4s - loss: 0.0337 - acc: 0.9904     \n",
      "Epoch 26/100\n",
      "60000/60000 [==============================] - 4s - loss: 0.0320 - acc: 0.9904     \n",
      "Epoch 27/100\n",
      "60000/60000 [==============================] - 4s - loss: 0.0303 - acc: 0.9908     \n",
      "Epoch 28/100\n",
      "60000/60000 [==============================] - 4s - loss: 0.0289 - acc: 0.9915     \n",
      "Epoch 29/100\n",
      "60000/60000 [==============================] - 4s - loss: 0.0278 - acc: 0.9922     \n",
      "Epoch 30/100\n",
      "60000/60000 [==============================] - 4s - loss: 0.0259 - acc: 0.9926     \n",
      "Epoch 31/100\n",
      "60000/60000 [==============================] - 4s - loss: 0.0248 - acc: 0.9923     \n",
      "Epoch 32/100\n",
      "60000/60000 [==============================] - 4s - loss: 0.0247 - acc: 0.9928     \n",
      "Epoch 33/100\n",
      "60000/60000 [==============================] - 4s - loss: 0.0229 - acc: 0.9933     \n",
      "Epoch 34/100\n",
      "60000/60000 [==============================] - 4s - loss: 0.0218 - acc: 0.9938     \n",
      "Epoch 35/100\n",
      "60000/60000 [==============================] - 4s - loss: 0.0202 - acc: 0.9942     \n",
      "Epoch 36/100\n",
      "60000/60000 [==============================] - 4s - loss: 0.0208 - acc: 0.9939     \n",
      "Epoch 37/100\n",
      "60000/60000 [==============================] - 4s - loss: 0.0195 - acc: 0.9941     \n",
      "Epoch 38/100\n",
      "60000/60000 [==============================] - 4s - loss: 0.0187 - acc: 0.9943     \n",
      "Epoch 39/100\n",
      "60000/60000 [==============================] - 4s - loss: 0.0173 - acc: 0.9951     \n",
      "Epoch 40/100\n",
      "60000/60000 [==============================] - 4s - loss: 0.0161 - acc: 0.9955     \n",
      "Epoch 41/100\n",
      "60000/60000 [==============================] - 4s - loss: 0.0164 - acc: 0.9953     \n",
      "Epoch 42/100\n",
      "60000/60000 [==============================] - 5s - loss: 0.0158 - acc: 0.9950     \n",
      "Epoch 43/100\n",
      "60000/60000 [==============================] - 4s - loss: 0.0150 - acc: 0.9956     \n",
      "Epoch 44/100\n",
      "60000/60000 [==============================] - 4s - loss: 0.0142 - acc: 0.9961     \n",
      "Epoch 45/100\n",
      "60000/60000 [==============================] - 4s - loss: 0.0140 - acc: 0.9958     \n",
      " 9600/10000 [===========================>..] - ETA: 0s"
     ]
    },
    {
     "name": "stderr",
     "output_type": "stream",
     "text": [
      "[INFO 2019-06-18 10:48:27,849 cleverhans] Constructing new graph for attack FastGradientMethod\n"
     ]
    },
    {
     "name": "stdout",
     "output_type": "stream",
     "text": [
      " 9056/10000 [==========================>...] - ETA: 0s4\n",
      "_________________________________________________________________\n",
      "Layer (type)                 Output Shape              Param #   \n",
      "=================================================================\n",
      "first (Dense)                (None, 32)                25120     \n",
      "_________________________________________________________________\n",
      "hidden_0 (Dense)             (None, 32)                1056      \n",
      "_________________________________________________________________\n",
      "hidden_1 (Dense)             (None, 32)                1056      \n",
      "_________________________________________________________________\n",
      "hidden_2 (Dense)             (None, 32)                1056      \n",
      "_________________________________________________________________\n",
      "hidden_3 (Dense)             (None, 32)                1056      \n",
      "_________________________________________________________________\n",
      "last (Dense)                 (None, 10)                330       \n",
      "=================================================================\n",
      "Total params: 29,674\n",
      "Trainable params: 29,674\n",
      "Non-trainable params: 0\n",
      "_________________________________________________________________\n",
      "None\n",
      "Epoch 1/100\n",
      "60000/60000 [==============================] - 6s - loss: 1.3773 - acc: 0.4867     \n",
      "Epoch 2/100\n",
      "60000/60000 [==============================] - 4s - loss: 0.5953 - acc: 0.8270     \n",
      "Epoch 3/100\n",
      "60000/60000 [==============================] - 4s - loss: 0.3887 - acc: 0.9011     \n",
      "Epoch 4/100\n",
      "60000/60000 [==============================] - 4s - loss: 0.3146 - acc: 0.9175     \n",
      "Epoch 5/100\n",
      "60000/60000 [==============================] - 4s - loss: 0.2764 - acc: 0.9258     \n",
      "Epoch 6/100\n",
      "60000/60000 [==============================] - 4s - loss: 0.2499 - acc: 0.9334     \n",
      "Epoch 7/100\n",
      "60000/60000 [==============================] - 4s - loss: 0.2297 - acc: 0.9387     \n",
      "Epoch 8/100\n",
      "60000/60000 [==============================] - 4s - loss: 0.2160 - acc: 0.9428     \n",
      "Epoch 9/100\n",
      "60000/60000 [==============================] - 4s - loss: 0.2031 - acc: 0.9464     \n",
      "Epoch 10/100\n",
      "60000/60000 [==============================] - 4s - loss: 0.1899 - acc: 0.9499     \n",
      "Epoch 11/100\n",
      "60000/60000 [==============================] - 4s - loss: 0.1798 - acc: 0.9523     \n",
      "Epoch 12/100\n",
      "60000/60000 [==============================] - 4s - loss: 0.1700 - acc: 0.9547     \n",
      "Epoch 13/100\n",
      "60000/60000 [==============================] - 4s - loss: 0.1624 - acc: 0.9566     \n",
      "Epoch 14/100\n",
      "60000/60000 [==============================] - 4s - loss: 0.1554 - acc: 0.9582     \n",
      "Epoch 15/100\n",
      "60000/60000 [==============================] - 4s - loss: 0.1473 - acc: 0.9610     \n",
      "Epoch 16/100\n",
      "60000/60000 [==============================] - 5s - loss: 0.1419 - acc: 0.9621     \n",
      "Epoch 17/100\n",
      "60000/60000 [==============================] - 4s - loss: 0.1358 - acc: 0.9643     \n",
      "Epoch 18/100\n",
      "60000/60000 [==============================] - 5s - loss: 0.1295 - acc: 0.9660     \n",
      "Epoch 19/100\n",
      "60000/60000 [==============================] - 5s - loss: 0.1230 - acc: 0.9671     \n",
      "Epoch 20/100\n",
      "60000/60000 [==============================] - 4s - loss: 0.1180 - acc: 0.9685     \n",
      "Epoch 21/100\n",
      "60000/60000 [==============================] - 4s - loss: 0.1120 - acc: 0.9708     \n",
      "Epoch 22/100\n",
      "60000/60000 [==============================] - 4s - loss: 0.1094 - acc: 0.9708     \n",
      "Epoch 23/100\n",
      "60000/60000 [==============================] - 4s - loss: 0.1055 - acc: 0.9719     \n",
      "Epoch 24/100\n",
      "60000/60000 [==============================] - 4s - loss: 0.1015 - acc: 0.9726     \n",
      "Epoch 25/100\n",
      "60000/60000 [==============================] - 4s - loss: 0.0977 - acc: 0.9735     \n",
      "Epoch 26/100\n",
      "60000/60000 [==============================] - 4s - loss: 0.0942 - acc: 0.9750     \n",
      "Epoch 27/100\n",
      "60000/60000 [==============================] - 4s - loss: 0.0912 - acc: 0.9754     \n",
      "Epoch 28/100\n",
      "60000/60000 [==============================] - 4s - loss: 0.0882 - acc: 0.9762     \n",
      "Epoch 29/100\n",
      "60000/60000 [==============================] - 4s - loss: 0.0850 - acc: 0.9766     \n",
      "Epoch 30/100\n",
      "60000/60000 [==============================] - 4s - loss: 0.0818 - acc: 0.9784     \n",
      "Epoch 31/100\n",
      "60000/60000 [==============================] - 4s - loss: 0.0800 - acc: 0.9779     \n",
      "Epoch 32/100\n",
      "60000/60000 [==============================] - 4s - loss: 0.0785 - acc: 0.9781     - ETA: 0s - loss: 0.0802 \n",
      "Epoch 33/100\n",
      "60000/60000 [==============================] - 4s - loss: 0.0754 - acc: 0.9786     \n",
      "Epoch 34/100\n",
      "60000/60000 [==============================] - 4s - loss: 0.0726 - acc: 0.9798     \n",
      "Epoch 35/100\n",
      "60000/60000 [==============================] - 4s - loss: 0.0697 - acc: 0.9812     \n",
      "Epoch 36/100\n",
      "60000/60000 [==============================] - 5s - loss: 0.0688 - acc: 0.9807     \n",
      "Epoch 37/100\n",
      "60000/60000 [==============================] - 5s - loss: 0.0668 - acc: 0.9815     \n",
      "Epoch 38/100\n",
      "60000/60000 [==============================] - 5s - loss: 0.0644 - acc: 0.9825     \n",
      "Epoch 39/100\n",
      "60000/60000 [==============================] - 4s - loss: 0.0652 - acc: 0.9816     \n",
      "Epoch 40/100\n",
      "60000/60000 [==============================] - 4s - loss: 0.0603 - acc: 0.9835     \n",
      "Epoch 41/100\n",
      "60000/60000 [==============================] - 4s - loss: 0.0603 - acc: 0.9834     \n",
      "Epoch 42/100\n",
      "60000/60000 [==============================] - 4s - loss: 0.0573 - acc: 0.9846     \n",
      "Epoch 43/100\n",
      "60000/60000 [==============================] - 4s - loss: 0.0583 - acc: 0.9843     \n",
      "Epoch 44/100\n",
      "60000/60000 [==============================] - 4s - loss: 0.0551 - acc: 0.9852     - ETA: 0s - loss: 0.0556 - ac\n",
      "Epoch 45/100\n",
      "60000/60000 [==============================] - 4s - loss: 0.0547 - acc: 0.9850     \n",
      "Epoch 46/100\n",
      "60000/60000 [==============================] - 4s - loss: 0.0538 - acc: 0.9855     \n",
      "Epoch 47/100\n",
      "60000/60000 [==============================] - 4s - loss: 0.0512 - acc: 0.9863     \n",
      "Epoch 48/100\n",
      "60000/60000 [==============================] - 4s - loss: 0.0518 - acc: 0.9859     \n",
      "Epoch 49/100\n",
      "60000/60000 [==============================] - 5s - loss: 0.0502 - acc: 0.9869     \n",
      "Epoch 50/100\n",
      "60000/60000 [==============================] - 5s - loss: 0.0495 - acc: 0.9864     \n",
      "Epoch 51/100\n",
      "60000/60000 [==============================] - 5s - loss: 0.0480 - acc: 0.9871     \n",
      "Epoch 52/100\n",
      "60000/60000 [==============================] - 4s - loss: 0.0462 - acc: 0.9874     \n",
      "Epoch 53/100\n",
      "60000/60000 [==============================] - 4s - loss: 0.0454 - acc: 0.9878     \n",
      "Epoch 54/100\n",
      "60000/60000 [==============================] - 4s - loss: 0.0452 - acc: 0.9879     \n",
      "Epoch 55/100\n",
      "60000/60000 [==============================] - 4s - loss: 0.0451 - acc: 0.9878     \n",
      "Epoch 56/100\n",
      "60000/60000 [==============================] - 4s - loss: 0.0441 - acc: 0.9881     \n",
      "Epoch 57/100\n",
      "60000/60000 [==============================] - 5s - loss: 0.0409 - acc: 0.9896     \n",
      "Epoch 58/100\n",
      "60000/60000 [==============================] - 4s - loss: 0.0442 - acc: 0.9881     \n",
      "Epoch 59/100\n",
      "60000/60000 [==============================] - 4s - loss: 0.0423 - acc: 0.9884     \n",
      "Epoch 60/100\n",
      "60000/60000 [==============================] - 4s - loss: 0.0410 - acc: 0.9889     \n",
      "Epoch 61/100\n",
      "60000/60000 [==============================] - 4s - loss: 0.0407 - acc: 0.9893     \n",
      "Epoch 62/100\n",
      "60000/60000 [==============================] - 4s - loss: 0.0387 - acc: 0.9899     \n",
      " 9792/10000 [============================>.] - ETA: 0s"
     ]
    },
    {
     "name": "stderr",
     "output_type": "stream",
     "text": [
      "[INFO 2019-06-18 10:53:36,185 cleverhans] Constructing new graph for attack FastGradientMethod\n"
     ]
    },
    {
     "name": "stdout",
     "output_type": "stream",
     "text": [
      " 8960/10000 [=========================>....] - ETA: 0s6\n",
      "_________________________________________________________________\n",
      "Layer (type)                 Output Shape              Param #   \n",
      "=================================================================\n",
      "first (Dense)                (None, 32)                25120     \n",
      "_________________________________________________________________\n",
      "hidden_0 (Dense)             (None, 32)                1056      \n",
      "_________________________________________________________________\n",
      "hidden_1 (Dense)             (None, 32)                1056      \n",
      "_________________________________________________________________\n",
      "hidden_2 (Dense)             (None, 32)                1056      \n",
      "_________________________________________________________________\n",
      "hidden_3 (Dense)             (None, 32)                1056      \n",
      "_________________________________________________________________\n",
      "hidden_4 (Dense)             (None, 32)                1056      \n",
      "_________________________________________________________________\n",
      "hidden_5 (Dense)             (None, 32)                1056      \n",
      "_________________________________________________________________\n",
      "last (Dense)                 (None, 10)                330       \n",
      "=================================================================\n",
      "Total params: 31,786\n",
      "Trainable params: 31,786\n",
      "Non-trainable params: 0\n",
      "_________________________________________________________________\n",
      "None\n",
      "Epoch 1/100\n",
      "60000/60000 [==============================] - 6s - loss: 1.7634 - acc: 0.2731     \n",
      "Epoch 2/100\n",
      "60000/60000 [==============================] - 5s - loss: 1.1674 - acc: 0.5197     \n",
      "Epoch 3/100\n",
      "60000/60000 [==============================] - 5s - loss: 0.9067 - acc: 0.6626     \n",
      "Epoch 4/100\n",
      "60000/60000 [==============================] - 5s - loss: 0.7798 - acc: 0.7064     \n",
      "Epoch 5/100\n",
      "60000/60000 [==============================] - 5s - loss: 0.7079 - acc: 0.7453     \n",
      "Epoch 6/100\n",
      "60000/60000 [==============================] - 5s - loss: 0.5650 - acc: 0.8195     \n",
      "Epoch 7/100\n",
      "60000/60000 [==============================] - 5s - loss: 0.4216 - acc: 0.8827     \n",
      "Epoch 8/100\n",
      "60000/60000 [==============================] - 5s - loss: 0.3330 - acc: 0.9132     \n",
      "Epoch 9/100\n",
      "60000/60000 [==============================] - 5s - loss: 0.2918 - acc: 0.9256     \n",
      "Epoch 10/100\n",
      "60000/60000 [==============================] - 5s - loss: 0.2657 - acc: 0.9322     \n",
      "Epoch 11/100\n",
      "60000/60000 [==============================] - 5s - loss: 0.2447 - acc: 0.9376     \n",
      "Epoch 12/100\n",
      "60000/60000 [==============================] - 5s - loss: 0.2264 - acc: 0.9424     \n",
      "Epoch 13/100\n",
      "60000/60000 [==============================] - 5s - loss: 0.2148 - acc: 0.9459     \n",
      "Epoch 14/100\n",
      "60000/60000 [==============================] - 4s - loss: 0.2063 - acc: 0.9475     \n",
      "Epoch 15/100\n",
      "60000/60000 [==============================] - 4s - loss: 0.1965 - acc: 0.9494     \n",
      "Epoch 16/100\n",
      "60000/60000 [==============================] - 5s - loss: 0.1872 - acc: 0.9519     \n",
      "Epoch 17/100\n",
      "60000/60000 [==============================] - 4s - loss: 0.1802 - acc: 0.9541     \n",
      "Epoch 18/100\n",
      "60000/60000 [==============================] - 4s - loss: 0.1743 - acc: 0.9555     \n",
      "Epoch 19/100\n",
      "60000/60000 [==============================] - 4s - loss: 0.1690 - acc: 0.9572     \n",
      "Epoch 20/100\n",
      "60000/60000 [==============================] - 4s - loss: 0.1654 - acc: 0.9579     \n",
      "Epoch 21/100\n",
      "60000/60000 [==============================] - 4s - loss: 0.1600 - acc: 0.9597     \n",
      "Epoch 22/100\n",
      "60000/60000 [==============================] - 4s - loss: 0.1556 - acc: 0.9602     \n",
      "Epoch 23/100\n",
      "60000/60000 [==============================] - 4s - loss: 0.1522 - acc: 0.9609     \n",
      "Epoch 24/100\n",
      "60000/60000 [==============================] - 4s - loss: 0.1477 - acc: 0.9625     \n",
      "Epoch 25/100\n",
      "60000/60000 [==============================] - 4s - loss: 0.1428 - acc: 0.9635     \n",
      "Epoch 26/100\n",
      "60000/60000 [==============================] - 4s - loss: 0.1385 - acc: 0.9645     \n",
      "Epoch 27/100\n",
      "60000/60000 [==============================] - 4s - loss: 0.1365 - acc: 0.9648     \n",
      "Epoch 28/100\n",
      "60000/60000 [==============================] - 4s - loss: 0.1347 - acc: 0.9654     \n",
      "Epoch 29/100\n",
      "60000/60000 [==============================] - 5s - loss: 0.1306 - acc: 0.9665     \n",
      "Epoch 30/100\n",
      "60000/60000 [==============================] - 4s - loss: 0.1303 - acc: 0.9664     - ETA: 3s \n",
      "Epoch 31/100\n",
      "60000/60000 [==============================] - 4s - loss: 0.1248 - acc: 0.9683     \n",
      "Epoch 32/100\n",
      "60000/60000 [==============================] - 4s - loss: 0.1238 - acc: 0.9687     \n",
      "Epoch 33/100\n",
      "60000/60000 [==============================] - 4s - loss: 0.1205 - acc: 0.9685     \n",
      "Epoch 34/100\n",
      "60000/60000 [==============================] - 4s - loss: 0.1176 - acc: 0.9695     \n",
      "Epoch 35/100\n",
      "60000/60000 [==============================] - 4s - loss: 0.1170 - acc: 0.9700     \n",
      "Epoch 36/100\n",
      "60000/60000 [==============================] - 4s - loss: 0.1141 - acc: 0.9711     \n",
      "Epoch 37/100\n",
      "60000/60000 [==============================] - 4s - loss: 0.1119 - acc: 0.9708     \n",
      "Epoch 38/100\n",
      "60000/60000 [==============================] - 4s - loss: 0.1102 - acc: 0.9715     \n",
      "Epoch 39/100\n",
      "60000/60000 [==============================] - 5s - loss: 0.1093 - acc: 0.9719     \n",
      "Epoch 40/100\n",
      "60000/60000 [==============================] - 5s - loss: 0.1072 - acc: 0.9721     \n",
      "Epoch 41/100\n",
      "60000/60000 [==============================] - 4s - loss: 0.1076 - acc: 0.9716     \n",
      "Epoch 42/100\n",
      "60000/60000 [==============================] - 4s - loss: 0.1031 - acc: 0.9729     \n",
      "Epoch 43/100\n",
      "60000/60000 [==============================] - 4s - loss: 0.1018 - acc: 0.9737     \n",
      "Epoch 44/100\n",
      "60000/60000 [==============================] - 4s - loss: 0.0991 - acc: 0.9739     \n",
      "Epoch 45/100\n",
      "60000/60000 [==============================] - 4s - loss: 0.1008 - acc: 0.9734     \n",
      "Epoch 46/100\n",
      "60000/60000 [==============================] - 4s - loss: 0.0978 - acc: 0.9742     \n",
      "Epoch 47/100\n",
      "60000/60000 [==============================] - 4s - loss: 0.0944 - acc: 0.9753     \n",
      "Epoch 48/100\n",
      "60000/60000 [==============================] - 4s - loss: 0.0940 - acc: 0.9749     \n",
      "Epoch 49/100\n",
      "60000/60000 [==============================] - 4s - loss: 0.0950 - acc: 0.9749     \n",
      "Epoch 50/100\n",
      "60000/60000 [==============================] - 4s - loss: 0.0923 - acc: 0.9760     \n",
      "Epoch 51/100\n",
      "60000/60000 [==============================] - 4s - loss: 0.0930 - acc: 0.9749     \n",
      "Epoch 52/100\n",
      "60000/60000 [==============================] - 4s - loss: 0.0882 - acc: 0.9766     \n",
      "Epoch 53/100\n",
      "60000/60000 [==============================] - 4s - loss: 0.0874 - acc: 0.9767     \n",
      "Epoch 54/100\n",
      "60000/60000 [==============================] - 4s - loss: 0.0857 - acc: 0.9771     \n",
      "Epoch 55/100\n",
      "60000/60000 [==============================] - 5s - loss: 0.0840 - acc: 0.9775     \n",
      "Epoch 56/100\n",
      "60000/60000 [==============================] - 5s - loss: 0.0825 - acc: 0.9780     \n",
      "Epoch 57/100\n",
      "60000/60000 [==============================] - 5s - loss: 0.0819 - acc: 0.9781     \n",
      "Epoch 58/100\n",
      "60000/60000 [==============================] - 5s - loss: 0.0793 - acc: 0.9790     \n",
      "Epoch 59/100\n",
      "60000/60000 [==============================] - 6s - loss: 0.0792 - acc: 0.9789     \n",
      "Epoch 60/100\n",
      "60000/60000 [==============================] - 5s - loss: 0.0791 - acc: 0.9795     \n",
      "Epoch 61/100\n",
      "60000/60000 [==============================] - 5s - loss: 0.0787 - acc: 0.9791     \n",
      "Epoch 62/100\n",
      "60000/60000 [==============================] - 5s - loss: 0.0760 - acc: 0.9794     \n",
      "Epoch 63/100\n",
      "60000/60000 [==============================] - 5s - loss: 0.0768 - acc: 0.9800     \n",
      " 9856/10000 [============================>.] - ETA: 0s"
     ]
    },
    {
     "name": "stderr",
     "output_type": "stream",
     "text": [
      "[INFO 2019-06-18 10:59:03,020 cleverhans] Constructing new graph for attack FastGradientMethod\n"
     ]
    },
    {
     "name": "stdout",
     "output_type": "stream",
     "text": [
      " 9600/10000 [===========================>..] - ETA: 0s8\n",
      "_________________________________________________________________\n",
      "Layer (type)                 Output Shape              Param #   \n",
      "=================================================================\n",
      "first (Dense)                (None, 32)                25120     \n",
      "_________________________________________________________________\n",
      "hidden_0 (Dense)             (None, 32)                1056      \n",
      "_________________________________________________________________\n",
      "hidden_1 (Dense)             (None, 32)                1056      \n",
      "_________________________________________________________________\n",
      "hidden_2 (Dense)             (None, 32)                1056      \n",
      "_________________________________________________________________\n",
      "hidden_3 (Dense)             (None, 32)                1056      \n",
      "_________________________________________________________________\n",
      "hidden_4 (Dense)             (None, 32)                1056      \n",
      "_________________________________________________________________\n",
      "hidden_5 (Dense)             (None, 32)                1056      \n",
      "_________________________________________________________________\n",
      "hidden_6 (Dense)             (None, 32)                1056      \n",
      "_________________________________________________________________\n",
      "hidden_7 (Dense)             (None, 32)                1056      \n",
      "_________________________________________________________________\n",
      "last (Dense)                 (None, 10)                330       \n",
      "=================================================================\n",
      "Total params: 33,898\n",
      "Trainable params: 33,898\n",
      "Non-trainable params: 0\n",
      "_________________________________________________________________\n",
      "None\n",
      "Epoch 1/100\n",
      "60000/60000 [==============================] - 7s - loss: 1.9585 - acc: 0.1867     \n",
      "Epoch 2/100\n",
      "60000/60000 [==============================] - 5s - loss: 1.5093 - acc: 0.3618     \n",
      "Epoch 3/100\n",
      "60000/60000 [==============================] - 5s - loss: 1.0879 - acc: 0.5535     \n",
      "Epoch 4/100\n",
      "60000/60000 [==============================] - 5s - loss: 0.8822 - acc: 0.6641     \n",
      "Epoch 5/100\n",
      "60000/60000 [==============================] - 5s - loss: 0.7553 - acc: 0.7087     - ETA: 1\n",
      "Epoch 6/100\n",
      "60000/60000 [==============================] - 5s - loss: 0.7040 - acc: 0.7227     \n",
      "Epoch 7/100\n",
      "60000/60000 [==============================] - 5s - loss: 0.6737 - acc: 0.7321     \n",
      "Epoch 8/100\n",
      "60000/60000 [==============================] - 5s - loss: 0.6511 - acc: 0.7406     \n",
      "Epoch 9/100\n",
      "60000/60000 [==============================] - 5s - loss: 0.6351 - acc: 0.7529     \n",
      "Epoch 10/100\n",
      "60000/60000 [==============================] - 5s - loss: 0.5968 - acc: 0.7881     \n",
      "Epoch 11/100\n",
      "60000/60000 [==============================] - 5s - loss: 0.5167 - acc: 0.8474     \n",
      "Epoch 12/100\n",
      "60000/60000 [==============================] - 5s - loss: 0.4580 - acc: 0.8797     \n",
      "Epoch 13/100\n",
      "60000/60000 [==============================] - 5s - loss: 0.4214 - acc: 0.8946     \n",
      "Epoch 14/100\n",
      "60000/60000 [==============================] - 5s - loss: 0.3902 - acc: 0.9058     \n",
      "Epoch 15/100\n",
      "60000/60000 [==============================] - 5s - loss: 0.3668 - acc: 0.9128     \n",
      "Epoch 16/100\n",
      "60000/60000 [==============================] - 5s - loss: 0.3492 - acc: 0.9164     \n",
      "Epoch 17/100\n",
      "60000/60000 [==============================] - 5s - loss: 0.3318 - acc: 0.9215     \n",
      "Epoch 18/100\n",
      "60000/60000 [==============================] - 5s - loss: 0.3105 - acc: 0.9264     \n",
      "Epoch 19/100\n",
      "60000/60000 [==============================] - 5s - loss: 0.2781 - acc: 0.9308     \n",
      "Epoch 20/100\n",
      "60000/60000 [==============================] - 5s - loss: 0.2537 - acc: 0.9352     \n",
      "Epoch 21/100\n",
      "60000/60000 [==============================] - 5s - loss: 0.2354 - acc: 0.9394     \n",
      "Epoch 22/100\n",
      "60000/60000 [==============================] - 5s - loss: 0.2255 - acc: 0.9411     \n",
      "Epoch 23/100\n",
      "60000/60000 [==============================] - 5s - loss: 0.2125 - acc: 0.9451     \n",
      "Epoch 24/100\n",
      "60000/60000 [==============================] - 5s - loss: 0.2056 - acc: 0.9461     \n",
      "Epoch 25/100\n",
      "60000/60000 [==============================] - 5s - loss: 0.1949 - acc: 0.9485     \n",
      "Epoch 26/100\n",
      "60000/60000 [==============================] - 5s - loss: 0.1888 - acc: 0.9505     \n",
      "Epoch 27/100\n",
      "60000/60000 [==============================] - 5s - loss: 0.1821 - acc: 0.9527     \n",
      "Epoch 28/100\n",
      "60000/60000 [==============================] - 5s - loss: 0.1748 - acc: 0.9545     \n",
      "Epoch 29/100\n",
      "60000/60000 [==============================] - 5s - loss: 0.1702 - acc: 0.9555     \n",
      "Epoch 30/100\n",
      "60000/60000 [==============================] - 5s - loss: 0.1643 - acc: 0.9566     \n",
      "Epoch 31/100\n",
      "60000/60000 [==============================] - 5s - loss: 0.1586 - acc: 0.9583     \n",
      "Epoch 32/100\n",
      "60000/60000 [==============================] - 284s - loss: 0.1536 - acc: 0.9599   \n",
      "Epoch 33/100\n",
      "60000/60000 [==============================] - 12s - loss: 0.1508 - acc: 0.9604    \n",
      "Epoch 34/100\n",
      "60000/60000 [==============================] - 11s - loss: 0.1479 - acc: 0.9614    \n",
      "Epoch 35/100\n",
      "60000/60000 [==============================] - 5s - loss: 0.1434 - acc: 0.9627     \n",
      "Epoch 36/100\n",
      "60000/60000 [==============================] - 4s - loss: 0.1377 - acc: 0.9643     \n",
      "Epoch 37/100\n",
      "60000/60000 [==============================] - 4s - loss: 0.1347 - acc: 0.9652     \n",
      "Epoch 38/100\n",
      "60000/60000 [==============================] - 4s - loss: 0.1323 - acc: 0.9658     \n",
      "Epoch 39/100\n",
      "60000/60000 [==============================] - 4s - loss: 0.1307 - acc: 0.9667     \n",
      "Epoch 40/100\n",
      "60000/60000 [==============================] - 5s - loss: 0.1254 - acc: 0.9677     \n",
      "Epoch 41/100\n",
      "60000/60000 [==============================] - 624s - loss: 0.1222 - acc: 0.9690   \n",
      "Epoch 42/100\n",
      "60000/60000 [==============================] - 5s - loss: 0.1199 - acc: 0.9696     \n",
      "Epoch 43/100\n",
      "60000/60000 [==============================] - 16s - loss: 0.1180 - acc: 0.9705    \n",
      "Epoch 44/100\n",
      "60000/60000 [==============================] - 4s - loss: 0.1134 - acc: 0.9711     \n",
      "Epoch 45/100\n",
      "60000/60000 [==============================] - 4s - loss: 0.1115 - acc: 0.9707     \n",
      "Epoch 46/100\n",
      "60000/60000 [==============================] - 4s - loss: 0.1072 - acc: 0.9729     \n",
      "Epoch 47/100\n",
      "60000/60000 [==============================] - 4s - loss: 0.1058 - acc: 0.9738     \n",
      "Epoch 48/100\n",
      "60000/60000 [==============================] - 4s - loss: 0.1048 - acc: 0.9735     \n",
      "Epoch 49/100\n",
      "60000/60000 [==============================] - 4s - loss: 0.1032 - acc: 0.9739     \n",
      "Epoch 50/100\n",
      "60000/60000 [==============================] - 616s - loss: 0.0992 - acc: 0.9745   \n",
      "Epoch 51/100\n",
      "60000/60000 [==============================] - 5s - loss: 0.0969 - acc: 0.9757     \n",
      "Epoch 52/100\n",
      "60000/60000 [==============================] - 8s - loss: 0.0954 - acc: 0.9757     \n",
      "Epoch 53/100\n",
      "60000/60000 [==============================] - 7s - loss: 0.0936 - acc: 0.9763     \n",
      "Epoch 54/100\n",
      "60000/60000 [==============================] - 6s - loss: 0.0914 - acc: 0.9773     \n",
      "Epoch 55/100\n",
      "60000/60000 [==============================] - 5s - loss: 0.0922 - acc: 0.9767     \n",
      "Epoch 56/100\n",
      "60000/60000 [==============================] - 5s - loss: 0.0874 - acc: 0.9782     \n",
      "Epoch 57/100\n",
      "60000/60000 [==============================] - 5s - loss: 0.0856 - acc: 0.9792     \n",
      "Epoch 58/100\n",
      "60000/60000 [==============================] - 5s - loss: 0.0841 - acc: 0.9789     \n",
      "Epoch 59/100\n",
      "60000/60000 [==============================] - 5s - loss: 0.0836 - acc: 0.9783     \n",
      "Epoch 60/100\n",
      "60000/60000 [==============================] - 5s - loss: 0.0818 - acc: 0.9791     \n",
      "Epoch 61/100\n",
      "60000/60000 [==============================] - 5s - loss: 0.0791 - acc: 0.9803     \n",
      "Epoch 62/100\n",
      "60000/60000 [==============================] - 4s - loss: 0.0776 - acc: 0.9807     \n",
      "Epoch 63/100\n",
      "60000/60000 [==============================] - 4s - loss: 0.0757 - acc: 0.9809     \n",
      "Epoch 64/100\n",
      "60000/60000 [==============================] - 4s - loss: 0.0754 - acc: 0.9802     \n",
      "Epoch 65/100\n",
      "60000/60000 [==============================] - 4s - loss: 0.0731 - acc: 0.9816     \n",
      "Epoch 66/100\n",
      "60000/60000 [==============================] - 4s - loss: 0.0739 - acc: 0.9806     \n",
      "Epoch 67/100\n",
      "60000/60000 [==============================] - 4s - loss: 0.0709 - acc: 0.9820     \n",
      "Epoch 68/100\n",
      "60000/60000 [==============================] - 4s - loss: 0.0686 - acc: 0.9825     \n",
      "Epoch 69/100\n",
      "60000/60000 [==============================] - 4s - loss: 0.0696 - acc: 0.9826     \n",
      "Epoch 70/100\n",
      "60000/60000 [==============================] - 4s - loss: 0.0662 - acc: 0.9834     \n",
      "Epoch 71/100\n",
      "60000/60000 [==============================] - 5s - loss: 0.0664 - acc: 0.9834     \n",
      "Epoch 72/100\n",
      "60000/60000 [==============================] - 4s - loss: 0.0645 - acc: 0.9838     \n",
      "Epoch 73/100\n",
      "60000/60000 [==============================] - 4s - loss: 0.0639 - acc: 0.9837     \n",
      "Epoch 74/100\n",
      "60000/60000 [==============================] - 4s - loss: 0.0652 - acc: 0.9837     \n",
      "Epoch 75/100\n",
      "60000/60000 [==============================] - 4s - loss: 0.0623 - acc: 0.9848     \n",
      "Epoch 76/100\n",
      "60000/60000 [==============================] - 4s - loss: 0.0623 - acc: 0.9842     \n",
      "Epoch 77/100\n",
      "60000/60000 [==============================] - 5s - loss: 0.0610 - acc: 0.9847     \n",
      " 9696/10000 [============================>.] - ETA: 0s"
     ]
    },
    {
     "name": "stderr",
     "output_type": "stream",
     "text": [
      "[INFO 2019-06-18 11:31:42,962 cleverhans] Constructing new graph for attack FastGradientMethod\n"
     ]
    },
    {
     "name": "stdout",
     "output_type": "stream",
     "text": [
      " 9280/10000 [==========================>...] - ETA: 0s10\n",
      "_________________________________________________________________\n",
      "Layer (type)                 Output Shape              Param #   \n",
      "=================================================================\n",
      "first (Dense)                (None, 32)                25120     \n",
      "_________________________________________________________________\n",
      "hidden_0 (Dense)             (None, 32)                1056      \n",
      "_________________________________________________________________\n",
      "hidden_1 (Dense)             (None, 32)                1056      \n",
      "_________________________________________________________________\n",
      "hidden_2 (Dense)             (None, 32)                1056      \n",
      "_________________________________________________________________\n",
      "hidden_3 (Dense)             (None, 32)                1056      \n",
      "_________________________________________________________________\n",
      "hidden_4 (Dense)             (None, 32)                1056      \n",
      "_________________________________________________________________\n",
      "hidden_5 (Dense)             (None, 32)                1056      \n",
      "_________________________________________________________________\n",
      "hidden_6 (Dense)             (None, 32)                1056      \n",
      "_________________________________________________________________\n",
      "hidden_7 (Dense)             (None, 32)                1056      \n",
      "_________________________________________________________________\n",
      "hidden_8 (Dense)             (None, 32)                1056      \n",
      "_________________________________________________________________\n",
      "hidden_9 (Dense)             (None, 32)                1056      \n",
      "_________________________________________________________________\n",
      "last (Dense)                 (None, 10)                330       \n",
      "=================================================================\n",
      "Total params: 36,010\n",
      "Trainable params: 36,010\n",
      "Non-trainable params: 0\n",
      "_________________________________________________________________\n",
      "None\n",
      "Epoch 1/100\n",
      "60000/60000 [==============================] - 8s - loss: 2.1000 - acc: 0.1714     \n",
      "Epoch 2/100\n",
      "60000/60000 [==============================] - 5s - loss: 1.9543 - acc: 0.2046     \n",
      "Epoch 3/100\n",
      "60000/60000 [==============================] - 6s - loss: 1.7865 - acc: 0.2538     \n",
      "Epoch 4/100\n",
      "60000/60000 [==============================] - 6s - loss: 1.2928 - acc: 0.4585     \n",
      "Epoch 5/100\n",
      "60000/60000 [==============================] - 6s - loss: 1.0297 - acc: 0.5727     \n",
      "Epoch 6/100\n",
      "60000/60000 [==============================] - 7s - loss: 0.8696 - acc: 0.6599     \n",
      "Epoch 7/100\n",
      "60000/60000 [==============================] - 6s - loss: 0.7173 - acc: 0.7710     \n",
      "Epoch 8/100\n",
      "60000/60000 [==============================] - 5s - loss: 0.5839 - acc: 0.8253     \n",
      "Epoch 9/100\n",
      "60000/60000 [==============================] - 5s - loss: 0.5234 - acc: 0.8590     \n",
      "Epoch 10/100\n",
      "60000/60000 [==============================] - 5s - loss: 0.4679 - acc: 0.8831     \n",
      "Epoch 11/100\n",
      "60000/60000 [==============================] - 5s - loss: 0.4316 - acc: 0.8944     \n",
      "Epoch 12/100\n",
      "60000/60000 [==============================] - 5s - loss: 0.4095 - acc: 0.9012     \n",
      "Epoch 13/100\n",
      "60000/60000 [==============================] - 5s - loss: 0.3943 - acc: 0.9058     \n",
      "Epoch 14/100\n",
      "60000/60000 [==============================] - 5s - loss: 0.3803 - acc: 0.9099     \n",
      "Epoch 15/100\n",
      "60000/60000 [==============================] - 5s - loss: 0.3649 - acc: 0.9148     \n",
      "Epoch 16/100\n",
      "60000/60000 [==============================] - 5s - loss: 0.3593 - acc: 0.9171     \n",
      "Epoch 17/100\n",
      "60000/60000 [==============================] - 5s - loss: 0.3470 - acc: 0.9197     \n",
      "Epoch 18/100\n",
      "60000/60000 [==============================] - 5s - loss: 0.3378 - acc: 0.9228     \n",
      "Epoch 19/100\n",
      "60000/60000 [==============================] - 5s - loss: 0.3312 - acc: 0.9253     \n",
      "Epoch 20/100\n",
      "60000/60000 [==============================] - 5s - loss: 0.3244 - acc: 0.9275     \n",
      "Epoch 21/100\n",
      "60000/60000 [==============================] - 5s - loss: 0.3251 - acc: 0.9270     \n",
      "Epoch 22/100\n",
      "60000/60000 [==============================] - 6s - loss: 0.3198 - acc: 0.9283     \n",
      "Epoch 23/100\n",
      "60000/60000 [==============================] - 5s - loss: 0.3110 - acc: 0.9305     \n",
      "Epoch 24/100\n",
      "60000/60000 [==============================] - 5s - loss: 0.3052 - acc: 0.9329     \n",
      "Epoch 25/100\n",
      "60000/60000 [==============================] - 5s - loss: 0.2955 - acc: 0.9345     \n",
      "Epoch 26/100\n",
      "60000/60000 [==============================] - 5s - loss: 0.2878 - acc: 0.9368     \n",
      "Epoch 27/100\n",
      "60000/60000 [==============================] - 5s - loss: 0.2937 - acc: 0.9362     \n",
      "Epoch 28/100\n",
      "60000/60000 [==============================] - 6s - loss: 0.2831 - acc: 0.9377     \n",
      "Epoch 29/100\n",
      "60000/60000 [==============================] - 5s - loss: 0.2810 - acc: 0.9388     \n",
      "Epoch 30/100\n",
      "60000/60000 [==============================] - 6s - loss: 0.2816 - acc: 0.9393     \n",
      "Epoch 31/100\n",
      "60000/60000 [==============================] - 6s - loss: 0.2771 - acc: 0.9394     \n",
      "Epoch 32/100\n",
      "60000/60000 [==============================] - 5s - loss: 0.2787 - acc: 0.9391     \n",
      "Epoch 33/100\n",
      "60000/60000 [==============================] - 5s - loss: 0.2749 - acc: 0.9407     \n",
      "Epoch 34/100\n",
      "60000/60000 [==============================] - 5s - loss: 0.2726 - acc: 0.9408     \n",
      "Epoch 35/100\n",
      "60000/60000 [==============================] - 5s - loss: 0.2639 - acc: 0.9432     \n",
      "Epoch 36/100\n",
      "60000/60000 [==============================] - 5s - loss: 0.2609 - acc: 0.9437     \n",
      "Epoch 37/100\n",
      "60000/60000 [==============================] - 5s - loss: 0.2720 - acc: 0.9408     \n",
      "Epoch 38/100\n",
      "60000/60000 [==============================] - 5s - loss: 0.2912 - acc: 0.9350     \n",
      "Epoch 39/100\n",
      "60000/60000 [==============================] - 5s - loss: 0.2680 - acc: 0.9413     \n",
      "Epoch 40/100\n",
      "60000/60000 [==============================] - 5s - loss: 0.2672 - acc: 0.9413     \n",
      " 9536/10000 [===========================>..] - ETA: 0s"
     ]
    },
    {
     "name": "stderr",
     "output_type": "stream",
     "text": [
      "[INFO 2019-06-18 11:35:50,534 cleverhans] Constructing new graph for attack FastGradientMethod\n"
     ]
    },
    {
     "name": "stdout",
     "output_type": "stream",
     "text": [
      " 9056/10000 [==========================>...] - ETA: 0s"
     ]
    }
   ],
   "source": [
    "from keras.callbacks import EarlyStopping\n",
    "\n",
    "num_hidden_range = range(2, 11, 2)\n",
    "print(num_hidden_range)\n",
    "regular_metrics = []\n",
    "blur_metrics = []\n",
    "adv_metrics = []\n",
    "models_saved = []\n",
    "early_stop = keras.callbacks.EarlyStopping(monitor='acc', min_delta=0.001, patience=4)\n",
    "\n",
    "\n",
    "for num_hidden in num_hidden_range:\n",
    "    print(num_hidden)\n",
    "    model = create_fully_connected(input_shape = input_shape, num_classes = num_classes, num_hidden = num_hidden, reg = 0)\n",
    "    print(model.summary())\n",
    "    model.compile(optimizer=\"adam\", loss='categorical_crossentropy', metrics=['accuracy'])    \n",
    "    sess.run(tf.global_variables_initializer()) \n",
    "    model.fit(x_train_flat, y_train, epochs = 100, callbacks = [early_stop])\n",
    "    models_saved.append(model)\n",
    "    regular_metrics.append(model.evaluate(x_test_flat, y_test))\n",
    "    blur_metrics.append(model.evaluate(x_test_blur_flat, y_test))\n",
    "    x_test_adv_flat = adv_generate(sess, KerasModelWrapper(model), 0.05, x_test_flat)\n",
    "    adv_metrics.append(model.evaluate(x_test_adv_flat, y_test))\n",
    "        "
   ]
  },
  {
   "cell_type": "code",
   "execution_count": 186,
   "metadata": {},
   "outputs": [
    {
     "data": {
      "text/plain": [
       "[[1.5882078989207744, 0.7636],\n",
       " [1.5769850840568542, 0.7259],\n",
       " [1.2328743010669947, 0.7581],\n",
       " [1.2112499143600464, 0.7725],\n",
       " [0.730020228600502, 0.8253]]"
      ]
     },
     "execution_count": 186,
     "metadata": {},
     "output_type": "execute_result"
    }
   ],
   "source": [
    "blur_metrics"
   ]
  },
  {
   "cell_type": "code",
   "execution_count": 188,
   "metadata": {},
   "outputs": [
    {
     "data": {
      "text/plain": [
       "[[0.207671465171015, 0.9618],\n",
       " [0.23202319830581547, 0.9501],\n",
       " [0.22344508992284537, 0.9502],\n",
       " [0.22737637112140655, 0.9515],\n",
       " [0.3534044238209724, 0.9196]]"
      ]
     },
     "execution_count": 188,
     "metadata": {},
     "output_type": "execute_result"
    }
   ],
   "source": [
    "regular_metrics"
   ]
  },
  {
   "cell_type": "code",
   "execution_count": 189,
   "metadata": {},
   "outputs": [
    {
     "data": {
      "text/plain": [
       "[[8.416653104400634, 0.2148],\n",
       " [5.573493826293945, 0.2914],\n",
       " [4.364940982437134, 0.2706],\n",
       " [4.268519073867798, 0.3421],\n",
       " [2.8397580165863037, 0.3978]]"
      ]
     },
     "execution_count": 189,
     "metadata": {},
     "output_type": "execute_result"
    }
   ],
   "source": [
    "adv_metrics"
   ]
  },
  {
   "cell_type": "code",
   "execution_count": 187,
   "metadata": {},
   "outputs": [
    {
     "data": {
      "text/plain": [
       "[[1.5882078989207744, 0.7636],\n",
       " [1.5769850840568542, 0.7259],\n",
       " [1.2328743010669947, 0.7581],\n",
       " [1.2112499143600464, 0.7725],\n",
       " [0.730020228600502, 0.8253]]"
      ]
     },
     "execution_count": 187,
     "metadata": {},
     "output_type": "execute_result"
    }
   ],
   "source": [
    "blur_metrics"
   ]
  },
  {
   "cell_type": "code",
   "execution_count": 126,
   "metadata": {},
   "outputs": [
    {
     "name": "stdout",
     "output_type": "stream",
     "text": [
      "8\n",
      "_________________________________________________________________\n",
      "Layer (type)                 Output Shape              Param #   \n",
      "=================================================================\n",
      "first (Dense)                (None, 32)                25120     \n",
      "_________________________________________________________________\n",
      "hidden_0 (Dense)             (None, 32)                1056      \n",
      "_________________________________________________________________\n",
      "hidden_1 (Dense)             (None, 32)                1056      \n",
      "_________________________________________________________________\n",
      "hidden_2 (Dense)             (None, 32)                1056      \n",
      "_________________________________________________________________\n",
      "hidden_3 (Dense)             (None, 32)                1056      \n",
      "_________________________________________________________________\n",
      "hidden_4 (Dense)             (None, 32)                1056      \n",
      "_________________________________________________________________\n",
      "hidden_5 (Dense)             (None, 32)                1056      \n",
      "_________________________________________________________________\n",
      "hidden_6 (Dense)             (None, 32)                1056      \n",
      "_________________________________________________________________\n",
      "hidden_7 (Dense)             (None, 32)                1056      \n",
      "_________________________________________________________________\n",
      "last (Dense)                 (None, 10)                330       \n",
      "=================================================================\n",
      "Total params: 33,898\n",
      "Trainable params: 33,898\n",
      "Non-trainable params: 0\n",
      "_________________________________________________________________\n",
      "None\n",
      " 9696/10000 [============================>.] - ETA: 0s"
     ]
    },
    {
     "name": "stderr",
     "output_type": "stream",
     "text": [
      "[INFO 2019-06-17 22:50:49,736 cleverhans] Constructing new graph for attack FastGradientMethod\n"
     ]
    },
    {
     "name": "stdout",
     "output_type": "stream",
     "text": [
      " 8544/10000 [========================>.....] - ETA: 0s10\n",
      "_________________________________________________________________\n",
      "Layer (type)                 Output Shape              Param #   \n",
      "=================================================================\n",
      "first (Dense)                (None, 32)                25120     \n",
      "_________________________________________________________________\n",
      "hidden_0 (Dense)             (None, 32)                1056      \n",
      "_________________________________________________________________\n",
      "hidden_1 (Dense)             (None, 32)                1056      \n",
      "_________________________________________________________________\n",
      "hidden_2 (Dense)             (None, 32)                1056      \n",
      "_________________________________________________________________\n",
      "hidden_3 (Dense)             (None, 32)                1056      \n",
      "_________________________________________________________________\n",
      "hidden_4 (Dense)             (None, 32)                1056      \n",
      "_________________________________________________________________\n",
      "hidden_5 (Dense)             (None, 32)                1056      \n",
      "_________________________________________________________________\n",
      "hidden_6 (Dense)             (None, 32)                1056      \n",
      "_________________________________________________________________\n",
      "hidden_7 (Dense)             (None, 32)                1056      \n",
      "_________________________________________________________________\n",
      "hidden_8 (Dense)             (None, 32)                1056      \n",
      "_________________________________________________________________\n",
      "hidden_9 (Dense)             (None, 32)                1056      \n",
      "_________________________________________________________________\n",
      "last (Dense)                 (None, 10)                330       \n",
      "=================================================================\n",
      "Total params: 36,010\n",
      "Trainable params: 36,010\n",
      "Non-trainable params: 0\n",
      "_________________________________________________________________\n",
      "None\n",
      " 9888/10000 [============================>.] - ETA: 0s"
     ]
    },
    {
     "name": "stderr",
     "output_type": "stream",
     "text": [
      "[INFO 2019-06-17 22:50:54,989 cleverhans] Constructing new graph for attack FastGradientMethod\n"
     ]
    },
    {
     "name": "stdout",
     "output_type": "stream",
     "text": [
      " 9248/10000 [==========================>...] - ETA: 0s"
     ]
    }
   ],
   "source": []
  },
  {
   "cell_type": "markdown",
   "metadata": {},
   "source": [
    "## Retrain new model"
   ]
  },
  {
   "cell_type": "markdown",
   "metadata": {},
   "source": [
    "Hmm... Maybe this is why people have not previously studied the effect of depth on adversarial robustness.. Because the trends are hard to actually establish. \n",
    "\n",
    "But the cascading effect certainly seems to hold true. Understanding the cascading versus the decision boundary better would be really interesting"
   ]
  },
  {
   "cell_type": "markdown",
   "metadata": {},
   "source": [
    "# Experiment B"
   ]
  },
  {
   "cell_type": "markdown",
   "metadata": {},
   "source": [
    "## Load weights from the previous model "
   ]
  },
  {
   "cell_type": "code",
   "execution_count": 96,
   "metadata": {},
   "outputs": [
    {
     "data": {
      "text/plain": [
       "[[5.262954145812988, 0.2056],\n",
       " [6.705777871704101, 0.163],\n",
       " [6.306135898590088, 0.1423],\n",
       " [3.6062851570129393, 0.3136],\n",
       " [3.116396446990967, 0.3049]]"
      ]
     },
     "execution_count": 96,
     "metadata": {},
     "output_type": "execute_result"
    }
   ],
   "source": [
    "adv_metrics"
   ]
  },
  {
   "cell_type": "code",
   "execution_count": 165,
   "metadata": {},
   "outputs": [],
   "source": [
    "def adv_generate_intermed_layer_load_weights(session, big_model, k, x_train, y_train):\n",
    "    print(big_model.summary())\n",
    "    layer_output = big_model.layers[k-1].output\n",
    "    activation_model = models.Model(inputs= big_model.input, outputs=layer_output)\n",
    "    x_train_lifted = activation_model.predict(x_train)\n",
    "    x_test_lifted = activation_model.predict(x_test_flat)\n",
    "    print('Found new features')\n",
    "    \n",
    "    new_input_shape = (32,)\n",
    "    model_k = create_fully_connected_k_onwards(input_shape = input_shape, new_input_shape = new_input_shape, k = k, num_classes = num_classes, num_hidden = 4, reg = 0)\n",
    "    print('Created new model')\n",
    "    \n",
    "    print(model_k.summary())\n",
    "    model_k.compile(optimizer=\"adam\", loss='categorical_crossentropy', metrics=['accuracy'])    \n",
    "    model_k.load_weights('big_model_weights.h5', by_name=True)\n",
    "    print(model_k.evaluate(x_test_lifted, y_test))\n",
    "    \n",
    "    \n",
    "    eps_range = np.arange(0.05, 0.35, 0.05)\n",
    "    accuracies = []\n",
    "    for eps in eps_range:\n",
    "        x_test_lifted_adv = adv_generate(session, KerasModelWrapper(model_k), eps, x_test_lifted)\n",
    "        accuracies.append(model_k.evaluate(x_test_lifted_adv, y_test))\n",
    "    return model_k, accuracies"
   ]
  },
  {
   "cell_type": "code",
   "execution_count": 166,
   "metadata": {},
   "outputs": [
    {
     "name": "stdout",
     "output_type": "stream",
     "text": [
      "_________________________________________________________________\n",
      "Layer (type)                 Output Shape              Param #   \n",
      "=================================================================\n",
      "first (Dense)                (None, 32)                25120     \n",
      "_________________________________________________________________\n",
      "hidden_0 (Dense)             (None, 32)                1056      \n",
      "_________________________________________________________________\n",
      "hidden_1 (Dense)             (None, 32)                1056      \n",
      "_________________________________________________________________\n",
      "hidden_2 (Dense)             (None, 32)                1056      \n",
      "_________________________________________________________________\n",
      "hidden_3 (Dense)             (None, 32)                1056      \n",
      "_________________________________________________________________\n",
      "last (Dense)                 (None, 10)                330       \n",
      "=================================================================\n",
      "Total params: 29,674\n",
      "Trainable params: 29,674\n",
      "Non-trainable params: 0\n",
      "_________________________________________________________________\n",
      "None\n",
      "Found new features\n",
      "Created new model\n",
      "_________________________________________________________________\n",
      "Layer (type)                 Output Shape              Param #   \n",
      "=================================================================\n",
      "hidden_2 (Dense)             (None, 32)                1056      \n",
      "_________________________________________________________________\n",
      "hidden_3 (Dense)             (None, 32)                1056      \n",
      "_________________________________________________________________\n",
      "last (Dense)                 (None, 10)                330       \n",
      "=================================================================\n",
      "Total params: 2,442\n",
      "Trainable params: 2,442\n",
      "Non-trainable params: 0\n",
      "_________________________________________________________________\n",
      "None\n",
      " 9984/10000 [============================>.] - ETA: 0s"
     ]
    },
    {
     "name": "stderr",
     "output_type": "stream",
     "text": [
      "[INFO 2019-06-17 23:17:26,877 cleverhans] Constructing new graph for attack FastGradientMethod\n"
     ]
    },
    {
     "name": "stdout",
     "output_type": "stream",
     "text": [
      "[0.17925939524397255, 0.9564]\n",
      " 8992/10000 [=========================>....] - ETA: 0s"
     ]
    },
    {
     "name": "stderr",
     "output_type": "stream",
     "text": [
      "[INFO 2019-06-17 23:17:27,941 cleverhans] Constructing new graph for attack FastGradientMethod\n"
     ]
    },
    {
     "name": "stdout",
     "output_type": "stream",
     "text": [
      " 8992/10000 [=========================>....] - ETA: 0s"
     ]
    },
    {
     "name": "stderr",
     "output_type": "stream",
     "text": [
      "[INFO 2019-06-17 23:17:28,984 cleverhans] Constructing new graph for attack FastGradientMethod\n"
     ]
    },
    {
     "name": "stdout",
     "output_type": "stream",
     "text": [
      " 9792/10000 [============================>.] - ETA: 0s"
     ]
    },
    {
     "name": "stderr",
     "output_type": "stream",
     "text": [
      "[INFO 2019-06-17 23:17:30,112 cleverhans] Constructing new graph for attack FastGradientMethod\n"
     ]
    },
    {
     "name": "stdout",
     "output_type": "stream",
     "text": [
      " 8416/10000 [========================>.....] - ETA: 0s"
     ]
    },
    {
     "name": "stderr",
     "output_type": "stream",
     "text": [
      "[INFO 2019-06-17 23:17:31,242 cleverhans] Constructing new graph for attack FastGradientMethod\n"
     ]
    },
    {
     "name": "stdout",
     "output_type": "stream",
     "text": [
      " 8544/10000 [========================>.....] - ETA: 0s"
     ]
    },
    {
     "name": "stderr",
     "output_type": "stream",
     "text": [
      "[INFO 2019-06-17 23:17:32,310 cleverhans] Constructing new graph for attack FastGradientMethod\n"
     ]
    },
    {
     "name": "stdout",
     "output_type": "stream",
     "text": [
      " 9824/10000 [============================>.] - ETA: 0s"
     ]
    }
   ],
   "source": [
    "model_3_accuracies = adv_generate_intermed_layer_load_weights(sess, big_model, 3, x_train_flat, y_train)"
   ]
  },
  {
   "cell_type": "code",
   "execution_count": 170,
   "metadata": {},
   "outputs": [
    {
     "name": "stdout",
     "output_type": "stream",
     "text": [
      "_________________________________________________________________\n",
      "Layer (type)                 Output Shape              Param #   \n",
      "=================================================================\n",
      "first (Dense)                (None, 32)                25120     \n",
      "_________________________________________________________________\n",
      "hidden_0 (Dense)             (None, 32)                1056      \n",
      "_________________________________________________________________\n",
      "hidden_1 (Dense)             (None, 32)                1056      \n",
      "_________________________________________________________________\n",
      "hidden_2 (Dense)             (None, 32)                1056      \n",
      "_________________________________________________________________\n",
      "hidden_3 (Dense)             (None, 32)                1056      \n",
      "_________________________________________________________________\n",
      "last (Dense)                 (None, 10)                330       \n",
      "=================================================================\n",
      "Total params: 29,674\n",
      "Trainable params: 29,674\n",
      "Non-trainable params: 0\n",
      "_________________________________________________________________\n",
      "None\n",
      "Found new features\n",
      "Created new model\n",
      "_________________________________________________________________\n",
      "Layer (type)                 Output Shape              Param #   \n",
      "=================================================================\n",
      "hidden_1 (Dense)             (None, 32)                1056      \n",
      "_________________________________________________________________\n",
      "hidden_2 (Dense)             (None, 32)                1056      \n",
      "_________________________________________________________________\n",
      "hidden_3 (Dense)             (None, 32)                1056      \n",
      "_________________________________________________________________\n",
      "last (Dense)                 (None, 10)                330       \n",
      "=================================================================\n",
      "Total params: 3,498\n",
      "Trainable params: 3,498\n",
      "Non-trainable params: 0\n",
      "_________________________________________________________________\n",
      "None\n",
      " 8896/10000 [=========================>....] - ETA: 0s"
     ]
    },
    {
     "name": "stderr",
     "output_type": "stream",
     "text": [
      "[INFO 2019-06-17 23:21:31,405 cleverhans] Constructing new graph for attack FastGradientMethod\n"
     ]
    },
    {
     "name": "stdout",
     "output_type": "stream",
     "text": [
      "[0.17925939524397255, 0.9564]\n",
      " 8288/10000 [=======================>......] - ETA: 0s"
     ]
    },
    {
     "name": "stderr",
     "output_type": "stream",
     "text": [
      "[INFO 2019-06-17 23:21:32,609 cleverhans] Constructing new graph for attack FastGradientMethod\n"
     ]
    },
    {
     "name": "stdout",
     "output_type": "stream",
     "text": [
      " 9920/10000 [============================>.] - ETA: 0s"
     ]
    },
    {
     "name": "stderr",
     "output_type": "stream",
     "text": [
      "[INFO 2019-06-17 23:21:33,800 cleverhans] Constructing new graph for attack FastGradientMethod\n"
     ]
    },
    {
     "name": "stdout",
     "output_type": "stream",
     "text": [
      " 9568/10000 [===========================>..] - ETA: 0s"
     ]
    },
    {
     "name": "stderr",
     "output_type": "stream",
     "text": [
      "[INFO 2019-06-17 23:21:35,117 cleverhans] Constructing new graph for attack FastGradientMethod\n"
     ]
    },
    {
     "name": "stdout",
     "output_type": "stream",
     "text": [
      " 9696/10000 [============================>.] - ETA: 0s"
     ]
    },
    {
     "name": "stderr",
     "output_type": "stream",
     "text": [
      "[INFO 2019-06-17 23:21:36,386 cleverhans] Constructing new graph for attack FastGradientMethod\n"
     ]
    },
    {
     "name": "stdout",
     "output_type": "stream",
     "text": [
      " 9184/10000 [==========================>...] - ETA: 0s"
     ]
    },
    {
     "name": "stderr",
     "output_type": "stream",
     "text": [
      "[INFO 2019-06-17 23:21:37,857 cleverhans] Constructing new graph for attack FastGradientMethod\n"
     ]
    },
    {
     "name": "stdout",
     "output_type": "stream",
     "text": [
      " 8672/10000 [=========================>....] - ETA: 0s_________________________________________________________________\n",
      "Layer (type)                 Output Shape              Param #   \n",
      "=================================================================\n",
      "first (Dense)                (None, 32)                25120     \n",
      "_________________________________________________________________\n",
      "hidden_0 (Dense)             (None, 32)                1056      \n",
      "_________________________________________________________________\n",
      "hidden_1 (Dense)             (None, 32)                1056      \n",
      "_________________________________________________________________\n",
      "hidden_2 (Dense)             (None, 32)                1056      \n",
      "_________________________________________________________________\n",
      "hidden_3 (Dense)             (None, 32)                1056      \n",
      "_________________________________________________________________\n",
      "last (Dense)                 (None, 10)                330       \n",
      "=================================================================\n",
      "Total params: 29,674\n",
      "Trainable params: 29,674\n",
      "Non-trainable params: 0\n",
      "_________________________________________________________________\n",
      "None\n",
      "Found new features\n",
      "Created new model\n",
      "_________________________________________________________________\n",
      "Layer (type)                 Output Shape              Param #   \n",
      "=================================================================\n",
      "hidden_0 (Dense)             (None, 32)                1056      \n",
      "_________________________________________________________________\n",
      "hidden_1 (Dense)             (None, 32)                1056      \n",
      "_________________________________________________________________\n",
      "hidden_2 (Dense)             (None, 32)                1056      \n",
      "_________________________________________________________________\n",
      "hidden_3 (Dense)             (None, 32)                1056      \n",
      "_________________________________________________________________\n",
      "last (Dense)                 (None, 10)                330       \n",
      "=================================================================\n",
      "Total params: 4,554\n",
      "Trainable params: 4,554\n",
      "Non-trainable params: 0\n",
      "_________________________________________________________________\n",
      "None\n",
      " 9664/10000 [===========================>..] - ETA: 0s"
     ]
    },
    {
     "name": "stderr",
     "output_type": "stream",
     "text": [
      "[INFO 2019-06-17 23:21:44,627 cleverhans] Constructing new graph for attack FastGradientMethod\n"
     ]
    },
    {
     "name": "stdout",
     "output_type": "stream",
     "text": [
      "[0.17925939524397255, 0.9564]\n",
      " 9408/10000 [===========================>..] - ETA: 0s"
     ]
    },
    {
     "name": "stderr",
     "output_type": "stream",
     "text": [
      "[INFO 2019-06-17 23:21:46,017 cleverhans] Constructing new graph for attack FastGradientMethod\n"
     ]
    },
    {
     "name": "stdout",
     "output_type": "stream",
     "text": [
      " 8736/10000 [=========================>....] - ETA: 0s"
     ]
    },
    {
     "name": "stderr",
     "output_type": "stream",
     "text": [
      "[INFO 2019-06-17 23:21:47,450 cleverhans] Constructing new graph for attack FastGradientMethod\n"
     ]
    },
    {
     "name": "stdout",
     "output_type": "stream",
     "text": [
      " 9856/10000 [============================>.] - ETA: 0s"
     ]
    },
    {
     "name": "stderr",
     "output_type": "stream",
     "text": [
      "[INFO 2019-06-17 23:21:48,892 cleverhans] Constructing new graph for attack FastGradientMethod\n"
     ]
    },
    {
     "name": "stdout",
     "output_type": "stream",
     "text": [
      " 9728/10000 [============================>.] - ETA: 0s"
     ]
    },
    {
     "name": "stderr",
     "output_type": "stream",
     "text": [
      "[INFO 2019-06-17 23:21:50,472 cleverhans] Constructing new graph for attack FastGradientMethod\n"
     ]
    },
    {
     "name": "stdout",
     "output_type": "stream",
     "text": [
      " 8512/10000 [========================>.....] - ETA: 0s"
     ]
    },
    {
     "name": "stderr",
     "output_type": "stream",
     "text": [
      "[INFO 2019-06-17 23:21:51,749 cleverhans] Constructing new graph for attack FastGradientMethod\n"
     ]
    },
    {
     "name": "stdout",
     "output_type": "stream",
     "text": [
      " 9024/10000 [==========================>...] - ETA: 0s_________________________________________________________________\n",
      "Layer (type)                 Output Shape              Param #   \n",
      "=================================================================\n",
      "first (Dense)                (None, 32)                25120     \n",
      "_________________________________________________________________\n",
      "hidden_0 (Dense)             (None, 32)                1056      \n",
      "_________________________________________________________________\n",
      "hidden_1 (Dense)             (None, 32)                1056      \n",
      "_________________________________________________________________\n",
      "hidden_2 (Dense)             (None, 32)                1056      \n",
      "_________________________________________________________________\n",
      "hidden_3 (Dense)             (None, 32)                1056      \n",
      "_________________________________________________________________\n",
      "last (Dense)                 (None, 10)                330       \n",
      "=================================================================\n",
      "Total params: 29,674\n",
      "Trainable params: 29,674\n",
      "Non-trainable params: 0\n",
      "_________________________________________________________________\n",
      "None\n",
      "Found new features\n",
      "Created new model\n",
      "_________________________________________________________________\n",
      "Layer (type)                 Output Shape              Param #   \n",
      "=================================================================\n",
      "hidden_3 (Dense)             (None, 32)                1056      \n",
      "_________________________________________________________________\n",
      "last (Dense)                 (None, 10)                330       \n",
      "=================================================================\n",
      "Total params: 1,386\n",
      "Trainable params: 1,386\n",
      "Non-trainable params: 0\n",
      "_________________________________________________________________\n",
      "None\n",
      " 9184/10000 [==========================>...] - ETA: 0s"
     ]
    },
    {
     "name": "stderr",
     "output_type": "stream",
     "text": [
      "[INFO 2019-06-17 23:21:59,324 cleverhans] Constructing new graph for attack FastGradientMethod\n"
     ]
    },
    {
     "name": "stdout",
     "output_type": "stream",
     "text": [
      "[0.17925939524397255, 0.9564]\n",
      " 9984/10000 [============================>.] - ETA: 0s"
     ]
    },
    {
     "name": "stderr",
     "output_type": "stream",
     "text": [
      "[INFO 2019-06-17 23:22:00,736 cleverhans] Constructing new graph for attack FastGradientMethod\n"
     ]
    },
    {
     "name": "stdout",
     "output_type": "stream",
     "text": [
      " 8448/10000 [========================>.....] - ETA: 0s"
     ]
    },
    {
     "name": "stderr",
     "output_type": "stream",
     "text": [
      "[INFO 2019-06-17 23:22:02,085 cleverhans] Constructing new graph for attack FastGradientMethod\n"
     ]
    },
    {
     "name": "stdout",
     "output_type": "stream",
     "text": [
      " 9504/10000 [===========================>..] - ETA: 0s"
     ]
    },
    {
     "name": "stderr",
     "output_type": "stream",
     "text": [
      "[INFO 2019-06-17 23:22:03,525 cleverhans] Constructing new graph for attack FastGradientMethod\n"
     ]
    },
    {
     "name": "stdout",
     "output_type": "stream",
     "text": [
      " 8384/10000 [========================>.....] - ETA: 0s"
     ]
    },
    {
     "name": "stderr",
     "output_type": "stream",
     "text": [
      "[INFO 2019-06-17 23:22:04,867 cleverhans] Constructing new graph for attack FastGradientMethod\n"
     ]
    },
    {
     "name": "stdout",
     "output_type": "stream",
     "text": [
      " 9152/10000 [==========================>...] - ETA: 0s"
     ]
    },
    {
     "name": "stderr",
     "output_type": "stream",
     "text": [
      "[INFO 2019-06-17 23:22:06,309 cleverhans] Constructing new graph for attack FastGradientMethod\n"
     ]
    },
    {
     "name": "stdout",
     "output_type": "stream",
     "text": [
      " 8224/10000 [=======================>......] - ETA: 0s"
     ]
    }
   ],
   "source": [
    "model_3_accuracies_load = model_3_accuracies\n",
    "model_2_accuracies_load = adv_generate_intermed_layer_load_weights(sess, big_model, 2, x_train_flat, y_train)\n",
    "model_1_accuracies_load = adv_generate_intermed_layer_load_weights(sess, big_model, 1, x_train_flat, y_train)\n",
    "model_4_accuracies_load = adv_generate_intermed_layer_load_weights(sess, big_model, 4, x_train_flat, y_train)"
   ]
  },
  {
   "cell_type": "code",
   "execution_count": 172,
   "metadata": {},
   "outputs": [
    {
     "data": {
      "image/png": "[encoded data removed]",
      "text/plain": [
       "<Figure size 432x288 with 1 Axes>"
      ]
     },
     "metadata": {
      "needs_background": "light"
     },
     "output_type": "display_data"
    }
   ],
   "source": [
    "x = np.arange(0.05, 0.35, 0.05)\n",
    "y_4 = np.array(model_4_accuracies_load[1])[:, 1]\n",
    "y_3 = np.array(model_3_accuracies_load[1])[:, 1]\n",
    "y_2 = np.array(model_2_accuracies_load[1])[:, 1]\n",
    "y_1 = np.array(model_1_accuracies_load[1])[:, 1]\n",
    "plt.scatter(x, y_1, label = 'k=1')\n",
    "plt.scatter(x, y_2, label = 'k=2')\n",
    "plt.scatter(x, y_3, label = 'k=3')\n",
    "plt.scatter(x, y_4, label = 'k=4')\n",
    "\n",
    "plt.legend(loc='upper right')\n",
    "plt.xlabel('Eps for adversarial perturbation')\n",
    "plt.ylabel('Accuracy of model')\n",
    "plt.show()"
   ]
  },
  {
   "cell_type": "markdown",
   "metadata": {},
   "source": [
    "## Retrain the model "
   ]
  },
  {
   "cell_type": "code",
   "execution_count": 164,
   "metadata": {},
   "outputs": [],
   "source": [
    "def adv_generate_intermed_layer(session, big_model_input, k, x_train, y_train):\n",
    "    #Find the new input\n",
    "    print(model.summary())\n",
    "    layer_output = model.layers[k-1].output\n",
    "    activation_model = models.Model(inputs=model.input, outputs=layer_output)\n",
    "    x_train_lifted = activation_model.predict(x_train)\n",
    "    x_test_lifted = activation_model.predict(x_test_flat)\n",
    "    print('Found new features')\n",
    "    \n",
    "    #Create the new model\n",
    "    new_input_shape = (32,)\n",
    "    model_k = create_fully_connected_k_onwards(input_shape = input_shape, new_input_shape = new_input_shape, k = k, num_classes = num_classes, num_hidden = 4, reg = 0)\n",
    "    print('Created new model')\n",
    "    \n",
    "    #Train on the new input\n",
    "    print(model_k.summary())\n",
    "    model_k.compile(optimizer=\"adam\", loss='categorical_crossentropy', metrics=['accuracy'])    \n",
    "    model_k.fit(x_train_lifted, y_train)\n",
    "    print('trained new model')\n",
    "    \n",
    "    #Create the adversarial examples\n",
    "    eps_range = np.arange(0.05, 0.35, 0.05)\n",
    "    accuracies = []\n",
    "    for eps in eps_range:\n",
    "        x_test_lifted_adv = adv_generate(session, KerasModelWrapper(model_k), eps, x_test_lifted)\n",
    "        accuracies.append(model_k.evaluate(x_test_lifted_adv, y_test))\n",
    "    return accuracies\n",
    "\n",
    "\n"
   ]
  },
  {
   "cell_type": "code",
   "execution_count": 204,
   "metadata": {},
   "outputs": [],
   "source": [
    "expt_output = []"
   ]
  },
  {
   "cell_type": "code",
   "execution_count": 206,
   "metadata": {},
   "outputs": [
    {
     "name": "stdout",
     "output_type": "stream",
     "text": [
      "_________________________________________________________________\n",
      "Layer (type)                 Output Shape              Param #   \n",
      "=================================================================\n",
      "dense_158 (Dense)            (None, 32)                25120     \n",
      "_________________________________________________________________\n",
      "dense_159 (Dense)            (None, 32)                1056      \n",
      "_________________________________________________________________\n",
      "dense_160 (Dense)            (None, 32)                1056      \n",
      "_________________________________________________________________\n",
      "dense_161 (Dense)            (None, 32)                1056      \n",
      "_________________________________________________________________\n",
      "dense_162 (Dense)            (None, 32)                1056      \n",
      "_________________________________________________________________\n",
      "dense_163 (Dense)            (None, 10)                330       \n",
      "=================================================================\n",
      "Total params: 29,674\n",
      "Trainable params: 29,674\n",
      "Non-trainable params: 0\n",
      "_________________________________________________________________\n",
      "None\n",
      "Found new features\n",
      "Created new model\n",
      "_________________________________________________________________\n",
      "Layer (type)                 Output Shape              Param #   \n",
      "=================================================================\n",
      "dense_198 (Dense)            (None, 32)                1056      \n",
      "_________________________________________________________________\n",
      "dense_196 (Dense)            (None, 32)                1056      \n",
      "_________________________________________________________________\n",
      "dense_197 (Dense)            (None, 10)                330       \n",
      "=================================================================\n",
      "Total params: 2,442\n",
      "Trainable params: 2,442\n",
      "Non-trainable params: 0\n",
      "_________________________________________________________________\n",
      "None\n",
      "Epoch 1/10\n",
      "60000/60000 [==============================] - 3s - loss: 0.7852 - acc: 0.8572     \n",
      "Epoch 2/10\n",
      "60000/60000 [==============================] - 3s - loss: 0.1471 - acc: 0.9695     \n",
      "Epoch 3/10\n",
      "60000/60000 [==============================] - 3s - loss: 0.1210 - acc: 0.9719     \n",
      "Epoch 4/10\n",
      "60000/60000 [==============================] - 3s - loss: 0.1123 - acc: 0.9729     - ETA: 1\n",
      "Epoch 5/10\n",
      "60000/60000 [==============================] - 3s - loss: 0.1074 - acc: 0.9736     \n",
      "Epoch 6/10\n",
      "60000/60000 [==============================] - 3s - loss: 0.1043 - acc: 0.9736     \n",
      "Epoch 7/10\n",
      "60000/60000 [==============================] - 3s - loss: 0.1022 - acc: 0.9743     \n",
      "Epoch 8/10\n",
      "60000/60000 [==============================] - 3s - loss: 0.1009 - acc: 0.9740     \n",
      "Epoch 9/10\n",
      "60000/60000 [==============================] - 3s - loss: 0.0993 - acc: 0.9744     \n",
      "Epoch 10/10\n",
      "60000/60000 [==============================] - 3s - loss: 0.0985 - acc: 0.9744     "
     ]
    },
    {
     "name": "stderr",
     "output_type": "stream",
     "text": [
      "[INFO 2019-06-12 14:40:10,115 cleverhans] Constructing new graph for attack FastGradientMethod\n"
     ]
    },
    {
     "name": "stdout",
     "output_type": "stream",
     "text": [
      "\n",
      "trained new model\n",
      " 9312/10000 [==========================>...] - ETA: 0s"
     ]
    },
    {
     "name": "stderr",
     "output_type": "stream",
     "text": [
      "[INFO 2019-06-12 14:40:11,577 cleverhans] Constructing new graph for attack FastGradientMethod\n"
     ]
    },
    {
     "name": "stdout",
     "output_type": "stream",
     "text": [
      " 9248/10000 [==========================>...] - ETA: 0s"
     ]
    },
    {
     "name": "stderr",
     "output_type": "stream",
     "text": [
      "[INFO 2019-06-12 14:40:12,472 cleverhans] Constructing new graph for attack FastGradientMethod\n"
     ]
    },
    {
     "name": "stdout",
     "output_type": "stream",
     "text": [
      " 9600/10000 [===========================>..] - ETA: 0s"
     ]
    },
    {
     "name": "stderr",
     "output_type": "stream",
     "text": [
      "[INFO 2019-06-12 14:40:13,365 cleverhans] Constructing new graph for attack FastGradientMethod\n"
     ]
    },
    {
     "name": "stdout",
     "output_type": "stream",
     "text": [
      " 9440/10000 [===========================>..] - ETA: 0s"
     ]
    },
    {
     "name": "stderr",
     "output_type": "stream",
     "text": [
      "[INFO 2019-06-12 14:40:14,255 cleverhans] Constructing new graph for attack FastGradientMethod\n"
     ]
    },
    {
     "name": "stdout",
     "output_type": "stream",
     "text": [
      " 9376/10000 [===========================>..] - ETA: 0s"
     ]
    },
    {
     "name": "stderr",
     "output_type": "stream",
     "text": [
      "[INFO 2019-06-12 14:40:15,164 cleverhans] Constructing new graph for attack FastGradientMethod\n"
     ]
    },
    {
     "name": "stdout",
     "output_type": "stream",
     "text": [
      " 9696/10000 [============================>.] - ETA: 0s"
     ]
    }
   ],
   "source": [
    "model_3_accuracies = adv_generate_intermed_layer(sess, model, 3, x_train_flat, y_train)"
   ]
  },
  {
   "cell_type": "code",
   "execution_count": 135,
   "metadata": {},
   "outputs": [
    {
     "data": {
      "text/plain": [
       "(<keras.models.Sequential at 0x1c29c99630>,\n",
       " [[3.4218847301483155, 0.0892],\n",
       "  [3.3436603439331054, 0.0892],\n",
       "  [3.2765844337463377, 0.0892],\n",
       "  [3.221594585418701, 0.0892],\n",
       "  [3.1790746452331544, 0.1428],\n",
       "  [3.1488127170562743, 0.1756]])"
      ]
     },
     "execution_count": 135,
     "metadata": {},
     "output_type": "execute_result"
    }
   ],
   "source": [
    "model_3_accuracies"
   ]
  },
  {
   "cell_type": "code",
   "execution_count": 140,
   "metadata": {},
   "outputs": [
    {
     "name": "stdout",
     "output_type": "stream",
     "text": [
      "_________________________________________________________________\n",
      "Layer (type)                 Output Shape              Param #   \n",
      "=================================================================\n",
      "first (Dense)                (None, 32)                25120     \n",
      "_________________________________________________________________\n",
      "hidden_0 (Dense)             (None, 32)                1056      \n",
      "_________________________________________________________________\n",
      "hidden_1 (Dense)             (None, 32)                1056      \n",
      "_________________________________________________________________\n",
      "hidden_2 (Dense)             (None, 32)                1056      \n",
      "_________________________________________________________________\n",
      "hidden_3 (Dense)             (None, 32)                1056      \n",
      "_________________________________________________________________\n",
      "hidden_4 (Dense)             (None, 32)                1056      \n",
      "_________________________________________________________________\n",
      "hidden_5 (Dense)             (None, 32)                1056      \n",
      "_________________________________________________________________\n",
      "hidden_6 (Dense)             (None, 32)                1056      \n",
      "_________________________________________________________________\n",
      "hidden_7 (Dense)             (None, 32)                1056      \n",
      "_________________________________________________________________\n",
      "hidden_8 (Dense)             (None, 32)                1056      \n",
      "_________________________________________________________________\n",
      "hidden_9 (Dense)             (None, 32)                1056      \n",
      "_________________________________________________________________\n",
      "last (Dense)                 (None, 10)                330       \n",
      "=================================================================\n",
      "Total params: 36,010\n",
      "Trainable params: 36,010\n",
      "Non-trainable params: 0\n",
      "_________________________________________________________________\n",
      "None\n",
      "Found new features\n",
      "Created new model\n",
      "_________________________________________________________________\n",
      "Layer (type)                 Output Shape              Param #   \n",
      "=================================================================\n",
      "dense_132 (Dense)            (None, 32)                1056      \n",
      "_________________________________________________________________\n",
      "last (Dense)                 (None, 10)                330       \n",
      "=================================================================\n",
      "Total params: 1,386\n",
      "Trainable params: 1,386\n",
      "Non-trainable params: 0\n",
      "_________________________________________________________________\n",
      "None\n",
      "Epoch 1/10\n",
      "60000/60000 [==============================] - 4s - loss: 0.6103 - acc: 0.9210     \n",
      "Epoch 2/10\n",
      "60000/60000 [==============================] - 3s - loss: 0.1163 - acc: 0.9773     \n",
      "Epoch 3/10\n",
      "60000/60000 [==============================] - 2s - loss: 0.0956 - acc: 0.9782     \n",
      "Epoch 4/10\n",
      "60000/60000 [==============================] - 3s - loss: 0.0897 - acc: 0.9786     \n",
      "Epoch 5/10\n",
      "60000/60000 [==============================] - 3s - loss: 0.0866 - acc: 0.9787     \n",
      "Epoch 6/10\n",
      "60000/60000 [==============================] - 3s - loss: 0.0846 - acc: 0.9790     \n",
      "Epoch 7/10\n",
      "60000/60000 [==============================] - 2s - loss: 0.0828 - acc: 0.9794     \n",
      "Epoch 8/10\n",
      "60000/60000 [==============================] - 3s - loss: 0.0817 - acc: 0.9793     \n",
      "Epoch 9/10\n",
      "60000/60000 [==============================] - 2s - loss: 0.0807 - acc: 0.9790     - ETA: 0s - loss: 0.080\n",
      "Epoch 10/10\n",
      "60000/60000 [==============================] - 2s - loss: 0.0797 - acc: 0.9795     "
     ]
    },
    {
     "name": "stderr",
     "output_type": "stream",
     "text": [
      "[INFO 2019-06-17 22:58:48,158 cleverhans] Constructing new graph for attack FastGradientMethod\n"
     ]
    },
    {
     "name": "stdout",
     "output_type": "stream",
     "text": [
      "\n",
      "trained new model\n",
      " 8000/10000 [=======================>......] - ETA: 0s"
     ]
    },
    {
     "name": "stderr",
     "output_type": "stream",
     "text": [
      "[INFO 2019-06-17 22:58:49,561 cleverhans] Constructing new graph for attack FastGradientMethod\n"
     ]
    },
    {
     "name": "stdout",
     "output_type": "stream",
     "text": [
      " 8320/10000 [=======================>......] - ETA: 0s"
     ]
    },
    {
     "name": "stderr",
     "output_type": "stream",
     "text": [
      "[INFO 2019-06-17 22:58:50,498 cleverhans] Constructing new graph for attack FastGradientMethod\n"
     ]
    },
    {
     "name": "stdout",
     "output_type": "stream",
     "text": [
      " 9696/10000 [============================>.] - ETA: 0s"
     ]
    },
    {
     "name": "stderr",
     "output_type": "stream",
     "text": [
      "[INFO 2019-06-17 22:58:51,394 cleverhans] Constructing new graph for attack FastGradientMethod\n"
     ]
    },
    {
     "name": "stdout",
     "output_type": "stream",
     "text": [
      " 9600/10000 [===========================>..] - ETA: 0s"
     ]
    },
    {
     "name": "stderr",
     "output_type": "stream",
     "text": [
      "[INFO 2019-06-17 22:58:52,280 cleverhans] Constructing new graph for attack FastGradientMethod\n"
     ]
    },
    {
     "name": "stdout",
     "output_type": "stream",
     "text": [
      " 9504/10000 [===========================>..] - ETA: 0s"
     ]
    },
    {
     "name": "stderr",
     "output_type": "stream",
     "text": [
      "[INFO 2019-06-17 22:58:53,219 cleverhans] Constructing new graph for attack FastGradientMethod\n"
     ]
    },
    {
     "name": "stdout",
     "output_type": "stream",
     "text": [
      " 7936/10000 [======================>.......] - ETA: 0s"
     ]
    }
   ],
   "source": [
    "model_4_accuracies = adv_generate_intermed_layer(sess, model, 4, x_train_flat, y_train)"
   ]
  },
  {
   "cell_type": "code",
   "execution_count": 141,
   "metadata": {},
   "outputs": [
    {
     "data": {
      "text/plain": [
       "[[0.1977435935869813, 0.9384],\n",
       " [0.39454339797496796, 0.8766],\n",
       " [0.9090400233268737, 0.6979],\n",
       " [1.875936798286438, 0.3751],\n",
       " [3.1674710525512695, 0.1307],\n",
       " [4.473508271026612, 0.0572]]"
      ]
     },
     "execution_count": 141,
     "metadata": {},
     "output_type": "execute_result"
    }
   ],
   "source": [
    "model_4_accuracies"
   ]
  },
  {
   "cell_type": "code",
   "execution_count": 210,
   "metadata": {},
   "outputs": [
    {
     "name": "stdout",
     "output_type": "stream",
     "text": [
      "_________________________________________________________________\n",
      "Layer (type)                 Output Shape              Param #   \n",
      "=================================================================\n",
      "dense_158 (Dense)            (None, 32)                25120     \n",
      "_________________________________________________________________\n",
      "dense_159 (Dense)            (None, 32)                1056      \n",
      "_________________________________________________________________\n",
      "dense_160 (Dense)            (None, 32)                1056      \n",
      "_________________________________________________________________\n",
      "dense_161 (Dense)            (None, 32)                1056      \n",
      "_________________________________________________________________\n",
      "dense_162 (Dense)            (None, 32)                1056      \n",
      "_________________________________________________________________\n",
      "dense_163 (Dense)            (None, 10)                330       \n",
      "=================================================================\n",
      "Total params: 29,674\n",
      "Trainable params: 29,674\n",
      "Non-trainable params: 0\n",
      "_________________________________________________________________\n",
      "None\n",
      "Found new features\n",
      "Created new model\n",
      "_________________________________________________________________\n",
      "Layer (type)                 Output Shape              Param #   \n",
      "=================================================================\n",
      "dense_219 (Dense)            (None, 32)                1056      \n",
      "_________________________________________________________________\n",
      "dense_215 (Dense)            (None, 32)                1056      \n",
      "_________________________________________________________________\n",
      "dense_216 (Dense)            (None, 32)                1056      \n",
      "_________________________________________________________________\n",
      "dense_217 (Dense)            (None, 32)                1056      \n",
      "_________________________________________________________________\n",
      "dense_218 (Dense)            (None, 10)                330       \n",
      "=================================================================\n",
      "Total params: 4,554\n",
      "Trainable params: 4,554\n",
      "Non-trainable params: 0\n",
      "_________________________________________________________________\n",
      "None\n",
      "Epoch 1/10\n",
      "60000/60000 [==============================] - 4s - loss: 1.1440 - acc: 0.6648     \n",
      "Epoch 2/10\n",
      "60000/60000 [==============================] - 3s - loss: 0.3441 - acc: 0.9092     \n",
      "Epoch 3/10\n",
      "60000/60000 [==============================] - 3s - loss: 0.2524 - acc: 0.9324     \n",
      "Epoch 4/10\n",
      "60000/60000 [==============================] - 3s - loss: 0.2002 - acc: 0.9467     \n",
      "Epoch 5/10\n",
      "60000/60000 [==============================] - 3s - loss: 0.1638 - acc: 0.9567     - E\n",
      "Epoch 6/10\n",
      "60000/60000 [==============================] - 3s - loss: 0.1408 - acc: 0.9624     \n",
      "Epoch 7/10\n",
      "60000/60000 [==============================] - 3s - loss: 0.1267 - acc: 0.9662     \n",
      "Epoch 8/10\n",
      "60000/60000 [==============================] - 3s - loss: 0.1172 - acc: 0.9683     \n",
      "Epoch 9/10\n",
      "60000/60000 [==============================] - 3s - loss: 0.1105 - acc: 0.9701     \n",
      "Epoch 10/10\n",
      "60000/60000 [==============================] - 3s - loss: 0.1064 - acc: 0.9712     "
     ]
    },
    {
     "name": "stderr",
     "output_type": "stream",
     "text": [
      "[INFO 2019-06-12 14:46:37,467 cleverhans] Constructing new graph for attack FastGradientMethod\n"
     ]
    },
    {
     "name": "stdout",
     "output_type": "stream",
     "text": [
      "\n",
      "trained new model\n",
      " 9024/10000 [==========================>...] - ETA: 0s"
     ]
    },
    {
     "name": "stderr",
     "output_type": "stream",
     "text": [
      "[INFO 2019-06-12 14:46:39,129 cleverhans] Constructing new graph for attack FastGradientMethod\n"
     ]
    },
    {
     "name": "stdout",
     "output_type": "stream",
     "text": [
      " 8928/10000 [=========================>....] - ETA: 0s"
     ]
    },
    {
     "name": "stderr",
     "output_type": "stream",
     "text": [
      "[INFO 2019-06-12 14:46:40,137 cleverhans] Constructing new graph for attack FastGradientMethod\n"
     ]
    },
    {
     "name": "stdout",
     "output_type": "stream",
     "text": [
      " 9504/10000 [===========================>..] - ETA: 0s"
     ]
    },
    {
     "name": "stderr",
     "output_type": "stream",
     "text": [
      "[INFO 2019-06-12 14:46:42,736 cleverhans] Constructing new graph for attack FastGradientMethod\n"
     ]
    },
    {
     "name": "stdout",
     "output_type": "stream",
     "text": [
      " 9216/10000 [==========================>...] - ETA: 0s"
     ]
    },
    {
     "name": "stderr",
     "output_type": "stream",
     "text": [
      "[INFO 2019-06-12 14:46:43,834 cleverhans] Constructing new graph for attack FastGradientMethod\n"
     ]
    },
    {
     "name": "stdout",
     "output_type": "stream",
     "text": [
      " 8192/10000 [=======================>......] - ETA: 0s"
     ]
    },
    {
     "name": "stderr",
     "output_type": "stream",
     "text": [
      "[INFO 2019-06-12 14:46:44,927 cleverhans] Constructing new graph for attack FastGradientMethod\n"
     ]
    },
    {
     "name": "stdout",
     "output_type": "stream",
     "text": [
      " 8480/10000 [========================>.....] - ETA: 0s"
     ]
    }
   ],
   "source": [
    "model_1_accuracies = adv_generate_intermed_layer(sess, model, 1, x_train_flat, y_train)"
   ]
  },
  {
   "cell_type": "code",
   "execution_count": 213,
   "metadata": {},
   "outputs": [
    {
     "name": "stdout",
     "output_type": "stream",
     "text": [
      "_________________________________________________________________\n",
      "Layer (type)                 Output Shape              Param #   \n",
      "=================================================================\n",
      "dense_158 (Dense)            (None, 32)                25120     \n",
      "_________________________________________________________________\n",
      "dense_159 (Dense)            (None, 32)                1056      \n",
      "_________________________________________________________________\n",
      "dense_160 (Dense)            (None, 32)                1056      \n",
      "_________________________________________________________________\n",
      "dense_161 (Dense)            (None, 32)                1056      \n",
      "_________________________________________________________________\n",
      "dense_162 (Dense)            (None, 32)                1056      \n",
      "_________________________________________________________________\n",
      "dense_163 (Dense)            (None, 10)                330       \n",
      "=================================================================\n",
      "Total params: 29,674\n",
      "Trainable params: 29,674\n",
      "Non-trainable params: 0\n",
      "_________________________________________________________________\n",
      "None\n",
      "Found new features\n",
      "Created new model\n",
      "_________________________________________________________________\n",
      "Layer (type)                 Output Shape              Param #   \n",
      "=================================================================\n",
      "dense_226 (Dense)            (None, 32)                1056      \n",
      "_________________________________________________________________\n",
      "dense_223 (Dense)            (None, 32)                1056      \n",
      "_________________________________________________________________\n",
      "dense_224 (Dense)            (None, 32)                1056      \n",
      "_________________________________________________________________\n",
      "dense_225 (Dense)            (None, 10)                330       \n",
      "=================================================================\n",
      "Total params: 3,498\n",
      "Trainable params: 3,498\n",
      "Non-trainable params: 0\n",
      "_________________________________________________________________\n",
      "None\n",
      "Epoch 1/10\n",
      "60000/60000 [==============================] - 4s - loss: 1.0906 - acc: 0.6955     \n",
      "Epoch 2/10\n",
      "60000/60000 [==============================] - 3s - loss: 0.1761 - acc: 0.9627     \n",
      "Epoch 3/10\n",
      "60000/60000 [==============================] - 3s - loss: 0.1294 - acc: 0.9687     \n",
      "Epoch 4/10\n",
      "60000/60000 [==============================] - 3s - loss: 0.1174 - acc: 0.9707     \n",
      "Epoch 5/10\n",
      "60000/60000 [==============================] - 3s - loss: 0.1112 - acc: 0.9717     \n",
      "Epoch 6/10\n",
      "60000/60000 [==============================] - 3s - loss: 0.1073 - acc: 0.9730     \n",
      "Epoch 7/10\n",
      "60000/60000 [==============================] - 3s - loss: 0.1047 - acc: 0.9733     \n",
      "Epoch 8/10\n",
      "60000/60000 [==============================] - 3s - loss: 0.1022 - acc: 0.9733     \n",
      "Epoch 9/10\n",
      "60000/60000 [==============================] - 3s - loss: 0.1009 - acc: 0.9738     \n",
      "Epoch 10/10\n",
      "60000/60000 [==============================] - 3s - loss: 0.0994 - acc: 0.9733     "
     ]
    },
    {
     "name": "stderr",
     "output_type": "stream",
     "text": [
      "[INFO 2019-06-12 14:50:04,002 cleverhans] Constructing new graph for attack FastGradientMethod\n"
     ]
    },
    {
     "name": "stdout",
     "output_type": "stream",
     "text": [
      "\n",
      "trained new model\n",
      " 8704/10000 [=========================>....] - ETA: 0s"
     ]
    },
    {
     "name": "stderr",
     "output_type": "stream",
     "text": [
      "[INFO 2019-06-12 14:50:05,711 cleverhans] Constructing new graph for attack FastGradientMethod\n"
     ]
    },
    {
     "name": "stdout",
     "output_type": "stream",
     "text": [
      " 9152/10000 [==========================>...] - ETA: 0s"
     ]
    },
    {
     "name": "stderr",
     "output_type": "stream",
     "text": [
      "[INFO 2019-06-12 14:50:06,736 cleverhans] Constructing new graph for attack FastGradientMethod\n"
     ]
    },
    {
     "name": "stdout",
     "output_type": "stream",
     "text": [
      " 9888/10000 [============================>.] - ETA: 0s"
     ]
    },
    {
     "name": "stderr",
     "output_type": "stream",
     "text": [
      "[INFO 2019-06-12 14:50:07,866 cleverhans] Constructing new graph for attack FastGradientMethod\n"
     ]
    },
    {
     "name": "stdout",
     "output_type": "stream",
     "text": [
      " 8864/10000 [=========================>....] - ETA: 0s"
     ]
    },
    {
     "name": "stderr",
     "output_type": "stream",
     "text": [
      "[INFO 2019-06-12 14:50:09,005 cleverhans] Constructing new graph for attack FastGradientMethod\n"
     ]
    },
    {
     "name": "stdout",
     "output_type": "stream",
     "text": [
      " 8800/10000 [=========================>....] - ETA: 0s"
     ]
    },
    {
     "name": "stderr",
     "output_type": "stream",
     "text": [
      "[INFO 2019-06-12 14:50:10,052 cleverhans] Constructing new graph for attack FastGradientMethod\n"
     ]
    },
    {
     "name": "stdout",
     "output_type": "stream",
     "text": [
      " 9088/10000 [==========================>...] - ETA: 0s"
     ]
    }
   ],
   "source": [
    "model_2_accuracies = adv_generate_intermed_layer(sess, model, 2, x_train_flat, y_train)"
   ]
  },
  {
   "cell_type": "code",
   "execution_count": 217,
   "metadata": {},
   "outputs": [
    {
     "data": {
      "image/png": "[encoded data removed]",
      "text/plain": [
       "<Figure size 432x288 with 1 Axes>"
      ]
     },
     "metadata": {
      "needs_background": "light"
     },
     "output_type": "display_data"
    }
   ],
   "source": [
    "x = np.arange(0.05, 0.35, 0.05)\n",
    "y_4 = np.array(model_4_accuracies)[:, 1]\n",
    "y_3 = np.array(model_3_accuracies)[:, 1]\n",
    "y_2 = np.array(model_2_accuracies)[:, 1]\n",
    "y_1 = np.array(model_1_accuracies)[:, 1]\n",
    "plt.scatter(x, y_1, label = 'k=1')\n",
    "plt.scatter(x, y_2, label = 'k=2')\n",
    "plt.scatter(x, y_3, label = 'k=3')\n",
    "plt.scatter(x, y_4, label = 'k=4')\n",
    "\n",
    "plt.legend(loc='upper right')\n",
    "plt.xlabel('Eps for adversarial perturbation')\n",
    "plt.ylabel('Accuracy of model')\n",
    "plt.show()"
   ]
  },
  {
   "cell_type": "markdown",
   "metadata": {},
   "source": [
    "### Interpretation"
   ]
  },
  {
   "cell_type": "markdown",
   "metadata": {},
   "source": [
    "In the above plot, the higher that k is, the shallower the neural net is. As we can see from the plot, the shallower neural nets require higher eps to successfully attack the examples using the FGSM attack. This is in alignment with our hypothesis about the \"cascading effect\" making it easier to make adversarial examples for deeper networks. "
   ]
  },
  {
   "cell_type": "markdown",
   "metadata": {},
   "source": [
    "# Experiment D - Failed/ Inconclusive!"
   ]
  },
  {
   "cell_type": "markdown",
   "metadata": {},
   "source": [
    "The question this section attempts to answer: Do the adversarial examples exploit the idiosyncracies in the data?\n",
    "\n",
    "Elaboration: The noise in the data will lead the ML model to learn some relationships between the dependent and independent variables that do not truly exist. \n",
    "\n",
    "At a high level, for the adversary trying to find a direction of perturbation, it would be easier to find these directions in the data than find directions of actual consequence. \n",
    "\n",
    "So we pose the following hypothesis: The directions of adversarial perturbation should be more aligned with low singular value directions in the data rather than high singular value ones. "
   ]
  },
  {
   "cell_type": "code",
   "execution_count": 56,
   "metadata": {},
   "outputs": [],
   "source": [
    "_, sig, V = np.linalg.svd(x_test_flat)"
   ]
  },
  {
   "cell_type": "code",
   "execution_count": 57,
   "metadata": {},
   "outputs": [
    {
     "data": {
      "text/plain": [
       "(10000, 784)"
      ]
     },
     "execution_count": 57,
     "metadata": {},
     "output_type": "execute_result"
    }
   ],
   "source": [
    "x_test_flat.shape"
   ]
  },
  {
   "cell_type": "code",
   "execution_count": 58,
   "metadata": {},
   "outputs": [
    {
     "data": {
      "text/plain": [
       "(784, 784)"
      ]
     },
     "execution_count": 58,
     "metadata": {},
     "output_type": "execute_result"
    }
   ],
   "source": [
    "V.shape"
   ]
  },
  {
   "cell_type": "code",
   "execution_count": 59,
   "metadata": {},
   "outputs": [
    {
     "data": {
      "text/plain": [
       "<matplotlib.legend.Legend at 0x1c4a66ea20>"
      ]
     },
     "execution_count": 59,
     "metadata": {},
     "output_type": "execute_result"
    },
    {
     "data": {
      "image/png": "[encoded data removed]",
      "text/plain": [
       "<Figure size 432x288 with 1 Axes>"
      ]
     },
     "metadata": {
      "needs_background": "light"
     },
     "output_type": "display_data"
    }
   ],
   "source": [
    "plt.plot(range(len(sig)), sig, label = 'benign')\n",
    "plt.plot(range(len(sig)), sig_adv, label = 'adversarial')\n",
    "plt.legend(loc='upper right')"
   ]
  },
  {
   "cell_type": "code",
   "execution_count": 77,
   "metadata": {},
   "outputs": [],
   "source": [
    "adversarial_directions = x_test_adv_flat - x_test_flat"
   ]
  },
  {
   "cell_type": "code",
   "execution_count": 78,
   "metadata": {},
   "outputs": [],
   "source": [
    "adversarial_directions = adversarial_directions.T"
   ]
  },
  {
   "cell_type": "code",
   "execution_count": 79,
   "metadata": {},
   "outputs": [],
   "source": [
    "first_example = adversarial_directions[:,0]"
   ]
  },
  {
   "cell_type": "code",
   "execution_count": 80,
   "metadata": {},
   "outputs": [],
   "source": [
    "projections = np.abs(V.T @ adversarial_directions)"
   ]
  },
  {
   "cell_type": "code",
   "execution_count": 81,
   "metadata": {},
   "outputs": [],
   "source": [
    "average = np.average(projections, axis = 1)"
   ]
  },
  {
   "cell_type": "code",
   "execution_count": 82,
   "metadata": {},
   "outputs": [
    {
     "data": {
      "text/plain": [
       "[<matplotlib.lines.Line2D at 0x1c29db1588>]"
      ]
     },
     "execution_count": 82,
     "metadata": {},
     "output_type": "execute_result"
    },
    {
     "data": {
      "image/png": "[encoded data removed]",
      "text/plain": [
       "<Figure size 432x288 with 1 Axes>"
      ]
     },
     "metadata": {
      "needs_background": "light"
     },
     "output_type": "display_data"
    }
   ],
   "source": [
    "plt.plot(average)"
   ]
  },
  {
   "cell_type": "code",
   "execution_count": null,
   "metadata": {},
   "outputs": [],
   "source": []
  }
 ],
 "metadata": {
  "kernelspec": {
   "display_name": "Python 3",
   "language": "python",
   "name": "python3"
  },
  "language_info": {
   "codemirror_mode": {
    "name": "ipython",
    "version": 3
   },
   "file_extension": ".py",
   "mimetype": "text/x-python",
   "name": "python",
   "nbconvert_exporter": "python",
   "pygments_lexer": "ipython3",
   "version": "3.7.1"
  }
 },
 "nbformat": 4,
 "nbformat_minor": 2
}
