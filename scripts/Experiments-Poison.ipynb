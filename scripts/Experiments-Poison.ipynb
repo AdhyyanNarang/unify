{
 "cells": [
  {
   "cell_type": "markdown",
   "metadata": {},
   "source": [
    "In this experiment, we hope to find a relation between data poisoning and data evasion examples. Even though these two classes of adversarial attacks are completed by different optimization formulations,\n",
    "\n",
    "Hypothesis: Both add meaningful perturbations in the \"unexplored\" parts of the data to trick the model into misclassifying examples.\n",
    "\n",
    "It is well known that adversarial training i.e the inclusion of adversarial examples into the training set acts as a kind of regularizer and improves robustness in defense against data evasion attacks.\n",
    "\n",
    "To explicitize the relationship between data poisoning and data evasion attacks, we are going to try to examine the effects of crossing these two attacks on the same learning process by testing the following sub-hypotheses:\n",
    "\n",
    "1. Inclusion of correctly labeled adversarial examples in the training set prior to data poisoning increases the model's performance against poisoning attacks. (Methods that defend against advesarial examples also defend against poisoning)\n",
    "2. (??) (Methods that defend against poisoning examples also defend against adversarial examples)\n",
    "3. Inclusion of wrongly labeled adversarial examples in the training set acts as a data poisoning attack. (Adversarial examples function as poisoning examples as well).\n",
    "4. (??) Poisoning examples function as adversarial examples as well.\n",
    "\n",
    "The aim is not to create a defense mechanism for one or the other. Instead, we hope to further exploration to gain some more insight into the nature of these two attacks. Because currently in the arms race, the attackers of models are easily winning.. which means that it is probably a good idea to take a break from the battle and gain some more knowledge before we go back out into the bloodshed. "
   ]
  },
  {
   "cell_type": "code",
   "execution_count": 2,
   "metadata": {},
   "outputs": [
    {
     "name": "stdout",
     "output_type": "stream",
     "text": [
      "1.11.0\n"
     ]
    }
   ],
   "source": [
    "# TensorFlow and tf.keras\n",
    "import tensorflow as tf\n",
    "from tensorflow import keras\n",
    "\n",
    "# Helper libraries\n",
    "import numpy as np\n",
    "import matplotlib.pyplot as plt\n",
    "\n",
    "print(tf.__version__)"
   ]
  },
  {
   "cell_type": "code",
   "execution_count": 3,
   "metadata": {},
   "outputs": [],
   "source": [
    "from cleverhans.utils_tf import model_eval"
   ]
  },
  {
   "cell_type": "code",
   "execution_count": 4,
   "metadata": {},
   "outputs": [],
   "source": [
    "from cleverhans.attacks import FastGradientMethod\n",
    "from cleverhans.utils import AccuracyReport"
   ]
  },
  {
   "cell_type": "markdown",
   "metadata": {},
   "source": [
    "# Figure out how to poison the data"
   ]
  },
  {
   "cell_type": "markdown",
   "metadata": {},
   "source": [
    "### Import the MNIST dataset/ Preprocess the data"
   ]
  },
  {
   "cell_type": "code",
   "execution_count": 5,
   "metadata": {},
   "outputs": [],
   "source": [
    "mnist = keras.datasets.mnist\n",
    "\n",
    "(train_images, train_labels), (test_images, test_labels) = mnist.load_data()"
   ]
  },
  {
   "cell_type": "code",
   "execution_count": 6,
   "metadata": {},
   "outputs": [
    {
     "data": {
      "text/plain": [
       "(60000, 28, 28)"
      ]
     },
     "execution_count": 6,
     "metadata": {},
     "output_type": "execute_result"
    }
   ],
   "source": [
    "train_images.shape"
   ]
  },
  {
   "cell_type": "code",
   "execution_count": 7,
   "metadata": {},
   "outputs": [],
   "source": [
    "n = train_images.shape[0]"
   ]
  },
  {
   "cell_type": "code",
   "execution_count": 8,
   "metadata": {},
   "outputs": [],
   "source": [
    "train_images = train_images/255.0\n",
    "\n",
    "test_images = test_images/255.0"
   ]
  },
  {
   "cell_type": "markdown",
   "metadata": {},
   "source": [
    "### Train the model"
   ]
  },
  {
   "cell_type": "code",
   "execution_count": 9,
   "metadata": {},
   "outputs": [],
   "source": [
    "sess = tf.Session()\n",
    "keras.backend.set_session(sess)\n",
    "init = tf.global_variables_initializer()"
   ]
  },
  {
   "cell_type": "code",
   "execution_count": 10,
   "metadata": {},
   "outputs": [],
   "source": [
    "model = keras.Sequential([\n",
    "    keras.layers.Flatten(input_shape = (28,28)),\n",
    "    keras.layers.Dense(128, activation=tf.nn.relu),\n",
    "    keras.layers.Dropout(0.5), \n",
    "    keras.layers.Dense(10, activation=tf.nn.softmax)\n",
    "])"
   ]
  },
  {
   "cell_type": "code",
   "execution_count": 11,
   "metadata": {},
   "outputs": [],
   "source": [
    "model.compile(optimizer = tf.train.AdamOptimizer(),\n",
    "             loss = 'sparse_categorical_crossentropy',\n",
    "             metrics =['accuracy'])"
   ]
  },
  {
   "cell_type": "code",
   "execution_count": 12,
   "metadata": {},
   "outputs": [
    {
     "name": "stdout",
     "output_type": "stream",
     "text": [
      "Epoch 1/2\n",
      "60000/60000 [==============================] - 5s 88us/step - loss: 0.3971 - acc: 0.8823: 0s - loss: 0.4002 - acc: 0.8\n",
      "Epoch 2/2\n",
      "60000/60000 [==============================] - 5s 85us/step - loss: 0.2187 - acc: 0.9346\n"
     ]
    },
    {
     "data": {
      "text/plain": [
       "<tensorflow.python.keras.callbacks.History at 0x181898c0f0>"
      ]
     },
     "execution_count": 12,
     "metadata": {},
     "output_type": "execute_result"
    }
   ],
   "source": [
    "model.fit(train_images, train_labels, epochs = 2)"
   ]
  },
  {
   "cell_type": "code",
   "execution_count": 13,
   "metadata": {},
   "outputs": [
    {
     "name": "stdout",
     "output_type": "stream",
     "text": [
      "10000/10000 [==============================] - 1s 64us/step\n",
      "Test accuracy: 0.9618\n"
     ]
    }
   ],
   "source": [
    "test_loss, test_acc = model.evaluate(test_images, test_labels)\n",
    "\n",
    "print('Test accuracy:', test_acc)"
   ]
  },
  {
   "cell_type": "code",
   "execution_count": 14,
   "metadata": {},
   "outputs": [
    {
     "data": {
      "text/plain": [
       "<matplotlib.image.AxesImage at 0x1836633780>"
      ]
     },
     "execution_count": 14,
     "metadata": {},
     "output_type": "execute_result"
    },
    {
     "data": {
      "image/png": "[encoded data removed]",
      "text/plain": [
       "<Figure size 432x288 with 1 Axes>"
      ]
     },
     "metadata": {},
     "output_type": "display_data"
    }
   ],
   "source": [
    "plt.imshow(test_images[0])"
   ]
  },
  {
   "cell_type": "markdown",
   "metadata": {},
   "source": [
    "## Poison the data [Steinhardt, Koh] Influence functions"
   ]
  },
  {
   "cell_type": "code",
   "execution_count": 15,
   "metadata": {},
   "outputs": [],
   "source": [
    "def poison_with_influence_proj_gradient_step(model, test_idx, indices_to_poison, \n",
    "    projection_fn,\n",
    "    step_size=0.01,    \n",
    "    shrink_towards='cluster_center',\n",
    "    loss_type='normal_loss',\n",
    "    force_refresh=True, \n",
    "    test_description=None,\n",
    "    output_root=None):\n",
    "    \"\"\"\n",
    "    Returns poisoned_X_train, a subset of model.data_sets.train (marked by indices_to_poison)\n",
    "    that has been modified by a single gradient step.\n",
    "    \"\"\"\n",
    "\n",
    "    data_sets = model.data_sets\n",
    "\n",
    "    if test_description is None:\n",
    "        test_description = test_idx\n",
    "    grad_filename = os.path.join(output_root, 'grad_influence_wrt_input_val_%s_testidx_%s.npy' % (model.model_name, test_description))\n",
    "\n",
    "    if (force_refresh == False) and (os.path.exists(grad_filename)):\n",
    "        grad_influence_wrt_input_val = np.load(grad_filename)\n",
    "    else:\n",
    "        grad_influence_wrt_input_val = model.get_grad_of_influence_wrt_input(\n",
    "            indices_to_poison, \n",
    "            test_idx, \n",
    "            verbose=False,\n",
    "            force_refresh=force_refresh,\n",
    "            test_description=test_description,\n",
    "            loss_type=loss_type)    \n",
    "\n",
    "    poisoned_X_train = data_sets.train.x[indices_to_poison, :]\n",
    "    poisoned_X_train -= step_size * grad_influence_wrt_input_val\n",
    "\n",
    "    poisoned_labels = data_sets.train.labels[indices_to_poison]        \n",
    "    poisoned_X_train = projection_fn(poisoned_X_train, poisoned_labels)\n",
    "\n",
    "    return poisoned_X_train \n",
    "\n",
    "\n",
    "def iterative_attack(\n",
    "    model, \n",
    "    indices_to_poison, \n",
    "    test_idx, \n",
    "    test_description=None,\n",
    "    step_size=0.01, \n",
    "    num_iter=10,\n",
    "    loss_type='normal_loss',\n",
    "    projection_fn=None,\n",
    "    output_root=None,\n",
    "    stop_after=3): \n",
    "\n",
    "    largest_test_loss = 0\n",
    "    stop_counter = 0\n",
    "\n",
    "    print('Test idx: %s' % test_idx)\n",
    "\n",
    "    np.save(os.path.join(output_root, '%s_indices' % model.model_name), indices_to_poison)\n",
    "    np.savez(os.path.join(output_root, '%s_x_iter-0' % (model.model_name)), \n",
    "        poisoned_X_train=model.data_sets.train.x, \n",
    "        Y_train=model.data_sets.train.labels)\n",
    "\n",
    "    for attack_iter in range(num_iter):\n",
    "        print('*** Iter: %s' % attack_iter)\n",
    "\n",
    "        # Create modified training dataset        \n",
    "        old_X_train = np.copy(model.data_sets.train.x)\n",
    "        poisoned_X_train_subset = poison_with_influence_proj_gradient_step(\n",
    "            model, \n",
    "            test_idx, \n",
    "            indices_to_poison,\n",
    "            projection_fn,\n",
    "            step_size=step_size,\n",
    "            loss_type=loss_type,\n",
    "            force_refresh=True, \n",
    "            test_description=test_description,\n",
    "            output_root=output_root)                \n",
    "     \n",
    "        poisoned_X_train = np.copy(model.data_sets.train.x)\n",
    "        poisoned_X_train[indices_to_poison, :] = poisoned_X_train_subset\n",
    "\n",
    "        # Measure some metrics on what the gradient step did\n",
    "        labels = model.data_sets.train.labels\n",
    "        dists_sum = 0.0\n",
    "        poisoned_dists_sum = 0.0\n",
    "        poisoned_mask = np.array([False] * len(labels), dtype=bool)\n",
    "        poisoned_mask[indices_to_poison] = True\n",
    "        for y in set(labels):\n",
    "            cluster_center = np.mean(poisoned_X_train[labels == y, :], axis=0)\n",
    "            dists = np.linalg.norm(poisoned_X_train[labels == y, :] - cluster_center, axis=1)\n",
    "            dists_sum += np.sum(dists)\n",
    "\n",
    "            poisoned_dists = np.linalg.norm(poisoned_X_train[(labels == y) & (poisoned_mask), :] - cluster_center, axis=1)\n",
    "            poisoned_dists_sum += np.sum(poisoned_dists)\n",
    "\n",
    "        dists_mean = dists_sum / len(labels)\n",
    "        poisoned_dists_mean = poisoned_dists_sum / len(indices_to_poison)\n",
    "\n",
    "        dists_moved = np.linalg.norm(old_X_train[indices_to_poison, :] - poisoned_X_train[indices_to_poison, :], axis=1)\n",
    "        print('Average distance to cluster center (overall): %s' % dists_mean)\n",
    "        print('Average distance to cluster center (poisoned): %s' % poisoned_dists_mean)\n",
    "        print('Average diff in X_train among poisoned indices = %s' % np.mean(dists_moved))\n",
    "        print('Fraction of 0 gradient points: %s' % np.mean(dists_moved == 0))\n",
    "        print('Average distance moved by points that moved: %s' % np.mean(dists_moved[dists_moved > 0]))\n",
    "        \n",
    "        # Update training dataset\n",
    "        model.update_train_x(poisoned_X_train)\n",
    "\n",
    "        # Retrain model\n",
    "        model.train()\n",
    "\n",
    "        if (attack_iter + 1) % 40 == 0:\n",
    "\n",
    "            # Calculate test loss\n",
    "            test_loss = model.sess.run(model.loss_no_reg, feed_dict=model.all_test_feed_dict)\n",
    "            if largest_test_loss < test_loss:\n",
    "                largest_test_loss = test_loss\n",
    "\n",
    "                np.savez(os.path.join(output_root, '%s_attack' % (model.model_name)), \n",
    "                    poisoned_X_train=poisoned_X_train, \n",
    "                    Y_train=model.data_sets.train.labels,\n",
    "                    attack_iter=attack_iter + 1)\n",
    "\n",
    "                stop_counter = 0\n",
    "            else:\n",
    "                stop_counter += 1\n",
    "\n",
    "            if stop_counter >= stop_after:\n",
    "                break"
   ]
  },
  {
   "cell_type": "code",
   "execution_count": 16,
   "metadata": {},
   "outputs": [],
   "source": [
    "import data_utils as data"
   ]
  },
  {
   "cell_type": "code",
   "execution_count": 21,
   "metadata": {},
   "outputs": [
    {
     "ename": "KeyError",
     "evalue": "0",
     "output_type": "error",
     "traceback": [
      "\u001b[0;31m---------------------------------------------------------------------------\u001b[0m",
      "\u001b[0;31mKeyError\u001b[0m                                  Traceback (most recent call last)",
      "\u001b[0;32m<ipython-input-21-2212df39da21>\u001b[0m in \u001b[0;36m<module>\u001b[0;34m()\u001b[0m\n\u001b[1;32m     34\u001b[0m             \u001b[0msphere\u001b[0m\u001b[0;34m=\u001b[0m\u001b[0mproject_sphere\u001b[0m\u001b[0;34m,\u001b[0m\u001b[0;34m\u001b[0m\u001b[0m\n\u001b[1;32m     35\u001b[0m             \u001b[0mslab\u001b[0m\u001b[0;34m=\u001b[0m\u001b[0mproject_slab\u001b[0m\u001b[0;34m,\u001b[0m\u001b[0;34m\u001b[0m\u001b[0m\n\u001b[0;32m---> 36\u001b[0;31m             percentile=70)\n\u001b[0m\u001b[1;32m     37\u001b[0m \u001b[0;34m\u001b[0m\u001b[0m\n\u001b[1;32m     38\u001b[0m \u001b[0;34m\u001b[0m\u001b[0m\n",
      "\u001b[0;32m~/OneDrive/Adversarial ML/Experiments_code/data_utils.py\u001b[0m in \u001b[0;36mget_projection_fn\u001b[0;34m(X_clean, Y_clean, sphere, slab, percentile)\u001b[0m\n\u001b[1;32m    188\u001b[0m     percentile=70):\n\u001b[1;32m    189\u001b[0m \u001b[0;34m\u001b[0m\u001b[0m\n\u001b[0;32m--> 190\u001b[0;31m     \u001b[0mclass_map\u001b[0m\u001b[0;34m,\u001b[0m \u001b[0mcentroids\u001b[0m\u001b[0;34m,\u001b[0m \u001b[0mcentroid_vec\u001b[0m\u001b[0;34m,\u001b[0m \u001b[0msphere_radii\u001b[0m\u001b[0;34m,\u001b[0m \u001b[0mslab_radii\u001b[0m \u001b[0;34m=\u001b[0m \u001b[0mget_data_params\u001b[0m\u001b[0;34m(\u001b[0m\u001b[0mX_clean\u001b[0m\u001b[0;34m,\u001b[0m \u001b[0mY_clean\u001b[0m\u001b[0;34m,\u001b[0m \u001b[0mpercentile\u001b[0m\u001b[0;34m)\u001b[0m\u001b[0;34m\u001b[0m\u001b[0m\n\u001b[0m\u001b[1;32m    191\u001b[0m     \u001b[0;32mif\u001b[0m \u001b[0msphere\u001b[0m \u001b[0;32mand\u001b[0m \u001b[0mslab\u001b[0m\u001b[0;34m:\u001b[0m\u001b[0;34m\u001b[0m\u001b[0m\n\u001b[1;32m    192\u001b[0m         \u001b[0mprojector\u001b[0m \u001b[0;34m=\u001b[0m \u001b[0mupper_bounds\u001b[0m\u001b[0;34m.\u001b[0m\u001b[0mProjector\u001b[0m\u001b[0;34m(\u001b[0m\u001b[0;34m)\u001b[0m\u001b[0;34m\u001b[0m\u001b[0m\n",
      "\u001b[0;32m~/OneDrive/Adversarial ML/Experiments_code/data_utils.py\u001b[0m in \u001b[0;36mget_data_params\u001b[0;34m(X, Y, percentile)\u001b[0m\n\u001b[1;32m     63\u001b[0m     \u001b[0mcentroids\u001b[0m \u001b[0;34m=\u001b[0m \u001b[0mnp\u001b[0m\u001b[0;34m.\u001b[0m\u001b[0mzeros\u001b[0m\u001b[0;34m(\u001b[0m\u001b[0;34m(\u001b[0m\u001b[0mnum_classes\u001b[0m\u001b[0;34m,\u001b[0m \u001b[0mnum_features\u001b[0m\u001b[0;34m)\u001b[0m\u001b[0;34m)\u001b[0m\u001b[0;34m\u001b[0m\u001b[0m\n\u001b[1;32m     64\u001b[0m     \u001b[0mclass_map\u001b[0m \u001b[0;34m=\u001b[0m \u001b[0mget_class_map\u001b[0m\u001b[0;34m(\u001b[0m\u001b[0;34m)\u001b[0m\u001b[0;34m\u001b[0m\u001b[0m\n\u001b[0;32m---> 65\u001b[0;31m     \u001b[0mcentroids\u001b[0m \u001b[0;34m=\u001b[0m \u001b[0mget_centroids\u001b[0m\u001b[0;34m(\u001b[0m\u001b[0mX\u001b[0m\u001b[0;34m,\u001b[0m \u001b[0mY\u001b[0m\u001b[0;34m,\u001b[0m \u001b[0mclass_map\u001b[0m\u001b[0;34m)\u001b[0m\u001b[0;34m\u001b[0m\u001b[0m\n\u001b[0m\u001b[1;32m     66\u001b[0m \u001b[0;34m\u001b[0m\u001b[0m\n\u001b[1;32m     67\u001b[0m     \u001b[0;31m# Get radii for sphere\u001b[0m\u001b[0;34m\u001b[0m\u001b[0;34m\u001b[0m\u001b[0m\n",
      "\u001b[0;32m~/OneDrive/Adversarial ML/Experiments_code/data_utils.py\u001b[0m in \u001b[0;36mget_centroids\u001b[0;34m(X, Y, class_map)\u001b[0m\n\u001b[1;32m     31\u001b[0m     \u001b[0mcentroids\u001b[0m \u001b[0;34m=\u001b[0m \u001b[0mnp\u001b[0m\u001b[0;34m.\u001b[0m\u001b[0mzeros\u001b[0m\u001b[0;34m(\u001b[0m\u001b[0;34m(\u001b[0m\u001b[0mnum_classes\u001b[0m\u001b[0;34m,\u001b[0m \u001b[0mnum_features\u001b[0m\u001b[0;34m)\u001b[0m\u001b[0;34m)\u001b[0m\u001b[0;34m\u001b[0m\u001b[0m\n\u001b[1;32m     32\u001b[0m     \u001b[0;32mfor\u001b[0m \u001b[0my\u001b[0m \u001b[0;32min\u001b[0m \u001b[0mset\u001b[0m\u001b[0;34m(\u001b[0m\u001b[0mY\u001b[0m\u001b[0;34m)\u001b[0m\u001b[0;34m:\u001b[0m\u001b[0;34m\u001b[0m\u001b[0m\n\u001b[0;32m---> 33\u001b[0;31m         \u001b[0mcentroids\u001b[0m\u001b[0;34m[\u001b[0m\u001b[0mclass_map\u001b[0m\u001b[0;34m[\u001b[0m\u001b[0my\u001b[0m\u001b[0;34m]\u001b[0m\u001b[0;34m,\u001b[0m \u001b[0;34m:\u001b[0m\u001b[0;34m]\u001b[0m \u001b[0;34m=\u001b[0m \u001b[0mnp\u001b[0m\u001b[0;34m.\u001b[0m\u001b[0mmean\u001b[0m\u001b[0;34m(\u001b[0m\u001b[0mX\u001b[0m\u001b[0;34m[\u001b[0m\u001b[0mY\u001b[0m \u001b[0;34m==\u001b[0m \u001b[0my\u001b[0m\u001b[0;34m,\u001b[0m \u001b[0;34m:\u001b[0m\u001b[0;34m]\u001b[0m\u001b[0;34m,\u001b[0m \u001b[0maxis\u001b[0m\u001b[0;34m=\u001b[0m\u001b[0;36m0\u001b[0m\u001b[0;34m)\u001b[0m\u001b[0;34m\u001b[0m\u001b[0m\n\u001b[0m\u001b[1;32m     34\u001b[0m     \u001b[0;32mreturn\u001b[0m \u001b[0mcentroids\u001b[0m\u001b[0;34m\u001b[0m\u001b[0m\n\u001b[1;32m     35\u001b[0m \u001b[0;34m\u001b[0m\u001b[0m\n",
      "\u001b[0;31mKeyError\u001b[0m: 0"
     ]
    }
   ],
   "source": [
    "#Now that we have data_utils and the iterative_attack, we could replicate the code from gradient_attack.py\n",
    "\n",
    "#Configurations\n",
    "eps = 0.2\n",
    "step_size = 0.001\n",
    "random_seed = 9001\n",
    "project_sphere = True\n",
    "project_slab = True\n",
    "\n",
    "total_copies = int(np.round(eps*train_images.shape[0]))\n",
    "num_pos_copies = int(total_copies/2)\n",
    "num_neg_copies = total_copies - num_pos_copies\n",
    "\n",
    "# X_mod, Y_mod = data.copy_random_points(\n",
    "# train_images, train_labels,\n",
    "# target_class = 1,\n",
    "# num_copies = num_pos_copies,\n",
    "# random_seed = random_seed,\n",
    "# replace = True\n",
    "# )\n",
    "\n",
    "# X_mod, Y_mod = data.copy_random_points(\n",
    "# train_images, train_labels,\n",
    "# target_class = -1,\n",
    "# num_copies = num_neg_copies,\n",
    "# random_seed = random_seed,\n",
    "# replace = True\n",
    "# )\n",
    "\n",
    "#provide the influence function model using smoothHinge or whatever\n",
    "\n",
    "projection_fn = data.get_projection_fn(\n",
    "            train_images, train_labels,\n",
    "            sphere=project_sphere,\n",
    "            slab=project_slab,\n",
    "            percentile=70)\n",
    "\n",
    "\n",
    "iterative_attack(\n",
    "    model, \n",
    "    indices_to_poison=np.arange(X_train.shape[0], X_modified.shape[0]),            \n",
    "    test_idx=None, \n",
    "    test_description=None, \n",
    "    step_size=step_size, \n",
    "    num_iter=2000,\n",
    "    loss_type='normal_loss',\n",
    "    projection_fn=projection_fn,\n",
    "    output_root=output_root)"
   ]
  },
  {
   "cell_type": "markdown",
   "metadata": {},
   "source": [
    "# Sub-hypothesis 3"
   ]
  },
  {
   "cell_type": "code",
   "execution_count": null,
   "metadata": {},
   "outputs": [],
   "source": []
  }
 ],
 "metadata": {
  "kernelspec": {
   "display_name": "Python 3",
   "language": "python",
   "name": "python3"
  },
  "language_info": {
   "codemirror_mode": {
    "name": "ipython",
    "version": 3
   },
   "file_extension": ".py",
   "mimetype": "text/x-python",
   "name": "python",
   "nbconvert_exporter": "python",
   "pygments_lexer": "ipython3",
   "version": "3.6.4"
  }
 },
 "nbformat": 4,
 "nbformat_minor": 2
}
