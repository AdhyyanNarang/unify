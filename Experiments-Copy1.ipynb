{
 "cells": [
  {
   "cell_type": "markdown",
   "metadata": {},
   "source": [
    "In this experiment, we hope to find a relation between data poisoning and data evasion examples. Even though these two classes of adversarial attacks are completed by different optimization formulations,\n",
    "\n",
    "Hypothesis: Both add meaningful perturbations in the \"unexplored\" parts of the data to trick the model into misclassifying examples.\n",
    "\n",
    "It is well known that adversarial training i.e the inclusion of adversarial examples into the training set acts as a kind of regularizer and improves robustness in defense against data evasion attacks.\n",
    "\n",
    "To explicitize the relationship between data poisoning and data evasion attacks, we are going to try to examine the effects of crossing these two attacks on the same learning process by testing the following sub-hypotheses:\n",
    "\n",
    "1. Inclusion of correctly labeled adversarial examples in the training set prior to data poisoning increases the model's performance against poisoning attacks. (Methods that defend against advesarial examples also defend against poisoning)\n",
    "2. (??) (Methods that defend against poisoning examples also defend against adversarial examples)\n",
    "3. Inclusion of wrongly labeled adversarial examples in the training set acts as a data poisoning attack. (Adversarial examples function as poisoning examples as well).\n",
    "4. (??) Poisoning examples function as adversarial examples as well.\n",
    "\n",
    "The aim is not to create a defense mechanism for one or the other. Instead, we hope to further exploration to gain some more insight into the nature of these two attacks. Because currently in the arms race, the attackers of models are easily winning.. which means that it is probably a good idea to take a break from the battle and gain some more knowledge before we go back out into the bloodshed. "
   ]
  },
  {
   "cell_type": "code",
   "execution_count": 1,
   "metadata": {},
   "outputs": [
    {
     "name": "stdout",
     "output_type": "stream",
     "text": [
      "1.11.0\n"
     ]
    }
   ],
   "source": [
    "# TensorFlow and tf.keras\n",
    "import tensorflow as tf\n",
    "from tensorflow import keras\n",
    "\n",
    "# Helper libraries\n",
    "import numpy as np\n",
    "import matplotlib.pyplot as plt\n",
    "\n",
    "print(tf.__version__)"
   ]
  },
  {
   "cell_type": "code",
   "execution_count": 2,
   "metadata": {},
   "outputs": [],
   "source": [
    "from cleverhans.utils_tf import model_eval"
   ]
  },
  {
   "cell_type": "code",
   "execution_count": 3,
   "metadata": {},
   "outputs": [],
   "source": [
    "from cleverhans.attacks import FastGradientMethod\n",
    "from cleverhans.utils import AccuracyReport"
   ]
  },
  {
   "cell_type": "markdown",
   "metadata": {},
   "source": [
    "# Sub-hypothesis 1"
   ]
  },
  {
   "cell_type": "markdown",
   "metadata": {},
   "source": [
    "### Import the MNIST dataset/ Preprocess the data"
   ]
  },
  {
   "cell_type": "code",
   "execution_count": 4,
   "metadata": {},
   "outputs": [],
   "source": [
    "mnist = keras.datasets.mnist\n",
    "\n",
    "(train_images, train_labels), (test_images, test_labels) = mnist.load_data()"
   ]
  },
  {
   "cell_type": "code",
   "execution_count": 5,
   "metadata": {},
   "outputs": [
    {
     "data": {
      "text/plain": [
       "(60000, 28, 28)"
      ]
     },
     "execution_count": 5,
     "metadata": {},
     "output_type": "execute_result"
    }
   ],
   "source": [
    "train_images.shape"
   ]
  },
  {
   "cell_type": "code",
   "execution_count": 6,
   "metadata": {},
   "outputs": [],
   "source": [
    "n = train_images.shape[0]"
   ]
  },
  {
   "cell_type": "code",
   "execution_count": 7,
   "metadata": {},
   "outputs": [],
   "source": [
    "train_images = train_images/255.0\n",
    "\n",
    "test_images = test_images/255.0"
   ]
  },
  {
   "cell_type": "markdown",
   "metadata": {},
   "source": [
    "### Train the model"
   ]
  },
  {
   "cell_type": "code",
   "execution_count": 8,
   "metadata": {},
   "outputs": [],
   "source": [
    "sess = tf.Session()\n",
    "keras.backend.set_session(sess)\n",
    "init = tf.global_variables_initializer()"
   ]
  },
  {
   "cell_type": "code",
   "execution_count": 12,
   "metadata": {},
   "outputs": [],
   "source": [
    "model = keras.Sequential([\n",
    "    keras.layers.Flatten(input_shape = (28,28)),\n",
    "    keras.layers.Dense(128, activation=tf.nn.relu),\n",
    "    keras.layers.Dropout(0.5), \n",
    "    keras.layers.Dense(10, activation=tf.nn.softmax)\n",
    "])"
   ]
  },
  {
   "cell_type": "code",
   "execution_count": 37,
   "metadata": {},
   "outputs": [
    {
     "ename": "TypeError",
     "evalue": "The added layer must be an instance of class Layer. Found: <keras.layers.convolutional.Conv2D object at 0x184462ba90>",
     "output_type": "error",
     "traceback": [
      "\u001b[0;31m---------------------------------------------------------------------------\u001b[0m",
      "\u001b[0;31mTypeError\u001b[0m                                 Traceback (most recent call last)",
      "\u001b[0;32m<ipython-input-37-a47d6fa81cfd>\u001b[0m in \u001b[0;36m<module>\u001b[0;34m()\u001b[0m\n\u001b[1;32m      8\u001b[0m model.add(Conv2D(32, kernel_size = (5, 5),\n\u001b[1;32m      9\u001b[0m                  \u001b[0mactivation\u001b[0m \u001b[0;34m=\u001b[0m \u001b[0;34m'relu'\u001b[0m\u001b[0;34m,\u001b[0m\u001b[0;34m\u001b[0m\u001b[0m\n\u001b[0;32m---> 10\u001b[0;31m                  input_shape = (28,28)))\n\u001b[0m\u001b[1;32m     11\u001b[0m model.add(Conv2D(32, kernel_size = (3, 3),\n\u001b[1;32m     12\u001b[0m                  activation = 'relu'))\n",
      "\u001b[0;32m~/miniconda3/lib/python3.6/site-packages/tensorflow/python/training/checkpointable/base.py\u001b[0m in \u001b[0;36m_method_wrapper\u001b[0;34m(self, *args, **kwargs)\u001b[0m\n\u001b[1;32m    424\u001b[0m     \u001b[0mself\u001b[0m\u001b[0;34m.\u001b[0m\u001b[0m_setattr_tracking\u001b[0m \u001b[0;34m=\u001b[0m \u001b[0;32mFalse\u001b[0m  \u001b[0;31m# pylint: disable=protected-access\u001b[0m\u001b[0;34m\u001b[0m\u001b[0m\n\u001b[1;32m    425\u001b[0m     \u001b[0;32mtry\u001b[0m\u001b[0;34m:\u001b[0m\u001b[0;34m\u001b[0m\u001b[0m\n\u001b[0;32m--> 426\u001b[0;31m       \u001b[0mmethod\u001b[0m\u001b[0;34m(\u001b[0m\u001b[0mself\u001b[0m\u001b[0;34m,\u001b[0m \u001b[0;34m*\u001b[0m\u001b[0margs\u001b[0m\u001b[0;34m,\u001b[0m \u001b[0;34m**\u001b[0m\u001b[0mkwargs\u001b[0m\u001b[0;34m)\u001b[0m\u001b[0;34m\u001b[0m\u001b[0m\n\u001b[0m\u001b[1;32m    427\u001b[0m     \u001b[0;32mfinally\u001b[0m\u001b[0;34m:\u001b[0m\u001b[0;34m\u001b[0m\u001b[0m\n\u001b[1;32m    428\u001b[0m       \u001b[0mself\u001b[0m\u001b[0;34m.\u001b[0m\u001b[0m_setattr_tracking\u001b[0m \u001b[0;34m=\u001b[0m \u001b[0mprevious_value\u001b[0m  \u001b[0;31m# pylint: disable=protected-access\u001b[0m\u001b[0;34m\u001b[0m\u001b[0m\n",
      "\u001b[0;32m~/miniconda3/lib/python3.6/site-packages/tensorflow/python/keras/engine/sequential.py\u001b[0m in \u001b[0;36madd\u001b[0;34m(self, layer)\u001b[0m\n\u001b[1;32m    138\u001b[0m       raise TypeError('The added layer must be '\n\u001b[1;32m    139\u001b[0m                       \u001b[0;34m'an instance of class Layer. '\u001b[0m\u001b[0;34m\u001b[0m\u001b[0m\n\u001b[0;32m--> 140\u001b[0;31m                       'Found: ' + str(layer))\n\u001b[0m\u001b[1;32m    141\u001b[0m     \u001b[0mself\u001b[0m\u001b[0;34m.\u001b[0m\u001b[0mbuilt\u001b[0m \u001b[0;34m=\u001b[0m \u001b[0;32mFalse\u001b[0m\u001b[0;34m\u001b[0m\u001b[0m\n\u001b[1;32m    142\u001b[0m     \u001b[0mset_inputs\u001b[0m \u001b[0;34m=\u001b[0m \u001b[0;32mFalse\u001b[0m\u001b[0;34m\u001b[0m\u001b[0m\n",
      "\u001b[0;31mTypeError\u001b[0m: The added layer must be an instance of class Layer. Found: <keras.layers.convolutional.Conv2D object at 0x184462ba90>"
     ]
    }
   ],
   "source": [
    "# Ignore this for now. Might have to tune models later to reduce overfitting. \n",
    "\n",
    "num_classes = 10\n",
    "\n",
    "from keras.layers import Conv2D, MaxPooling2D, Dropout, Flatten, Dense, Dropout\n",
    "\n",
    "model = keras.Sequential()\n",
    "model.add(Conv2D(32, kernel_size = (5, 5),\n",
    "                 activation = 'relu',\n",
    "                 input_shape = (28,28)))\n",
    "model.add(Conv2D(32, kernel_size = (3, 3),\n",
    "                 activation = 'relu'))\n",
    "model.add(MaxPooling2D(pool_size = (2, 2)))\n",
    "model.add(Dropout(0.25))\n",
    "\n",
    "model.add(Conv2D(64, (3, 3), activation = 'relu'))\n",
    "model.add(Conv2D(64, (3, 3), activation = 'relu'))\n",
    "model.add(MaxPooling2D(pool_size = (2, 2)))\n",
    "model.add(Dropout(0.25))\n",
    "\n",
    "model.add(Flatten())\n",
    "model.add(Dense(1024, activation = 'relu'))\n",
    "model.add(Dropout(0.5))\n",
    "model.add(Dense(1024, activation = 'relu'))\n",
    "model.add(Dropout(0.5))\n",
    "\n",
    "model.add(Dense(num_classes, activation = 'softmax'))"
   ]
  },
  {
   "cell_type": "code",
   "execution_count": 13,
   "metadata": {},
   "outputs": [],
   "source": [
    "model.compile(optimizer = tf.train.AdamOptimizer(),\n",
    "             loss = 'sparse_categorical_crossentropy',\n",
    "             metrics =['accuracy'])"
   ]
  },
  {
   "cell_type": "code",
   "execution_count": 14,
   "metadata": {},
   "outputs": [
    {
     "name": "stdout",
     "output_type": "stream",
     "text": [
      "Epoch 1/2\n",
      "60000/60000 [==============================] - 5s 86us/step - loss: 0.3914 - acc: 0.8832\n",
      "Epoch 2/2\n",
      "60000/60000 [==============================] - 5s 82us/step - loss: 0.2203 - acc: 0.9344\n"
     ]
    },
    {
     "data": {
      "text/plain": [
       "<tensorflow.python.keras.callbacks.History at 0x1842e445c0>"
      ]
     },
     "execution_count": 14,
     "metadata": {},
     "output_type": "execute_result"
    }
   ],
   "source": [
    "model.fit(train_images, train_labels, epochs = 2)"
   ]
  },
  {
   "cell_type": "code",
   "execution_count": 57,
   "metadata": {},
   "outputs": [
    {
     "name": "stdout",
     "output_type": "stream",
     "text": [
      "10000/10000 [==============================] - 1s 73us/step\n",
      "Test accuracy: 0.964\n"
     ]
    }
   ],
   "source": [
    "test_loss, test_acc = model.evaluate(test_images, test_labels)\n",
    "\n",
    "print('Test accuracy:', test_acc)"
   ]
  },
  {
   "cell_type": "code",
   "execution_count": 58,
   "metadata": {},
   "outputs": [
    {
     "data": {
      "text/plain": [
       "<matplotlib.image.AxesImage at 0x1841e99240>"
      ]
     },
     "execution_count": 58,
     "metadata": {},
     "output_type": "execute_result"
    },
    {
     "data": {
      "image/png": "[encoded data removed]",
      "text/plain": [
       "<Figure size 432x288 with 1 Axes>"
      ]
     },
     "metadata": {},
     "output_type": "display_data"
    }
   ],
   "source": [
    "plt.imshow(test_images[0])"
   ]
  },
  {
   "cell_type": "markdown",
   "metadata": {},
   "source": [
    "## Add adversarial examples and evaluate test data"
   ]
  },
  {
   "cell_type": "code",
   "execution_count": 15,
   "metadata": {},
   "outputs": [],
   "source": [
    "def adv_evaluate(model_input, epsilon_input):\n",
    "    with sess.as_default():\n",
    "        #sess.run(init)\n",
    "        fgsm = FastGradientMethod(model_input, sess = sess)\n",
    "        adv_x = fgsm.generate_np(test_images, eps = epsilon_input, clip_min = -1, clip_max = 1)\n",
    "        preds_adv = model_input.predict(adv_x)\n",
    "        eval_par = {'batch_size': 60000}\n",
    "        test_loss, acc = model_input.evaluate(adv_x, test_labels)\n",
    "    return acc, adv_x, preds_adv"
   ]
  },
  {
   "cell_type": "code",
   "execution_count": 30,
   "metadata": {},
   "outputs": [
    {
     "name": "stdout",
     "output_type": "stream",
     "text": [
      "10000/10000 [==============================] - 0s 39us/step\n",
      "Test accuracy on adversarial examples: 0.1348\n"
     ]
    }
   ],
   "source": [
    "acc, adv_x_np, preds = adv_evaluate(model, 0.1)\n",
    "print('Test accuracy on adversarial examples:', acc)"
   ]
  },
  {
   "cell_type": "code",
   "execution_count": 17,
   "metadata": {},
   "outputs": [
    {
     "data": {
      "image/png": "[encoded data removed]",
      "text/plain": [
       "<Figure size 432x288 with 25 Axes>"
      ]
     },
     "metadata": {},
     "output_type": "display_data"
    }
   ],
   "source": [
    "for i in range(25):\n",
    "    plt.subplot(5,5,i+1)\n",
    "    plt.xticks([])\n",
    "    plt.yticks([])\n",
    "    plt.grid(False)\n",
    "    plt.imshow(adv_x_np[i], cmap = plt.cm.binary)\n",
    "    plt.xlabel(np.argmax(preds[i]))"
   ]
  },
  {
   "cell_type": "code",
   "execution_count": 25,
   "metadata": {},
   "outputs": [
    {
     "data": {
      "image/png": "[encoded data removed]",
      "text/plain": [
       "<Figure size 432x288 with 1 Axes>"
      ]
     },
     "metadata": {},
     "output_type": "display_data"
    },
    {
     "data": {
      "text/plain": [
       "<matplotlib.image.AxesImage at 0x181a424fd0>"
      ]
     },
     "execution_count": 25,
     "metadata": {},
     "output_type": "execute_result"
    },
    {
     "data": {
      "image/png": "[encoded data removed]",
      "text/plain": [
       "<Figure size 432x288 with 1 Axes>"
      ]
     },
     "metadata": {},
     "output_type": "display_data"
    }
   ],
   "source": [
    "plt.imshow(test_images[1])\n",
    "plt.xlabel(test_labels[1])\n",
    "plt.show()\n",
    "plt.imshow(adv_x_np[1])"
   ]
  },
  {
   "cell_type": "markdown",
   "metadata": {},
   "source": [
    "## Create 4 test sets with different % of adversarial examples"
   ]
  },
  {
   "cell_type": "code",
   "execution_count": 31,
   "metadata": {},
   "outputs": [],
   "source": [
    "with sess.as_default():\n",
    "    #sess.run(init)\n",
    "    fgsm = FastGradientMethod(model, sess = sess)\n",
    "    percentages = np.linspace(0.1, 0.9, 4)\n",
    "    new_train_images = []\n",
    "    new_train_labels = []\n",
    "    new_adv_x = []\n",
    "    adv_labels = []\n",
    "    for perc in percentages:\n",
    "        #print(perc)\n",
    "        example_indices = np.random.choice(n, int(np.round(perc*n)))\n",
    "        chosen_adv_images = train_images[example_indices]\n",
    "        chosen_adv_labels = train_labels[example_indices]\n",
    "        adv_x = fgsm.generate_np(chosen_adv_images, eps = 0.05, clip_min = -1, clip_max = 1)\n",
    "        \n",
    "        #example_indices = np.random.choice(n, int(np.round(0.7*n)))\n",
    "        #chosen_train_images = train_images[example_indices]\n",
    "        #chosen_train_labels = train_labels[example_indices]\n",
    "        chosen_train_images = train_images\n",
    "        chosen_train_labels = train_labels\n",
    "        \n",
    "        new_train = np.vstack((chosen_train_images, adv_x))\n",
    "        new_labels = np.hstack((chosen_train_labels, chosen_adv_labels))\n",
    "        new_train_images.append(new_train)\n",
    "        new_train_labels.append(new_labels)\n",
    "        new_adv_x.append(adv_x)\n",
    "        adv_labels.append(chosen_adv_labels)"
   ]
  },
  {
   "cell_type": "code",
   "execution_count": 33,
   "metadata": {},
   "outputs": [
    {
     "data": {
      "image/png": "[encoded data removed]",
      "text/plain": [
       "<Figure size 720x720 with 25 Axes>"
      ]
     },
     "metadata": {},
     "output_type": "display_data"
    }
   ],
   "source": [
    "#See if our adversarial training set looks ok.\n",
    "plt.figure(figsize=(10,10))\n",
    "train_x = new_train_images[2]\n",
    "train_y = new_train_labels[2]\n",
    "idxs = np.random.choice(len(train_x), 25)\n",
    "\n",
    "for (i, idx) in enumerate(idxs):\n",
    "    plt.subplot(5,5,i+1)\n",
    "    plt.xticks([])\n",
    "    plt.yticks([])\n",
    "    plt.grid(False)\n",
    "    plt.imshow(train_x[idx], cmap = plt.cm.binary)\n",
    "    plt.xlabel(train_y[idx])\n",
    "    \n",
    "# Seems fine."
   ]
  },
  {
   "cell_type": "code",
   "execution_count": 34,
   "metadata": {},
   "outputs": [
    {
     "name": "stdout",
     "output_type": "stream",
     "text": [
      "(66000, 28, 28)\n",
      "(82000, 28, 28)\n",
      "(98000, 28, 28)\n",
      "(114000, 28, 28)\n"
     ]
    }
   ],
   "source": [
    "for train_x in new_train_images:\n",
    "    print(train_x.shape)"
   ]
  },
  {
   "cell_type": "code",
   "execution_count": 35,
   "metadata": {},
   "outputs": [
    {
     "data": {
      "text/plain": [
       "Text(0.5,0,'9')"
      ]
     },
     "execution_count": 35,
     "metadata": {},
     "output_type": "execute_result"
    },
    {
     "data": {
      "image/png": "[encoded data removed]",
      "text/plain": [
       "<Figure size 432x288 with 1 Axes>"
      ]
     },
     "metadata": {},
     "output_type": "display_data"
    }
   ],
   "source": [
    "adv_1 = new_adv_x[0]\n",
    "adv_label_1 = adv_labels[0]\n",
    "plt.imshow(adv_1[1])\n",
    "plt.xlabel(adv_label_1[1])"
   ]
  },
  {
   "cell_type": "code",
   "execution_count": 36,
   "metadata": {},
   "outputs": [
    {
     "name": "stdout",
     "output_type": "stream",
     "text": [
      "Epoch 1/2\n",
      "66000/66000 [==============================] - 7s 100us/step - loss: 0.3987 - acc: 0.8817\n",
      "Epoch 2/2\n",
      "66000/66000 [==============================] - 6s 84us/step - loss: 0.2239 - acc: 0.9350\n",
      "10000/10000 [==============================] - 1s 77us/step\n",
      "10000/10000 [==============================] - 0s 40us/step\n",
      "Test accuracy: 0.9628\n",
      "Adversarial test accuracy 0.2028\n",
      "Epoch 1/2\n",
      "82000/82000 [==============================] - 9s 113us/step - loss: 0.3554 - acc: 0.8968 1s - l - ETA: 0s - loss: 0.3622 - acc\n",
      "Epoch 2/2\n",
      "82000/82000 [==============================] - 8s 96us/step - loss: 0.1984 - acc: 0.9410\n",
      "10000/10000 [==============================] - 1s 78us/step\n",
      "10000/10000 [==============================] - 0s 46us/step\n",
      "Test accuracy: 0.9683\n",
      "Adversarial test accuracy 0.1445\n",
      "Epoch 1/2\n",
      "98000/98000 [==============================] - 10s 106us/step - loss: 0.3329 - acc: 0.9048\n",
      "Epoch 2/2\n",
      "98000/98000 [==============================] - 7s 73us/step - loss: 0.1805 - acc: 0.9473\n",
      "10000/10000 [==============================] - 1s 61us/step\n",
      "10000/10000 [==============================] - 0s 37us/step\n",
      "Test accuracy: 0.9673\n",
      "Adversarial test accuracy 0.1517\n",
      "Epoch 1/2\n",
      "114000/114000 [==============================] - 12s 109us/step - loss: 0.3079 - acc: 0.9142\n",
      "Epoch 2/2\n",
      "114000/114000 [==============================] - 9s 79us/step - loss: 0.1696 - acc: 0.9501\n",
      "10000/10000 [==============================] - 1s 74us/step\n",
      "10000/10000 [==============================] - 0s 43us/step\n",
      "Test accuracy: 0.9722\n",
      "Adversarial test accuracy 0.1432\n"
     ]
    }
   ],
   "source": [
    "for idx, train_x in enumerate(new_train_images):\n",
    "    train_y = new_train_labels[idx]\n",
    "    \n",
    "    model2 = keras.Sequential([\n",
    "    keras.layers.Flatten(input_shape = (28,28)),\n",
    "    keras.layers.Dense(128, activation=tf.nn.relu),\n",
    "    keras.layers.Dropout(0.5), \n",
    "    keras.layers.Dense(10, activation=tf.nn.softmax)\n",
    "    ])\n",
    "    \n",
    "    model2.compile(optimizer = tf.train.AdamOptimizer(),\n",
    "             loss = 'sparse_categorical_crossentropy',\n",
    "             metrics =['accuracy'])\n",
    "    \n",
    "    model2.fit(train_x, train_y, epochs = 2)\n",
    "    test_loss, test_acc = model2.evaluate(test_images, test_labels)\n",
    "    acc, _, _ = adv_evaluate(model2, 0.05)\n",
    "    print('Test accuracy:', test_acc)\n",
    "    print('Adversarial test accuracy', acc)"
   ]
  },
  {
   "cell_type": "markdown",
   "metadata": {},
   "source": [
    "### Observations on the above\n",
    "\n",
    "* The train sets with 0.1 and 0.4 added adv examples perform much better on the adversarial test set, which adheres to the principle of adversarial training.\n",
    "* The train sets with 0.2 and 0.3 added adv examples perform poorly on the adversarial set.... uncertain why this should be the case. We should expect an increase in performance with increase in adversarial samples."
   ]
  },
  {
   "cell_type": "markdown",
   "metadata": {},
   "source": [
    "## Poison the data [Steinhardt, Koh] Influence functions"
   ]
  },
  {
   "cell_type": "code",
   "execution_count": 160,
   "metadata": {},
   "outputs": [],
   "source": [
    "def poison_with_influence_proj_gradient_step(model, test_idx, indices_to_poison, \n",
    "    projection_fn,\n",
    "    step_size=0.01,    \n",
    "    shrink_towards='cluster_center',\n",
    "    loss_type='normal_loss',\n",
    "    force_refresh=True, \n",
    "    test_description=None,\n",
    "    output_root=None):\n",
    "    \"\"\"\n",
    "    Returns poisoned_X_train, a subset of model.data_sets.train (marked by indices_to_poison)\n",
    "    that has been modified by a single gradient step.\n",
    "    \"\"\"\n",
    "\n",
    "    data_sets = model.data_sets\n",
    "\n",
    "    if test_description is None:\n",
    "        test_description = test_idx\n",
    "    grad_filename = os.path.join(output_root, 'grad_influence_wrt_input_val_%s_testidx_%s.npy' % (model.model_name, test_description))\n",
    "\n",
    "    if (force_refresh == False) and (os.path.exists(grad_filename)):\n",
    "        grad_influence_wrt_input_val = np.load(grad_filename)\n",
    "    else:\n",
    "        grad_influence_wrt_input_val = model.get_grad_of_influence_wrt_input(\n",
    "            indices_to_poison, \n",
    "            test_idx, \n",
    "            verbose=False,\n",
    "            force_refresh=force_refresh,\n",
    "            test_description=test_description,\n",
    "            loss_type=loss_type)    \n",
    "\n",
    "    poisoned_X_train = data_sets.train.x[indices_to_poison, :]\n",
    "    poisoned_X_train -= step_size * grad_influence_wrt_input_val\n",
    "\n",
    "    poisoned_labels = data_sets.train.labels[indices_to_poison]        \n",
    "    poisoned_X_train = projection_fn(poisoned_X_train, poisoned_labels)\n",
    "\n",
    "    return poisoned_X_train \n",
    "\n",
    "\n",
    "def iterative_attack(\n",
    "    model, \n",
    "    indices_to_poison, \n",
    "    test_idx, \n",
    "    test_description=None,\n",
    "    step_size=0.01, \n",
    "    num_iter=10,\n",
    "    loss_type='normal_loss',\n",
    "    projection_fn=None,\n",
    "    output_root=None,\n",
    "    stop_after=3): \n",
    "\n",
    "    largest_test_loss = 0\n",
    "    stop_counter = 0\n",
    "\n",
    "    print('Test idx: %s' % test_idx)\n",
    "\n",
    "    np.save(os.path.join(output_root, '%s_indices' % model.model_name), indices_to_poison)\n",
    "    np.savez(os.path.join(output_root, '%s_x_iter-0' % (model.model_name)), \n",
    "        poisoned_X_train=model.data_sets.train.x, \n",
    "        Y_train=model.data_sets.train.labels)\n",
    "\n",
    "    for attack_iter in range(num_iter):\n",
    "        print('*** Iter: %s' % attack_iter)\n",
    "\n",
    "        # Create modified training dataset        \n",
    "        old_X_train = np.copy(model.data_sets.train.x)\n",
    "        poisoned_X_train_subset = poison_with_influence_proj_gradient_step(\n",
    "            model, \n",
    "            test_idx, \n",
    "            indices_to_poison,\n",
    "            projection_fn,\n",
    "            step_size=step_size,\n",
    "            loss_type=loss_type,\n",
    "            force_refresh=True, \n",
    "            test_description=test_description,\n",
    "            output_root=output_root)                \n",
    "     \n",
    "        poisoned_X_train = np.copy(model.data_sets.train.x)\n",
    "        poisoned_X_train[indices_to_poison, :] = poisoned_X_train_subset\n",
    "\n",
    "        # Measure some metrics on what the gradient step did\n",
    "        labels = model.data_sets.train.labels\n",
    "        dists_sum = 0.0\n",
    "        poisoned_dists_sum = 0.0\n",
    "        poisoned_mask = np.array([False] * len(labels), dtype=bool)\n",
    "        poisoned_mask[indices_to_poison] = True\n",
    "        for y in set(labels):\n",
    "            cluster_center = np.mean(poisoned_X_train[labels == y, :], axis=0)\n",
    "            dists = np.linalg.norm(poisoned_X_train[labels == y, :] - cluster_center, axis=1)\n",
    "            dists_sum += np.sum(dists)\n",
    "\n",
    "            poisoned_dists = np.linalg.norm(poisoned_X_train[(labels == y) & (poisoned_mask), :] - cluster_center, axis=1)\n",
    "            poisoned_dists_sum += np.sum(poisoned_dists)\n",
    "\n",
    "        dists_mean = dists_sum / len(labels)\n",
    "        poisoned_dists_mean = poisoned_dists_sum / len(indices_to_poison)\n",
    "\n",
    "        dists_moved = np.linalg.norm(old_X_train[indices_to_poison, :] - poisoned_X_train[indices_to_poison, :], axis=1)\n",
    "        print('Average distance to cluster center (overall): %s' % dists_mean)\n",
    "        print('Average distance to cluster center (poisoned): %s' % poisoned_dists_mean)\n",
    "        print('Average diff in X_train among poisoned indices = %s' % np.mean(dists_moved))\n",
    "        print('Fraction of 0 gradient points: %s' % np.mean(dists_moved == 0))\n",
    "        print('Average distance moved by points that moved: %s' % np.mean(dists_moved[dists_moved > 0]))\n",
    "        \n",
    "        # Update training dataset\n",
    "        model.update_train_x(poisoned_X_train)\n",
    "\n",
    "        # Retrain model\n",
    "        model.train()\n",
    "\n",
    "        if (attack_iter + 1) % 40 == 0:\n",
    "\n",
    "            # Calculate test loss\n",
    "            test_loss = model.sess.run(model.loss_no_reg, feed_dict=model.all_test_feed_dict)\n",
    "            if largest_test_loss < test_loss:\n",
    "                largest_test_loss = test_loss\n",
    "\n",
    "                np.savez(os.path.join(output_root, '%s_attack' % (model.model_name)), \n",
    "                    poisoned_X_train=poisoned_X_train, \n",
    "                    Y_train=model.data_sets.train.labels,\n",
    "                    attack_iter=attack_iter + 1)\n",
    "\n",
    "                stop_counter = 0\n",
    "            else:\n",
    "                stop_counter += 1\n",
    "\n",
    "            if stop_counter >= stop_after:\n",
    "                break"
   ]
  },
  {
   "cell_type": "code",
   "execution_count": 168,
   "metadata": {},
   "outputs": [],
   "source": [
    "import data_utils as data"
   ]
  },
  {
   "cell_type": "code",
   "execution_count": 171,
   "metadata": {},
   "outputs": [
    {
     "ename": "ValueError",
     "evalue": "a must be non-empty",
     "output_type": "error",
     "traceback": [
      "\u001b[0;31m---------------------------------------------------------------------------\u001b[0m",
      "\u001b[0;31mValueError\u001b[0m                                Traceback (most recent call last)",
      "\u001b[0;32m<ipython-input-171-dc68b328bc86>\u001b[0m in \u001b[0;36m<module>\u001b[0;34m()\u001b[0m\n\u001b[1;32m     23\u001b[0m \u001b[0mnum_copies\u001b[0m \u001b[0;34m=\u001b[0m \u001b[0mnum_neg_copies\u001b[0m\u001b[0;34m,\u001b[0m\u001b[0;34m\u001b[0m\u001b[0m\n\u001b[1;32m     24\u001b[0m \u001b[0mrandom_seed\u001b[0m \u001b[0;34m=\u001b[0m \u001b[0mrandom_seed\u001b[0m\u001b[0;34m,\u001b[0m\u001b[0;34m\u001b[0m\u001b[0m\n\u001b[0;32m---> 25\u001b[0;31m replace = True)\n\u001b[0m\u001b[1;32m     26\u001b[0m \u001b[0;34m\u001b[0m\u001b[0m\n\u001b[1;32m     27\u001b[0m \u001b[0;31m#provide the influence function model using smoothHinge or whatever\u001b[0m\u001b[0;34m\u001b[0m\u001b[0;34m\u001b[0m\u001b[0m\n",
      "\u001b[0;32m~/OneDrive/Adversarial ML/Experiments_code/data_utils.py\u001b[0m in \u001b[0;36mcopy_random_points\u001b[0;34m(X, Y, mask_to_choose_from, target_class, num_copies, random_seed, replace)\u001b[0m\n\u001b[1;32m    119\u001b[0m         \u001b[0mnp\u001b[0m\u001b[0;34m.\u001b[0m\u001b[0mwhere\u001b[0m\u001b[0;34m(\u001b[0m\u001b[0mcombined_mask\u001b[0m\u001b[0;34m)\u001b[0m\u001b[0;34m[\u001b[0m\u001b[0;36m0\u001b[0m\u001b[0;34m]\u001b[0m\u001b[0;34m,\u001b[0m\u001b[0;34m\u001b[0m\u001b[0m\n\u001b[1;32m    120\u001b[0m         \u001b[0msize\u001b[0m\u001b[0;34m=\u001b[0m\u001b[0mnum_copies\u001b[0m\u001b[0;34m,\u001b[0m\u001b[0;34m\u001b[0m\u001b[0m\n\u001b[0;32m--> 121\u001b[0;31m         replace=replace)\n\u001b[0m\u001b[1;32m    122\u001b[0m \u001b[0;34m\u001b[0m\u001b[0m\n\u001b[1;32m    123\u001b[0m     \u001b[0;32mif\u001b[0m \u001b[0msparse\u001b[0m\u001b[0;34m.\u001b[0m\u001b[0missparse\u001b[0m\u001b[0;34m(\u001b[0m\u001b[0mX\u001b[0m\u001b[0;34m)\u001b[0m\u001b[0;34m:\u001b[0m\u001b[0;34m\u001b[0m\u001b[0m\n",
      "\u001b[0;32mmtrand.pyx\u001b[0m in \u001b[0;36mmtrand.RandomState.choice\u001b[0;34m()\u001b[0m\n",
      "\u001b[0;31mValueError\u001b[0m: a must be non-empty"
     ]
    }
   ],
   "source": [
    "#Now that we have data_utils and the iterative_attack, we could replicate the code from gradient_attack.py\n",
    "\n",
    "#Configurations\n",
    "eps = 0.2\n",
    "step_size = 0.001\n",
    "random_seed = 9001\n",
    "\n",
    "total_copies = int(np.round(eps*train_images.shape[0]))\n",
    "num_pos_copies = int(total_copies/2)\n",
    "num_neg_copies = total_copies - num_pos_copies\n",
    "\n",
    "X_mod, Y_mod = data.copy_random_points(\n",
    "train_images, train_labels,\n",
    "target_class = 1,\n",
    "num_copies = num_pos_copies,\n",
    "random_seed = random_seed,\n",
    "replace = True\n",
    ")\n",
    "\n",
    "X_mod, Y_mod = data.copy_random_points(\n",
    "train_images, train_labels,\n",
    "target_class = -1,\n",
    "num_copies = num_neg_copies,\n",
    "random_seed = random_seed,\n",
    "replace = True)\n",
    "\n",
    "#provide the influence function model using smoothHinge or whatever\n",
    "\n",
    "# projection_fn = data.get_projection_fn(\n",
    "#             X_train, Y_train,\n",
    "#             sphere=project_sphere,\n",
    "#             slab=project_slab,\n",
    "#             percentile=70)\n",
    "\n",
    "\n",
    "# iterative_attack(\n",
    "#     model, \n",
    "#     indices_to_poison=np.arange(X_train.shape[0], X_modified.shape[0]),            \n",
    "#     test_idx=None, \n",
    "#     test_description=None, \n",
    "#     step_size=step_size, \n",
    "#     num_iter=2000,\n",
    "#     loss_type='normal_loss',\n",
    "#     projection_fn=projection_fn,\n",
    "#     output_root=output_root)"
   ]
  },
  {
   "cell_type": "markdown",
   "metadata": {},
   "source": [
    "# Sub-hypothesis 3"
   ]
  },
  {
   "cell_type": "code",
   "execution_count": null,
   "metadata": {},
   "outputs": [],
   "source": []
  }
 ],
 "metadata": {
  "kernelspec": {
   "display_name": "Python 3",
   "language": "python",
   "name": "python3"
  },
  "language_info": {
   "codemirror_mode": {
    "name": "ipython",
    "version": 3
   },
   "file_extension": ".py",
   "mimetype": "text/x-python",
   "name": "python",
   "nbconvert_exporter": "python",
   "pygments_lexer": "ipython3",
   "version": "3.6.4"
  }
 },
 "nbformat": 4,
 "nbformat_minor": 2
}
