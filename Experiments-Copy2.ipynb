{
 "cells": [
  {
   "cell_type": "markdown",
   "metadata": {},
   "source": [
    "In this experiment, we hope to find a relation between data poisoning and data evasion examples. Even though these two classes of adversarial attacks are completed by different optimization formulations,\n",
    "\n",
    "Hypothesis: Both add meaningful perturbations in the \"unexplored\" parts of the data to trick the model into misclassifying examples.\n",
    "\n",
    "It is well known that adversarial training i.e the inclusion of adversarial examples into the training set acts as a kind of regularizer and improves robustness in defense against data evasion attacks.\n",
    "\n",
    "To explicitize the relationship between data poisoning and data evasion attacks, we are going to try to examine the effects of crossing these two attacks on the same learning process by testing the following sub-hypotheses:\n",
    "\n",
    "1. Inclusion of correctly labeled adversarial examples in the training set prior to data poisoning increases the model's performance against poisoning attacks. (Methods that defend against advesarial examples also defend against poisoning)\n",
    "2. (??) (Methods that defend against poisoning examples also defend against adversarial examples)\n",
    "3. Inclusion of wrongly labeled adversarial examples in the training set acts as a data poisoning attack. (Adversarial examples function as poisoning examples as well).\n",
    "4. (??) Poisoning examples function as adversarial examples as well.\n",
    "\n",
    "The aim is not to create a defense mechanism for one or the other. Instead, we hope to further exploration to gain some more insight into the nature of these two attacks. Because currently in the arms race, the attackers of models are easily winning.. which means that it is probably a good idea to take a break from the battle and gain some more knowledge before we go back out into the bloodshed. "
   ]
  },
  {
   "cell_type": "code",
   "execution_count": 4,
   "metadata": {},
   "outputs": [
    {
     "name": "stdout",
     "output_type": "stream",
     "text": [
      "1.11.0\n"
     ]
    }
   ],
   "source": [
    "# TensorFlow and tf.keras\n",
    "import tensorflow as tf\n",
    "from tensorflow import keras\n",
    "\n",
    "# Helper libraries\n",
    "import numpy as np\n",
    "import matplotlib.pyplot as plt\n",
    "\n",
    "print(tf.__version__)"
   ]
  },
  {
   "cell_type": "code",
   "execution_count": 5,
   "metadata": {},
   "outputs": [],
   "source": [
    "from cleverhans.utils_tf import model_eval"
   ]
  },
  {
   "cell_type": "code",
   "execution_count": 6,
   "metadata": {},
   "outputs": [],
   "source": [
    "from cleverhans.attacks import FastGradientMethod\n",
    "from cleverhans.utils import AccuracyReport"
   ]
  },
  {
   "cell_type": "markdown",
   "metadata": {},
   "source": [
    "# Sub-hypothesis 1"
   ]
  },
  {
   "cell_type": "markdown",
   "metadata": {},
   "source": [
    "### Import the MNIST dataset/ Preprocess the data"
   ]
  },
  {
   "cell_type": "code",
   "execution_count": 7,
   "metadata": {},
   "outputs": [],
   "source": [
    "mnist = keras.datasets.mnist\n",
    "\n",
    "(train_images, train_labels), (test_images, test_labels) = mnist.load_data()"
   ]
  },
  {
   "cell_type": "code",
   "execution_count": 8,
   "metadata": {},
   "outputs": [
    {
     "data": {
      "text/plain": [
       "(60000, 28, 28)"
      ]
     },
     "execution_count": 8,
     "metadata": {},
     "output_type": "execute_result"
    }
   ],
   "source": [
    "train_images.shape"
   ]
  },
  {
   "cell_type": "code",
   "execution_count": 76,
   "metadata": {},
   "outputs": [],
   "source": [
    "n, img_rows, img_cols = train_images.shape"
   ]
  },
  {
   "cell_type": "code",
   "execution_count": 10,
   "metadata": {},
   "outputs": [],
   "source": [
    "train_images = train_images/255.0\n",
    "\n",
    "test_images = test_images/255.0"
   ]
  },
  {
   "cell_type": "code",
   "execution_count": 82,
   "metadata": {},
   "outputs": [],
   "source": [
    "train_images = train_images.reshape(n, img_rows, img_cols, 1)\n",
    "test_images = test_images.reshape(test_images.shape[0], img_rows, img_cols, 1)\n",
    "input_shape = (img_rows, img_cols, 1)"
   ]
  },
  {
   "cell_type": "markdown",
   "metadata": {},
   "source": [
    "### Train the model"
   ]
  },
  {
   "cell_type": "code",
   "execution_count": 11,
   "metadata": {},
   "outputs": [],
   "source": [
    "sess = tf.Session()\n",
    "keras.backend.set_session(sess)\n",
    "init = tf.global_variables_initializer()"
   ]
  },
  {
   "cell_type": "code",
   "execution_count": null,
   "metadata": {},
   "outputs": [],
   "source": []
  },
  {
   "cell_type": "code",
   "execution_count": 72,
   "metadata": {},
   "outputs": [
    {
     "data": {
      "text/plain": [
       "'channels_last'"
      ]
     },
     "execution_count": 72,
     "metadata": {},
     "output_type": "execute_result"
    }
   ],
   "source": [
    "from keras import backend as K\n",
    "\n",
    "K.image_data_format()"
   ]
  },
  {
   "cell_type": "code",
   "execution_count": 138,
   "metadata": {},
   "outputs": [],
   "source": [
    "from keras.layers import Conv2D, MaxPooling2D, Dropout, Flatten, Dense, Dropout\n",
    "from keras import regularizers\n",
    "\n",
    "num_classes = 10\n",
    "\n",
    "def create_model():\n",
    "    model = keras.Sequential()\n",
    "    model.add(keras.layers.Conv2D(32, (5, 5),\n",
    "                     activation = 'relu',\n",
    "                     input_shape = input_shape,\n",
    "                     kernel_regularizer=regularizers.l2(0.05)))\n",
    "    model.add(keras.layers.Conv2D(32, kernel_size = (3, 3),\n",
    "                     activation = 'relu', \n",
    "                     kernel_regularizer=regularizers.l2(0.05)))\n",
    "    model.add(keras.layers.MaxPooling2D(pool_size = (2, 2)))\n",
    "    model.add(keras.layers.Dropout(0.25))\n",
    "\n",
    "    model.add(keras.layers.Conv2D(64, (3, 3), activation = 'relu'))\n",
    "    model.add(keras.layers.Conv2D(64, (3, 3), activation = 'relu'))\n",
    "    model.add(keras.layers.MaxPooling2D(pool_size = (2, 2)))\n",
    "    model.add(keras.layers.Dropout(0.25))\n",
    "\n",
    "    model.add(keras.layers.Flatten())\n",
    "    model.add(keras.layers.Dense(1024, activation = 'relu'))\n",
    "    model.add(keras.layers.Dropout(0.5))\n",
    "    model.add(keras.layers.Dense(1024, activation = 'relu'))\n",
    "    model.add(keras.layers.Dropout(0.5))\n",
    "\n",
    "    model.add(keras.layers.Dense(num_classes, activation = 'softmax'))\n",
    "    return model"
   ]
  },
  {
   "cell_type": "code",
   "execution_count": 139,
   "metadata": {},
   "outputs": [],
   "source": [
    "model = create_model()\n",
    "model.compile(optimizer = tf.train.AdamOptimizer(),\n",
    "             loss = 'sparse_categorical_crossentropy',\n",
    "             metrics =['accuracy'])"
   ]
  },
  {
   "cell_type": "code",
   "execution_count": 140,
   "metadata": {},
   "outputs": [
    {
     "name": "stdout",
     "output_type": "stream",
     "text": [
      "Epoch 1/5\n",
      "60000/60000 [==============================] - 184s 3ms/step - loss: 0.2989 - acc: 0.9291\n",
      "Epoch 2/5\n",
      "60000/60000 [==============================] - 179s 3ms/step - loss: 0.1172 - acc: 0.9720\n",
      "Epoch 3/5\n",
      "60000/60000 [==============================] - 165s 3ms/step - loss: 0.0970 - acc: 0.9769\n",
      "Epoch 4/5\n",
      "60000/60000 [==============================] - 164s 3ms/step - loss: 0.0866 - acc: 0.9798\n",
      "Epoch 5/5\n",
      "60000/60000 [==============================] - 94s 2ms/step - loss: 0.0823 - acc: 0.9810\n"
     ]
    },
    {
     "data": {
      "text/plain": [
       "<tensorflow.python.keras.callbacks.History at 0x1860b75b70>"
      ]
     },
     "execution_count": 140,
     "metadata": {},
     "output_type": "execute_result"
    }
   ],
   "source": [
    "model.fit(train_images, train_labels, epochs = 5)"
   ]
  },
  {
   "cell_type": "code",
   "execution_count": 137,
   "metadata": {},
   "outputs": [
    {
     "name": "stdout",
     "output_type": "stream",
     "text": [
      "10000/10000 [==============================] - 9s 924us/step\n",
      "Test accuracy: 0.99\n"
     ]
    }
   ],
   "source": [
    "test_loss, test_acc = model.evaluate(test_images, test_labels)\n",
    "\n",
    "print('Test accuracy:', test_acc)"
   ]
  },
  {
   "cell_type": "code",
   "execution_count": null,
   "metadata": {},
   "outputs": [],
   "source": [
    "plt.imshow(test_images[0])"
   ]
  },
  {
   "cell_type": "markdown",
   "metadata": {},
   "source": [
    "## Add adversarial examples and evaluate test data"
   ]
  },
  {
   "cell_type": "code",
   "execution_count": 144,
   "metadata": {},
   "outputs": [],
   "source": [
    "def adv_evaluate(model_input, epsilon_input):\n",
    "    with sess.as_default():\n",
    "        #sess.run(init)\n",
    "        fgsm = FastGradientMethod(model_input, sess = sess)\n",
    "        adv_x = fgsm.generate_np(test_images, eps = epsilon_input, clip_min = -2, clip_max = 2)\n",
    "        preds_adv = model_input.predict(adv_x)\n",
    "        eval_par = {'batch_size': 60000}\n",
    "        test_loss, acc = model_input.evaluate(adv_x, test_labels)\n",
    "    return acc, adv_x, preds_adv"
   ]
  },
  {
   "cell_type": "code",
   "execution_count": 149,
   "metadata": {},
   "outputs": [
    {
     "name": "stdout",
     "output_type": "stream",
     "text": [
      "10000/10000 [==============================] - 10s 956us/step\n",
      "Test accuracy on adversarial examples: 0.241\n"
     ]
    }
   ],
   "source": [
    "acc, adv_x_np, preds = adv_evaluate(model, 0.3)\n",
    "print('Test accuracy on adversarial examples:', acc)"
   ]
  },
  {
   "cell_type": "code",
   "execution_count": 142,
   "metadata": {},
   "outputs": [
    {
     "data": {
      "image/png": "[encoded data removed]",
      "text/plain": [
       "<Figure size 432x288 with 25 Axes>"
      ]
     },
     "metadata": {},
     "output_type": "display_data"
    }
   ],
   "source": [
    "for i in range(25):\n",
    "    plt.subplot(5,5,i+1)\n",
    "    plt.xticks([])\n",
    "    plt.yticks([])\n",
    "    plt.grid(False)\n",
    "    plt.imshow(adv_x_np[i][:,:,0], cmap = plt.cm.binary)\n",
    "    plt.xlabel(np.argmax(preds[i]))"
   ]
  },
  {
   "cell_type": "code",
   "execution_count": 143,
   "metadata": {},
   "outputs": [
    {
     "data": {
      "image/png": "[encoded data removed]",
      "text/plain": [
       "<Figure size 432x288 with 1 Axes>"
      ]
     },
     "metadata": {},
     "output_type": "display_data"
    },
    {
     "data": {
      "text/plain": [
       "<matplotlib.image.AxesImage at 0x1879c29eb8>"
      ]
     },
     "execution_count": 143,
     "metadata": {},
     "output_type": "execute_result"
    },
    {
     "data": {
      "image/png": "[encoded data removed]",
      "text/plain": [
       "<Figure size 432x288 with 1 Axes>"
      ]
     },
     "metadata": {},
     "output_type": "display_data"
    }
   ],
   "source": [
    "plt.imshow(test_images[1][:,:,0])\n",
    "plt.xlabel(test_labels[1])\n",
    "plt.show()\n",
    "plt.imshow(adv_x_np[1][:,:,0])"
   ]
  },
  {
   "cell_type": "markdown",
   "metadata": {},
   "source": [
    "### Adversarially train the model with 50% added adversarial examples"
   ]
  },
  {
   "cell_type": "code",
   "execution_count": 127,
   "metadata": {},
   "outputs": [],
   "source": [
    "with sess.as_default():\n",
    "    threshold = int(np.round(0.1*n))\n",
    "    example_indices = range(threshold,n)\n",
    "    train_indices = range(0, threshold)\n",
    "\n",
    "    chosen_adv_images = train_images[example_indices]\n",
    "    chosen_adv_labels = train_labels[example_indices]\n",
    "\n",
    "    fgsm = FastGradientMethod(model, sess = sess)\n",
    "    adv_x = fgsm.generate_np(chosen_adv_images, eps = 0.3, clip_min = -1, clip_max = 1)\n",
    "\n",
    "    new_train = np.vstack((train_images[train_indices], adv_x))\n",
    "    new_labels = np.hstack((train_labels[train_indices], chosen_adv_labels))"
   ]
  },
  {
   "cell_type": "code",
   "execution_count": 150,
   "metadata": {},
   "outputs": [
    {
     "name": "stdout",
     "output_type": "stream",
     "text": [
      "Epoch 1/5\n",
      "60000/60000 [==============================] - 185s 3ms/step - loss: 0.4514 - acc: 0.8785\n",
      "Epoch 2/5\n",
      "60000/60000 [==============================] - 177s 3ms/step - loss: 0.1953 - acc: 0.9501\n",
      "Epoch 3/5\n",
      "60000/60000 [==============================] - 163s 3ms/step - loss: 0.1581 - acc: 0.9617\n",
      "Epoch 4/5\n",
      "60000/60000 [==============================] - 164s 3ms/step - loss: 0.1397 - acc: 0.9664\n",
      "Epoch 5/5\n",
      "60000/60000 [==============================] - 169s 3ms/step - loss: 0.1322 - acc: 0.9680\n"
     ]
    },
    {
     "data": {
      "text/plain": [
       "<tensorflow.python.keras.callbacks.History at 0x1859b43f98>"
      ]
     },
     "execution_count": 150,
     "metadata": {},
     "output_type": "execute_result"
    }
   ],
   "source": [
    "model2 = create_model()\n",
    "model2.compile(optimizer = tf.train.AdamOptimizer(),\n",
    "             loss = 'sparse_categorical_crossentropy',\n",
    "             metrics =['accuracy'])\n",
    "\n",
    "model2.fit(new_train, new_labels, epochs = 5)"
   ]
  },
  {
   "cell_type": "code",
   "execution_count": 147,
   "metadata": {},
   "outputs": [
    {
     "name": "stdout",
     "output_type": "stream",
     "text": [
      "10000/10000 [==============================] - 12s 1ms/step\n",
      "Test accuracy: 0.9887\n"
     ]
    }
   ],
   "source": [
    "test_loss, test_acc = model2.evaluate(test_images, test_labels)\n",
    "\n",
    "print('Test accuracy:', test_acc)"
   ]
  },
  {
   "cell_type": "code",
   "execution_count": 148,
   "metadata": {},
   "outputs": [
    {
     "name": "stdout",
     "output_type": "stream",
     "text": [
      "10000/10000 [==============================] - 7s 718us/step\n",
      "Test accuracy on adversarial examples: 0.3533\n"
     ]
    }
   ],
   "source": [
    "acc, adv_x_np, preds = adv_evaluate(model2, 0.3)\n",
    "print('Test accuracy on adversarial examples:', acc)"
   ]
  },
  {
   "cell_type": "code",
   "execution_count": null,
   "metadata": {},
   "outputs": [],
   "source": []
  },
  {
   "cell_type": "markdown",
   "metadata": {},
   "source": [
    "With 0% adversarial examples - 0.21\n",
    "\n",
    "With 40% adversarial examples - 0.38\n",
    "\n",
    "With 60% adversarial examples - 0.4273"
   ]
  },
  {
   "cell_type": "markdown",
   "metadata": {},
   "source": [
    "## Poison the data [Steinhardt, Koh] Influence functions"
   ]
  },
  {
   "cell_type": "code",
   "execution_count": 160,
   "metadata": {},
   "outputs": [],
   "source": [
    "def poison_with_influence_proj_gradient_step(model, test_idx, indices_to_poison, \n",
    "    projection_fn,\n",
    "    step_size=0.01,    \n",
    "    shrink_towards='cluster_center',\n",
    "    loss_type='normal_loss',\n",
    "    force_refresh=True, \n",
    "    test_description=None,\n",
    "    output_root=None):\n",
    "    \"\"\"\n",
    "    Returns poisoned_X_train, a subset of model.data_sets.train (marked by indices_to_poison)\n",
    "    that has been modified by a single gradient step.\n",
    "    \"\"\"\n",
    "\n",
    "    data_sets = model.data_sets\n",
    "\n",
    "    if test_description is None:\n",
    "        test_description = test_idx\n",
    "    grad_filename = os.path.join(output_root, 'grad_influence_wrt_input_val_%s_testidx_%s.npy' % (model.model_name, test_description))\n",
    "\n",
    "    if (force_refresh == False) and (os.path.exists(grad_filename)):\n",
    "        grad_influence_wrt_input_val = np.load(grad_filename)\n",
    "    else:\n",
    "        grad_influence_wrt_input_val = model.get_grad_of_influence_wrt_input(\n",
    "            indices_to_poison, \n",
    "            test_idx, \n",
    "            verbose=False,\n",
    "            force_refresh=force_refresh,\n",
    "            test_description=test_description,\n",
    "            loss_type=loss_type)    \n",
    "\n",
    "    poisoned_X_train = data_sets.train.x[indices_to_poison, :]\n",
    "    poisoned_X_train -= step_size * grad_influence_wrt_input_val\n",
    "\n",
    "    poisoned_labels = data_sets.train.labels[indices_to_poison]        \n",
    "    poisoned_X_train = projection_fn(poisoned_X_train, poisoned_labels)\n",
    "\n",
    "    return poisoned_X_train \n",
    "\n",
    "\n",
    "def iterative_attack(\n",
    "    model, \n",
    "    indices_to_poison, \n",
    "    test_idx, \n",
    "    test_description=None,\n",
    "    step_size=0.01, \n",
    "    num_iter=10,\n",
    "    loss_type='normal_loss',\n",
    "    projection_fn=None,\n",
    "    output_root=None,\n",
    "    stop_after=3): \n",
    "\n",
    "    largest_test_loss = 0\n",
    "    stop_counter = 0\n",
    "\n",
    "    print('Test idx: %s' % test_idx)\n",
    "\n",
    "    np.save(os.path.join(output_root, '%s_indices' % model.model_name), indices_to_poison)\n",
    "    np.savez(os.path.join(output_root, '%s_x_iter-0' % (model.model_name)), \n",
    "        poisoned_X_train=model.data_sets.train.x, \n",
    "        Y_train=model.data_sets.train.labels)\n",
    "\n",
    "    for attack_iter in range(num_iter):\n",
    "        print('*** Iter: %s' % attack_iter)\n",
    "\n",
    "        # Create modified training dataset        \n",
    "        old_X_train = np.copy(model.data_sets.train.x)\n",
    "        poisoned_X_train_subset = poison_with_influence_proj_gradient_step(\n",
    "            model, \n",
    "            test_idx, \n",
    "            indices_to_poison,\n",
    "            projection_fn,\n",
    "            step_size=step_size,\n",
    "            loss_type=loss_type,\n",
    "            force_refresh=True, \n",
    "            test_description=test_description,\n",
    "            output_root=output_root)                \n",
    "     \n",
    "        poisoned_X_train = np.copy(model.data_sets.train.x)\n",
    "        poisoned_X_train[indices_to_poison, :] = poisoned_X_train_subset\n",
    "\n",
    "        # Measure some metrics on what the gradient step did\n",
    "        labels = model.data_sets.train.labels\n",
    "        dists_sum = 0.0\n",
    "        poisoned_dists_sum = 0.0\n",
    "        poisoned_mask = np.array([False] * len(labels), dtype=bool)\n",
    "        poisoned_mask[indices_to_poison] = True\n",
    "        for y in set(labels):\n",
    "            cluster_center = np.mean(poisoned_X_train[labels == y, :], axis=0)\n",
    "            dists = np.linalg.norm(poisoned_X_train[labels == y, :] - cluster_center, axis=1)\n",
    "            dists_sum += np.sum(dists)\n",
    "\n",
    "            poisoned_dists = np.linalg.norm(poisoned_X_train[(labels == y) & (poisoned_mask), :] - cluster_center, axis=1)\n",
    "            poisoned_dists_sum += np.sum(poisoned_dists)\n",
    "\n",
    "        dists_mean = dists_sum / len(labels)\n",
    "        poisoned_dists_mean = poisoned_dists_sum / len(indices_to_poison)\n",
    "\n",
    "        dists_moved = np.linalg.norm(old_X_train[indices_to_poison, :] - poisoned_X_train[indices_to_poison, :], axis=1)\n",
    "        print('Average distance to cluster center (overall): %s' % dists_mean)\n",
    "        print('Average distance to cluster center (poisoned): %s' % poisoned_dists_mean)\n",
    "        print('Average diff in X_train among poisoned indices = %s' % np.mean(dists_moved))\n",
    "        print('Fraction of 0 gradient points: %s' % np.mean(dists_moved == 0))\n",
    "        print('Average distance moved by points that moved: %s' % np.mean(dists_moved[dists_moved > 0]))\n",
    "        \n",
    "        # Update training dataset\n",
    "        model.update_train_x(poisoned_X_train)\n",
    "\n",
    "        # Retrain model\n",
    "        model.train()\n",
    "\n",
    "        if (attack_iter + 1) % 40 == 0:\n",
    "\n",
    "            # Calculate test loss\n",
    "            test_loss = model.sess.run(model.loss_no_reg, feed_dict=model.all_test_feed_dict)\n",
    "            if largest_test_loss < test_loss:\n",
    "                largest_test_loss = test_loss\n",
    "\n",
    "                np.savez(os.path.join(output_root, '%s_attack' % (model.model_name)), \n",
    "                    poisoned_X_train=poisoned_X_train, \n",
    "                    Y_train=model.data_sets.train.labels,\n",
    "                    attack_iter=attack_iter + 1)\n",
    "\n",
    "                stop_counter = 0\n",
    "            else:\n",
    "                stop_counter += 1\n",
    "\n",
    "            if stop_counter >= stop_after:\n",
    "                break"
   ]
  },
  {
   "cell_type": "code",
   "execution_count": 168,
   "metadata": {},
   "outputs": [],
   "source": [
    "import data_utils as data"
   ]
  },
  {
   "cell_type": "code",
   "execution_count": 171,
   "metadata": {},
   "outputs": [
    {
     "ename": "ValueError",
     "evalue": "a must be non-empty",
     "output_type": "error",
     "traceback": [
      "\u001b[0;31m---------------------------------------------------------------------------\u001b[0m",
      "\u001b[0;31mValueError\u001b[0m                                Traceback (most recent call last)",
      "\u001b[0;32m<ipython-input-171-dc68b328bc86>\u001b[0m in \u001b[0;36m<module>\u001b[0;34m()\u001b[0m\n\u001b[1;32m     23\u001b[0m \u001b[0mnum_copies\u001b[0m \u001b[0;34m=\u001b[0m \u001b[0mnum_neg_copies\u001b[0m\u001b[0;34m,\u001b[0m\u001b[0;34m\u001b[0m\u001b[0m\n\u001b[1;32m     24\u001b[0m \u001b[0mrandom_seed\u001b[0m \u001b[0;34m=\u001b[0m \u001b[0mrandom_seed\u001b[0m\u001b[0;34m,\u001b[0m\u001b[0;34m\u001b[0m\u001b[0m\n\u001b[0;32m---> 25\u001b[0;31m replace = True)\n\u001b[0m\u001b[1;32m     26\u001b[0m \u001b[0;34m\u001b[0m\u001b[0m\n\u001b[1;32m     27\u001b[0m \u001b[0;31m#provide the influence function model using smoothHinge or whatever\u001b[0m\u001b[0;34m\u001b[0m\u001b[0;34m\u001b[0m\u001b[0m\n",
      "\u001b[0;32m~/OneDrive/Adversarial ML/Experiments_code/data_utils.py\u001b[0m in \u001b[0;36mcopy_random_points\u001b[0;34m(X, Y, mask_to_choose_from, target_class, num_copies, random_seed, replace)\u001b[0m\n\u001b[1;32m    119\u001b[0m         \u001b[0mnp\u001b[0m\u001b[0;34m.\u001b[0m\u001b[0mwhere\u001b[0m\u001b[0;34m(\u001b[0m\u001b[0mcombined_mask\u001b[0m\u001b[0;34m)\u001b[0m\u001b[0;34m[\u001b[0m\u001b[0;36m0\u001b[0m\u001b[0;34m]\u001b[0m\u001b[0;34m,\u001b[0m\u001b[0;34m\u001b[0m\u001b[0m\n\u001b[1;32m    120\u001b[0m         \u001b[0msize\u001b[0m\u001b[0;34m=\u001b[0m\u001b[0mnum_copies\u001b[0m\u001b[0;34m,\u001b[0m\u001b[0;34m\u001b[0m\u001b[0m\n\u001b[0;32m--> 121\u001b[0;31m         replace=replace)\n\u001b[0m\u001b[1;32m    122\u001b[0m \u001b[0;34m\u001b[0m\u001b[0m\n\u001b[1;32m    123\u001b[0m     \u001b[0;32mif\u001b[0m \u001b[0msparse\u001b[0m\u001b[0;34m.\u001b[0m\u001b[0missparse\u001b[0m\u001b[0;34m(\u001b[0m\u001b[0mX\u001b[0m\u001b[0;34m)\u001b[0m\u001b[0;34m:\u001b[0m\u001b[0;34m\u001b[0m\u001b[0m\n",
      "\u001b[0;32mmtrand.pyx\u001b[0m in \u001b[0;36mmtrand.RandomState.choice\u001b[0;34m()\u001b[0m\n",
      "\u001b[0;31mValueError\u001b[0m: a must be non-empty"
     ]
    }
   ],
   "source": [
    "#Now that we have data_utils and the iterative_attack, we could replicate the code from gradient_attack.py\n",
    "\n",
    "#Configurations\n",
    "eps = 0.2\n",
    "step_size = 0.001\n",
    "random_seed = 9001\n",
    "\n",
    "total_copies = int(np.round(eps*train_images.shape[0]))\n",
    "num_pos_copies = int(total_copies/2)\n",
    "num_neg_copies = total_copies - num_pos_copies\n",
    "\n",
    "X_mod, Y_mod = data.copy_random_points(\n",
    "train_images, train_labels,\n",
    "target_class = 1,\n",
    "num_copies = num_pos_copies,\n",
    "random_seed = random_seed,\n",
    "replace = True\n",
    ")\n",
    "\n",
    "X_mod, Y_mod = data.copy_random_points(\n",
    "train_images, train_labels,\n",
    "target_class = -1,\n",
    "num_copies = num_neg_copies,\n",
    "random_seed = random_seed,\n",
    "replace = True)\n",
    "\n",
    "#provide the influence function model using smoothHinge or whatever\n",
    "\n",
    "# projection_fn = data.get_projection_fn(\n",
    "#             X_train, Y_train,\n",
    "#             sphere=project_sphere,\n",
    "#             slab=project_slab,\n",
    "#             percentile=70)\n",
    "\n",
    "\n",
    "# iterative_attack(\n",
    "#     model, \n",
    "#     indices_to_poison=np.arange(X_train.shape[0], X_modified.shape[0]),            \n",
    "#     test_idx=None, \n",
    "#     test_description=None, \n",
    "#     step_size=step_size, \n",
    "#     num_iter=2000,\n",
    "#     loss_type='normal_loss',\n",
    "#     projection_fn=projection_fn,\n",
    "#     output_root=output_root)"
   ]
  },
  {
   "cell_type": "markdown",
   "metadata": {},
   "source": [
    "# Sub-hypothesis 3"
   ]
  },
  {
   "cell_type": "code",
   "execution_count": null,
   "metadata": {},
   "outputs": [],
   "source": []
  }
 ],
 "metadata": {
  "kernelspec": {
   "display_name": "Python 3",
   "language": "python",
   "name": "python3"
  },
  "language_info": {
   "codemirror_mode": {
    "name": "ipython",
    "version": 3
   },
   "file_extension": ".py",
   "mimetype": "text/x-python",
   "name": "python",
   "nbconvert_exporter": "python",
   "pygments_lexer": "ipython3",
   "version": "3.6.4"
  }
 },
 "nbformat": 4,
 "nbformat_minor": 2
}
